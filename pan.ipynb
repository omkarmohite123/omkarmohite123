{
  "nbformat": 4,
  "nbformat_minor": 0,
  "metadata": {
    "colab": {
      "provenance": [],
      "authorship_tag": "ABX9TyMStZ5AkCNc8o3QFNEzt6ou",
      "include_colab_link": true
    },
    "kernelspec": {
      "name": "python3",
      "display_name": "Python 3"
    },
    "language_info": {
      "name": "python"
    }
  },
  "cells": [
    {
      "cell_type": "markdown",
      "metadata": {
        "id": "view-in-github",
        "colab_type": "text"
      },
      "source": [
        "<a href=\"https://colab.research.google.com/github/omkarmohite123/omkarmohite123/blob/main/pan.ipynb\" target=\"_parent\"><img src=\"https://colab.research.google.com/assets/colab-badge.svg\" alt=\"Open In Colab\"/></a>"
      ]
    },
    {
      "cell_type": "code",
      "execution_count": 1,
      "metadata": {
        "id": "5DoH_Zx_3Ini",
        "colab": {
          "base_uri": "https://localhost:8080/"
        },
        "outputId": "f1874d19-7bab-4409-e52c-137a07bbde4a"
      },
      "outputs": [
        {
          "output_type": "stream",
          "name": "stdout",
          "text": [
            "HXTPS2142R\n",
            "pan\n"
          ]
        }
      ],
      "source": [
        "\"\"\"\n",
        "Indian PAN card issuing authority have found some fake PAN cards. They have hired you so that you can validate PAN card for them. Your task is to develop a suitable algorithm which could check if pan is valid or not\n",
        "\n",
        "1)Pan must have uppercase letters only.\n",
        "\n",
        "2)It must be of 10 character only\n",
        "\n",
        "3)From index 1 to 5 all must be letters(A-Z),last index must be letter\n",
        "\n",
        "4)Rest all must be integer Starting from 1\n",
        "\n",
        "Input Description:\n",
        "You are given a input string which indicates the PAN number\n",
        "\n",
        "Output Description:\n",
        "Print 'pan' if it is valid PAN number, else print 'not pan'\n",
        "\n",
        "Sample Input :\n",
        "HXTPS2142R\n",
        "Sample Output :\n",
        "pan\n",
        "\"\"\"\n",
        "a=input()\n",
        "b=list(a)\n",
        "\n",
        "k=0\n",
        "t=0\n",
        "x=1\n",
        "m=0\n",
        "if len(b)==10:\n",
        "    for i in b[0:5]:\n",
        "      if i.isupper()==True:\n",
        "        k+=1\n",
        "        continue\n",
        "    for i in b[5:9]:\n",
        "      if i.isdigit()==True and i!=0:\n",
        "        t+=1\n",
        "    if k==5 and t==4 and b[-1].isupper()==True:\n",
        "      print(\"pan\")\n",
        "    else:\n",
        "      print(\"not pan\")\n",
        "else:\n",
        "  print(\"not pan\")"
      ]
    }
  ]
}