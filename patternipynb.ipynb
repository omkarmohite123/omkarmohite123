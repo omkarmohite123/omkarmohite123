{
  "nbformat": 4,
  "nbformat_minor": 0,
  "metadata": {
    "colab": {
      "provenance": [],
      "authorship_tag": "ABX9TyNEBHCQyIOyAoyyqEUOJF/J",
      "include_colab_link": true
    },
    "kernelspec": {
      "name": "python3",
      "display_name": "Python 3"
    },
    "language_info": {
      "name": "python"
    }
  },
  "cells": [
    {
      "cell_type": "markdown",
      "metadata": {
        "id": "view-in-github",
        "colab_type": "text"
      },
      "source": [
        "<a href=\"https://colab.research.google.com/github/omkarmohite123/omkarmohite123/blob/main/patternipynb.ipynb\" target=\"_parent\"><img src=\"https://colab.research.google.com/assets/colab-badge.svg\" alt=\"Open In Colab\"/></a>"
      ]
    },
    {
      "cell_type": "code",
      "execution_count": null,
      "metadata": {
        "id": "sYyZU0OwfmUg"
      },
      "outputs": [],
      "source": [
        "\"\"\"\n",
        "Generate the following pattern.\n",
        "\n",
        "*****\n",
        "\n",
        "b****\n",
        "\n",
        "bb***\n",
        "\n",
        "bbb**\n",
        "\n",
        "bbbb*\n",
        "\n",
        "Input Description:\n",
        "Input consists of a single integer that corresponds to n, the number of rows.\n",
        "\n",
        "where 1<=n<=100.\n",
        "\n",
        "Output Description:\n",
        "Print the character pattern from the given input n.\n",
        "\n",
        "Sample Input :\n",
        "5\n",
        "Sample Output :\n",
        "*****\n",
        "b****\n",
        "bb***\n",
        "bbb**\n",
        "bbbb*\n",
        "\"\"\"\n"
      ]
    },
    {
      "cell_type": "code",
      "source": [
        "\n",
        "n=int(input())\n",
        "k=\"\"\n",
        "m=[]\n",
        "for i in range(n):\n",
        "  for j in range(i):\n",
        "    k=k+\"b\"\n",
        "  for j in range(n-i):\n",
        "    k=k+\"*\"\n",
        "  m.append(k)\n",
        "  k=\"\"\n",
        "for i in m:\n",
        "  print(i)\n"
      ],
      "metadata": {
        "colab": {
          "base_uri": "https://localhost:8080/"
        },
        "id": "bmvb8wdxfwo_",
        "outputId": "7f8217ac-d00f-477c-a38e-a4a306ea3788"
      },
      "execution_count": 1,
      "outputs": [
        {
          "output_type": "stream",
          "name": "stdout",
          "text": [
            "5\n",
            "*****\n",
            "b****\n",
            "bb***\n",
            "bbb**\n",
            "bbbb*\n"
          ]
        }
      ]
    }
  ]
}