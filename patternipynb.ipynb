{
  "nbformat": 4,
  "nbformat_minor": 0,
  "metadata": {
    "colab": {
      "provenance": [],
      "authorship_tag": "ABX9TyPomRTNl7js/E967MLVv3Nk",
      "include_colab_link": true
    },
    "kernelspec": {
      "name": "python3",
      "display_name": "Python 3"
    },
    "language_info": {
      "name": "python"
    }
  },
  "cells": [
    {
      "cell_type": "markdown",
      "metadata": {
        "id": "view-in-github",
        "colab_type": "text"
      },
      "source": [
        "<a href=\"https://colab.research.google.com/github/omkarmohite123/omkarmohite123/blob/main/patternipynb.ipynb\" target=\"_parent\"><img src=\"https://colab.research.google.com/assets/colab-badge.svg\" alt=\"Open In Colab\"/></a>"
      ]
    },
    {
      "cell_type": "code",
      "execution_count": null,
      "metadata": {
        "id": "sYyZU0OwfmUg"
      },
      "outputs": [],
      "source": [
        "\"\"\"\n",
        "Write a code to generate an inverted full pyramid pattern using stars.\n",
        "\n",
        "Input Description:\n",
        "Given an integer R indicates number of rows.\n",
        "\n",
        "Where 1<=R<=100.\n",
        "\n",
        "Output Description:\n",
        "Print the star inverted full pyramid with the given integer R.\n",
        "\n",
        "Sample Input :\n",
        "5\n",
        "Sample Output :\n",
        "* * * * *\n",
        " * * * *\n",
        "  * * *\n",
        "   * *\n",
        "    *\n",
        "\n",
        "\"\"\"\n"
      ]
    },
    {
      "cell_type": "code",
      "source": [
        "#25\n",
        "n=int(input())\n",
        "k=[]\n",
        "m=\"\"\n",
        "for i in range(0,n):\n",
        "  for j in range(0,n-i-1):\n",
        "    m=m+\" \"\n",
        "  for j in range(i+1):\n",
        "    m=m+\"* \"\n",
        "  k.append(m)\n",
        "  m=\"\"\n",
        "l=k[::-1]\n",
        "for i in l:\n",
        "  print(i.rstrip()) "
      ],
      "metadata": {
        "colab": {
          "base_uri": "https://localhost:8080/"
        },
        "id": "688UWb4ztmFv",
        "outputId": "32d555d5-b11b-4403-d0fa-f5bc13a26d35"
      },
      "execution_count": 1,
      "outputs": [
        {
          "output_type": "stream",
          "name": "stdout",
          "text": [
            "5\n",
            "* * * * *\n",
            " * * * *\n",
            "  * * *\n",
            "   * *\n",
            "    *\n"
          ]
        }
      ]
    }
  ]
}