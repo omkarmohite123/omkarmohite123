{
  "nbformat": 4,
  "nbformat_minor": 0,
  "metadata": {
    "colab": {
      "provenance": [],
      "authorship_tag": "ABX9TyMCr6RLLOyEmSe3GWsLpGXm",
      "include_colab_link": true
    },
    "kernelspec": {
      "name": "python3",
      "display_name": "Python 3"
    },
    "language_info": {
      "name": "python"
    }
  },
  "cells": [
    {
      "cell_type": "markdown",
      "metadata": {
        "id": "view-in-github",
        "colab_type": "text"
      },
      "source": [
        "<a href=\"https://colab.research.google.com/github/omkarmohite123/omkarmohite123/blob/main/math.ipynb\" target=\"_parent\"><img src=\"https://colab.research.google.com/assets/colab-badge.svg\" alt=\"Open In Colab\"/></a>"
      ]
    },
    {
      "cell_type": "code",
      "execution_count": 1,
      "metadata": {
        "colab": {
          "base_uri": "https://localhost:8080/"
        },
        "id": "UzsuataDBvEn",
        "outputId": "b2e71c3b-4d88-4b47-c39e-af8b8514f9da"
      },
      "outputs": [
        {
          "output_type": "stream",
          "name": "stdout",
          "text": [
            "5\n",
            "101\n"
          ]
        }
      ],
      "source": [
        "\"\"\"\n",
        "Given a number N in decimal convert it into binary value.\n",
        "Input Size : N <= 100000\n",
        "Sample Testcase :\n",
        "INPUT\n",
        "5\n",
        "OUTPUT\n",
        "101\n",
        "\n",
        "\n",
        "\"\"\"\n",
        "a=int(input())\n",
        "print(bin(a)[2:])"
      ]
    }
  ]
}