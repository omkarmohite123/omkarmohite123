{
  "nbformat": 4,
  "nbformat_minor": 0,
  "metadata": {
    "colab": {
      "name": "problem.ipynb",
      "provenance": [],
      "authorship_tag": "ABX9TyM/YJdv2CiUzDUMy3d/7Kgg",
      "include_colab_link": true
    },
    "kernelspec": {
      "name": "python3",
      "display_name": "Python 3"
    },
    "language_info": {
      "name": "python"
    }
  },
  "cells": [
    {
      "cell_type": "markdown",
      "metadata": {
        "id": "view-in-github",
        "colab_type": "text"
      },
      "source": [
        "<a href=\"https://colab.research.google.com/github/omkarmohite123/omkarmohite123/blob/main/problem.ipynb\" target=\"_parent\"><img src=\"https://colab.research.google.com/assets/colab-badge.svg\" alt=\"Open In Colab\"/></a>"
      ]
    },
    {
      "cell_type": "code",
      "source": [
        "\"\"\"\n",
        "\n",
        "Rajesh and Ram are having a conflict on the maximum marks that they have scored in all the exams conducted in the past year. The one having scored the maximum gets a treat from the other. They decide to go through their test papers and record their highest marks. You are Rajesh’s best friend and as he has tutions to attend, he gives you all his test papers and asks you to find out the maximum marks that he has scored among all the marks in all exams. He promises you a treat if he wins the bet with Ram. Help Rajesh find out his highest marks.\n",
        "\n",
        "Constraints:\n",
        "\n",
        "1 <= N <= 10\n",
        "\n",
        "0 <= A[] <= 100\n",
        "\n",
        "Input Description:\n",
        "First line contains count of marks. Next line is the list of marks obtained by Rajesh.\n",
        "\n",
        "Output Description:\n",
        "Highest marks obtained by Rajesh.\n",
        "\n",
        "Sample Input :\n",
        "3\n",
        "82 96 72\n",
        "Sample Output :\n",
        "96\n",
        "\"\"\"\n",
        "a=int(input())\n",
        "b=list(map(int,input().split()))\n",
        "print(max(b))\n",
        "\n"
      ],
      "metadata": {
        "id": "MsvE70jih86R",
        "colab": {
          "base_uri": "https://localhost:8080/"
        },
        "outputId": "97cc452d-540c-4c10-faf6-a8d8c0c7c151"
      },
      "execution_count": 3,
      "outputs": [
        {
          "output_type": "stream",
          "name": "stdout",
          "text": [
            "3\n",
            "82 96 72\n",
            "96\n"
          ]
        }
      ]
    }
  ]
}