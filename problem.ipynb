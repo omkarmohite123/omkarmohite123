{
  "nbformat": 4,
  "nbformat_minor": 0,
  "metadata": {
    "colab": {
      "name": "problem.ipynb",
      "provenance": [],
      "authorship_tag": "ABX9TyPidRmgKH/bdUBMjQcQjWUJ",
      "include_colab_link": true
    },
    "kernelspec": {
      "name": "python3",
      "display_name": "Python 3"
    },
    "language_info": {
      "name": "python"
    }
  },
  "cells": [
    {
      "cell_type": "markdown",
      "metadata": {
        "id": "view-in-github",
        "colab_type": "text"
      },
      "source": [
        "<a href=\"https://colab.research.google.com/github/omkarmohite123/omkarmohite123/blob/main/problem.ipynb\" target=\"_parent\"><img src=\"https://colab.research.google.com/assets/colab-badge.svg\" alt=\"Open In Colab\"/></a>"
      ]
    },
    {
      "cell_type": "code",
      "execution_count": 1,
      "metadata": {
        "colab": {
          "base_uri": "https://localhost:8080/"
        },
        "id": "cjHLTX04nikA",
        "outputId": "a97e46ad-724e-4d85-beca-9f22b2222984"
      },
      "outputs": [
        {
          "output_type": "stream",
          "name": "stdout",
          "text": [
            "10\n",
            "1 9 8 7 6 5 2 3 4 10\n",
            "9\n"
          ]
        }
      ],
      "source": [
        "\"\"\"\n",
        "Ria is always fascinated by the number 2. She always wants to know who came second in a race, the second person to set foot on the moon and so on. She is given a list of numbers and asked to find the maximum. As always, she reports the second highest number as the maximum because according to her, 2 is higher than 1. Find out which was the number that Ria would have reported, given a list of N numbers.\n",
        " \n",
        "\n",
        "Input Description:\n",
        "Size of the array followed by the elements of the array.\n",
        "\n",
        "Output Description:\n",
        "Second largest element of the array.\n",
        "\n",
        "Sample Input :\n",
        "10\n",
        "1 9 8 7 6 5 2 3 4 10\n",
        "Sample Output :\n",
        "9\n",
        "\n",
        "\"\"\"\n",
        "\n",
        "#48\n",
        "a=input()\n",
        "b=list(map(int,input().split()))\n",
        "d=sorted(b)\n",
        "print(d[-2])"
      ]
    }
  ]
}