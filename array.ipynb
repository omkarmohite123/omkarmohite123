{
  "nbformat": 4,
  "nbformat_minor": 0,
  "metadata": {
    "colab": {
      "provenance": [],
      "authorship_tag": "ABX9TyPcRLpPVe0BFzLYxEv4bLrT",
      "include_colab_link": true
    },
    "kernelspec": {
      "name": "python3",
      "display_name": "Python 3"
    },
    "language_info": {
      "name": "python"
    }
  },
  "cells": [
    {
      "cell_type": "markdown",
      "metadata": {
        "id": "view-in-github",
        "colab_type": "text"
      },
      "source": [
        "<a href=\"https://colab.research.google.com/github/omkarmohite123/omkarmohite123/blob/main/array.ipynb\" target=\"_parent\"><img src=\"https://colab.research.google.com/assets/colab-badge.svg\" alt=\"Open In Colab\"/></a>"
      ]
    },
    {
      "cell_type": "code",
      "execution_count": 1,
      "metadata": {
        "colab": {
          "base_uri": "https://localhost:8080/"
        },
        "id": "0kA5x0GQAlti",
        "outputId": "ff58bc90-590e-4ef8-e2c4-b9b1271758d0"
      },
      "outputs": [
        {
          "output_type": "stream",
          "name": "stdout",
          "text": [
            "3\n",
            "1 2 3\n",
            "2\n",
            "1 2\n",
            "yes\n"
          ]
        }
      ],
      "source": [
        "\"\"\"\n",
        "Bala is the CEO of a company and decides to reward a few hardworking employees with an extra bonus.  He wants to find out the number of employees who are working parallely on two different projects and give them a bonus. The ids of employees working on a particular project are stored in an array.Given two arrays project1 and project2, find out whether the employees working on project2 are a subset of employees working on project1.\n",
        "\n",
        "Constraints:\n",
        "\n",
        "1 <= project1[i], project2[j] <= 100\n",
        "\n",
        " \n",
        "\n",
        "Input Description:\n",
        "First line denotes the number of employees working on project 1. Second line contains the employee ids of the employees working on project 1. Third line denotes the number of employees working on project 2 and 4th line contains employee ids of the employees working on project 2.\n",
        "\n",
        "Output Description:\n",
        "(yes/no) Whether the second array is a subset of the first array.\n",
        "\n",
        "Sample Input :\n",
        "3\n",
        "1 2 3\n",
        "2\n",
        "1 2\n",
        "Sample Output :\n",
        "yes\n",
        "\n",
        "\"\"\"\n",
        "#7\n",
        "a=int(input())\n",
        "b=list(map(int,input().split()))\n",
        "c=int(input())\n",
        "d=list(map(int,input().split()))\n",
        "m=[]\n",
        "for i in d:\n",
        "  if i in b:\n",
        "    m.append(i)\n",
        "if m==d:\n",
        "  print(\"yes\")\n",
        "else:\n",
        "  print(\"no\")\n"
      ]
    }
  ]
}