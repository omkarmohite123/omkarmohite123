{
  "nbformat": 4,
  "nbformat_minor": 0,
  "metadata": {
    "colab": {
      "provenance": [],
      "authorship_tag": "ABX9TyP3XMgj323bLD+OGCv0cUPX",
      "include_colab_link": true
    },
    "kernelspec": {
      "name": "python3",
      "display_name": "Python 3"
    },
    "language_info": {
      "name": "python"
    }
  },
  "cells": [
    {
      "cell_type": "markdown",
      "metadata": {
        "id": "view-in-github",
        "colab_type": "text"
      },
      "source": [
        "<a href=\"https://colab.research.google.com/github/omkarmohite123/omkarmohite123/blob/main/array.ipynb\" target=\"_parent\"><img src=\"https://colab.research.google.com/assets/colab-badge.svg\" alt=\"Open In Colab\"/></a>"
      ]
    },
    {
      "cell_type": "code",
      "source": [],
      "metadata": {
        "id": "MxvIOiCpdumg"
      },
      "execution_count": null,
      "outputs": []
    },
    {
      "cell_type": "code",
      "source": [
        "\"\"\"\n",
        "Given a number n followed by n numbers. Find the numbers which are equal to their index value and print them in sorted order. If no such numbers are present print '-1' without quotes.\n",
        "Input Size : 1 <= n <= 100000\n",
        "Sample Testcases :\n",
        "INPUT\n",
        "6\n",
        "6 7 3 3 4 5\n",
        "OUTPUT\n",
        "3 4 5\n",
        "\n",
        "\n",
        "\"\"\"\n",
        "\n",
        "a=int(input())\n",
        "b=list(map(int,input().split()))\n",
        "h=[]\n",
        "for i in range(len(b)):\n",
        "  if i==b[i]:\n",
        "    h.append(b[i])\n",
        "g=sorted(h,reverse=False)\n",
        "if g==[]:\n",
        "  print(\"-1\")\n",
        "else:\n",
        "  print(*g)"
      ],
      "metadata": {
        "colab": {
          "base_uri": "https://localhost:8080/"
        },
        "id": "W7sUyxfSfO7Z",
        "outputId": "fb3d3446-c068-4cda-cc42-4d7ffb040e99"
      },
      "execution_count": 2,
      "outputs": [
        {
          "output_type": "stream",
          "name": "stdout",
          "text": [
            "6\n",
            "6 7 3 3 4 5\n",
            "3 4 5\n"
          ]
        }
      ]
    }
  ]
}