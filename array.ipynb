{
  "nbformat": 4,
  "nbformat_minor": 0,
  "metadata": {
    "colab": {
      "provenance": [],
      "authorship_tag": "ABX9TyPuGEVQotgGaDgC0klfH/tV",
      "include_colab_link": true
    },
    "kernelspec": {
      "name": "python3",
      "display_name": "Python 3"
    },
    "language_info": {
      "name": "python"
    }
  },
  "cells": [
    {
      "cell_type": "markdown",
      "metadata": {
        "id": "view-in-github",
        "colab_type": "text"
      },
      "source": [
        "<a href=\"https://colab.research.google.com/github/omkarmohite123/omkarmohite123/blob/main/array.ipynb\" target=\"_parent\"><img src=\"https://colab.research.google.com/assets/colab-badge.svg\" alt=\"Open In Colab\"/></a>"
      ]
    },
    {
      "cell_type": "code",
      "source": [
        "\"\"\"\n",
        "Given a number N followed by N elements for every 2 consecutive numbers print the maximum of the 2.\n",
        "Input Size : N <= 100000 (ie do it in O(n) time complexity)\n",
        "Sample Testcase :\n",
        "INPUT\n",
        "5\n",
        "1 1 3 0 5\n",
        "OUTPUT\n",
        "1 3 3 5\n",
        "\n",
        "\n",
        "\"\"\"\n",
        "\n",
        "a=int(input())\n",
        "b=list(map(int,input().split()))\n",
        "f=[]\n",
        "for i in range(len(b)-1):\n",
        "  if b[i]>b[i+1] or b[i]==b[i+1]:\n",
        "    f.append(b[i])\n",
        "  elif b[i]<b[i+1]:\n",
        "    f.append(b[i+1])\n",
        "print(*f)"
      ],
      "metadata": {
        "colab": {
          "base_uri": "https://localhost:8080/"
        },
        "id": "rs1HQ7J-q76O",
        "outputId": "b9c5cfc1-e895-4109-dca5-4a98646b4334"
      },
      "execution_count": 1,
      "outputs": [
        {
          "output_type": "stream",
          "name": "stdout",
          "text": [
            "5\n",
            "1 1 3 0 5\n",
            "1 3 3 5\n"
          ]
        }
      ]
    }
  ]
}