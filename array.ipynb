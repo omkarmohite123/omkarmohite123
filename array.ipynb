{
  "nbformat": 4,
  "nbformat_minor": 0,
  "metadata": {
    "colab": {
      "provenance": [],
      "authorship_tag": "ABX9TyN07nNNg3XJ+7301Ee27TW9",
      "include_colab_link": true
    },
    "kernelspec": {
      "name": "python3",
      "display_name": "Python 3"
    },
    "language_info": {
      "name": "python"
    }
  },
  "cells": [
    {
      "cell_type": "markdown",
      "metadata": {
        "id": "view-in-github",
        "colab_type": "text"
      },
      "source": [
        "<a href=\"https://colab.research.google.com/github/omkarmohite123/omkarmohite123/blob/main/array.ipynb\" target=\"_parent\"><img src=\"https://colab.research.google.com/assets/colab-badge.svg\" alt=\"Open In Colab\"/></a>"
      ]
    },
    {
      "cell_type": "code",
      "source": [
        "\"\"\"\n",
        "Given an array of numbers and another number k. Find whether K exists and the number of time k repeats. If it does not exist just print no.\n",
        "Input Size : |N| <= 1000000\n",
        "Sample Testcase :\n",
        "INPUT\n",
        "5 3\n",
        "3 3 4 4 7\n",
        "OUTPUT\n",
        "yes 2\n",
        "\n",
        "\n",
        "\"\"\"\n",
        "\n",
        "a,b=list(map(int,input().split()))\n",
        "c=list(map(int,input().split()))\n",
        "d=[]\n",
        "for i in c:\n",
        "  if i==b:\n",
        "    k=c.count(i)\n",
        "    d.append(k)\n",
        "    break\n",
        "if d==[]:\n",
        "  print(\"no\")\n",
        "else:\n",
        "  print(\"yes\",*d)"
      ],
      "metadata": {
        "colab": {
          "base_uri": "https://localhost:8080/"
        },
        "id": "nO06GQIKsPdj",
        "outputId": "db6a22c8-6b27-4058-cd35-e6630e499ad2"
      },
      "execution_count": 8,
      "outputs": [
        {
          "output_type": "stream",
          "name": "stdout",
          "text": [
            "5 3\n",
            "3 3 4 4 7\n",
            "yes 2\n"
          ]
        }
      ]
    }
  ]
}