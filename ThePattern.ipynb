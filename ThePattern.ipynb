{
  "nbformat": 4,
  "nbformat_minor": 0,
  "metadata": {
    "colab": {
      "provenance": [],
      "authorship_tag": "ABX9TyMy+wsIWCxyAycsXrY2cFcQ",
      "include_colab_link": true
    },
    "kernelspec": {
      "name": "python3",
      "display_name": "Python 3"
    },
    "language_info": {
      "name": "python"
    }
  },
  "cells": [
    {
      "cell_type": "markdown",
      "metadata": {
        "id": "view-in-github",
        "colab_type": "text"
      },
      "source": [
        "<a href=\"https://colab.research.google.com/github/omkarmohite123/omkarmohite123/blob/main/ThePattern.ipynb\" target=\"_parent\"><img src=\"https://colab.research.google.com/assets/colab-badge.svg\" alt=\"Open In Colab\"/></a>"
      ]
    },
    {
      "cell_type": "code",
      "execution_count": 1,
      "metadata": {
        "colab": {
          "base_uri": "https://localhost:8080/"
        },
        "id": "ml9BWSPNt9Kv",
        "outputId": "7c7654d5-550f-44ae-ad90-3247d7410c24"
      },
      "outputs": [
        {
          "output_type": "stream",
          "name": "stdout",
          "text": [
            "9\n",
            "bbbb*bbbb\n",
            "bbb***bbb\n",
            "bb*****bb\n",
            "b*******b\n",
            "*********\n",
            "b*******b\n",
            "bb*****bb\n",
            "bbb***bbb\n",
            "bbbb*bbbb\n"
          ]
        }
      ],
      "source": [
        "\"\"\"\n",
        "Wrrite a code to generate the following pattern.\n",
        "\n",
        "bbbb*bbbb\n",
        "\n",
        "bbb***bbb\n",
        "\n",
        "bb*****bb\n",
        "\n",
        "b*******b\n",
        "\n",
        "*********\n",
        "\n",
        "b*******b\n",
        "\n",
        "bb*****bb\n",
        "\n",
        "bbb***bbb\n",
        "\n",
        "bbbb*bbbb\n",
        "\n",
        "Input Description:\n",
        "Given an odd integer R indicates number of rows.R is always an odd number.\n",
        "\n",
        "where 1<=R<=100.\n",
        "\n",
        "Output Description:\n",
        "Print the character pattern based on the given input R.\n",
        "\n",
        "Sample Input :\n",
        "9\n",
        "Sample Output :\n",
        "bbbb*bbbb\n",
        "bbb***bbb\n",
        "bb*****bb\n",
        "b*******b\n",
        "*********\n",
        "b*******b\n",
        "bb*****bb\n",
        "bbb***bbb\n",
        "bbbb*bbbb\n",
        "\n",
        "\"\"\"\n",
        "#19\n",
        "\n",
        "s=int(input())\n",
        "n=s//2+1\n",
        "k=\"\"\n",
        "m=[]\n",
        "for i in range(1,n+1):\n",
        "  for j in range(1,n-i+1):\n",
        "    k=k+\"b\"\n",
        "  for j in range(i,0,-1):\n",
        "    k=k+\"*\"\n",
        "  for j in range(2,i+1):\n",
        "    k=k+\"*\"\n",
        "  for j in range(n-i):\n",
        "    k=k+\"b\"\n",
        "  m.append(k)\n",
        "  k=\"\"\n",
        "h=m[::-1]\n",
        "g=[]\n",
        "for i in m:\n",
        "  g.append(i)\n",
        "for i in range(1,len(h)):\n",
        "  g.append(h[i])\n",
        "for i in g:\n",
        "  print(i.rstrip())"
      ]
    }
  ]
}