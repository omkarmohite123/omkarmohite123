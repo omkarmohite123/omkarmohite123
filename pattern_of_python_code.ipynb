{
  "nbformat": 4,
  "nbformat_minor": 0,
  "metadata": {
    "colab": {
      "name": "pattern of python code.ipynb",
      "provenance": [],
      "authorship_tag": "ABX9TyPyOTPnXSbZpL1g+XLpN4t/",
      "include_colab_link": true
    },
    "kernelspec": {
      "name": "python3",
      "display_name": "Python 3"
    },
    "language_info": {
      "name": "python"
    }
  },
  "cells": [
    {
      "cell_type": "markdown",
      "metadata": {
        "id": "view-in-github",
        "colab_type": "text"
      },
      "source": [
        "<a href=\"https://colab.research.google.com/github/omkarmohite123/omkarmohite123/blob/main/pattern_of_python_code.ipynb\" target=\"_parent\"><img src=\"https://colab.research.google.com/assets/colab-badge.svg\" alt=\"Open In Colab\"/></a>"
      ]
    },
    {
      "cell_type": "code",
      "execution_count": 1,
      "metadata": {
        "colab": {
          "base_uri": "https://localhost:8080/"
        },
        "id": "cZfNZaiEpXlj",
        "outputId": "c43d6436-bab2-4bcc-c399-65b0ce4f719d"
      },
      "outputs": [
        {
          "output_type": "stream",
          "name": "stdout",
          "text": [
            "5\n",
            "12345\n",
            "4321\n",
            "123\n",
            "21\n",
            "1\n"
          ]
        }
      ],
      "source": [
        "\"\"\"\n",
        "Write a code to generate a half pyramid number pattern.\n",
        "\n",
        "Input Description:\n",
        "Given an even integer R indicates number of rows.\n",
        "\n",
        "Where 1<=R<=100.\n",
        "\n",
        "Output Description:\n",
        "Print the number half pyramid pattern with the size R.\n",
        "\n",
        "Sample Input :\n",
        "5\n",
        "Sample Output :\n",
        "12345\n",
        "4321\n",
        "123\n",
        "21\n",
        "1\n",
        "\n",
        "\"\"\"\n",
        "s=int(input())\n",
        "m=[]\n",
        "d=\"\"\n",
        "for i in range(1,s+1):\n",
        "  for j in range(1,i+1):\n",
        "    d=d+str(j)\n",
        "  m.append(d)\n",
        "  d=\"\"\n",
        "k=m[::-1]\n",
        "v=[]\n",
        "for i in range(len(k)):\n",
        "  if i%2==0:\n",
        "    v.append(k[i])\n",
        "  else:\n",
        "    v.append(k[i][::-1])\n",
        "for i in v:\n",
        "  print(i)  \n",
        "\n",
        "   \n",
        "  "
      ]
    }
  ]
}