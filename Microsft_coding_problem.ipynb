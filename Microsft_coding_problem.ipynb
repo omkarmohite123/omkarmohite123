{
  "nbformat": 4,
  "nbformat_minor": 0,
  "metadata": {
    "colab": {
      "name": "Microsft_coding problem.ipynb",
      "provenance": [],
      "authorship_tag": "ABX9TyN8gtLI7Z2SHRhXPUFEw3tZ",
      "include_colab_link": true
    },
    "kernelspec": {
      "name": "python3",
      "display_name": "Python 3"
    },
    "language_info": {
      "name": "python"
    }
  },
  "cells": [
    {
      "cell_type": "markdown",
      "metadata": {
        "id": "view-in-github",
        "colab_type": "text"
      },
      "source": [
        "<a href=\"https://colab.research.google.com/github/omkarmohite123/omkarmohite123/blob/main/Microsft_coding_problem.ipynb\" target=\"_parent\"><img src=\"https://colab.research.google.com/assets/colab-badge.svg\" alt=\"Open In Colab\"/></a>"
      ]
    },
    {
      "cell_type": "code",
      "source": [
        "Aditi is fond of strings.she heard about Lcs for two strings.Now she wants to try this for 3 strings.But in between she got confused now, your task is to help her.You are given exactly 3 strings.\n",
        "Develop an algorithm which to find lcs for 3 strings.\n",
        "\n",
        "Input Description:::\n",
        "You are given 3 strings.\n",
        "\n",
        "Output Description:::\n",
        "Print the lcs of 3 string or print -1 if there is no lcs between 3 strings\n",
        "\n",
        "Sample Input :\n",
        "Guvi yuvi yuvirat\n",
        "\n",
        "Sample Output :\n",
        "uvi\n"
      ],
      "metadata": {
        "id": "U786wcq3hG8z"
      },
      "execution_count": null,
      "outputs": []
    },
    {
      "cell_type": "code",
      "source": [
        "a,b,c=list(map(str,input().split()))  # a=Guvi,b= yuvi ,c=yuviraj\n",
        "s=[]  #empty list\n",
        "for i in a:  #i in Guvi\n",
        "  if i in b:  #i in yuvi\n",
        "    s.append(i) #common guvi and yuvi is (u,v,i) send to empty list s,so s=[u,v,i]\n",
        "\n",
        "k=[]  #empty list k\n",
        "for i in b:  #i in yuvi\n",
        "  if i in c:  # i in yuvraj\n",
        "    k.append(i) #common in yuvi and yuvraj is uvi and k=[u,v,i]\n",
        "\n",
        "n=[] # empty list n\n",
        "for i in s: #for i in s (note:s=[u,v,i]\n",
        "  if i in k: #similer,k[u,v,i]\n",
        "    n.append(i)\n",
        "d=\"\".join(n) #join i in n\n",
        "if len(a)>len(b): #if len of a and b not same (-1)\n",
        "  print(\"-1\")\n",
        "else:\n",
        "  print(d) # print ans d"
      ],
      "metadata": {
        "colab": {
          "base_uri": "https://localhost:8080/"
        },
        "id": "V01-z-kDhW1l",
        "outputId": "d164bb31-96fb-455d-924c-546183354d06"
      },
      "execution_count": 3,
      "outputs": [
        {
          "output_type": "stream",
          "name": "stdout",
          "text": [
            "Guvi yuvi yuvirat\n",
            "uvi\n"
          ]
        }
      ]
    },
    {
      "cell_type": "code",
      "source": [
        ""
      ],
      "metadata": {
        "id": "QHvghaPqj-ot"
      },
      "execution_count": null,
      "outputs": []
    }
  ]
}