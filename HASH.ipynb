{
  "nbformat": 4,
  "nbformat_minor": 0,
  "metadata": {
    "colab": {
      "provenance": [],
      "authorship_tag": "ABX9TyPz+4IV3Ir+akssvx9HTU/n",
      "include_colab_link": true
    },
    "kernelspec": {
      "name": "python3",
      "display_name": "Python 3"
    },
    "language_info": {
      "name": "python"
    }
  },
  "cells": [
    {
      "cell_type": "markdown",
      "metadata": {
        "id": "view-in-github",
        "colab_type": "text"
      },
      "source": [
        "<a href=\"https://colab.research.google.com/github/omkarmohite123/omkarmohite123/blob/main/HASH.ipynb\" target=\"_parent\"><img src=\"https://colab.research.google.com/assets/colab-badge.svg\" alt=\"Open In Colab\"/></a>"
      ]
    },
    {
      "cell_type": "code",
      "execution_count": 1,
      "metadata": {
        "colab": {
          "base_uri": "https://localhost:8080/"
        },
        "id": "gA_ACtNOEUfh",
        "outputId": "bed9b942-3ff4-4d72-c333-bd81b203b523"
      },
      "outputs": [
        {
          "output_type": "stream",
          "name": "stdout",
          "text": [
            "5\n",
            "13 12 13 12 13\n",
            "12\n"
          ]
        }
      ],
      "source": [
        "\"\"\"\n",
        "You are provided with an array in which all elements are repeated thrice except one which is repeated twice.Your task is to print that number.\n",
        "\n",
        " \n",
        "\n",
        "O(n) time and O(1) extra space\n",
        "\n",
        "Input Description:\n",
        "First line contains a number denoting size of array ‘n’.Next line contains n space separated numbers\n",
        "\n",
        "Output Description:\n",
        "Print the number which is repeated twice\n",
        "\n",
        "Sample Input :\n",
        "5\n",
        "13 12 13 12 13\n",
        "Sample Output :\n",
        "12\n",
        "\"\"\"\n",
        "#13\n",
        "a=input()\n",
        "b=list(map(int,input().split()))\n",
        "c=[]\n",
        "for i in b:\n",
        "  if b.count(i)==2:\n",
        "    if i not in c:\n",
        "      c.append(i)\n",
        "if len(c)>=1:\n",
        "  print(*c)"
      ]
    }
  ]
}