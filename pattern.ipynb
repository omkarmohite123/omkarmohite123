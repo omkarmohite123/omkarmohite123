{
  "nbformat": 4,
  "nbformat_minor": 0,
  "metadata": {
    "colab": {
      "provenance": [],
      "authorship_tag": "ABX9TyOtFY/UuhNUZcv3h+sz/Qfw",
      "include_colab_link": true
    },
    "kernelspec": {
      "name": "python3",
      "display_name": "Python 3"
    },
    "language_info": {
      "name": "python"
    }
  },
  "cells": [
    {
      "cell_type": "markdown",
      "metadata": {
        "id": "view-in-github",
        "colab_type": "text"
      },
      "source": [
        "<a href=\"https://colab.research.google.com/github/omkarmohite123/omkarmohite123/blob/main/pattern.ipynb\" target=\"_parent\"><img src=\"https://colab.research.google.com/assets/colab-badge.svg\" alt=\"Open In Colab\"/></a>"
      ]
    },
    {
      "cell_type": "code",
      "execution_count": 1,
      "metadata": {
        "colab": {
          "base_uri": "https://localhost:8080/"
        },
        "id": "-ep8zVduoARF",
        "outputId": "3859a408-fc24-48d0-cc1d-c0003fc02f08"
      },
      "outputs": [
        {
          "output_type": "stream",
          "name": "stdout",
          "text": [
            "5\n",
            "11111\n",
            "11111\n",
            "11111\n",
            "11111\n",
            "11111\n"
          ]
        }
      ],
      "source": [
        "\"\"\"\n",
        "Write a code to generate a square pattern using the number '1'.\n",
        "\n",
        "Input Description:\n",
        "Given an integer R indicates number of rows.\n",
        "\n",
        "Where 1<=R<=100.\n",
        "\n",
        "Output Description:\n",
        "Print the square pattern with the number '1' in R*R form based on the given integer R.\n",
        "\n",
        "Sample Input :\n",
        "5\n",
        "Sample Output :\n",
        "11111\n",
        "11111\n",
        "11111\n",
        "11111\n",
        "11111\n",
        "\n",
        "\"\"\"\n",
        "#4\n",
        "a=int(input())\n",
        "\n",
        "k=1\n",
        "m=[]\n",
        "for i in range(a):\n",
        "   k=k*1\n",
        "   m.append(str(k**5))\n",
        "c=\"\".join(m)\n",
        "for i in range(a):\n",
        "  print(c)"
      ]
    }
  ]
}