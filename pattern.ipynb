{
  "nbformat": 4,
  "nbformat_minor": 0,
  "metadata": {
    "colab": {
      "provenance": [],
      "authorship_tag": "ABX9TyPR0znM4NLDRARRcKf0Sh1c",
      "include_colab_link": true
    },
    "kernelspec": {
      "name": "python3",
      "display_name": "Python 3"
    },
    "language_info": {
      "name": "python"
    }
  },
  "cells": [
    {
      "cell_type": "markdown",
      "metadata": {
        "id": "view-in-github",
        "colab_type": "text"
      },
      "source": [
        "<a href=\"https://colab.research.google.com/github/omkarmohite123/omkarmohite123/blob/main/pattern.ipynb\" target=\"_parent\"><img src=\"https://colab.research.google.com/assets/colab-badge.svg\" alt=\"Open In Colab\"/></a>"
      ]
    },
    {
      "cell_type": "code",
      "execution_count": 1,
      "metadata": {
        "colab": {
          "base_uri": "https://localhost:8080/"
        },
        "id": "jnM7yV71L5jy",
        "outputId": "881fd320-fcec-4200-ab5e-f7cf016bac71"
      },
      "outputs": [
        {
          "output_type": "stream",
          "name": "stdout",
          "text": [
            "5\n",
            "13579\n",
            "3579\n",
            "579\n",
            "79\n",
            "9\n",
            "\n"
          ]
        }
      ],
      "source": [
        "\"\"\"\n",
        "Write a code to generate a half pyramid pattern using numbers.\n",
        "\n",
        "Input Description:\n",
        "Given an integer R indicates number of rows.\n",
        "\n",
        "Where 1<=R<=100.\n",
        "\n",
        "Output Description:\n",
        "Print the number half pyramid pattern with the size R.\n",
        "\n",
        "Sample Input :\n",
        "5\n",
        "Sample Output :\n",
        "13579\n",
        "3579\n",
        "579\n",
        "79\n",
        "9\n",
        "\n",
        "\"\"\"\n",
        "q=101\n",
        "cont=int(input())\n",
        "v=0\n",
        "s=[]\n",
        "for i in range(q):\n",
        "  if i%2!=0 and v<(cont+1):\n",
        "    v+=1\n",
        "    s.append(i)\n",
        "  \n",
        "k=[]\n",
        "m=\"\"\n",
        "for i in range(0,len(s)):\n",
        "  for j in range(i,len(s)-1):\n",
        "    m=m+str(s[j])\n",
        "  k.append(m)\n",
        "  m=\"\"\n",
        "for i in k:\n",
        "  print(i)"
      ]
    }
  ]
}