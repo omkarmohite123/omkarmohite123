{
  "nbformat": 4,
  "nbformat_minor": 0,
  "metadata": {
    "colab": {
      "provenance": [],
      "authorship_tag": "ABX9TyMXpviHb0pEXL1bJFnd132m",
      "include_colab_link": true
    },
    "kernelspec": {
      "name": "python3",
      "display_name": "Python 3"
    },
    "language_info": {
      "name": "python"
    }
  },
  "cells": [
    {
      "cell_type": "markdown",
      "metadata": {
        "id": "view-in-github",
        "colab_type": "text"
      },
      "source": [
        "<a href=\"https://colab.research.google.com/github/omkarmohite123/omkarmohite123/blob/main/NUMBER.ipynb\" target=\"_parent\"><img src=\"https://colab.research.google.com/assets/colab-badge.svg\" alt=\"Open In Colab\"/></a>"
      ]
    },
    {
      "cell_type": "code",
      "source": [
        "\"\"\"\n",
        "Rahul was learning about numbers in list. He came across one word ground of a number.\n",
        "\n",
        "A ground of a number is defined as the number which is just smaller or equal to the number given to you.Hence he started solving some assignments related to it. He got struck in some questions. Your task is to help him.\n",
        "\n",
        " \n",
        "\n",
        "O(n) time complexity\n",
        "\n",
        "O(n) Auxilary space\n",
        "\n",
        "Input Description:\n",
        "First line contains two numbers ‘n’ denoting number of integers and ‘k’ whose ground is to be check. Next line contains n space separated numbers.\n",
        "\n",
        "Output Description:\n",
        "Print the index of val.Print -1 if equal or near exqual number\n",
        "\n",
        "Sample Input :\n",
        "7 3\n",
        "1 2 3 4 5 6 7\n",
        "Sample Output :\n",
        "2\n",
        "\n",
        "\n",
        "\"\"\"\n",
        "#number\n",
        "a,b=list(map(int,input().split()))\n",
        "c=list(map(int,input().split()))\n",
        "k=0\n",
        "for i in range(len(c)):\n",
        "  if c[i]==b:\n",
        "     k=1\n",
        "     break\n",
        "if k==1:\n",
        "  print(c.index(b))\n",
        "else:\n",
        "  print(c[-1]-1)"
      ],
      "metadata": {
        "colab": {
          "base_uri": "https://localhost:8080/"
        },
        "id": "AA8MbHzY8vmf",
        "outputId": "2713a7bd-7e93-4006-e23e-2b391069e1b6"
      },
      "execution_count": 1,
      "outputs": [
        {
          "output_type": "stream",
          "name": "stdout",
          "text": [
            "7 3\n",
            "1 2 3 4 5 6 7\n",
            "2\n"
          ]
        }
      ]
    }
  ]
}