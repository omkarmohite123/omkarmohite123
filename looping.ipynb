{
  "nbformat": 4,
  "nbformat_minor": 0,
  "metadata": {
    "colab": {
      "provenance": [],
      "authorship_tag": "ABX9TyM/FZ02EKxEsODdvz+1ZdsS",
      "include_colab_link": true
    },
    "kernelspec": {
      "name": "python3",
      "display_name": "Python 3"
    },
    "language_info": {
      "name": "python"
    }
  },
  "cells": [
    {
      "cell_type": "markdown",
      "metadata": {
        "id": "view-in-github",
        "colab_type": "text"
      },
      "source": [
        "<a href=\"https://colab.research.google.com/github/omkarmohite123/omkarmohite123/blob/main/looping.ipynb\" target=\"_parent\"><img src=\"https://colab.research.google.com/assets/colab-badge.svg\" alt=\"Open In Colab\"/></a>"
      ]
    },
    {
      "cell_type": "code",
      "execution_count": 1,
      "metadata": {
        "colab": {
          "base_uri": "https://localhost:8080/"
        },
        "id": "d08AKsVREAY-",
        "outputId": "b6fa568f-3de7-4764-a23e-c8e966063ea5"
      },
      "outputs": [
        {
          "output_type": "stream",
          "name": "stdout",
          "text": [
            "10\n",
            "55\n"
          ]
        }
      ],
      "source": [
        "\"\"\"\n",
        "Write a code to get an integer N and print the sum of  values from 1 to N.\n",
        "\n",
        "Input Description:\n",
        "A single line contains an integer N.\n",
        "\n",
        "Output Description:\n",
        "Print the sum of values from 1 to N.\n",
        "\n",
        "Sample Input :\n",
        "10\n",
        "Sample Output :\n",
        "55\n",
        "\n",
        "\n",
        "\"\"\"\n",
        "N=int(input())\n",
        "a=0\n",
        "for i in range(1,N+1):\n",
        "    a=a+i\n",
        "print(a)"
      ]
    }
  ]
}