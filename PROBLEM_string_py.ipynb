{
  "nbformat": 4,
  "nbformat_minor": 0,
  "metadata": {
    "colab": {
      "provenance": [],
      "authorship_tag": "ABX9TyMsj3/USKmZYut9X6k+dxbd",
      "include_colab_link": true
    },
    "kernelspec": {
      "name": "python3",
      "display_name": "Python 3"
    },
    "language_info": {
      "name": "python"
    }
  },
  "cells": [
    {
      "cell_type": "markdown",
      "metadata": {
        "id": "view-in-github",
        "colab_type": "text"
      },
      "source": [
        "<a href=\"https://colab.research.google.com/github/omkarmohite123/omkarmohite123/blob/main/PROBLEM_string_py.ipynb\" target=\"_parent\"><img src=\"https://colab.research.google.com/assets/colab-badge.svg\" alt=\"Open In Colab\"/></a>"
      ]
    },
    {
      "cell_type": "code",
      "source": [
        "#195\n",
        "\"\"\"\n",
        "You are given a string ‘s’. You have to tell whether the string can be arranged in last to first order.A last to first order is order in which if word 1 ends in say(char ‘a’) then the other word must start in char ‘a’.\n",
        "\n",
        "Input Description:\n",
        "You are given a string ‘s’.\n",
        "\n",
        "Output Description:\n",
        "Print ‘1’ if string can be arranged in last to first sequence and\n",
        "\n",
        "Sample Input :\n",
        "Loan avail\n",
        "Sample Output :\n",
        "1\n",
        "\n",
        "\"\"\"\n",
        "a=list(map(str,input().split()))\n",
        "k=0\n",
        "for i in range(len(a)):\n",
        "  if a[i][-1]==a[i-1][0]:\n",
        "    k=1\n",
        "if k==0:\n",
        "  print(\"-1\")\n",
        "else:\n",
        "  print(\"1\")"
      ],
      "metadata": {
        "colab": {
          "base_uri": "https://localhost:8080/"
        },
        "id": "V9nd7WqQZ8wn",
        "outputId": "928ac5f3-8e57-4843-b478-c003f7cb7754"
      },
      "execution_count": 6,
      "outputs": [
        {
          "output_type": "stream",
          "name": "stdout",
          "text": [
            "Loan avail\n",
            "-1\n"
          ]
        }
      ]
    }
  ]
}