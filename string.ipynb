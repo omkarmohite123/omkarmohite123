{
  "nbformat": 4,
  "nbformat_minor": 0,
  "metadata": {
    "colab": {
      "provenance": [],
      "authorship_tag": "ABX9TyP3Ub+uppHG/0CrJA5IQhLC",
      "include_colab_link": true
    },
    "kernelspec": {
      "name": "python3",
      "display_name": "Python 3"
    },
    "language_info": {
      "name": "python"
    }
  },
  "cells": [
    {
      "cell_type": "markdown",
      "metadata": {
        "id": "view-in-github",
        "colab_type": "text"
      },
      "source": [
        "<a href=\"https://colab.research.google.com/github/omkarmohite123/omkarmohite123/blob/main/string.ipynb\" target=\"_parent\"><img src=\"https://colab.research.google.com/assets/colab-badge.svg\" alt=\"Open In Colab\"/></a>"
      ]
    },
    {
      "cell_type": "code",
      "execution_count": 1,
      "metadata": {
        "colab": {
          "base_uri": "https://localhost:8080/"
        },
        "id": "OL7J5B26DpCx",
        "outputId": "a5203785-56de-4999-c03f-f3b650f80807"
      },
      "outputs": [
        {
          "output_type": "stream",
          "name": "stdout",
          "text": [
            "abc ab\n",
            "Yes\n"
          ]
        }
      ],
      "source": [
        "\"\"\"\n",
        "\n",
        "You are given two string ‘s1’ and ‘s2’. You have to tell whether these form pair of (strset) A pair of strings is said to be str set if one string is substring of other.\n",
        "\n",
        "Input Description:\n",
        "You are given two strings ‘s1’ and ‘s2’\n",
        "\n",
        "Output Description:\n",
        "Print Yes if they form strset and No if they don’t.\n",
        "\n",
        "Sample Input :\n",
        "abc ab\n",
        "Sample Output :\n",
        "Yes\n",
        "\n",
        "\"\"\"\n",
        "a,b=map(str,input().split())\n",
        "c=0\n",
        "d=0\n",
        "for i in a:\n",
        "  if i in b:\n",
        "    c+=1\n",
        "  else:\n",
        "    c=0\n",
        "for i in b:\n",
        "  if i in a:\n",
        "     d+=1\n",
        "  else:\n",
        "     d=0\n",
        "if d!=0:\n",
        "    print(\"Yes\")\n",
        "else:\n",
        "    print(\"No\")\n",
        "\n",
        "\n"
      ]
    }
  ]
}