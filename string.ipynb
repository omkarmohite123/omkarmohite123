{
  "nbformat": 4,
  "nbformat_minor": 0,
  "metadata": {
    "colab": {
      "provenance": [],
      "authorship_tag": "ABX9TyNgASGz+dKGKlrrOncuWxOq",
      "include_colab_link": true
    },
    "kernelspec": {
      "name": "python3",
      "display_name": "Python 3"
    },
    "language_info": {
      "name": "python"
    }
  },
  "cells": [
    {
      "cell_type": "markdown",
      "metadata": {
        "id": "view-in-github",
        "colab_type": "text"
      },
      "source": [
        "<a href=\"https://colab.research.google.com/github/omkarmohite123/omkarmohite123/blob/main/string.ipynb\" target=\"_parent\"><img src=\"https://colab.research.google.com/assets/colab-badge.svg\" alt=\"Open In Colab\"/></a>"
      ]
    },
    {
      "cell_type": "code",
      "source": [
        "\"\"\"\n",
        "Given a number N followed by N numbers. Keep the count of each number and print the maximum repeating number.\n",
        "Input Size : N <= 100000\n",
        "Sample Testcase :\n",
        "INPUT\n",
        "5\n",
        "15 5 -20 -20 -45\n",
        "OUTPUT\n",
        "-20\n",
        "\"\"\"\n",
        "#209\n",
        "a=int(input())\n",
        "b=list(map(int,input().split()))\n",
        "h={}\n",
        "for i in b:\n",
        "  if i not in h:\n",
        "    h[i]=1\n",
        "  else:\n",
        "    h[i]+=1\n",
        "\n",
        "k=[]\n",
        "for i,j in h.items():\n",
        "  if j==max(h.values()):\n",
        "    k.append(i)\n",
        "print(*k)"
      ],
      "metadata": {
        "colab": {
          "base_uri": "https://localhost:8080/"
        },
        "id": "qQAFQk0lQaNM",
        "outputId": "f177ce2c-9c8d-45d2-fcec-1c6c3af53d10"
      },
      "execution_count": 1,
      "outputs": [
        {
          "output_type": "stream",
          "name": "stdout",
          "text": [
            "5\n",
            "15 5 -20 -20 -45\n",
            "-20\n"
          ]
        }
      ]
    }
  ]
}