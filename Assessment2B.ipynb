{
  "cells": [
    {
      "cell_type": "markdown",
      "metadata": {
        "id": "view-in-github",
        "colab_type": "text"
      },
      "source": [
        "<a href=\"https://colab.research.google.com/github/omkarmohite123/omkarmohite123/blob/main/Assessment2B.ipynb\" target=\"_parent\"><img src=\"https://colab.research.google.com/assets/colab-badge.svg\" alt=\"Open In Colab\"/></a>"
      ]
    },
    {
      "cell_type": "markdown",
      "metadata": {
        "id": "bN9GZsmIuG5l"
      },
      "source": [
        "###### Assessment"
      ]
    },
    {
      "cell_type": "markdown",
      "metadata": {
        "id": "0l7ltd8LuG5s"
      },
      "source": [
        "###### I am going to provide two .csv files , you are supposed to work on them and have to provide solutions to the following problems"
      ]
    },
    {
      "cell_type": "markdown",
      "metadata": {
        "id": "6-SP_O2quG5u"
      },
      "source": [
        "###### import necessary libraries"
      ]
    },
    {
      "cell_type": "code",
      "execution_count": 5,
      "metadata": {
        "id": "c4SLi-BfuG5v"
      },
      "outputs": [],
      "source": [
        "import pandas as pd\n",
        "import io\n"
      ]
    },
    {
      "cell_type": "code",
      "source": [
        "from google.colab import files\n",
        "uploaded = files.upload()"
      ],
      "metadata": {
        "colab": {
          "resources": {
            "http://localhost:8080/nbextensions/google.colab/files.js": {
              "data": "Ly8gQ29weXJpZ2h0IDIwMTcgR29vZ2xlIExMQwovLwovLyBMaWNlbnNlZCB1bmRlciB0aGUgQXBhY2hlIExpY2Vuc2UsIFZlcnNpb24gMi4wICh0aGUgIkxpY2Vuc2UiKTsKLy8geW91IG1heSBub3QgdXNlIHRoaXMgZmlsZSBleGNlcHQgaW4gY29tcGxpYW5jZSB3aXRoIHRoZSBMaWNlbnNlLgovLyBZb3UgbWF5IG9idGFpbiBhIGNvcHkgb2YgdGhlIExpY2Vuc2UgYXQKLy8KLy8gICAgICBodHRwOi8vd3d3LmFwYWNoZS5vcmcvbGljZW5zZXMvTElDRU5TRS0yLjAKLy8KLy8gVW5sZXNzIHJlcXVpcmVkIGJ5IGFwcGxpY2FibGUgbGF3IG9yIGFncmVlZCB0byBpbiB3cml0aW5nLCBzb2Z0d2FyZQovLyBkaXN0cmlidXRlZCB1bmRlciB0aGUgTGljZW5zZSBpcyBkaXN0cmlidXRlZCBvbiBhbiAiQVMgSVMiIEJBU0lTLAovLyBXSVRIT1VUIFdBUlJBTlRJRVMgT1IgQ09ORElUSU9OUyBPRiBBTlkgS0lORCwgZWl0aGVyIGV4cHJlc3Mgb3IgaW1wbGllZC4KLy8gU2VlIHRoZSBMaWNlbnNlIGZvciB0aGUgc3BlY2lmaWMgbGFuZ3VhZ2UgZ292ZXJuaW5nIHBlcm1pc3Npb25zIGFuZAovLyBsaW1pdGF0aW9ucyB1bmRlciB0aGUgTGljZW5zZS4KCi8qKgogKiBAZmlsZW92ZXJ2aWV3IEhlbHBlcnMgZm9yIGdvb2dsZS5jb2xhYiBQeXRob24gbW9kdWxlLgogKi8KKGZ1bmN0aW9uKHNjb3BlKSB7CmZ1bmN0aW9uIHNwYW4odGV4dCwgc3R5bGVBdHRyaWJ1dGVzID0ge30pIHsKICBjb25zdCBlbGVtZW50ID0gZG9jdW1lbnQuY3JlYXRlRWxlbWVudCgnc3BhbicpOwogIGVsZW1lbnQudGV4dENvbnRlbnQgPSB0ZXh0OwogIGZvciAoY29uc3Qga2V5IG9mIE9iamVjdC5rZXlzKHN0eWxlQXR0cmlidXRlcykpIHsKICAgIGVsZW1lbnQuc3R5bGVba2V5XSA9IHN0eWxlQXR0cmlidXRlc1trZXldOwogIH0KICByZXR1cm4gZWxlbWVudDsKfQoKLy8gTWF4IG51bWJlciBvZiBieXRlcyB3aGljaCB3aWxsIGJlIHVwbG9hZGVkIGF0IGEgdGltZS4KY29uc3QgTUFYX1BBWUxPQURfU0laRSA9IDEwMCAqIDEwMjQ7CgpmdW5jdGlvbiBfdXBsb2FkRmlsZXMoaW5wdXRJZCwgb3V0cHV0SWQpIHsKICBjb25zdCBzdGVwcyA9IHVwbG9hZEZpbGVzU3RlcChpbnB1dElkLCBvdXRwdXRJZCk7CiAgY29uc3Qgb3V0cHV0RWxlbWVudCA9IGRvY3VtZW50LmdldEVsZW1lbnRCeUlkKG91dHB1dElkKTsKICAvLyBDYWNoZSBzdGVwcyBvbiB0aGUgb3V0cHV0RWxlbWVudCB0byBtYWtlIGl0IGF2YWlsYWJsZSBmb3IgdGhlIG5leHQgY2FsbAogIC8vIHRvIHVwbG9hZEZpbGVzQ29udGludWUgZnJvbSBQeXRob24uCiAgb3V0cHV0RWxlbWVudC5zdGVwcyA9IHN0ZXBzOwoKICByZXR1cm4gX3VwbG9hZEZpbGVzQ29udGludWUob3V0cHV0SWQpOwp9CgovLyBUaGlzIGlzIHJvdWdobHkgYW4gYXN5bmMgZ2VuZXJhdG9yIChub3Qgc3VwcG9ydGVkIGluIHRoZSBicm93c2VyIHlldCksCi8vIHdoZXJlIHRoZXJlIGFyZSBtdWx0aXBsZSBhc3luY2hyb25vdXMgc3RlcHMgYW5kIHRoZSBQeXRob24gc2lkZSBpcyBnb2luZwovLyB0byBwb2xsIGZvciBjb21wbGV0aW9uIG9mIGVhY2ggc3RlcC4KLy8gVGhpcyB1c2VzIGEgUHJvbWlzZSB0byBibG9jayB0aGUgcHl0aG9uIHNpZGUgb24gY29tcGxldGlvbiBvZiBlYWNoIHN0ZXAsCi8vIHRoZW4gcGFzc2VzIHRoZSByZXN1bHQgb2YgdGhlIHByZXZpb3VzIHN0ZXAgYXMgdGhlIGlucHV0IHRvIHRoZSBuZXh0IHN0ZXAuCmZ1bmN0aW9uIF91cGxvYWRGaWxlc0NvbnRpbnVlKG91dHB1dElkKSB7CiAgY29uc3Qgb3V0cHV0RWxlbWVudCA9IGRvY3VtZW50LmdldEVsZW1lbnRCeUlkKG91dHB1dElkKTsKICBjb25zdCBzdGVwcyA9IG91dHB1dEVsZW1lbnQuc3RlcHM7CgogIGNvbnN0IG5leHQgPSBzdGVwcy5uZXh0KG91dHB1dEVsZW1lbnQubGFzdFByb21pc2VWYWx1ZSk7CiAgcmV0dXJuIFByb21pc2UucmVzb2x2ZShuZXh0LnZhbHVlLnByb21pc2UpLnRoZW4oKHZhbHVlKSA9PiB7CiAgICAvLyBDYWNoZSB0aGUgbGFzdCBwcm9taXNlIHZhbHVlIHRvIG1ha2UgaXQgYXZhaWxhYmxlIHRvIHRoZSBuZXh0CiAgICAvLyBzdGVwIG9mIHRoZSBnZW5lcmF0b3IuCiAgICBvdXRwdXRFbGVtZW50Lmxhc3RQcm9taXNlVmFsdWUgPSB2YWx1ZTsKICAgIHJldHVybiBuZXh0LnZhbHVlLnJlc3BvbnNlOwogIH0pOwp9CgovKioKICogR2VuZXJhdG9yIGZ1bmN0aW9uIHdoaWNoIGlzIGNhbGxlZCBiZXR3ZWVuIGVhY2ggYXN5bmMgc3RlcCBvZiB0aGUgdXBsb2FkCiAqIHByb2Nlc3MuCiAqIEBwYXJhbSB7c3RyaW5nfSBpbnB1dElkIEVsZW1lbnQgSUQgb2YgdGhlIGlucHV0IGZpbGUgcGlja2VyIGVsZW1lbnQuCiAqIEBwYXJhbSB7c3RyaW5nfSBvdXRwdXRJZCBFbGVtZW50IElEIG9mIHRoZSBvdXRwdXQgZGlzcGxheS4KICogQHJldHVybiB7IUl0ZXJhYmxlPCFPYmplY3Q+fSBJdGVyYWJsZSBvZiBuZXh0IHN0ZXBzLgogKi8KZnVuY3Rpb24qIHVwbG9hZEZpbGVzU3RlcChpbnB1dElkLCBvdXRwdXRJZCkgewogIGNvbnN0IGlucHV0RWxlbWVudCA9IGRvY3VtZW50LmdldEVsZW1lbnRCeUlkKGlucHV0SWQpOwogIGlucHV0RWxlbWVudC5kaXNhYmxlZCA9IGZhbHNlOwoKICBjb25zdCBvdXRwdXRFbGVtZW50ID0gZG9jdW1lbnQuZ2V0RWxlbWVudEJ5SWQob3V0cHV0SWQpOwogIG91dHB1dEVsZW1lbnQuaW5uZXJIVE1MID0gJyc7CgogIGNvbnN0IHBpY2tlZFByb21pc2UgPSBuZXcgUHJvbWlzZSgocmVzb2x2ZSkgPT4gewogICAgaW5wdXRFbGVtZW50LmFkZEV2ZW50TGlzdGVuZXIoJ2NoYW5nZScsIChlKSA9PiB7CiAgICAgIHJlc29sdmUoZS50YXJnZXQuZmlsZXMpOwogICAgfSk7CiAgfSk7CgogIGNvbnN0IGNhbmNlbCA9IGRvY3VtZW50LmNyZWF0ZUVsZW1lbnQoJ2J1dHRvbicpOwogIGlucHV0RWxlbWVudC5wYXJlbnRFbGVtZW50LmFwcGVuZENoaWxkKGNhbmNlbCk7CiAgY2FuY2VsLnRleHRDb250ZW50ID0gJ0NhbmNlbCB1cGxvYWQnOwogIGNvbnN0IGNhbmNlbFByb21pc2UgPSBuZXcgUHJvbWlzZSgocmVzb2x2ZSkgPT4gewogICAgY2FuY2VsLm9uY2xpY2sgPSAoKSA9PiB7CiAgICAgIHJlc29sdmUobnVsbCk7CiAgICB9OwogIH0pOwoKICAvLyBXYWl0IGZvciB0aGUgdXNlciB0byBwaWNrIHRoZSBmaWxlcy4KICBjb25zdCBmaWxlcyA9IHlpZWxkIHsKICAgIHByb21pc2U6IFByb21pc2UucmFjZShbcGlja2VkUHJvbWlzZSwgY2FuY2VsUHJvbWlzZV0pLAogICAgcmVzcG9uc2U6IHsKICAgICAgYWN0aW9uOiAnc3RhcnRpbmcnLAogICAgfQogIH07CgogIGNhbmNlbC5yZW1vdmUoKTsKCiAgLy8gRGlzYWJsZSB0aGUgaW5wdXQgZWxlbWVudCBzaW5jZSBmdXJ0aGVyIHBpY2tzIGFyZSBub3QgYWxsb3dlZC4KICBpbnB1dEVsZW1lbnQuZGlzYWJsZWQgPSB0cnVlOwoKICBpZiAoIWZpbGVzKSB7CiAgICByZXR1cm4gewogICAgICByZXNwb25zZTogewogICAgICAgIGFjdGlvbjogJ2NvbXBsZXRlJywKICAgICAgfQogICAgfTsKICB9CgogIGZvciAoY29uc3QgZmlsZSBvZiBmaWxlcykgewogICAgY29uc3QgbGkgPSBkb2N1bWVudC5jcmVhdGVFbGVtZW50KCdsaScpOwogICAgbGkuYXBwZW5kKHNwYW4oZmlsZS5uYW1lLCB7Zm9udFdlaWdodDogJ2JvbGQnfSkpOwogICAgbGkuYXBwZW5kKHNwYW4oCiAgICAgICAgYCgke2ZpbGUudHlwZSB8fCAnbi9hJ30pIC0gJHtmaWxlLnNpemV9IGJ5dGVzLCBgICsKICAgICAgICBgbGFzdCBtb2RpZmllZDogJHsKICAgICAgICAgICAgZmlsZS5sYXN0TW9kaWZpZWREYXRlID8gZmlsZS5sYXN0TW9kaWZpZWREYXRlLnRvTG9jYWxlRGF0ZVN0cmluZygpIDoKICAgICAgICAgICAgICAgICAgICAgICAgICAgICAgICAgICAgJ24vYSd9IC0gYCkpOwogICAgY29uc3QgcGVyY2VudCA9IHNwYW4oJzAlIGRvbmUnKTsKICAgIGxpLmFwcGVuZENoaWxkKHBlcmNlbnQpOwoKICAgIG91dHB1dEVsZW1lbnQuYXBwZW5kQ2hpbGQobGkpOwoKICAgIGNvbnN0IGZpbGVEYXRhUHJvbWlzZSA9IG5ldyBQcm9taXNlKChyZXNvbHZlKSA9PiB7CiAgICAgIGNvbnN0IHJlYWRlciA9IG5ldyBGaWxlUmVhZGVyKCk7CiAgICAgIHJlYWRlci5vbmxvYWQgPSAoZSkgPT4gewogICAgICAgIHJlc29sdmUoZS50YXJnZXQucmVzdWx0KTsKICAgICAgfTsKICAgICAgcmVhZGVyLnJlYWRBc0FycmF5QnVmZmVyKGZpbGUpOwogICAgfSk7CiAgICAvLyBXYWl0IGZvciB0aGUgZGF0YSB0byBiZSByZWFkeS4KICAgIGxldCBmaWxlRGF0YSA9IHlpZWxkIHsKICAgICAgcHJvbWlzZTogZmlsZURhdGFQcm9taXNlLAogICAgICByZXNwb25zZTogewogICAgICAgIGFjdGlvbjogJ2NvbnRpbnVlJywKICAgICAgfQogICAgfTsKCiAgICAvLyBVc2UgYSBjaHVua2VkIHNlbmRpbmcgdG8gYXZvaWQgbWVzc2FnZSBzaXplIGxpbWl0cy4gU2VlIGIvNjIxMTU2NjAuCiAgICBsZXQgcG9zaXRpb24gPSAwOwogICAgZG8gewogICAgICBjb25zdCBsZW5ndGggPSBNYXRoLm1pbihmaWxlRGF0YS5ieXRlTGVuZ3RoIC0gcG9zaXRpb24sIE1BWF9QQVlMT0FEX1NJWkUpOwogICAgICBjb25zdCBjaHVuayA9IG5ldyBVaW50OEFycmF5KGZpbGVEYXRhLCBwb3NpdGlvbiwgbGVuZ3RoKTsKICAgICAgcG9zaXRpb24gKz0gbGVuZ3RoOwoKICAgICAgY29uc3QgYmFzZTY0ID0gYnRvYShTdHJpbmcuZnJvbUNoYXJDb2RlLmFwcGx5KG51bGwsIGNodW5rKSk7CiAgICAgIHlpZWxkIHsKICAgICAgICByZXNwb25zZTogewogICAgICAgICAgYWN0aW9uOiAnYXBwZW5kJywKICAgICAgICAgIGZpbGU6IGZpbGUubmFtZSwKICAgICAgICAgIGRhdGE6IGJhc2U2NCwKICAgICAgICB9LAogICAgICB9OwoKICAgICAgbGV0IHBlcmNlbnREb25lID0gZmlsZURhdGEuYnl0ZUxlbmd0aCA9PT0gMCA/CiAgICAgICAgICAxMDAgOgogICAgICAgICAgTWF0aC5yb3VuZCgocG9zaXRpb24gLyBmaWxlRGF0YS5ieXRlTGVuZ3RoKSAqIDEwMCk7CiAgICAgIHBlcmNlbnQudGV4dENvbnRlbnQgPSBgJHtwZXJjZW50RG9uZX0lIGRvbmVgOwoKICAgIH0gd2hpbGUgKHBvc2l0aW9uIDwgZmlsZURhdGEuYnl0ZUxlbmd0aCk7CiAgfQoKICAvLyBBbGwgZG9uZS4KICB5aWVsZCB7CiAgICByZXNwb25zZTogewogICAgICBhY3Rpb246ICdjb21wbGV0ZScsCiAgICB9CiAgfTsKfQoKc2NvcGUuZ29vZ2xlID0gc2NvcGUuZ29vZ2xlIHx8IHt9OwpzY29wZS5nb29nbGUuY29sYWIgPSBzY29wZS5nb29nbGUuY29sYWIgfHwge307CnNjb3BlLmdvb2dsZS5jb2xhYi5fZmlsZXMgPSB7CiAgX3VwbG9hZEZpbGVzLAogIF91cGxvYWRGaWxlc0NvbnRpbnVlLAp9Owp9KShzZWxmKTsK",
              "ok": true,
              "headers": [
                [
                  "content-type",
                  "application/javascript"
                ]
              ],
              "status": 200,
              "status_text": ""
            }
          },
          "base_uri": "https://localhost:8080/",
          "height": 74
        },
        "id": "1zzwSSLkv9Vq",
        "outputId": "c16362bd-763d-426f-ea0b-a17497c6ae5c"
      },
      "execution_count": 6,
      "outputs": [
        {
          "output_type": "display_data",
          "data": {
            "text/plain": [
              "<IPython.core.display.HTML object>"
            ],
            "text/html": [
              "\n",
              "     <input type=\"file\" id=\"files-5186814d-bcb8-4f02-9f25-cec1b052befe\" name=\"files[]\" multiple disabled\n",
              "        style=\"border:none\" />\n",
              "     <output id=\"result-5186814d-bcb8-4f02-9f25-cec1b052befe\">\n",
              "      Upload widget is only available when the cell has been executed in the\n",
              "      current browser session. Please rerun this cell to enable.\n",
              "      </output>\n",
              "      <script src=\"/nbextensions/google.colab/files.js\"></script> "
            ]
          },
          "metadata": {}
        },
        {
          "output_type": "stream",
          "name": "stdout",
          "text": [
            "Saving college_2.csv to college_2.csv\n"
          ]
        }
      ]
    },
    {
      "cell_type": "code",
      "source": [
        "url=(\"college_1.csv\")\n",
        "df1=pd.read_csv(url)\n",
        "print(df1.head(10))"
      ],
      "metadata": {
        "colab": {
          "base_uri": "https://localhost:8080/"
        },
        "id": "l0am_p1AwWWy",
        "outputId": "e7744cbf-1f1f-4359-aa90-bc4e538100c5"
      },
      "execution_count": 8,
      "outputs": [
        {
          "output_type": "stream",
          "name": "stdout",
          "text": [
            "                   Name  python  mysql  Previous Geekions  CodeKata Score  \\\n",
            "0             A.Dharani    82.0   20.0              24500           24500   \n",
            "1           V.JEEVITHA     82.0   20.0              21740           21740   \n",
            "2           HEMAVATHI.R   100.0  100.0              19680           19680   \n",
            "3           Mugunthan S   100.0   47.0              10610           10610   \n",
            "4           Sathammai.S   100.0    8.0               8980            8980   \n",
            "5          NIVEESHWAR S   100.0    0.0               8200            8200   \n",
            "6         KALAIARASAN K    85.0   47.0               7750            7880   \n",
            "7  MOHAMED ZUBAIR AHMED    82.0    4.0               7020            7020   \n",
            "8            J.SUGANTHI    27.0   50.0               5860            5860   \n",
            "9          thamizhpaana    29.0    0.0               5500            5500   \n",
            "\n",
            "                                  Department  Rising  \n",
            "0           Computer Science and Engineering       0  \n",
            "1           Computer Science and Engineering       0  \n",
            "2           Computer Science and Engineering       0  \n",
            "3           Computer Science and Engineering       0  \n",
            "4           Computer Science and Engineering       0  \n",
            "5           Computer Science and Engineering       0  \n",
            "6  Electronics and Communication Engineering     130  \n",
            "7           Computer Science and Engineering       0  \n",
            "8  Electronics and Communication Engineering       0  \n",
            "9           Computer Science and Engineering       0  \n"
          ]
        }
      ]
    },
    {
      "cell_type": "code",
      "source": [
        "import io\n",
        "df2 = pd.read_csv(io.BytesIO(uploaded['college_2.csv']))\n"
      ],
      "metadata": {
        "id": "MO4LKYvuw2xp"
      },
      "execution_count": 9,
      "outputs": []
    },
    {
      "cell_type": "code",
      "source": [
        "print(\"\\t\\tcollege_1.csv\\n\\n\",df1)"
      ],
      "metadata": {
        "colab": {
          "base_uri": "https://localhost:8080/"
        },
        "id": "FwVOkOSZxIUf",
        "outputId": "8f845b15-9f40-4db1-e0b4-d37ac8892522"
      },
      "execution_count": 10,
      "outputs": [
        {
          "output_type": "stream",
          "name": "stdout",
          "text": [
            "\t\tcollege_1.csv\n",
            "\n",
            "               Name  python  mysql  Previous Geekions  CodeKata Score  \\\n",
            "0        A.Dharani    82.0   20.0              24500           24500   \n",
            "1      V.JEEVITHA     82.0   20.0              21740           21740   \n",
            "2      HEMAVATHI.R   100.0  100.0              19680           19680   \n",
            "3      Mugunthan S   100.0   47.0              10610           10610   \n",
            "4      Sathammai.S   100.0    8.0               8980            8980   \n",
            "..             ...     ...    ...                ...             ...   \n",
            "79    KarthikeyanS    45.0    0.0                  0               0   \n",
            "80        BARATH.P    29.0    0.0                  0               0   \n",
            "81   N.Ajith kumar    82.0    0.0                  0               0   \n",
            "82    mohamed nabi     0.0    0.0                  0               0   \n",
            "83  yaser ahamed.A     0.0   27.0                  0               0   \n",
            "\n",
            "                                Department  Rising  \n",
            "0         Computer Science and Engineering       0  \n",
            "1         Computer Science and Engineering       0  \n",
            "2         Computer Science and Engineering       0  \n",
            "3         Computer Science and Engineering       0  \n",
            "4         Computer Science and Engineering       0  \n",
            "..                                     ...     ...  \n",
            "79  Electronics and Electrical Engineering       0  \n",
            "80  Electronics and Electrical Engineering       0  \n",
            "81  Electronics and Electrical Engineering       0  \n",
            "82  Electronics and Electrical Engineering       0  \n",
            "83  Electronics and Electrical Engineering       0  \n",
            "\n",
            "[84 rows x 7 columns]\n"
          ]
        }
      ]
    },
    {
      "cell_type": "code",
      "source": [
        "print(\"\\t\\tcollege_2.csv\\n\",df2)"
      ],
      "metadata": {
        "colab": {
          "base_uri": "https://localhost:8080/"
        },
        "id": "7lP4a2Pexfh0",
        "outputId": "c739da67-665f-4fa2-fbdc-b394140006ab"
      },
      "execution_count": 11,
      "outputs": [
        {
          "output_type": "stream",
          "name": "stdout",
          "text": [
            "\t\tcollege_2.csv\n",
            "                       Name  python  python_en  mysql  computational_thinking  \\\n",
            "0            ASHOK KUMAR K     100          0     31                       9   \n",
            "1                  Chandru       0         20      0                       0   \n",
            "2        Ganesh Ramkumar R      -1         55     24                       6   \n",
            "3          Bodipudi Harini      -1          0     35                      -1   \n",
            "4                VIINU V P      -1        100     24                      -1   \n",
            "5               Poojitha Y       0         78     35                       0   \n",
            "6   Gowtham Chandrasekaran      -1          0      0                       3   \n",
            "7                Gowtham R      -1         60      4                       6   \n",
            "8                 shifak N      58          0      0                       0   \n",
            "9                  Balaji       -1        100     20                       0   \n",
            "10                Rushitha      -1         15     62                       9   \n",
            "11    Balaraman Muthupandi      -1          9      0                       0   \n",
            "12                JPradhap     100          0      0                       0   \n",
            "13           SRIRAMKUMAR B      -1          0      0                       0   \n",
            "14               Praneetha      -1         23    100                      -1   \n",
            "15             Rahul Raj K      -1          0      0                       0   \n",
            "16                 Guhan S      -1         72     35                      39   \n",
            "17            Suryarajan S      -1         63     31                       0   \n",
            "18          Narasimhan Y L      -1         -1      0                       0   \n",
            "19            Leelakrishna      -1          6      4                       0   \n",
            "20          PremsagarReddy      -1         20      0                       0   \n",
            "21               pradeeban      16         20     24                       0   \n",
            "22             santhoshini      -1         43      0                       0   \n",
            "23              MUKESH S M      -1         46      0                       0   \n",
            "24           P.GOVARDHANAN      -1         40      0                      -1   \n",
            "25            SHAIK DANISH      -1         43      0                       0   \n",
            "26               sridhar.s      -1         52      0                       0   \n",
            "27       Vimalesh Fernando      -1          0      0                       0   \n",
            "28           M.Karthikeyan      -1          0      4                       6   \n",
            "29               Abishak s      -1         55     35                       6   \n",
            "30           praveen raj j      24         -1      0                       0   \n",
            "31              AMARNATH D      -1         52     12                      -1   \n",
            "32                    bala      32         49      0                      -1   \n",
            "33                    XY Z      -1         20     -1                      -1   \n",
            "34               Hariharan      -1         -1     -1                       0   \n",
            "\n",
            "    Previous Geekions  CodeKata Score  \\\n",
            "0               19400           19400   \n",
            "1               14150           14490   \n",
            "2                8790           10790   \n",
            "3               10040           10040   \n",
            "4                9150            9150   \n",
            "5                7210            8970   \n",
            "6                7250            8950   \n",
            "7                8650            8650   \n",
            "8                5180            8320   \n",
            "9                6170            8160   \n",
            "10               7470            8090   \n",
            "11               7670            8050   \n",
            "12               7340            8030   \n",
            "13               6400            7940   \n",
            "14               7170            7730   \n",
            "15               6280            7640   \n",
            "16               7310            7630   \n",
            "17               6710            7550   \n",
            "18               4800            6800   \n",
            "19               5300            6640   \n",
            "20               5290            6290   \n",
            "21               6060            6090   \n",
            "22               3910            5740   \n",
            "23               5200            5200   \n",
            "24               5050            5050   \n",
            "25               4050            4820   \n",
            "26               3860            4440   \n",
            "27               4170            4170   \n",
            "28               4020            4020   \n",
            "29               3220            3220   \n",
            "30               2380            2380   \n",
            "31               1890            1890   \n",
            "32               1720            1720   \n",
            "33                  0               0   \n",
            "34                  0               0   \n",
            "\n",
            "                                   Department  Rising  \n",
            "0      Electronics and Electrical Engineering       0  \n",
            "1            Computer Science and Engineering     340  \n",
            "2            Computer Science and Engineering    2000  \n",
            "3   Electronics and Communication Engineering       0  \n",
            "4      Electronics and Electrical Engineering       0  \n",
            "5            Computer Science and Engineering    1760  \n",
            "6            Computer Science and Engineering    1700  \n",
            "7   Electronics and Communication Engineering       0  \n",
            "8      Electronics and Electrical Engineering    3140  \n",
            "9      Electronics and Electrical Engineering    1990  \n",
            "10           Computer Science and Engineering     620  \n",
            "11           Computer Science and Engineering     380  \n",
            "12     Electronics and Electrical Engineering     690  \n",
            "13           Computer Science and Engineering    1540  \n",
            "14  Electronics and Communication Engineering     560  \n",
            "15           Computer Science and Engineering    1360  \n",
            "16  Electronics and Communication Engineering     320  \n",
            "17           Computer Science and Engineering     840  \n",
            "18           Computer Science and Engineering    2000  \n",
            "19           Computer Science and Engineering    1340  \n",
            "20           Computer Science and Engineering    1000  \n",
            "21           Computer Science and Engineering      30  \n",
            "22           Computer Science and Engineering    1830  \n",
            "23           Computer Science and Engineering       0  \n",
            "24  Electronics and Communication Engineering       0  \n",
            "25           Computer Science and Engineering     770  \n",
            "26           Computer Science and Engineering     580  \n",
            "27           Computer Science and Engineering       0  \n",
            "28           Computer Science and Engineering       0  \n",
            "29  Electronics and Communication Engineering       0  \n",
            "30           Computer Science and Engineering       0  \n",
            "31  Electronics and Communication Engineering       0  \n",
            "32  Electronics and Communication Engineering       0  \n",
            "33           Computer Science and Engineering       0  \n",
            "34           Computer Science and Engineering       0  \n"
          ]
        }
      ]
    },
    {
      "cell_type": "markdown",
      "metadata": {
        "id": "k_vZRbIduG5w"
      },
      "source": [
        "###### merge those two csv files (after getting as dataframes, get them as a single dataframe)"
      ]
    },
    {
      "cell_type": "code",
      "execution_count": 12,
      "metadata": {
        "id": "nmbQURryuG50",
        "colab": {
          "base_uri": "https://localhost:8080/"
        },
        "outputId": "c58d9ec7-51ca-435a-b0be-c023bde9cc1a"
      },
      "outputs": [
        {
          "output_type": "stream",
          "name": "stdout",
          "text": [
            "\t\t\t#### merging two csv files  ####\n",
            "\n",
            "              Name  python  mysql  Previous Geekions  CodeKata Score  \\\n",
            "0       A.Dharani    82.0   20.0              24500           24500   \n",
            "1     V.JEEVITHA     82.0   20.0              21740           21740   \n",
            "2     HEMAVATHI.R   100.0  100.0              19680           19680   \n",
            "3     Mugunthan S   100.0   47.0              10610           10610   \n",
            "4     Sathammai.S   100.0    8.0               8980            8980   \n",
            "..            ...     ...    ...                ...             ...   \n",
            "30  praveen raj j    24.0    0.0               2380            2380   \n",
            "31     AMARNATH D    -1.0   12.0               1890            1890   \n",
            "32           bala    32.0    0.0               1720            1720   \n",
            "33           XY Z    -1.0   -1.0                  0               0   \n",
            "34      Hariharan    -1.0   -1.0                  0               0   \n",
            "\n",
            "                                   Department  Rising  python_en  \\\n",
            "0            Computer Science and Engineering       0        NaN   \n",
            "1            Computer Science and Engineering       0        NaN   \n",
            "2            Computer Science and Engineering       0        NaN   \n",
            "3            Computer Science and Engineering       0        NaN   \n",
            "4            Computer Science and Engineering       0        NaN   \n",
            "..                                        ...     ...        ...   \n",
            "30           Computer Science and Engineering       0       -1.0   \n",
            "31  Electronics and Communication Engineering       0       52.0   \n",
            "32  Electronics and Communication Engineering       0       49.0   \n",
            "33           Computer Science and Engineering       0       20.0   \n",
            "34           Computer Science and Engineering       0       -1.0   \n",
            "\n",
            "    computational_thinking  \n",
            "0                      NaN  \n",
            "1                      NaN  \n",
            "2                      NaN  \n",
            "3                      NaN  \n",
            "4                      NaN  \n",
            "..                     ...  \n",
            "30                     0.0  \n",
            "31                    -1.0  \n",
            "32                    -1.0  \n",
            "33                    -1.0  \n",
            "34                     0.0  \n",
            "\n",
            "[119 rows x 9 columns]\n"
          ]
        }
      ],
      "source": [
        "merge=[df1,df2]\n",
        "df=pd.concat(merge)\n",
        "print(\"\\t\\t\\t#### merging two csv files  ####\\n\\n\",df)"
      ]
    },
    {
      "cell_type": "markdown",
      "metadata": {
        "id": "NzT5ZLpzuG51"
      },
      "source": [
        "###### Take each csv file , split that csv file into multiple categories (example csv files are added in the repo) \n"
      ]
    },
    {
      "cell_type": "markdown",
      "metadata": {
        "id": "SyQX1hCwuG52"
      },
      "source": [
        "###### consider if the codekata score exceeds 15000 points(present week) then make a csv on those observations as Exceeded expectations.csv\n"
      ]
    },
    {
      "cell_type": "code",
      "source": [
        "import pandas as pd\n",
        "\n",
        "# read DataFrame\n",
        "data = pd.read_csv(\"college_2.csv\")\n",
        "\n",
        "exceed = data[data['CodeKata Score'] > 15000]\n",
        "\n",
        "exceed.to_csv('Exceeded_Expectations.csv', index=False)\n",
        "\n",
        "print(pd.read_csv(\"Exceeded_Expectations.csv\"))"
      ],
      "metadata": {
        "id": "Ey2LeT9Dyg2b",
        "colab": {
          "base_uri": "https://localhost:8080/"
        },
        "outputId": "84b28c6c-f630-47a2-860d-5acbec54f547"
      },
      "execution_count": 16,
      "outputs": [
        {
          "output_type": "stream",
          "name": "stdout",
          "text": [
            "            Name  python  python_en  mysql  computational_thinking  \\\n",
            "0  ASHOK KUMAR K     100          0     31                       9   \n",
            "\n",
            "   Previous Geekions  CodeKata Score                              Department  \\\n",
            "0              19400           19400  Electronics and Electrical Engineering   \n",
            "\n",
            "   Rising  \n",
            "0       0  \n"
          ]
        }
      ]
    },
    {
      "cell_type": "code",
      "source": [
        "import pandas as pd\n",
        "\n",
        "# read DataFrame\n",
        "data = pd.read_csv(\"college_1.csv\")\n",
        "\n",
        "exceed = data[data['CodeKata Score'] > 15000]\n",
        "\n",
        "exceed.to_csv('Exceeded_Expectations.csv', index=False)\n",
        "\n",
        "print(pd.read_csv(\"Exceeded_Expectations.csv\")"
      ],
      "metadata": {
        "colab": {
          "base_uri": "https://localhost:8080/"
        },
        "outputId": "d75467c4-cdfb-43c9-b1a6-6dea247d129b",
        "id": "1C-QmJ9Z5FIF"
      },
      "execution_count": null,
      "outputs": [
        {
          "output_type": "stream",
          "name": "stdout",
          "text": [
            "          Name  python  mysql  Previous Geekions  CodeKata Score  \\\n",
            "0    A.Dharani    82.0   20.0              24500           24500   \n",
            "1  V.JEEVITHA     82.0   20.0              21740           21740   \n",
            "2  HEMAVATHI.R   100.0  100.0              19680           19680   \n",
            "\n",
            "                         Department  Rising  \n",
            "0  Computer Science and Engineering       0  \n",
            "1  Computer Science and Engineering       0  \n",
            "2  Computer Science and Engineering       0  \n"
          ]
        }
      ]
    },
    {
      "cell_type": "markdown",
      "metadata": {
        "id": "g_aPcb7JuG53"
      },
      "source": [
        "###### if  10000<codekata score<15000   (Reached_expectations.csv)\n",
        "\n",
        "[link text](https:// [link text](https://))"
      ]
    },
    {
      "cell_type": "code",
      "source": [
        "import pandas as pd\n",
        "\n",
        "# read DataFrame\n",
        "data = pd.read_csv(\"college_1.csv\")\n",
        "\n",
        "Reach = data[data['CodeKata Score'].between(10000,15000)]\n",
        "\n",
        "\n",
        "Reach.to_csv('Reached_expectations.csv', index=False)\n",
        "\n",
        "print(pd.read_csv(\"Reached_expectations.csv\"))"
      ],
      "metadata": {
        "colab": {
          "base_uri": "https://localhost:8080/"
        },
        "id": "qJl9E21y5mz4",
        "outputId": "cf953d0e-295a-4f71-bc16-66ffcf00b3c0"
      },
      "execution_count": 22,
      "outputs": [
        {
          "output_type": "stream",
          "name": "stdout",
          "text": [
            "          Name  python  mysql  Previous Geekions  CodeKata Score  \\\n",
            "0  Mugunthan S   100.0   47.0              10610           10610   \n",
            "\n",
            "                         Department  Rising  \n",
            "0  Computer Science and Engineering       0  \n"
          ]
        }
      ]
    },
    {
      "cell_type": "code",
      "source": [
        "import pandas as pd\n",
        "\n",
        "# read DataFrame\n",
        "data = pd.read_csv(\"college_2.csv\")\n",
        "\n",
        "Reach = data[data['CodeKata Score'].between(10000,15000)]\n",
        "\n",
        "\n",
        "Reach.to_csv('Reached_expectations.csv', index=False)\n",
        "\n",
        "print(pd.read_csv(\"Reached_expectations.csv\"))"
      ],
      "metadata": {
        "colab": {
          "base_uri": "https://localhost:8080/"
        },
        "id": "sN053Ko07Scv",
        "outputId": "2dcadcb3-1bc1-4788-c7cf-8c26178807ec"
      },
      "execution_count": 23,
      "outputs": [
        {
          "output_type": "stream",
          "name": "stdout",
          "text": [
            "                Name  python  python_en  mysql  computational_thinking  \\\n",
            "0            Chandru       0         20      0                       0   \n",
            "1  Ganesh Ramkumar R      -1         55     24                       6   \n",
            "2    Bodipudi Harini      -1          0     35                      -1   \n",
            "\n",
            "   Previous Geekions  CodeKata Score  \\\n",
            "0              14150           14490   \n",
            "1               8790           10790   \n",
            "2              10040           10040   \n",
            "\n",
            "                                  Department  Rising  \n",
            "0           Computer Science and Engineering     340  \n",
            "1           Computer Science and Engineering    2000  \n",
            "2  Electronics and Communication Engineering       0  \n"
          ]
        }
      ]
    },
    {
      "cell_type": "markdown",
      "metadata": {
        "id": "1l-GBe_RuG55"
      },
      "source": [
        "###### if  7000<codekata score<10000   (Needs_Improvement.csv)\n"
      ]
    },
    {
      "cell_type": "code",
      "source": [
        "import pandas as pd\n",
        "\n",
        "# read DataFrame\n",
        "data = pd.read_csv(\"college_1.csv\")\n",
        "Needs = data[data['CodeKata Score'].between(7000,10000)]\n",
        "\n",
        "\n",
        "Needs.to_csv('Needs_Improvement.csv', index=False)\n",
        "\n",
        "print(pd.read_csv(\"Needs_Improvement.csv\"))"
      ],
      "metadata": {
        "colab": {
          "base_uri": "https://localhost:8080/"
        },
        "id": "Tdwj1acY7Hur",
        "outputId": "0ec576da-afa3-41a9-f635-bf9126be3abf"
      },
      "execution_count": 24,
      "outputs": [
        {
          "output_type": "stream",
          "name": "stdout",
          "text": [
            "                   Name  python  mysql  Previous Geekions  CodeKata Score  \\\n",
            "0           Sathammai.S   100.0    8.0               8980            8980   \n",
            "1          NIVEESHWAR S   100.0    0.0               8200            8200   \n",
            "2         KALAIARASAN K    85.0   47.0               7750            7880   \n",
            "3  MOHAMED ZUBAIR AHMED    82.0    4.0               7020            7020   \n",
            "\n",
            "                                  Department  Rising  \n",
            "0           Computer Science and Engineering       0  \n",
            "1           Computer Science and Engineering       0  \n",
            "2  Electronics and Communication Engineering     130  \n",
            "3           Computer Science and Engineering       0  \n"
          ]
        }
      ]
    },
    {
      "cell_type": "code",
      "source": [
        "import pandas as pd\n",
        "\n",
        "# read DataFrame\n",
        "data = pd.read_csv(\"college_2.csv\")\n",
        "Needs = data[data['CodeKata Score'].between(7000,10000)]\n",
        "\n",
        "\n",
        "Needs.to_csv('Needs_Improvement.csv', index=False)\n",
        "\n",
        "print(pd.read_csv(\"Needs_Improvement.csv\"))"
      ],
      "metadata": {
        "colab": {
          "base_uri": "https://localhost:8080/"
        },
        "id": "Tcwg-Mop7wHp",
        "outputId": "40056b28-9557-4ed9-c57f-6183bf2075f9"
      },
      "execution_count": 25,
      "outputs": [
        {
          "output_type": "stream",
          "name": "stdout",
          "text": [
            "                      Name  python  python_en  mysql  computational_thinking  \\\n",
            "0                VIINU V P      -1        100     24                      -1   \n",
            "1               Poojitha Y       0         78     35                       0   \n",
            "2   Gowtham Chandrasekaran      -1          0      0                       3   \n",
            "3                Gowtham R      -1         60      4                       6   \n",
            "4                 shifak N      58          0      0                       0   \n",
            "5                  Balaji       -1        100     20                       0   \n",
            "6                 Rushitha      -1         15     62                       9   \n",
            "7     Balaraman Muthupandi      -1          9      0                       0   \n",
            "8                 JPradhap     100          0      0                       0   \n",
            "9            SRIRAMKUMAR B      -1          0      0                       0   \n",
            "10               Praneetha      -1         23    100                      -1   \n",
            "11             Rahul Raj K      -1          0      0                       0   \n",
            "12                 Guhan S      -1         72     35                      39   \n",
            "13            Suryarajan S      -1         63     31                       0   \n",
            "\n",
            "    Previous Geekions  CodeKata Score  \\\n",
            "0                9150            9150   \n",
            "1                7210            8970   \n",
            "2                7250            8950   \n",
            "3                8650            8650   \n",
            "4                5180            8320   \n",
            "5                6170            8160   \n",
            "6                7470            8090   \n",
            "7                7670            8050   \n",
            "8                7340            8030   \n",
            "9                6400            7940   \n",
            "10               7170            7730   \n",
            "11               6280            7640   \n",
            "12               7310            7630   \n",
            "13               6710            7550   \n",
            "\n",
            "                                   Department  Rising  \n",
            "0      Electronics and Electrical Engineering       0  \n",
            "1            Computer Science and Engineering    1760  \n",
            "2            Computer Science and Engineering    1700  \n",
            "3   Electronics and Communication Engineering       0  \n",
            "4      Electronics and Electrical Engineering    3140  \n",
            "5      Electronics and Electrical Engineering    1990  \n",
            "6            Computer Science and Engineering     620  \n",
            "7            Computer Science and Engineering     380  \n",
            "8      Electronics and Electrical Engineering     690  \n",
            "9            Computer Science and Engineering    1540  \n",
            "10  Electronics and Communication Engineering     560  \n",
            "11           Computer Science and Engineering    1360  \n",
            "12  Electronics and Communication Engineering     320  \n",
            "13           Computer Science and Engineering     840  \n"
          ]
        }
      ]
    },
    {
      "cell_type": "markdown",
      "metadata": {
        "id": "Z0TUxBjJuG55"
      },
      "source": [
        "###### if  codekate score < 7000        (Unsatisfactory.csv)"
      ]
    },
    {
      "cell_type": "code",
      "execution_count": 26,
      "metadata": {
        "id": "2ONAbOOMuG56",
        "colab": {
          "base_uri": "https://localhost:8080/"
        },
        "outputId": "166de0c2-40c7-41e0-f633-706e54834307"
      },
      "outputs": [
        {
          "output_type": "stream",
          "name": "stdout",
          "text": [
            "               Name  python  mysql  Previous Geekions  CodeKata Score  \\\n",
            "0        J.SUGANTHI    27.0  50.00               5860            5860   \n",
            "1      thamizhpaana    29.0   0.00               5500            5500   \n",
            "2   Iyappan Samiraj    50.0  24.00               5400            5400   \n",
            "3      Ponniyamma.R   100.0  11.25               5380            5380   \n",
            "4         SABAPATHI   100.0   0.00               5280            5280   \n",
            "..              ...     ...    ...                ...             ...   \n",
            "71     KarthikeyanS    45.0   0.00                  0               0   \n",
            "72         BARATH.P    29.0   0.00                  0               0   \n",
            "73    N.Ajith kumar    82.0   0.00                  0               0   \n",
            "74     mohamed nabi     0.0   0.00                  0               0   \n",
            "75   yaser ahamed.A     0.0  27.00                  0               0   \n",
            "\n",
            "                                   Department  Rising  \n",
            "0   Electronics and Communication Engineering       0  \n",
            "1            Computer Science and Engineering       0  \n",
            "2   Electronics and Communication Engineering       0  \n",
            "3            Computer Science and Engineering       0  \n",
            "4            Computer Science and Engineering       0  \n",
            "..                                        ...     ...  \n",
            "71     Electronics and Electrical Engineering       0  \n",
            "72     Electronics and Electrical Engineering       0  \n",
            "73     Electronics and Electrical Engineering       0  \n",
            "74     Electronics and Electrical Engineering       0  \n",
            "75     Electronics and Electrical Engineering       0  \n",
            "\n",
            "[76 rows x 7 columns]\n"
          ]
        }
      ],
      "source": [
        "import pandas as pd\n",
        "\n",
        "# read DataFrame\n",
        "data = pd.read_csv(\"college_1.csv\")\n",
        "Not = data[data['CodeKata Score'] < 7000]\n",
        "\n",
        "\n",
        "Not.to_csv('Unsatisfactory.csv', index=False)\n",
        "\n",
        "print(pd.read_csv(\"Unsatisfactory.csv\"))"
      ]
    },
    {
      "cell_type": "code",
      "execution_count": 27,
      "metadata": {
        "id": "QsdP8R2kuG57",
        "colab": {
          "base_uri": "https://localhost:8080/"
        },
        "outputId": "623ccfb5-e7e1-4000-8fa9-99ceaa7f37ab"
      },
      "outputs": [
        {
          "output_type": "stream",
          "name": "stdout",
          "text": [
            "                 Name  python  python_en  mysql  computational_thinking  \\\n",
            "0      Narasimhan Y L      -1         -1      0                       0   \n",
            "1        Leelakrishna      -1          6      4                       0   \n",
            "2      PremsagarReddy      -1         20      0                       0   \n",
            "3           pradeeban      16         20     24                       0   \n",
            "4         santhoshini      -1         43      0                       0   \n",
            "5          MUKESH S M      -1         46      0                       0   \n",
            "6       P.GOVARDHANAN      -1         40      0                      -1   \n",
            "7        SHAIK DANISH      -1         43      0                       0   \n",
            "8           sridhar.s      -1         52      0                       0   \n",
            "9   Vimalesh Fernando      -1          0      0                       0   \n",
            "10      M.Karthikeyan      -1          0      4                       6   \n",
            "11          Abishak s      -1         55     35                       6   \n",
            "12      praveen raj j      24         -1      0                       0   \n",
            "13         AMARNATH D      -1         52     12                      -1   \n",
            "14               bala      32         49      0                      -1   \n",
            "15               XY Z      -1         20     -1                      -1   \n",
            "16          Hariharan      -1         -1     -1                       0   \n",
            "\n",
            "    Previous Geekions  CodeKata Score  \\\n",
            "0                4800            6800   \n",
            "1                5300            6640   \n",
            "2                5290            6290   \n",
            "3                6060            6090   \n",
            "4                3910            5740   \n",
            "5                5200            5200   \n",
            "6                5050            5050   \n",
            "7                4050            4820   \n",
            "8                3860            4440   \n",
            "9                4170            4170   \n",
            "10               4020            4020   \n",
            "11               3220            3220   \n",
            "12               2380            2380   \n",
            "13               1890            1890   \n",
            "14               1720            1720   \n",
            "15                  0               0   \n",
            "16                  0               0   \n",
            "\n",
            "                                   Department  Rising  \n",
            "0            Computer Science and Engineering    2000  \n",
            "1            Computer Science and Engineering    1340  \n",
            "2            Computer Science and Engineering    1000  \n",
            "3            Computer Science and Engineering      30  \n",
            "4            Computer Science and Engineering    1830  \n",
            "5            Computer Science and Engineering       0  \n",
            "6   Electronics and Communication Engineering       0  \n",
            "7            Computer Science and Engineering     770  \n",
            "8            Computer Science and Engineering     580  \n",
            "9            Computer Science and Engineering       0  \n",
            "10           Computer Science and Engineering       0  \n",
            "11  Electronics and Communication Engineering       0  \n",
            "12           Computer Science and Engineering       0  \n",
            "13  Electronics and Communication Engineering       0  \n",
            "14  Electronics and Communication Engineering       0  \n",
            "15           Computer Science and Engineering       0  \n",
            "16           Computer Science and Engineering       0  \n"
          ]
        }
      ],
      "source": [
        "import pandas as pd\n",
        "\n",
        "# read DataFrame\n",
        "data = pd.read_csv(\"college_2.csv\")\n",
        "Not = data[data['CodeKata Score'] < 7000]\n",
        "\n",
        "\n",
        "Not.to_csv('Unsatisfactory.csv', index=False)\n",
        "\n",
        "print(pd.read_csv(\"Unsatisfactory.csv\"))"
      ]
    },
    {
      "cell_type": "markdown",
      "metadata": {
        "id": "vI8hd7A3uG58"
      },
      "source": [
        "###### Average of previous week geekions vs this week geekions (i.e Previous Geekions vs CodeKata Score)"
      ]
    },
    {
      "cell_type": "code",
      "execution_count": 31,
      "metadata": {
        "id": "WwwTMxRTuG6h",
        "colab": {
          "base_uri": "https://localhost:8080/"
        },
        "outputId": "880e6f10-ab36-4971-b0c7-3aca12092868"
      },
      "outputs": [
        {
          "output_type": "stream",
          "name": "stdout",
          "text": [
            "Average of previous week geekions\n",
            " 3842.3529411764707\n"
          ]
        }
      ],
      "source": [
        "Avg_previous_geetcoin=df[\"Previous Geekions\"].mean()\n",
        "print(\"Average of previous week geekions\\n\",Avg_previous_geetcoin)"
      ]
    },
    {
      "cell_type": "code",
      "execution_count": 36,
      "metadata": {
        "colab": {
          "base_uri": "https://localhost:8080/"
        },
        "outputId": "ccc2d7a6-e55a-4370-9948-e2b8daa12da0",
        "id": "3bnbAGd9-RU9"
      },
      "outputs": [
        {
          "output_type": "stream",
          "name": "stdout",
          "text": [
            "Average of CodeKata Score \n",
            " 4051.764705882353\n"
          ]
        }
      ],
      "source": [
        "Avg_CodeKata_Score=df[\"CodeKata Score\"].mean()\n",
        "print(\"Average of CodeKata Score \\n\",Avg_CodeKata_Score)"
      ]
    },
    {
      "cell_type": "markdown",
      "metadata": {
        "id": "Buhozw7DuG6i"
      },
      "source": [
        "###### No of students participated "
      ]
    },
    {
      "cell_type": "code",
      "source": [
        "print(\"no of student participated in college_1\")\n",
        "print(df1.shape[0])"
      ],
      "metadata": {
        "colab": {
          "base_uri": "https://localhost:8080/"
        },
        "id": "mIFst4tZ_jU6",
        "outputId": "d538f7f8-062b-4bcb-fe21-c0f022210077"
      },
      "execution_count": 38,
      "outputs": [
        {
          "output_type": "stream",
          "name": "stdout",
          "text": [
            "no of student participated in college_1\n",
            "84\n"
          ]
        }
      ]
    },
    {
      "cell_type": "code",
      "source": [
        "print(\"no of student participated in college_2\")\n",
        "print(df2.shape[0])"
      ],
      "metadata": {
        "colab": {
          "base_uri": "https://localhost:8080/"
        },
        "id": "GAq3QxnoDbLW",
        "outputId": "ad4f9ff8-99c2-44cf-d71c-1d10fe7cb4a2"
      },
      "execution_count": 39,
      "outputs": [
        {
          "output_type": "stream",
          "name": "stdout",
          "text": [
            "no of student participated in college_2\n",
            "35\n"
          ]
        }
      ]
    },
    {
      "cell_type": "code",
      "execution_count": 40,
      "metadata": {
        "id": "lqirT88tuG6j",
        "colab": {
          "base_uri": "https://localhost:8080/"
        },
        "outputId": "7f996026-b907-4665-aa17-d4db27e4b9df"
      },
      "outputs": [
        {
          "output_type": "stream",
          "name": "stdout",
          "text": [
            "no of student participated in college_1 and college_2\n",
            "119\n"
          ]
        }
      ],
      "source": [
        "print(\"no of student participated in college_1 and college_2\")\n",
        "print(df.shape[0])"
      ]
    },
    {
      "cell_type": "markdown",
      "metadata": {
        "id": "XAHxALUmuG6m"
      },
      "source": [
        "###### #Average completion of python course or my_sql or python english or computational thinking"
      ]
    },
    {
      "cell_type": "code",
      "execution_count": 43,
      "metadata": {
        "id": "38kOU0TiuG6m",
        "colab": {
          "base_uri": "https://localhost:8080/"
        },
        "outputId": "8aeba933-a4c0-42ff-cc01-2a0be0bec3a3"
      },
      "outputs": [
        {
          "output_type": "stream",
          "name": "stdout",
          "text": [
            "Avg compltion of python course\n",
            "54.35294117647059\n",
            "Avg compltion of My_Sql\n",
            "23.5\n",
            "Avg compltion of python english\n",
            "29.65714285714286\n",
            "Avg compltion of omputational thinking\n",
            "2.2\n"
          ]
        }
      ],
      "source": [
        "print(\"Avg compltion of python course\")\n",
        "print(df[\"python\"].mean())\n",
        "print(\"Avg compltion of My_Sql\")\n",
        "print(df[\"mysql\"].mean())\n",
        "print(\"Avg compltion of python english\")\n",
        "print(df[\"python_en\"].mean())\n",
        "print(\"Avg compltion of omputational thinking\")\n",
        "print(df[\"computational_thinking\"].mean())\n",
        "\n",
        "\n"
      ]
    },
    {
      "cell_type": "markdown",
      "metadata": {
        "id": "nSfs4iZQuG6n"
      },
      "source": [
        "###### rising star of the week (top 3 candidate who performed well in that particular week)"
      ]
    },
    {
      "cell_type": "code",
      "execution_count": 55,
      "metadata": {
        "id": "m2LmCodRuG6o",
        "colab": {
          "base_uri": "https://localhost:8080/"
        },
        "outputId": "b51f8d43-fd90-49ea-bdd9-6def0e5c51cf"
      },
      "outputs": [
        {
          "output_type": "stream",
          "name": "stdout",
          "text": [
            "\t\t\tStar performer in candiates are:\n",
            "\n",
            "          Name  python  mysql  Previous Geekions  CodeKata Score  \\\n",
            "0    A.Dharani    82.0   20.0              24500           24500   \n",
            "1  V.JEEVITHA     82.0   20.0              21740           21740   \n",
            "2  HEMAVATHI.R   100.0  100.0              19680           19680   \n",
            "\n",
            "                         Department  Rising  python_en  computational_thinking  \n",
            "0  Computer Science and Engineering       0        NaN                     NaN  \n",
            "1  Computer Science and Engineering       0        NaN                     NaN  \n",
            "2  Computer Science and Engineering       0        NaN                     NaN  \n"
          ]
        }
      ],
      "source": [
        "print(\"\\t\\t\\tStar performer in candiates are:\\n\")\n",
        "Top_star=df.sort_values(\"CodeKata Score\", axis = 0, ascending = False)\n",
        "print(Top_star.head(3))\n"
      ]
    },
    {
      "cell_type": "markdown",
      "metadata": {
        "id": "pLOrsJyouG6p"
      },
      "source": [
        "###### Shining stars of the week (top 3 candidates who has highest geekions)"
      ]
    },
    {
      "cell_type": "code",
      "execution_count": 59,
      "metadata": {
        "id": "4zbDYchcuG6p",
        "colab": {
          "base_uri": "https://localhost:8080/"
        },
        "outputId": "ccf12fb1-9c8d-4e6b-f34c-56fc27c1b535"
      },
      "outputs": [
        {
          "output_type": "stream",
          "name": "stdout",
          "text": [
            "\t\t\tStar performer in last week candiates are:\n",
            "\n",
            "          Name  python  mysql  Previous Geekions  CodeKata Score  \\\n",
            "0    A.Dharani    82.0   20.0              24500           24500   \n",
            "1  V.JEEVITHA     82.0   20.0              21740           21740   \n",
            "2  HEMAVATHI.R   100.0  100.0              19680           19680   \n",
            "\n",
            "                         Department  Rising  python_en  computational_thinking  \n",
            "0  Computer Science and Engineering       0        NaN                     NaN  \n",
            "1  Computer Science and Engineering       0        NaN                     NaN  \n",
            "2  Computer Science and Engineering       0        NaN                     NaN  \n"
          ]
        }
      ],
      "source": [
        "print(\"\\t\\t\\tStar performer in last week candiates are:\\n\")\n",
        "Top_star=df.sort_values(\"Previous Geekions\", axis = 0, ascending = False)\n",
        "print(Top_star.head(3))\n"
      ]
    },
    {
      "cell_type": "code",
      "source": [
        "df[\"Department\"]"
      ],
      "metadata": {
        "colab": {
          "base_uri": "https://localhost:8080/"
        },
        "id": "sTfZIhzfwA_l",
        "outputId": "9b96c443-7359-418c-d7e0-b4e8b102e9e2"
      },
      "execution_count": 125,
      "outputs": [
        {
          "output_type": "execute_result",
          "data": {
            "text/plain": [
              "34          Computer Science and Engineering\n",
              "79    Electronics and Electrical Engineering\n",
              "80    Electronics and Electrical Engineering\n",
              "33          Computer Science and Engineering\n",
              "82    Electronics and Electrical Engineering\n",
              "                       ...                  \n",
              "1           Computer Science and Engineering\n",
              "0     Electronics and Electrical Engineering\n",
              "2           Computer Science and Engineering\n",
              "1           Computer Science and Engineering\n",
              "0           Computer Science and Engineering\n",
              "Name: Department, Length: 119, dtype: object"
            ]
          },
          "metadata": {},
          "execution_count": 125
        }
      ]
    },
    {
      "cell_type": "markdown",
      "metadata": {
        "id": "Jhm5KrUNuG6t"
      },
      "source": [
        "###### Department wise codekata performence (pie chart)"
      ]
    },
    {
      "cell_type": "code",
      "source": [
        "ce=df[df[\"Department\"]==\"Computer Science and Engineering\"]\n",
        "com=ce[\"CodeKata Score\"].mean()\n",
        "print(\"avg performance by Computer Science and Engineering\\n\",com)\n",
        "ee=df[df[\"Department\"]==\"Electronics and Electrical Engineering\"]\n",
        "ele=ee[\"CodeKata Score\"].mean()\n",
        "print(\"avg performance by Electronics and Electrical Engineering\\n\",ele)\n",
        "ec=df[df[\"Department\"]==\"Electronics and Communication Engineering\"]\n",
        "elecom=ec[\"CodeKata Score\"].mean()\n",
        "print(\"avg performance by Electronics and communication Engineering\\n\",elecom)"
      ],
      "metadata": {
        "colab": {
          "base_uri": "https://localhost:8080/"
        },
        "id": "WZ_OYxkivLuI",
        "outputId": "7da2b0b7-323d-4f8b-9204-0383d8a53c5a"
      },
      "execution_count": 132,
      "outputs": [
        {
          "output_type": "stream",
          "name": "stdout",
          "text": [
            "avg performance by Computer Science and Engineering\n",
            " 5079.761904761905\n",
            "avg performance by Electronics and Electrical Engineering\n",
            " 3164.705882352941\n",
            "avg performance by Electronics and communication Engineering\n",
            " 2777.8205128205127\n"
          ]
        }
      ]
    },
    {
      "cell_type": "code",
      "source": [
        "import matplotlib.pyplot as plt\n",
        "import numpy as np\n",
        "\n",
        "y =np.array([com,ele,elecom])\n",
        "label=[\"Computer Science and Engineering\",\"Electronics and Electrical Engineering\",\"Electronics and communication Engineering\"]\n",
        "plt.pie(y,labels=label)\n",
        "plt.legend()\n",
        "plt.show() "
      ],
      "metadata": {
        "colab": {
          "base_uri": "https://localhost:8080/",
          "height": 248
        },
        "id": "1YE1SD66xZM0",
        "outputId": "8f7003dc-bb8d-43fa-bb0b-15e7d1354271"
      },
      "execution_count": 134,
      "outputs": [
        {
          "output_type": "display_data",
          "data": {
            "text/plain": [
              "<Figure size 432x288 with 1 Axes>"
            ],
            "image/png": "[encoded data removed]"
          },
          "metadata": {}
        }
      ]
    },
    {
      "cell_type": "markdown",
      "metadata": {
        "id": "ndm77BLwuG6v"
      },
      "source": [
        "###### Department wise toppers (horizantal bar graph or any visual representations of your choice)"
      ]
    },
    {
      "cell_type": "code",
      "execution_count": 140,
      "metadata": {
        "id": "8BwYPZWguG6w",
        "colab": {
          "base_uri": "https://localhost:8080/",
          "height": 295
        },
        "outputId": "a791650a-ce52-4fdb-8098-4dd339dfb41b"
      },
      "outputs": [
        {
          "output_type": "display_data",
          "data": {
            "text/plain": [
              "<Figure size 432x288 with 1 Axes>"
            ],
            "image/png": "[encoded data removed]"
          },
          "metadata": {
            "needs_background": "light"
          }
        }
      ],
      "source": [
        "ce=df[df[\"Department\"]==\"Computer Science and Engineering\"]\n",
        "Top_star=ce.sort_values(\"CodeKata Score\", axis = 0, ascending = False).head(3)\n",
        "\n",
        "import matplotlib.pyplot as plt\n",
        "import numpy as np\n",
        "\n",
        "x = Top_star[\"Name\"]\n",
        "y = Top_star[\"CodeKata Score\"]\n",
        "plt.title('Top performance by Computer Science and Engineering')\n",
        "plt.xlabel('Name of student')\n",
        "plt.ylabel('Codekata Score')\n",
        "\n",
        "plt.bar(x,y)\n",
        "plt.show()"
      ]
    },
    {
      "cell_type": "code",
      "source": [
        "ee=df[df[\"Department\"]==\"Electronics and Electrical Engineering\"]\n",
        "Top_star=ee.sort_values(\"CodeKata Score\", axis = 0, ascending = False).head(3)\n",
        "\n",
        "import matplotlib.pyplot as plt\n",
        "import numpy as np\n",
        "\n",
        "x = Top_star[\"Name\"]\n",
        "y = Top_star[\"CodeKata Score\"]\n",
        "plt.title('Top performance by Electric Engineering')\n",
        "plt.xlabel('Name of student')\n",
        "plt.ylabel('Codekata Score')\n",
        "\n",
        "plt.bar(x,y)\n",
        "plt.show()"
      ],
      "metadata": {
        "colab": {
          "base_uri": "https://localhost:8080/",
          "height": 295
        },
        "id": "C-kfwbnD2Jdh",
        "outputId": "1b816f18-befa-4997-e1fe-78ddf077c509"
      },
      "execution_count": 142,
      "outputs": [
        {
          "output_type": "display_data",
          "data": {
            "text/plain": [
              "<Figure size 432x288 with 1 Axes>"
            ],
            "image/png": "[encoded data removed]"
          },
          "metadata": {
            "needs_background": "light"
          }
        }
      ]
    },
    {
      "cell_type": "code",
      "source": [
        "ec=df[df[\"Department\"]==\"Electronics and Communication Engineering\"]\n",
        "Top_star=ec.sort_values(\"CodeKata Score\", axis = 0, ascending = False).head(3)\n",
        "\n",
        "import matplotlib.pyplot as plt\n",
        "import numpy as np\n",
        "\n",
        "x = Top_star[\"Name\"]\n",
        "y = Top_star[\"CodeKata Score\"]\n",
        "plt.title('Top performance by Electronics and Communication Engineering')\n",
        "plt.xlabel('Name of student')\n",
        "plt.ylabel('Codekata Score')\n",
        "\n",
        "plt.bar(x,y)\n",
        "plt.show()"
      ],
      "metadata": {
        "colab": {
          "base_uri": "https://localhost:8080/",
          "height": 295
        },
        "id": "cKhtmFW42LBm",
        "outputId": "d486729a-78f6-461f-f17b-07bcb665a40b"
      },
      "execution_count": 144,
      "outputs": [
        {
          "output_type": "display_data",
          "data": {
            "text/plain": [
              "<Figure size 432x288 with 1 Axes>"
            ],
            "image/png": "[encoded data removed]"
          },
          "metadata": {
            "needs_background": "light"
          }
        }
      ]
    }
  ],
  "metadata": {
    "kernelspec": {
      "display_name": "Python 3",
      "language": "python",
      "name": "python3"
    },
    "language_info": {
      "codemirror_mode": {
        "name": "ipython",
        "version": 3
      },
      "file_extension": ".py",
      "mimetype": "text/x-python",
      "name": "python",
      "nbconvert_exporter": "python",
      "pygments_lexer": "ipython3",
      "version": "3.8.3"
    },
    "colab": {
      "name": "Assessment2B.ipynb",
      "provenance": [],
      "include_colab_link": true
    }
  },
  "nbformat": 4,
  "nbformat_minor": 0
}