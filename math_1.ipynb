{
  "nbformat": 4,
  "nbformat_minor": 0,
  "metadata": {
    "colab": {
      "provenance": [],
      "authorship_tag": "ABX9TyOkRcF8jEUKA+0nmnORtZa0",
      "include_colab_link": true
    },
    "kernelspec": {
      "name": "python3",
      "display_name": "Python 3"
    },
    "language_info": {
      "name": "python"
    }
  },
  "cells": [
    {
      "cell_type": "markdown",
      "metadata": {
        "id": "view-in-github",
        "colab_type": "text"
      },
      "source": [
        "<a href=\"https://colab.research.google.com/github/omkarmohite123/omkarmohite123/blob/main/math_1.ipynb\" target=\"_parent\"><img src=\"https://colab.research.google.com/assets/colab-badge.svg\" alt=\"Open In Colab\"/></a>"
      ]
    },
    {
      "cell_type": "code",
      "source": [
        "\"\"\"\n",
        "Ram and Sita are playing a game. There are N rounds for the game and the results are tabulated in a table of dimensions N x N. A ‘0’ in the table implies that Ram has won the game, while a ‘1’ denotes that Sita has won the game.You must compute the number of times Ram and Sita have won the game, individually.\n",
        "\n",
        "Note : Elements in table can only be either 1 or 0.\n",
        "\n",
        " \n",
        "\n",
        " \n",
        "\n",
        "Input Description:\n",
        "First line contains two space separated integers M,N denoting the size of the 2d matrix . Then in the next lines are the space separated values of the matrix mat[ ] [ ] . Constraints: 1<=M,N<=50 ,0<=mat[][]<=1\n",
        "\n",
        "Output Description:\n",
        "The output will be the number of 0s and number of 1s, displayed separately.\n",
        "\n",
        "Sample Input :\n",
        "1 3\n",
        "1 1 1\n",
        "Sample Output :\n",
        "RAM: 0\n",
        "SITA: 3\n",
        "\n",
        "\"\"\"\n",
        "#35\n",
        "a,c=list(map(int,input().split()))\n",
        "b=[list(map(int,input().split())) for i in range(a)]\n",
        "ram=0\n",
        "sita=0\n",
        "for i in b:\n",
        "  for j in i:\n",
        "    if j==1:\n",
        "      sita=sita+1\n",
        "    elif j==0:\n",
        "      ram=ram+1\n",
        "print(\"RAM:\",int(ram))\n",
        "print(\"SITA:\",int(sita))"
      ],
      "metadata": {
        "colab": {
          "base_uri": "https://localhost:8080/"
        },
        "id": "vue6jjQUN0NK",
        "outputId": "d7784326-1e3f-4241-8a3f-12e607533625"
      },
      "execution_count": 1,
      "outputs": [
        {
          "output_type": "stream",
          "name": "stdout",
          "text": [
            "1 3\n",
            "1 1 1\n",
            "RAM: 0\n",
            "SITA: 3\n"
          ]
        }
      ]
    }
  ]
}