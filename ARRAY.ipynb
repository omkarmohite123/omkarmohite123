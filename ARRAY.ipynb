{
  "nbformat": 4,
  "nbformat_minor": 0,
  "metadata": {
    "colab": {
      "provenance": [],
      "authorship_tag": "ABX9TyMc/RMv1s1cRqedO8z7JunW",
      "include_colab_link": true
    },
    "kernelspec": {
      "name": "python3",
      "display_name": "Python 3"
    },
    "language_info": {
      "name": "python"
    }
  },
  "cells": [
    {
      "cell_type": "markdown",
      "metadata": {
        "id": "view-in-github",
        "colab_type": "text"
      },
      "source": [
        "<a href=\"https://colab.research.google.com/github/omkarmohite123/omkarmohite123/blob/main/ARRAY.ipynb\" target=\"_parent\"><img src=\"https://colab.research.google.com/assets/colab-badge.svg\" alt=\"Open In Colab\"/></a>"
      ]
    },
    {
      "cell_type": "code",
      "source": [
        "\"\"\"\n",
        "\n",
        "Varsha is a Machine learning scientist. She wants to apply a few ML algorithms on the dataset to do some research and for that, she wants to merge two given arrays and sort them in ascending order. You are an intern working under Varsha and she has asked for your help for the same. Given 2 arrays arr1[] and arr2[], find the union of both the arrays sorted in ascending order.  Note: Union of two arrays must have distinct elements.\n",
        "\n",
        " \n",
        "\n",
        "Input Description:\n",
        "Size of arr1[] followed by elements of arr1. Size of arr2[] followed by elements of arr2.\n",
        "\n",
        "Output Description:\n",
        "Union of arr1 and arr2 sorted in ascending order.\n",
        "\n",
        "Sample Input :\n",
        "2 \n",
        "87 78\n",
        "3\n",
        "1 2 3\n",
        "Sample Output :\n",
        "1 2 3 78 87\n",
        "\"\"\"\n",
        "a=int(input())\n",
        "b=list(map(int,input().split()))\n",
        "c=int(input())\n",
        "d=list(map(int,input().split()))\n",
        "for i in d:\n",
        "    b.append(i)\n",
        "j=set(b)\n",
        "s=list(j)\n",
        "k=sorted(s,reverse=False)\n",
        "print(*k)\n"
      ],
      "metadata": {
        "colab": {
          "base_uri": "https://localhost:8080/"
        },
        "id": "ld3BX43AwTRc",
        "outputId": "c8dd39a8-5e22-4934-bc04-5291f04c7f49"
      },
      "execution_count": 1,
      "outputs": [
        {
          "output_type": "stream",
          "name": "stdout",
          "text": [
            "2\n",
            "87 78\n",
            "3\n",
            "1 2 3\n",
            "1 2 3 78 87\n"
          ]
        }
      ]
    }
  ]
}