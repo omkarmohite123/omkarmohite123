{
  "nbformat": 4,
  "nbformat_minor": 0,
  "metadata": {
    "colab": {
      "provenance": [],
      "authorship_tag": "ABX9TyMho2WYqoELI9yvZzBXxvuT",
      "include_colab_link": true
    },
    "kernelspec": {
      "name": "python3",
      "display_name": "Python 3"
    },
    "language_info": {
      "name": "python"
    }
  },
  "cells": [
    {
      "cell_type": "markdown",
      "metadata": {
        "id": "view-in-github",
        "colab_type": "text"
      },
      "source": [
        "<a href=\"https://colab.research.google.com/github/omkarmohite123/omkarmohite123/blob/main/ARRAY.ipynb\" target=\"_parent\"><img src=\"https://colab.research.google.com/assets/colab-badge.svg\" alt=\"Open In Colab\"/></a>"
      ]
    },
    {
      "cell_type": "code",
      "source": [
        "\"\"\"\n",
        "\n",
        "Given an array of size N, find the minimum number of swaps required to sort the array.\n",
        "\n",
        "Input Description:\n",
        "Size of the array followed by the elements of the array\n",
        "\n",
        "Output Description:\n",
        "Minimum number of swaps required\n",
        "\n",
        "Sample Input :\n",
        "4\n",
        "4 3 2 1\n",
        "Sample Output :\n",
        "2\n",
        "\"\"\"\n",
        "\n",
        "\n",
        "def minSwap(arr, n):\t\n",
        "\tans = 0\n",
        "\ttemp = arr.copy()\n",
        "\th = {}\n",
        "\ttemp.sort()\n",
        "\tfor i in range(n):\n",
        "\t\th[arr[i]] = i\t\t\n",
        "\tinit = 0\n",
        "\tfor i in range(n):\n",
        "\t\tif (arr[i] != temp[i]):\n",
        "\t\t\tans += 1\n",
        "\t\t\tinit = arr[i]\n",
        "\t\t\tarr[i], arr[h[temp[i]]] = arr[h[temp[i]]], arr[i]\n",
        "\t\t\th[init] = h[temp[i]]\n",
        "\t\t\th[temp[i]] = i\t\t\t\n",
        "\treturn ans \n",
        "n=int(input())\n",
        "a=list(map(int,input().split()))\n",
        "\n",
        "print(minSwap(a, n))\n"
      ],
      "metadata": {
        "colab": {
          "base_uri": "https://localhost:8080/"
        },
        "id": "wLqAfjFUiRuh",
        "outputId": "7e7f8b33-38cb-418c-d607-44f5db39a6e6"
      },
      "execution_count": 1,
      "outputs": [
        {
          "output_type": "stream",
          "name": "stdout",
          "text": [
            "4\n",
            "4 3 2 1\n",
            "2\n"
          ]
        }
      ]
    }
  ]
}