{
  "nbformat": 4,
  "nbformat_minor": 0,
  "metadata": {
    "colab": {
      "provenance": [],
      "authorship_tag": "ABX9TyP0R8O9ni7bDIXczlPMPeLy",
      "include_colab_link": true
    },
    "kernelspec": {
      "name": "python3",
      "display_name": "Python 3"
    },
    "language_info": {
      "name": "python"
    }
  },
  "cells": [
    {
      "cell_type": "markdown",
      "metadata": {
        "id": "view-in-github",
        "colab_type": "text"
      },
      "source": [
        "<a href=\"https://colab.research.google.com/github/omkarmohite123/omkarmohite123/blob/main/queue.ipynb\" target=\"_parent\"><img src=\"https://colab.research.google.com/assets/colab-badge.svg\" alt=\"Open In Colab\"/></a>"
      ]
    },
    {
      "cell_type": "code",
      "source": [
        "\"\"\"\n",
        "There are n students in an institution. For each student you know the number of times he/she has participated in the ACM ICPC world programming championship. According to the ACM ICPCrules, each person can participate in the world championship at most 5 times. The head of the institution is recently gathering teams to participate in the world championship. Each team must consist of exactly three people, at that, any person cannot be a member of two ormore teams. What maximum number of teams can the head make if he wants each team to participate in the world championship with the same members at least k times?\n",
        "Input Size : N<=10000\n",
        "Example:\n",
        "INPUT\n",
        "5 2\n",
        "0 4 5 1 0\n",
        "OUTPUT\n",
        "1\n",
        "\n",
        "\"\"\"\n",
        "data = input().split()\n",
        "std_times = input().split()\n",
        "\n",
        "N, K = int(data[0]), int(data[1])\n",
        "std_times = sorted(list(map(int, std_times)))\n",
        "teams = 0\n",
        "i = 0\n",
        "while i < N :\n",
        "    if std_times[i] + K <= 5:\n",
        "        teams += 1\n",
        "    i += 1\n",
        "\n",
        "print(teams//3)\n",
        "\n"
      ],
      "metadata": {
        "colab": {
          "base_uri": "https://localhost:8080/"
        },
        "id": "UkG0AXpRWjb5",
        "outputId": "5fedff0e-7cd0-4a21-eb8d-8ebcffe998e0"
      },
      "execution_count": 1,
      "outputs": [
        {
          "output_type": "stream",
          "name": "stdout",
          "text": [
            "5 2\n",
            "0 4 5 1 0\n",
            "1\n"
          ]
        }
      ]
    }
  ]
}