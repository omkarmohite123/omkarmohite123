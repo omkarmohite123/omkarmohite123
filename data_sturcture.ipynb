{
  "nbformat": 4,
  "nbformat_minor": 0,
  "metadata": {
    "colab": {
      "provenance": [],
      "authorship_tag": "ABX9TyMDo6+3lrkNJKhEukAH48v/",
      "include_colab_link": true
    },
    "kernelspec": {
      "name": "python3",
      "display_name": "Python 3"
    },
    "language_info": {
      "name": "python"
    }
  },
  "cells": [
    {
      "cell_type": "markdown",
      "metadata": {
        "id": "view-in-github",
        "colab_type": "text"
      },
      "source": [
        "<a href=\"https://colab.research.google.com/github/omkarmohite123/omkarmohite123/blob/main/data_sturcture.ipynb\" target=\"_parent\"><img src=\"https://colab.research.google.com/assets/colab-badge.svg\" alt=\"Open In Colab\"/></a>"
      ]
    },
    {
      "cell_type": "code",
      "execution_count": 2,
      "metadata": {
        "colab": {
          "base_uri": "https://localhost:8080/"
        },
        "id": "XlW6YSesyAvW",
        "outputId": "ae6e03ba-b1e3-4a74-c096-5349d47f7065"
      },
      "outputs": [
        {
          "output_type": "stream",
          "name": "stdout",
          "text": [
            "(())\n",
            "yes\n"
          ]
        }
      ],
      "source": [
        "\"\"\"\n",
        "\n",
        "Given a string S consisting of only '(' and ')', print 'yes' if it is balanced otherwise print 'no'.\n",
        "Sample Testcase :\n",
        "INPUT\n",
        "(())\n",
        "OUTPUT\n",
        "yes\n",
        "\n",
        "\"\"\"\n",
        "#75\n",
        "def chek(a):\n",
        "  o=tuple(\"(\")\n",
        "  c=tuple(\")\")\n",
        "  map=dict(zip(o,c))\n",
        "  q=[]\n",
        "  for i in a:\n",
        "    if i in o:\n",
        "      q.append(map[i])\n",
        "    elif i in c:\n",
        "      if not q or i !=q.pop():\n",
        "        return \"unbalanced\"\n",
        "  if not q:\n",
        "    return \"balanced\"\n",
        "  else:\n",
        "    return \"unbalanced\"\n",
        "a=list(input())\n",
        "s=chek(a)\n",
        "if s==\"unbalanced\":\n",
        "   print(\"no\")\n",
        "else:\n",
        "   print(\"yes\")\n",
        "\n"
      ]
    }
  ]
}