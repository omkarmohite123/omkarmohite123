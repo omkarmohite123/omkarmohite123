{
  "nbformat": 4,
  "nbformat_minor": 0,
  "metadata": {
    "colab": {
      "name": "problem.ipynb",
      "provenance": [],
      "authorship_tag": "ABX9TyNPFR4bIdvAJYEZi575aug6",
      "include_colab_link": true
    },
    "kernelspec": {
      "name": "python3",
      "display_name": "Python 3"
    },
    "language_info": {
      "name": "python"
    }
  },
  "cells": [
    {
      "cell_type": "markdown",
      "metadata": {
        "id": "view-in-github",
        "colab_type": "text"
      },
      "source": [
        "<a href=\"https://colab.research.google.com/github/omkarmohite123/omkarmohite123/blob/main/problem%20which%20array%20is%20majestic.ipynb\" target=\"_parent\"><img src=\"https://colab.research.google.com/assets/colab-badge.svg\" alt=\"Open In Colab\"/></a>"
      ]
    },
    {
      "cell_type": "code",
      "execution_count": null,
      "metadata": {
        "id": "e3DuEQMgdQ1O"
      },
      "outputs": [],
      "source": [
        "Question::\n",
        "You are given given task is to print whether array is ‘majestic’ or not.A ‘majsetic’ array is an array whose sum of first three number is equal to last three number.\n",
        "\n",
        "Input Description:\n",
        "You are given a number ‘n’,Next line contains ‘n’ space separated\n",
        "\n",
        "Output Description:\n",
        "Print 1 if array is majestic and 0 if it is not\n",
        "\n",
        "Sample Input :\n",
        "7\n",
        "1 2 3 4 6 0 0\n",
        "Sample Output :\n",
        "1\n"
      ]
    },
    {
      "cell_type": "code",
      "source": [
        "#Ans::\n",
        "a=input()  #taking lenth input()\n",
        "b=list(map(int,input().split()))  #list of len input()\n",
        "c1=0  #first c1 will be zero\n",
        "d1=0  #d1 will be zero\n",
        "for i in b[0:3]: #take for loop\n",
        "  c1=c1+i  #adding i in c1 #adding first 3 element\n",
        "for j in b[-1:-4:-1]: #adding last 3 element\n",
        "  d1=d1+j #addin complete\n",
        "if c1==d1:  # first 3 num sum and last 3 number sum is equal called majestic\n",
        "  print(\"1\") #majestic\n",
        "else:\n",
        "  print(\"0\") #not majestic\n"
      ],
      "metadata": {
        "colab": {
          "base_uri": "https://localhost:8080/"
        },
        "id": "g-JB6chzdZ0M",
        "outputId": "911b920c-1283-48bc-9714-0cb8703c51f2"
      },
      "execution_count": 2,
      "outputs": [
        {
          "output_type": "stream",
          "name": "stdout",
          "text": [
            "7\n",
            "1 2 3 4 6 0 0\n",
            "1\n"
          ]
        }
      ]
    }
  ]
}