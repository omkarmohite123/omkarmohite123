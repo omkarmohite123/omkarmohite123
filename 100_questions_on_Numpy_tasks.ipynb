{
  "cells": [
    {
      "cell_type": "markdown",
      "metadata": {
        "id": "view-in-github",
        "colab_type": "text"
      },
      "source": [
        "<a href=\"https://colab.research.google.com/github/omkarmohite123/omkarmohite123/blob/main/100_questions_on_Numpy_tasks.ipynb\" target=\"_parent\"><img src=\"https://colab.research.google.com/assets/colab-badge.svg\" alt=\"Open In Colab\"/></a>"
      ]
    },
    {
      "cell_type": "markdown",
      "metadata": {
        "id": "LQYCMcBq2Koq"
      },
      "source": [
        "\n",
        "\n",
        "\n",
        "\n",
        "\n",
        "\n",
        "\n",
        " # Numpy\n",
        "\n"
      ]
    },
    {
      "cell_type": "markdown",
      "metadata": {
        "id": "mlS9oxgC2Kot"
      },
      "source": [
        "#### 1. Import the numpy package under the name `np` (★☆☆) \n",
        "(**hint**: import … as …)"
      ]
    },
    {
      "cell_type": "code",
      "execution_count": 1,
      "metadata": {
        "collapsed": true,
        "id": "CBVeA-_k2Kou"
      },
      "outputs": [],
      "source": [
        "import numpy as np\n"
      ]
    },
    {
      "cell_type": "markdown",
      "metadata": {
        "id": "1xc02CfU2Kov"
      },
      "source": [
        "#### 2. Print the numpy version and the configuration (★☆☆) \n",
        "(**hint**: np.\\_\\_version\\_\\_, np.show\\_config)"
      ]
    },
    {
      "cell_type": "code",
      "execution_count": 2,
      "metadata": {
        "id": "eDYNysAR2Kow",
        "colab": {
          "base_uri": "https://localhost:8080/"
        },
        "outputId": "613080e8-ae5f-443b-eb38-2013d1b9bfee"
      },
      "outputs": [
        {
          "output_type": "stream",
          "name": "stdout",
          "text": [
            "1.21.6\n",
            "blas_mkl_info:\n",
            "  NOT AVAILABLE\n",
            "blis_info:\n",
            "  NOT AVAILABLE\n",
            "openblas_info:\n",
            "    libraries = ['openblas', 'openblas']\n",
            "    library_dirs = ['/usr/local/lib']\n",
            "    language = c\n",
            "    define_macros = [('HAVE_CBLAS', None)]\n",
            "    runtime_library_dirs = ['/usr/local/lib']\n",
            "blas_opt_info:\n",
            "    libraries = ['openblas', 'openblas']\n",
            "    library_dirs = ['/usr/local/lib']\n",
            "    language = c\n",
            "    define_macros = [('HAVE_CBLAS', None)]\n",
            "    runtime_library_dirs = ['/usr/local/lib']\n",
            "lapack_mkl_info:\n",
            "  NOT AVAILABLE\n",
            "openblas_lapack_info:\n",
            "    libraries = ['openblas', 'openblas']\n",
            "    library_dirs = ['/usr/local/lib']\n",
            "    language = c\n",
            "    define_macros = [('HAVE_CBLAS', None)]\n",
            "    runtime_library_dirs = ['/usr/local/lib']\n",
            "lapack_opt_info:\n",
            "    libraries = ['openblas', 'openblas']\n",
            "    library_dirs = ['/usr/local/lib']\n",
            "    language = c\n",
            "    define_macros = [('HAVE_CBLAS', None)]\n",
            "    runtime_library_dirs = ['/usr/local/lib']\n",
            "Supported SIMD extensions in this NumPy install:\n",
            "    baseline = SSE,SSE2,SSE3\n",
            "    found = SSSE3,SSE41,POPCNT,SSE42,AVX,F16C,FMA3,AVX2\n",
            "    not found = AVX512F,AVX512CD,AVX512_KNL,AVX512_KNM,AVX512_SKX,AVX512_CLX,AVX512_CNL,AVX512_ICL\n"
          ]
        }
      ],
      "source": [
        "print(np.__version__)\n",
        "np.show_config()\n"
      ]
    },
    {
      "cell_type": "markdown",
      "metadata": {
        "id": "VINRdKcZ2Kow"
      },
      "source": [
        "#### 3. Create a null vector of size 10 (★☆☆) \n",
        "(**hint**: np.zeros)"
      ]
    },
    {
      "cell_type": "code",
      "execution_count": 3,
      "metadata": {
        "id": "GGM87Oaf2Kox",
        "colab": {
          "base_uri": "https://localhost:8080/"
        },
        "outputId": "cd4df170-2fb0-4139-e485-b1b59b322f73"
      },
      "outputs": [
        {
          "output_type": "stream",
          "name": "stdout",
          "text": [
            "[0. 0. 0. 0. 0. 0. 0. 0. 0. 0.]\n"
          ]
        }
      ],
      "source": [
        "x = np.zeros(10)\n",
        "print(x)\n"
      ]
    },
    {
      "cell_type": "markdown",
      "metadata": {
        "id": "p6wgVywt2Koy"
      },
      "source": [
        "#### 4.  How to find the memory size of any array (★☆☆) \n",
        "(**hint**: size, itemsize)"
      ]
    },
    {
      "cell_type": "code",
      "execution_count": 4,
      "metadata": {
        "id": "cQYIvUT22Koy",
        "colab": {
          "base_uri": "https://localhost:8080/"
        },
        "outputId": "bf7723c4-9d94-49cc-f2f1-5c028f8a0759"
      },
      "outputs": [
        {
          "output_type": "stream",
          "name": "stdout",
          "text": [
            "[0 1 2 3 4 5 6 7 8 9]\n",
            "size == 10\n",
            "memory size == 8\n"
          ]
        }
      ],
      "source": [
        "x = np.arange(10)\n",
        "print(x)\n",
        "print(\"size ==\",x.size)\n",
        "print(\"memory size ==\",x.itemsize)"
      ]
    },
    {
      "cell_type": "markdown",
      "metadata": {
        "id": "G5nRBZlV2Koz"
      },
      "source": [
        "#### 5.  How to get the documentation of the numpy add function from the command line? (★☆☆) \n",
        "(**hint**: np.info)"
      ]
    },
    {
      "cell_type": "code",
      "execution_count": 5,
      "metadata": {
        "collapsed": true,
        "id": "zeQSYTux2Ko0",
        "colab": {
          "base_uri": "https://localhost:8080/"
        },
        "outputId": "71c06ad3-3c91-4de6-990d-d74e203a4ed2"
      },
      "outputs": [
        {
          "output_type": "stream",
          "name": "stdout",
          "text": [
            "add(x1, x2, /, out=None, *, where=True, casting='same_kind', order='K', dtype=None, subok=True[, signature, extobj])\n",
            "\n",
            "Add arguments element-wise.\n",
            "\n",
            "Parameters\n",
            "----------\n",
            "x1, x2 : array_like\n",
            "    The arrays to be added.\n",
            "    If ``x1.shape != x2.shape``, they must be broadcastable to a common\n",
            "    shape (which becomes the shape of the output).\n",
            "out : ndarray, None, or tuple of ndarray and None, optional\n",
            "    A location into which the result is stored. If provided, it must have\n",
            "    a shape that the inputs broadcast to. If not provided or None,\n",
            "    a freshly-allocated array is returned. A tuple (possible only as a\n",
            "    keyword argument) must have length equal to the number of outputs.\n",
            "where : array_like, optional\n",
            "    This condition is broadcast over the input. At locations where the\n",
            "    condition is True, the `out` array will be set to the ufunc result.\n",
            "    Elsewhere, the `out` array will retain its original value.\n",
            "    Note that if an uninitialized `out` array is created via the default\n",
            "    ``out=None``, locations within it where the condition is False will\n",
            "    remain uninitialized.\n",
            "**kwargs\n",
            "    For other keyword-only arguments, see the\n",
            "    :ref:`ufunc docs <ufuncs.kwargs>`.\n",
            "\n",
            "Returns\n",
            "-------\n",
            "add : ndarray or scalar\n",
            "    The sum of `x1` and `x2`, element-wise.\n",
            "    This is a scalar if both `x1` and `x2` are scalars.\n",
            "\n",
            "Notes\n",
            "-----\n",
            "Equivalent to `x1` + `x2` in terms of array broadcasting.\n",
            "\n",
            "Examples\n",
            "--------\n",
            ">>> np.add(1.0, 4.0)\n",
            "5.0\n",
            ">>> x1 = np.arange(9.0).reshape((3, 3))\n",
            ">>> x2 = np.arange(3.0)\n",
            ">>> np.add(x1, x2)\n",
            "array([[  0.,   2.,   4.],\n",
            "       [  3.,   5.,   7.],\n",
            "       [  6.,   8.,  10.]])\n",
            "\n",
            "The ``+`` operator can be used as a shorthand for ``np.add`` on ndarrays.\n",
            "\n",
            ">>> x1 = np.arange(9.0).reshape((3, 3))\n",
            ">>> x2 = np.arange(3.0)\n",
            ">>> x1 + x2\n",
            "array([[ 0.,  2.,  4.],\n",
            "       [ 3.,  5.,  7.],\n",
            "       [ 6.,  8., 10.]])\n"
          ]
        }
      ],
      "source": [
        "import numpy as np\n",
        "np.info(np.add)\n"
      ]
    },
    {
      "cell_type": "markdown",
      "metadata": {
        "id": "wUkUkvG02Ko0"
      },
      "source": [
        "#### 6.  Create a null vector of size 10 but the fifth value which is 1 (★☆☆) \n",
        "(**hint**: array\\[4\\])"
      ]
    },
    {
      "cell_type": "code",
      "execution_count": 6,
      "metadata": {
        "id": "5D1bmxd32Ko1",
        "colab": {
          "base_uri": "https://localhost:8080/"
        },
        "outputId": "a4fbcbda-e3a0-4c94-de1d-02afc183a15f"
      },
      "outputs": [
        {
          "output_type": "stream",
          "name": "stdout",
          "text": [
            "[0. 0. 0. 0. 1. 0. 0. 0. 0. 0.]\n"
          ]
        }
      ],
      "source": [
        "x=np.zeros(10)\n",
        "x[4]=1\n",
        "print(x)"
      ]
    },
    {
      "cell_type": "markdown",
      "metadata": {
        "id": "bLTrUKyN2Ko1"
      },
      "source": [
        "#### 7.  Create a vector with values ranging from 10 to 49 (★☆☆) \n",
        "(**hint**: np.arange)"
      ]
    },
    {
      "cell_type": "code",
      "execution_count": 7,
      "metadata": {
        "id": "8LBK4iJI2Ko2",
        "colab": {
          "base_uri": "https://localhost:8080/"
        },
        "outputId": "ab34010c-92bf-4fa2-eb19-9e67e9c7b6ef"
      },
      "outputs": [
        {
          "output_type": "stream",
          "name": "stdout",
          "text": [
            "[10 11 12 13 14 15 16 17 18 19 20 21 22 23 24 25 26 27 28 29 30 31 32 33\n",
            " 34 35 36 37 38 39 40 41 42 43 44 45 46 47 48]\n"
          ]
        }
      ],
      "source": [
        "x=np.arange(10,49)\n",
        "print(x)"
      ]
    },
    {
      "cell_type": "markdown",
      "metadata": {
        "id": "0ywKU6y62Ko2"
      },
      "source": [
        "#### 8.  Reverse a vector (first element becomes last) (★☆☆) \n",
        "(**hint**: array\\[::-1\\])"
      ]
    },
    {
      "cell_type": "code",
      "execution_count": 28,
      "metadata": {
        "id": "ZEtGNX9c2Ko3",
        "colab": {
          "base_uri": "https://localhost:8080/"
        },
        "outputId": "0be1b3e6-e6b2-4e40-ce95-b41cf56a0e21"
      },
      "outputs": [
        {
          "output_type": "execute_result",
          "data": {
            "text/plain": [
              "array([10,  9,  8, -7, -6, -5, -4,  3,  2,  1,  0])"
            ]
          },
          "metadata": {},
          "execution_count": 28
        }
      ],
      "source": [
        "x[::-1]"
      ]
    },
    {
      "cell_type": "markdown",
      "metadata": {
        "id": "HzAk40Ry2Ko3"
      },
      "source": [
        "#### 9.  Create a 3x3 matrix with values ranging from 0 to 8 (★☆☆) \n",
        "(**hint**: reshape)"
      ]
    },
    {
      "cell_type": "code",
      "execution_count": 9,
      "metadata": {
        "id": "e_NYiTrS2Ko4",
        "colab": {
          "base_uri": "https://localhost:8080/"
        },
        "outputId": "14345109-c3a0-4371-9121-569e6e86bb88"
      },
      "outputs": [
        {
          "output_type": "stream",
          "name": "stdout",
          "text": [
            "[[0 1 2]\n",
            " [3 4 5]\n",
            " [6 7 8]]\n"
          ]
        }
      ],
      "source": [
        "x=np.arange(9).reshape(3, 3)\n",
        "print(x)"
      ]
    },
    {
      "cell_type": "markdown",
      "metadata": {
        "id": "0iEGHuUa2Ko4"
      },
      "source": [
        "#### 10. Find indices of non-zero elements from \\[1,2,0,0,4,0\\] (★☆☆) \n",
        "(**hint**: np.nonzero)"
      ]
    },
    {
      "cell_type": "code",
      "execution_count": 10,
      "metadata": {
        "id": "TM5dcgUT2Ko5",
        "colab": {
          "base_uri": "https://localhost:8080/"
        },
        "outputId": "c067f733-d9f0-48b6-d026-02edfb83db23"
      },
      "outputs": [
        {
          "output_type": "stream",
          "name": "stdout",
          "text": [
            "(array([0, 1, 4]),)\n"
          ]
        }
      ],
      "source": [
        "x=[1,2,0,0,4,0]\n",
        "a=np.nonzero(x)\n",
        "print(a)"
      ]
    },
    {
      "cell_type": "markdown",
      "metadata": {
        "id": "qhDVj-_z2Ko5"
      },
      "source": [
        "#### 11. Create a 3x3 identity matrix (★☆☆) \n",
        "(**hint**: np.eye)"
      ]
    },
    {
      "cell_type": "code",
      "execution_count": 11,
      "metadata": {
        "id": "tHPA5wCe2Ko6",
        "colab": {
          "base_uri": "https://localhost:8080/"
        },
        "outputId": "c6354c5d-bc99-46cf-bc03-68b286296a8d"
      },
      "outputs": [
        {
          "output_type": "stream",
          "name": "stdout",
          "text": [
            "[[1. 0. 0.]\n",
            " [0. 1. 0.]\n",
            " [0. 0. 1.]]\n"
          ]
        }
      ],
      "source": [
        "x=np.eye(3,3)\n",
        "print(x)"
      ]
    },
    {
      "cell_type": "markdown",
      "metadata": {
        "id": "VsMo3xv82Ko6"
      },
      "source": [
        "\n",
        "#### 12. Create a 3x3x3 array with random values (★☆☆) \n",
        "(**hint**: np.random.random)"
      ]
    },
    {
      "cell_type": "code",
      "execution_count": 12,
      "metadata": {
        "collapsed": true,
        "id": "ePvBUXiq2Ko7",
        "colab": {
          "base_uri": "https://localhost:8080/"
        },
        "outputId": "732cdbae-970c-4617-e9fe-822bb0569853"
      },
      "outputs": [
        {
          "output_type": "stream",
          "name": "stdout",
          "text": [
            "[[[0.83194256 0.97077081 0.21927471]\n",
            "  [0.34134107 0.20360051 0.85567405]\n",
            "  [0.23955597 0.28124611 0.61497487]]\n",
            "\n",
            " [[0.43625248 0.02332537 0.77682939]\n",
            "  [0.08851745 0.20307731 0.36402381]\n",
            "  [0.55210424 0.11483997 0.34035424]]\n",
            "\n",
            " [[0.33286599 0.91137503 0.08513585]\n",
            "  [0.196019   0.88293388 0.09264325]\n",
            "  [0.92501597 0.34784756 0.88539369]]]\n"
          ]
        }
      ],
      "source": [
        "x=np.random.random((3,3,3))\n",
        "print(x)"
      ]
    },
    {
      "cell_type": "markdown",
      "metadata": {
        "id": "gFXsQtlv2Ko7"
      },
      "source": [
        "#### 13. Create a 10x10 array with random values and find the minimum and maximum values (★☆☆) \n",
        "(**hint**: min, max)"
      ]
    },
    {
      "cell_type": "code",
      "source": [
        "x=np.random.random((10,10))\n",
        "print(\"10*10 array ==\\n\",x)\n",
        "print(\"min of array\\n\",x.min())\n",
        "print(\"max of array\\n\",x.max())"
      ],
      "metadata": {
        "colab": {
          "base_uri": "https://localhost:8080/"
        },
        "id": "G5DGdxkB6hyy",
        "outputId": "680bae69-baa8-4481-8b29-2f8d3b28c3b4"
      },
      "execution_count": 13,
      "outputs": [
        {
          "output_type": "stream",
          "name": "stdout",
          "text": [
            "10*10 array ==\n",
            " [[0.8619945  0.68486616 0.50081117 0.27923278 0.90540578 0.42329632\n",
            "  0.33932395 0.82566471 0.83083717 0.16381494]\n",
            " [0.57081191 0.89831837 0.18815356 0.28162027 0.54450874 0.31980387\n",
            "  0.89103063 0.84484726 0.31643132 0.86321393]\n",
            " [0.19528925 0.57374094 0.44804114 0.1968218  0.00549381 0.23242812\n",
            "  0.00698883 0.82269039 0.53688285 0.81740402]\n",
            " [0.96189852 0.30186626 0.05298586 0.68171245 0.02238879 0.38997607\n",
            "  0.78231445 0.7579921  0.27583272 0.3072894 ]\n",
            " [0.14301266 0.76167924 0.97097203 0.76363945 0.03734269 0.07813611\n",
            "  0.90459812 0.66246434 0.82585316 0.67020375]\n",
            " [0.17423726 0.16381331 0.08559889 0.31595385 0.94398856 0.6933335\n",
            "  0.32775765 0.63436809 0.52902031 0.47930937]\n",
            " [0.79963776 0.34953804 0.92834994 0.29045124 0.53691542 0.81978931\n",
            "  0.93005395 0.92922099 0.11566646 0.79556654]\n",
            " [0.7001809  0.00327737 0.43740948 0.65533942 0.04785878 0.07035601\n",
            "  0.91757283 0.29238059 0.62247551 0.1015419 ]\n",
            " [0.79656519 0.35422995 0.85957407 0.65898176 0.8288184  0.77254171\n",
            "  0.63564529 0.16069202 0.83404946 0.30598164]\n",
            " [0.52128989 0.51854471 0.47920614 0.33004359 0.88736986 0.75170688\n",
            "  0.30929511 0.44754063 0.04467065 0.08345721]]\n",
            "min of array\n",
            " 0.0032773747230354644\n",
            "max of array\n",
            " 0.9709720269343753\n"
          ]
        }
      ]
    },
    {
      "cell_type": "code",
      "execution_count": 13,
      "metadata": {
        "id": "haWFUAmS2Ko8"
      },
      "outputs": [],
      "source": [
        ""
      ]
    },
    {
      "cell_type": "markdown",
      "metadata": {
        "id": "_65zGqwo2Ko8"
      },
      "source": [
        "#### 14. Create a random vector of size 30 and find the mean value (★☆☆) \n",
        "(**hint**: mean)\n",
        "\n",
        "\n",
        "```\n",
        "`# This is formatted as code`\n",
        "```\n",
        "\n"
      ]
    },
    {
      "cell_type": "code",
      "execution_count": 14,
      "metadata": {
        "id": "qoNaaf312Ko9",
        "colab": {
          "base_uri": "https://localhost:8080/"
        },
        "outputId": "72685f24-cfbe-48f6-c9d2-a742b5a168d3"
      },
      "outputs": [
        {
          "output_type": "stream",
          "name": "stdout",
          "text": [
            "random vector of size 30\n",
            " [0.890412   0.08373019 0.59778002 0.15227509 0.07905165 0.20334963\n",
            " 0.7905158  0.05023918 0.70049418 0.20081653 0.58020064 0.94457326\n",
            " 0.7163373  0.94845241 0.84960956 0.53728402 0.21558323 0.71487022\n",
            " 0.18107456 0.1014801  0.69970629 0.81199104 0.58842864 0.63202551\n",
            " 0.08757571 0.3080137  0.69788616 0.89507401 0.0434115  0.51867086]\n",
            "mean value is\n",
            " 0.49403043342471187\n"
          ]
        }
      ],
      "source": [
        "x=np.random.random((30))\n",
        "print(\"random vector of size 30\\n\",x)\n",
        "print(\"mean value is\\n\",x.mean())"
      ]
    },
    {
      "cell_type": "markdown",
      "metadata": {
        "id": "qm4VVtNI2Ko9"
      },
      "source": [
        "#### 15. Create a 2d array with 1 on the border and 0 inside (★☆☆) \n",
        "(**hint**: array\\[1:-1, 1:-1\\])"
      ]
    },
    {
      "cell_type": "code",
      "execution_count": 15,
      "metadata": {
        "id": "r6FsdWSx2Ko-",
        "colab": {
          "base_uri": "https://localhost:8080/"
        },
        "outputId": "66b5a916-b478-4e4d-8949-2f879821a131"
      },
      "outputs": [
        {
          "output_type": "stream",
          "name": "stdout",
          "text": [
            "[[1. 1. 1. 1. 1. 1. 1. 1. 1. 1.]\n",
            " [1. 0. 0. 0. 0. 0. 0. 0. 0. 1.]\n",
            " [1. 0. 0. 0. 0. 0. 0. 0. 0. 1.]\n",
            " [1. 0. 0. 0. 0. 0. 0. 0. 0. 1.]\n",
            " [1. 0. 0. 0. 0. 0. 0. 0. 0. 1.]\n",
            " [1. 0. 0. 0. 0. 0. 0. 0. 0. 1.]\n",
            " [1. 0. 0. 0. 0. 0. 0. 0. 0. 1.]\n",
            " [1. 0. 0. 0. 0. 0. 0. 0. 0. 1.]\n",
            " [1. 0. 0. 0. 0. 0. 0. 0. 0. 1.]\n",
            " [1. 1. 1. 1. 1. 1. 1. 1. 1. 1.]]\n"
          ]
        }
      ],
      "source": [
        "x=np.ones((10,10))\n",
        "x[1:-1,1:-1] = 0\n",
        "print(x)\n"
      ]
    },
    {
      "cell_type": "markdown",
      "metadata": {
        "id": "x_Ad9LtY2Ko-"
      },
      "source": [
        "#### 16. How to add a border (filled with 0's) around an existing array? (★☆☆) \n",
        "(**hint**: np.pad)"
      ]
    },
    {
      "cell_type": "code",
      "execution_count": 16,
      "metadata": {
        "id": "pKl2U5VB2Ko-",
        "colab": {
          "base_uri": "https://localhost:8080/"
        },
        "outputId": "9bed0646-146e-4410-f769-319e23c63837"
      },
      "outputs": [
        {
          "output_type": "stream",
          "name": "stdout",
          "text": [
            "[[0. 0. 0. 0. 0. 0. 0.]\n",
            " [0. 1. 1. 1. 1. 1. 0.]\n",
            " [0. 1. 1. 1. 1. 1. 0.]\n",
            " [0. 1. 1. 1. 1. 1. 0.]\n",
            " [0. 1. 1. 1. 1. 1. 0.]\n",
            " [0. 1. 1. 1. 1. 1. 0.]\n",
            " [0. 0. 0. 0. 0. 0. 0.]]\n"
          ]
        }
      ],
      "source": [
        "x = np.ones((5,5))\n",
        "x = np.pad(x, pad_width=1, mode='constant', constant_values=0)\n",
        "print(x)\n"
      ]
    },
    {
      "cell_type": "markdown",
      "metadata": {
        "id": "tJB8NWIS2Ko_"
      },
      "source": [
        "#### 17. What is the result of the following expression? (★☆☆) \n",
        "(**hint**: NaN = not a number, inf = infinity)"
      ]
    },
    {
      "cell_type": "markdown",
      "metadata": {
        "id": "R16Sbgit2Ko_"
      },
      "source": [
        "```python\n",
        "0 * np.nan\n",
        "np.nan == np.nan\n",
        "np.inf > np.nan\n",
        "np.nan - np.nan\n",
        "0.3 == 3 * 0.1\n",
        "```"
      ]
    },
    {
      "cell_type": "code",
      "execution_count": 17,
      "metadata": {
        "id": "wsR_VhxH2KpA",
        "colab": {
          "base_uri": "https://localhost:8080/"
        },
        "outputId": "6101dc73-452c-460b-f518-6b9344ff0f16"
      },
      "outputs": [
        {
          "output_type": "stream",
          "name": "stdout",
          "text": [
            "nan\n",
            "False\n",
            "False\n",
            "nan\n",
            "True\n",
            "False\n"
          ]
        }
      ],
      "source": [
        "print(0 * np.nan)\n",
        "print(np.nan == np.nan)\n",
        "print(np.inf > np.nan)\n",
        "print(np.nan - np.nan)\n",
        "print(np.nan in set([np.nan]))\n",
        "print(0.3 == 3 * 0.1)"
      ]
    },
    {
      "cell_type": "markdown",
      "metadata": {
        "id": "mlMwXO7A2KpA"
      },
      "source": [
        "#### 18. Create a 5x5 matrix with values 1,2,3,4 just below the diagonal (★☆☆) \n",
        "(**hint**: np.diag)"
      ]
    },
    {
      "cell_type": "code",
      "execution_count": 18,
      "metadata": {
        "id": "ciZp4j1p2KpB",
        "colab": {
          "base_uri": "https://localhost:8080/"
        },
        "outputId": "cc437a09-7c6f-4197-888f-fc7f781933e1"
      },
      "outputs": [
        {
          "output_type": "stream",
          "name": "stdout",
          "text": [
            "[[0 0 0 0 0]\n",
            " [1 0 0 0 0]\n",
            " [0 2 0 0 0]\n",
            " [0 0 3 0 0]\n",
            " [0 0 0 4 0]]\n"
          ]
        }
      ],
      "source": [
        "x = np.diag(1+np.arange(4),k=-1)\n",
        "print(x)"
      ]
    },
    {
      "cell_type": "markdown",
      "metadata": {
        "id": "ptcB5UGT2KpB"
      },
      "source": [
        "#### 19. Create a 8x8 matrix and fill it with a checkerboard pattern (★☆☆) \n",
        "(**hint**: array\\[::2\\])"
      ]
    },
    {
      "cell_type": "code",
      "execution_count": 19,
      "metadata": {
        "id": "kKCqwY412KpC",
        "colab": {
          "base_uri": "https://localhost:8080/"
        },
        "outputId": "7b283ff1-871c-4b26-de42-96561ca0bf37"
      },
      "outputs": [
        {
          "output_type": "stream",
          "name": "stdout",
          "text": [
            "[[0 1 0 1 0 1 0 1]\n",
            " [1 0 1 0 1 0 1 0]\n",
            " [0 1 0 1 0 1 0 1]\n",
            " [1 0 1 0 1 0 1 0]\n",
            " [0 1 0 1 0 1 0 1]\n",
            " [1 0 1 0 1 0 1 0]\n",
            " [0 1 0 1 0 1 0 1]\n",
            " [1 0 1 0 1 0 1 0]]\n"
          ]
        }
      ],
      "source": [
        "x = np.zeros((8,8),dtype=int)\n",
        "x[1::2,::2] = 1\n",
        "x[::2,1::2] = 1\n",
        "print(x)\n"
      ]
    },
    {
      "cell_type": "markdown",
      "metadata": {
        "id": "igmdT0OB2KpC"
      },
      "source": [
        "#### 20. Consider a (6,7,8) shape array, what is the index (x,y,z) of the 100th element? \n",
        "(**hint**: np.unravel_index)"
      ]
    },
    {
      "cell_type": "code",
      "execution_count": 20,
      "metadata": {
        "id": "x7TpJOMm2KpD",
        "colab": {
          "base_uri": "https://localhost:8080/"
        },
        "outputId": "7aa4051f-0154-4f5d-cdd2-5fb817b171ca"
      },
      "outputs": [
        {
          "output_type": "stream",
          "name": "stdout",
          "text": [
            "(1, 5, 3)\n"
          ]
        }
      ],
      "source": [
        "print(np.unravel_index(99,(6,7,8)))\n"
      ]
    },
    {
      "cell_type": "markdown",
      "metadata": {
        "id": "sx_O3SWI2KpD"
      },
      "source": [
        "#### 21. Create a checkerboard 8x8 matrix using the tile function (★☆☆) \n",
        "(**hint**: np.tile)"
      ]
    },
    {
      "cell_type": "code",
      "execution_count": 21,
      "metadata": {
        "id": "X_25evuy2KpE",
        "colab": {
          "base_uri": "https://localhost:8080/"
        },
        "outputId": "05f315d1-f8a0-4475-d1b8-36390a802bdf"
      },
      "outputs": [
        {
          "output_type": "stream",
          "name": "stdout",
          "text": [
            "[[0 1 0 1 0 1 0 1]\n",
            " [1 0 1 0 1 0 1 0]\n",
            " [0 1 0 1 0 1 0 1]\n",
            " [1 0 1 0 1 0 1 0]\n",
            " [0 1 0 1 0 1 0 1]\n",
            " [1 0 1 0 1 0 1 0]\n",
            " [0 1 0 1 0 1 0 1]\n",
            " [1 0 1 0 1 0 1 0]]\n"
          ]
        }
      ],
      "source": [
        "Z = np.tile( np.array([[0,1],[1,0]]), (4,4))\n",
        "print(Z)\n"
      ]
    },
    {
      "cell_type": "markdown",
      "metadata": {
        "id": "GO72o8g12KpE"
      },
      "source": [
        "#### 22. Normalize a 5x5 random matrix (★☆☆) \n",
        "(**hint**: (x - min) / (max - min))"
      ]
    },
    {
      "cell_type": "code",
      "execution_count": 22,
      "metadata": {
        "id": "TTDEpyqA2KpF",
        "colab": {
          "base_uri": "https://localhost:8080/"
        },
        "outputId": "349c7c81-4f41-4f02-dc84-460f3e0de42b"
      },
      "outputs": [
        {
          "output_type": "stream",
          "name": "stdout",
          "text": [
            "value of random matrix == [[0.38615059 0.11585686 0.04549982 0.73788938 0.59280386]\n",
            " [0.08317847 0.51341912 0.29870909 0.16291271 0.55304872]\n",
            " [0.4402699  0.66041469 0.61020235 0.61605286 0.78621438]\n",
            " [0.23865724 0.60775471 0.4831512  0.64941303 0.80567267]\n",
            " [0.10970208 0.49804309 0.67370203 0.86683116 0.0876394 ]]\n",
            "ans of  (x-min)/(max-min)\n",
            " [[0.41475438 0.08566219 0.         0.84300881 0.66636206]\n",
            " [0.0458751  0.56970833 0.30829125 0.14295436 0.61795876]\n",
            " [0.48064656 0.74868063 0.68754533 0.69466853 0.90184621]\n",
            " [0.235176   0.68456524 0.53285606 0.73528572 0.92553738]\n",
            " [0.07816853 0.55098747 0.76485844 1.         0.05130643]]\n"
          ]
        }
      ],
      "source": [
        "x= np.random.random((5,5))\n",
        "print(\"value of random matrix ==\",x)\n",
        "min=x.min()\n",
        "max=x.max()\n",
        "k=(x-min)/(max-min)\n",
        "print(\"ans of  (x-min)/(max-min)\\n\",k)\n"
      ]
    },
    {
      "cell_type": "markdown",
      "metadata": {
        "id": "gz0IIDvI2KpF"
      },
      "source": [
        "#### 23. Create a custom dtype that describes a color as four unsigned bytes (RGBA) (★☆☆) \n",
        "(**hint**: np.dtype)"
      ]
    },
    {
      "cell_type": "code",
      "execution_count": 23,
      "metadata": {
        "collapsed": true,
        "id": "m9A7RhDP2KpF",
        "colab": {
          "base_uri": "https://localhost:8080/"
        },
        "outputId": "f5e9c4ca-5dad-4b57-a4a0-089aa8a53868"
      },
      "outputs": [
        {
          "output_type": "stream",
          "name": "stdout",
          "text": [
            "[('r', 'u1'), ('g', 'u1'), ('b', 'u1'), ('a', 'u1')]\n"
          ]
        }
      ],
      "source": [
        "import numpy as np\n",
        "\n",
        "color = np.dtype([(\"r\", np.ubyte),\n",
        "                  (\"g\", np.ubyte),\n",
        "                  (\"b\", np.ubyte),\n",
        "                  (\"a\", np.ubyte)])\n",
        "print(color)"
      ]
    },
    {
      "cell_type": "markdown",
      "metadata": {
        "id": "B8-kVhmZ2KpG"
      },
      "source": [
        "#### 24. Multiply a 5x3 matrix by a 3x2 matrix (real matrix product) (★☆☆) \n",
        "(**hint**: np.dot | @)"
      ]
    },
    {
      "cell_type": "code",
      "execution_count": 24,
      "metadata": {
        "id": "WGMlDZ2U2KpG",
        "colab": {
          "base_uri": "https://localhost:8080/"
        },
        "outputId": "aebe34af-1caf-42fb-f71a-5600e62b51da"
      },
      "outputs": [
        {
          "output_type": "stream",
          "name": "stdout",
          "text": [
            "[[3. 3.]\n",
            " [3. 3.]\n",
            " [3. 3.]\n",
            " [3. 3.]\n",
            " [3. 3.]]\n"
          ]
        }
      ],
      "source": [
        "x = np.ones((5,3)) @ np.ones((3,2))\n",
        "print(x)"
      ]
    },
    {
      "cell_type": "markdown",
      "metadata": {
        "id": "v_JOznRx2KpH"
      },
      "source": [
        "#### 25. Given a 1D array, negate all elements which are between 3 and 8, in place. (★☆☆) \n",
        "(**hint**: >, <=)"
      ]
    },
    {
      "cell_type": "code",
      "execution_count": 25,
      "metadata": {
        "id": "lNJuYhX12KpH",
        "colab": {
          "base_uri": "https://localhost:8080/"
        },
        "outputId": "3c97810b-f4fa-4fd7-ad32-22a560e4212a"
      },
      "outputs": [
        {
          "output_type": "stream",
          "name": "stdout",
          "text": [
            "[ 0  1  2  3 -4 -5 -6 -7  8  9 10]\n"
          ]
        }
      ],
      "source": [
        "x = np.arange(11)\n",
        "x[(3 < x) & (x < 8)] *= -1\n",
        "print(x)\n"
      ]
    },
    {
      "cell_type": "markdown",
      "metadata": {
        "id": "0O-q-jB12KpH"
      },
      "source": [
        "#### 26. What is the output of the following script? (★☆☆) \n",
        "(**hint**: np.sum)"
      ]
    },
    {
      "cell_type": "markdown",
      "metadata": {
        "id": "4m_DMXvz2KpI"
      },
      "source": [
        "```python\n",
        "# Author: Jake VanderPlas\n",
        "\n",
        "print(sum(range(5),-1))\n",
        "from numpy import *\n",
        "print(sum(range(5),-1))\n",
        "```"
      ]
    },
    {
      "cell_type": "code",
      "execution_count": 26,
      "metadata": {
        "id": "AJH2Ox0A2KpI",
        "colab": {
          "base_uri": "https://localhost:8080/"
        },
        "outputId": "0eedeff4-f38f-4034-c047-0c8fe5e6d58f"
      },
      "outputs": [
        {
          "output_type": "stream",
          "name": "stdout",
          "text": [
            "9\n",
            "10\n"
          ]
        }
      ],
      "source": [
        "print(sum(range(5),-1))\n",
        "from numpy import *\n",
        "print(sum(range(5),-1))\n"
      ]
    },
    {
      "cell_type": "markdown",
      "metadata": {
        "id": "VQVgcz5Q2KpJ"
      },
      "source": [
        "#### 27. Consider an integer vector Z, which of these expressions are legal? (★☆☆)"
      ]
    },
    {
      "cell_type": "markdown",
      "metadata": {
        "id": "W3tH4PAe2KpJ"
      },
      "source": [
        "```python\n",
        "Z**Z\n",
        "2 << Z >> 2\n",
        "Z <- Z\n",
        "1j*Z\n",
        "Z/1/1\n",
        "Z<Z>Z\n",
        "```"
      ]
    },
    {
      "cell_type": "code",
      "execution_count": 27,
      "metadata": {
        "id": "1mJEsD-m2KpK",
        "colab": {
          "base_uri": "https://localhost:8080/",
          "height": 947
        },
        "outputId": "a96797d0-8ac0-459b-8407-30f5765fd78a"
      },
      "outputs": [
        {
          "output_type": "stream",
          "name": "stdout",
          "text": [
            "[[1 1 1 1 1 1 1 1]\n",
            " [1 1 1 1 1 1 1 1]\n",
            " [1 1 1 1 1 1 1 1]\n",
            " [1 1 1 1 1 1 1 1]\n",
            " [1 1 1 1 1 1 1 1]\n",
            " [1 1 1 1 1 1 1 1]\n",
            " [1 1 1 1 1 1 1 1]\n",
            " [1 1 1 1 1 1 1 1]]\n",
            "[[0 1 0 1 0 1 0 1]\n",
            " [1 0 1 0 1 0 1 0]\n",
            " [0 1 0 1 0 1 0 1]\n",
            " [1 0 1 0 1 0 1 0]\n",
            " [0 1 0 1 0 1 0 1]\n",
            " [1 0 1 0 1 0 1 0]\n",
            " [0 1 0 1 0 1 0 1]\n",
            " [1 0 1 0 1 0 1 0]]\n",
            "[[False False False False False False False False]\n",
            " [False False False False False False False False]\n",
            " [False False False False False False False False]\n",
            " [False False False False False False False False]\n",
            " [False False False False False False False False]\n",
            " [False False False False False False False False]\n",
            " [False False False False False False False False]\n",
            " [False False False False False False False False]]\n",
            "[[0.+0.j 0.+1.j 0.+0.j 0.+1.j 0.+0.j 0.+1.j 0.+0.j 0.+1.j]\n",
            " [0.+1.j 0.+0.j 0.+1.j 0.+0.j 0.+1.j 0.+0.j 0.+1.j 0.+0.j]\n",
            " [0.+0.j 0.+1.j 0.+0.j 0.+1.j 0.+0.j 0.+1.j 0.+0.j 0.+1.j]\n",
            " [0.+1.j 0.+0.j 0.+1.j 0.+0.j 0.+1.j 0.+0.j 0.+1.j 0.+0.j]\n",
            " [0.+0.j 0.+1.j 0.+0.j 0.+1.j 0.+0.j 0.+1.j 0.+0.j 0.+1.j]\n",
            " [0.+1.j 0.+0.j 0.+1.j 0.+0.j 0.+1.j 0.+0.j 0.+1.j 0.+0.j]\n",
            " [0.+0.j 0.+1.j 0.+0.j 0.+1.j 0.+0.j 0.+1.j 0.+0.j 0.+1.j]\n",
            " [0.+1.j 0.+0.j 0.+1.j 0.+0.j 0.+1.j 0.+0.j 0.+1.j 0.+0.j]]\n",
            "[[0. 1. 0. 1. 0. 1. 0. 1.]\n",
            " [1. 0. 1. 0. 1. 0. 1. 0.]\n",
            " [0. 1. 0. 1. 0. 1. 0. 1.]\n",
            " [1. 0. 1. 0. 1. 0. 1. 0.]\n",
            " [0. 1. 0. 1. 0. 1. 0. 1.]\n",
            " [1. 0. 1. 0. 1. 0. 1. 0.]\n",
            " [0. 1. 0. 1. 0. 1. 0. 1.]\n",
            " [1. 0. 1. 0. 1. 0. 1. 0.]]\n"
          ]
        },
        {
          "output_type": "error",
          "ename": "ValueError",
          "evalue": "ignored",
          "traceback": [
            "\u001b[0;31m---------------------------------------------------------------------------\u001b[0m",
            "\u001b[0;31mValueError\u001b[0m                                Traceback (most recent call last)",
            "\u001b[0;32m<ipython-input-27-6114e943f179>\u001b[0m in \u001b[0;36m<module>\u001b[0;34m\u001b[0m\n\u001b[1;32m      4\u001b[0m \u001b[0mprint\u001b[0m\u001b[0;34m(\u001b[0m\u001b[0;36m1j\u001b[0m\u001b[0;34m*\u001b[0m\u001b[0mZ\u001b[0m\u001b[0;34m)\u001b[0m\u001b[0;34m\u001b[0m\u001b[0;34m\u001b[0m\u001b[0m\n\u001b[1;32m      5\u001b[0m \u001b[0mprint\u001b[0m\u001b[0;34m(\u001b[0m\u001b[0mZ\u001b[0m\u001b[0;34m/\u001b[0m\u001b[0;36m1\u001b[0m\u001b[0;34m/\u001b[0m\u001b[0;36m1\u001b[0m\u001b[0;34m)\u001b[0m\u001b[0;34m\u001b[0m\u001b[0;34m\u001b[0m\u001b[0m\n\u001b[0;32m----> 6\u001b[0;31m \u001b[0mprint\u001b[0m\u001b[0;34m(\u001b[0m\u001b[0mZ\u001b[0m\u001b[0;34m<\u001b[0m\u001b[0mZ\u001b[0m\u001b[0;34m>\u001b[0m\u001b[0mZ\u001b[0m\u001b[0;34m)\u001b[0m\u001b[0;34m\u001b[0m\u001b[0;34m\u001b[0m\u001b[0m\n\u001b[0m",
            "\u001b[0;31mValueError\u001b[0m: The truth value of an array with more than one element is ambiguous. Use a.any() or a.all()"
          ]
        }
      ],
      "source": [
        "print(Z**Z)\n",
        "print(2 << Z >> 2)\n",
        "print(Z <- Z)\n",
        "print(1j*Z)\n",
        "print(Z/1/1)\n",
        "print(Z<Z>Z)\n"
      ]
    },
    {
      "cell_type": "markdown",
      "metadata": {
        "id": "yIzFsu-62KpK"
      },
      "source": [
        "#### 28. What are the result of the following expressions?"
      ]
    },
    {
      "cell_type": "markdown",
      "metadata": {
        "id": "TTkMYTAy2KpK"
      },
      "source": [
        "```python\n",
        "np.array(0) / np.array(0)\n",
        "np.array(0) // np.array(0)\n",
        "np.array([np.nan]).astype(int).astype(float)\n",
        "```"
      ]
    },
    {
      "cell_type": "code",
      "execution_count": null,
      "metadata": {
        "id": "l7BrLMPG2KpL"
      },
      "outputs": [],
      "source": [
        "print(np.array(0) / np.array(0))\n",
        "print(np.array(0) // np.array(0))\n",
        "print(np.array([np.nan]).astype(int).astype(float))"
      ]
    },
    {
      "cell_type": "markdown",
      "metadata": {
        "id": "DckDoCiq2KpL"
      },
      "source": [
        "#### 29. How to round away from zero a float array ? (★☆☆) \n",
        "(**hint**: np.uniform, np.copysign, np.ceil, np.abs)"
      ]
    },
    {
      "cell_type": "code",
      "execution_count": null,
      "metadata": {
        "id": "c_lxpwUc2KpM"
      },
      "outputs": [],
      "source": [
        "x = np.random.uniform(-10,+10,10)\n",
        "print(\"random x\\n\",x)\n",
        "print(np.copysign(np.ceil(np.abs(x)), x))\n",
        "\n"
      ]
    },
    {
      "cell_type": "markdown",
      "metadata": {
        "id": "KZVmmwil2KpM"
      },
      "source": [
        "#### 30. How to find common values between two arrays? (★☆☆) \n",
        "(**hint**: np.intersect1d)"
      ]
    },
    {
      "cell_type": "code",
      "execution_count": null,
      "metadata": {
        "id": "3b-GtZKC2KpN"
      },
      "outputs": [],
      "source": [
        "x1 = np.random.randint(0,8,10)\n",
        "x2 = np.random.randint(0,8,10)\n",
        "print(\"common values are\",np.intersect1d(x1,x2))\n"
      ]
    },
    {
      "cell_type": "markdown",
      "metadata": {
        "id": "3zB6llUy2KpN"
      },
      "source": [
        "#### 31. How to ignore all numpy warnings (not recommended)? (★☆☆) \n",
        "(**hint**: np.seterr, np.errstate)"
      ]
    },
    {
      "cell_type": "code",
      "execution_count": null,
      "metadata": {
        "id": "xTJ0HQSI2KpN"
      },
      "outputs": [],
      "source": [
        "#using np.seterr\n",
        "defaults = np.seterr(all=\"ignore\")\n",
        "x = np.ones(1) / 0\n",
        "print(x)\n",
        "#back to sanity\n",
        "_ = np.seterr(**defaults)\n",
        "#using np.errstate\n",
        "with np.errstate(all=\"ignore\"):\n",
        "    np.arange(3) / 0\n"
      ]
    },
    {
      "cell_type": "markdown",
      "metadata": {
        "id": "Ce4C85QD2KpO"
      },
      "source": [
        "#### 32. Is the following expressions true? (★☆☆) \n",
        "(**hint**: imaginary number)"
      ]
    },
    {
      "cell_type": "markdown",
      "metadata": {
        "id": "HPd5zkm82KpO"
      },
      "source": [
        "```python\n",
        "np.sqrt(-1) == np.emath.sqrt(-1)\n",
        "```"
      ]
    },
    {
      "cell_type": "code",
      "execution_count": null,
      "metadata": {
        "id": "7lghEV9W2KpP"
      },
      "outputs": [],
      "source": [
        "print(np.sqrt(-1))\n",
        "print(np.emath.sqrt(-1))\n",
        "np.sqrt(-1) == np.emath.sqrt(-1)\n"
      ]
    },
    {
      "cell_type": "markdown",
      "metadata": {
        "id": "uuBpiYv32KpP"
      },
      "source": [
        "#### 33. How to get the dates of yesterday, today and tomorrow? (★☆☆) \n",
        "(**hint**: np.datetime64, np.timedelta64)"
      ]
    },
    {
      "cell_type": "code",
      "execution_count": 30,
      "metadata": {
        "collapsed": true,
        "id": "MiGwsuzZ2KpQ",
        "colab": {
          "base_uri": "https://localhost:8080/"
        },
        "outputId": "99a160ef-cb09-4d03-8f5e-c92e84354e31"
      },
      "outputs": [
        {
          "output_type": "stream",
          "name": "stdout",
          "text": [
            "yesterday date == 2022-08-18\n",
            "today date == 2022-08-19\n",
            "tomarrow date 2022-08-20\n"
          ]
        }
      ],
      "source": [
        "yesterday = np.datetime64('today') - np.timedelta64(1)\n",
        "print(\"yesterday date ==\",yesterday)\n",
        "today     = np.datetime64('today')\n",
        "print(\"today date ==\",today)\n",
        "tomorrow  = np.datetime64('today') + np.timedelta64(1)\n",
        "print(\"tomarrow date\",tomorrow)"
      ]
    },
    {
      "cell_type": "markdown",
      "metadata": {
        "id": "RYXYT2Gf2KpQ"
      },
      "source": [
        "#### 34. How to get all the dates corresponding to the month of July 2016? (★★☆) \n",
        "(**hint**: np.arange(dtype=datetime64\\['D'\\]))"
      ]
    },
    {
      "cell_type": "code",
      "execution_count": null,
      "metadata": {
        "id": "mv-wPoMv2KpQ"
      },
      "outputs": [],
      "source": [
        "x = np.arange('2016-07', '2016-08', dtype='datetime64[D]')\n",
        "print(x)"
      ]
    },
    {
      "cell_type": "markdown",
      "metadata": {
        "id": "RTpXI4uY2KpR"
      },
      "source": [
        "#### 35. How to compute ((A+B)\\*(-A/2)) in place (without copy)? (★★☆) \n",
        "(**hint**: np.add(out=), np.negative(out=), np.multiply(out=), np.divide(out=))"
      ]
    },
    {
      "cell_type": "code",
      "execution_count": null,
      "metadata": {
        "id": "Du52J7bR2KpR"
      },
      "outputs": [],
      "source": [
        "A = np.ones(3)*1\n",
        "print(\"A\\n\",A)\n",
        "B = np.ones(3)*2\n",
        "print(\"B\\n\",B)\n",
        "add=np.add(A,B,out=B)\n",
        "print(\"add (A+B)\\n\",add)\n",
        "divide =np.divide(A,2,out=A)\n",
        "print(\"(A/2)\\n\",divide)\n",
        "negative=np.negative(A,out=A)\n",
        "print(\"-1 * (A/2)\\n\",negative)\n",
        "multiply=np.multiply(A,B,out=A)\n",
        "print(\"((A+B)*(-A/2))\\n\",multiply)"
      ]
    },
    {
      "cell_type": "markdown",
      "metadata": {
        "id": "4p23Jq_G2KpS"
      },
      "source": [
        "#### 36. Extract the integer part of a random array using 5 different methods (★★☆) \n",
        "(**hint**: %, np.floor, np.ceil, astype, np.trunc)"
      ]
    },
    {
      "cell_type": "code",
      "execution_count": null,
      "metadata": {
        "id": "3QyiwkfR2KpS"
      },
      "outputs": [],
      "source": [
        "x= np.random.uniform(0,10,10)\n",
        "print(\"random array\\n\",x)\n",
        "print(\"% method\\n\",x - x%1)\n",
        "print(\"using floor\\n\",np.floor(x))\n",
        "print(\"using ceil\\n\",np.ceil(x))\n",
        "print(\"using astype\\n\",x.astype(int))\n",
        "print(\"using trunc\\n\",np.trunc(Z))"
      ]
    },
    {
      "cell_type": "markdown",
      "metadata": {
        "id": "WP1DTRQy2KpS"
      },
      "source": [
        "#### 37. Create a 5x5 matrix with row values ranging from 0 to 4 (★★☆) \n",
        "(**hint**: np.arange)"
      ]
    },
    {
      "cell_type": "code",
      "execution_count": 31,
      "metadata": {
        "id": "65o6xuDP2KpT",
        "colab": {
          "base_uri": "https://localhost:8080/"
        },
        "outputId": "e2a4c60e-5488-49cc-ea9a-bcdebfc60c95"
      },
      "outputs": [
        {
          "output_type": "stream",
          "name": "stdout",
          "text": [
            "[[0. 1. 2. 3. 4.]\n",
            " [0. 1. 2. 3. 4.]\n",
            " [0. 1. 2. 3. 4.]\n",
            " [0. 1. 2. 3. 4.]\n",
            " [0. 1. 2. 3. 4.]]\n"
          ]
        }
      ],
      "source": [
        "x=np.zeros((5,5))\n",
        "x+=np.arange(5)\n",
        "print(x)"
      ]
    },
    {
      "cell_type": "markdown",
      "metadata": {
        "id": "zTu2LIio2KpT"
      },
      "source": [
        "#### 38. Consider a generator function that generates 10 integers and use it to build an array (★☆☆) \n",
        "(**hint**: np.fromiter)"
      ]
    },
    {
      "cell_type": "code",
      "execution_count": 32,
      "metadata": {
        "id": "wo8m5u832KpU",
        "colab": {
          "base_uri": "https://localhost:8080/"
        },
        "outputId": "2e4cc43a-9c6e-4987-db35-e3b260d2c49b"
      },
      "outputs": [
        {
          "output_type": "stream",
          "name": "stdout",
          "text": [
            "[0. 1. 2. 3. 4. 5. 6. 7. 8. 9.]\n"
          ]
        }
      ],
      "source": [
        "def generate():\n",
        "    for x in range(10):\n",
        "        yield x\n",
        "x = np.fromiter(generate(),dtype=float,count=-1)\n",
        "print(x)"
      ]
    },
    {
      "cell_type": "markdown",
      "metadata": {
        "id": "VMlN8awf2KpU"
      },
      "source": [
        "#### 39. Create a vector of size 10 with values ranging from 0 to 1, both excluded (★★☆) \n",
        "(**hint**: np.linspace)"
      ]
    },
    {
      "cell_type": "code",
      "execution_count": 33,
      "metadata": {
        "id": "fA-dZWX32KpV",
        "colab": {
          "base_uri": "https://localhost:8080/"
        },
        "outputId": "d51129dc-156a-4483-b1fa-a882394ad601"
      },
      "outputs": [
        {
          "output_type": "stream",
          "name": "stdout",
          "text": [
            "[0.09090909 0.18181818 0.27272727 0.36363636 0.45454545 0.54545455\n",
            " 0.63636364 0.72727273 0.81818182 0.90909091]\n"
          ]
        }
      ],
      "source": [
        "x = np.linspace(0,1,11,endpoint=False)[1:]\n",
        "print(x)\n"
      ]
    },
    {
      "cell_type": "markdown",
      "metadata": {
        "id": "4sae5j4Q2KpV"
      },
      "source": [
        "#### 40. Create a random vector of size 10 and sort it (★★☆) \n",
        "(**hint**: sort)"
      ]
    },
    {
      "cell_type": "code",
      "execution_count": 34,
      "metadata": {
        "id": "lZY_Gvnz2KpV",
        "colab": {
          "base_uri": "https://localhost:8080/"
        },
        "outputId": "6175c088-dfa4-495b-9c9d-ad2632dfab40"
      },
      "outputs": [
        {
          "output_type": "stream",
          "name": "stdout",
          "text": [
            "[0.16730099 0.20250321 0.36342435 0.53451064 0.55576632 0.69591301\n",
            " 0.8583327  0.86427055 0.87332423 0.98440461]\n"
          ]
        }
      ],
      "source": [
        "x = np.random.random(10)\n",
        "x.sort()\n",
        "\n",
        "print(x)"
      ]
    },
    {
      "cell_type": "markdown",
      "metadata": {
        "id": "QQ7E3AVC2KpW"
      },
      "source": [
        "#### 41. How to sum a small array faster than np.sum? (★★☆) \n",
        "(**hint**: np.add.reduce)"
      ]
    },
    {
      "cell_type": "code",
      "execution_count": 35,
      "metadata": {
        "id": "lzvaMptw2KpW",
        "colab": {
          "base_uri": "https://localhost:8080/"
        },
        "outputId": "b3bc429e-19b7-4bec-d23c-b4c85c8d9073"
      },
      "outputs": [
        {
          "output_type": "execute_result",
          "data": {
            "text/plain": [
              "45"
            ]
          },
          "metadata": {},
          "execution_count": 35
        }
      ],
      "source": [
        "x = np.arange(10)\n",
        "np.add.reduce(x)\n"
      ]
    },
    {
      "cell_type": "markdown",
      "metadata": {
        "id": "fDv32S8I2KpX"
      },
      "source": [
        "#### 42. Consider two random array A and B, check if they are equal (★★☆) \n",
        "(**hint**: np.allclose, np.array\\_equal)"
      ]
    },
    {
      "cell_type": "code",
      "execution_count": 36,
      "metadata": {
        "id": "StkaapNz2KpX",
        "colab": {
          "base_uri": "https://localhost:8080/"
        },
        "outputId": "4d6d92af-a78e-471a-ef88-89eba1e272ec"
      },
      "outputs": [
        {
          "output_type": "stream",
          "name": "stdout",
          "text": [
            "A\n",
            " [0 1 0 1 0]\n",
            "B\n",
            " [1 0 1 1 0]\n",
            "using allclose\n",
            " False\n",
            "using array_equal\n",
            " False\n"
          ]
        }
      ],
      "source": [
        "A = np.random.randint(0,2,5)\n",
        "print(\"A\\n\",A)\n",
        "B = np.random.randint(0,2,5)\n",
        "print(\"B\\n\",B)\n",
        "# Assuming identical shape of the arrays and a tolerance for the comparison of values\n",
        "equal = np.allclose(A,B)\n",
        "print(\"using allclose\\n\",equal)\n",
        "\n",
        "# Checking both the shape and the element values, no tolerance (values have to be exactly equal)\n",
        "equal = np.array_equal(A,B)\n",
        "print(\"using array_equal\\n\",equal)"
      ]
    },
    {
      "cell_type": "markdown",
      "metadata": {
        "id": "u4df9LFM2KpX"
      },
      "source": [
        "#### 43. Make an array immutable (read-only) (★★☆) \n",
        "(**hint**: flags.writeable)"
      ]
    },
    {
      "cell_type": "code",
      "execution_count": 37,
      "metadata": {
        "id": "4xlRAfZy2KpY",
        "colab": {
          "base_uri": "https://localhost:8080/",
          "height": 209
        },
        "outputId": "33f1e022-0b0e-4fa1-eed6-7fd7afc953ed"
      },
      "outputs": [
        {
          "output_type": "error",
          "ename": "ValueError",
          "evalue": "ignored",
          "traceback": [
            "\u001b[0;31m---------------------------------------------------------------------------\u001b[0m",
            "\u001b[0;31mValueError\u001b[0m                                Traceback (most recent call last)",
            "\u001b[0;32m<ipython-input-37-50d3306bb5ff>\u001b[0m in \u001b[0;36m<module>\u001b[0;34m\u001b[0m\n\u001b[1;32m      1\u001b[0m \u001b[0mx\u001b[0m \u001b[0;34m=\u001b[0m \u001b[0mnp\u001b[0m\u001b[0;34m.\u001b[0m\u001b[0mzeros\u001b[0m\u001b[0;34m(\u001b[0m\u001b[0;36m10\u001b[0m\u001b[0;34m)\u001b[0m\u001b[0;34m\u001b[0m\u001b[0;34m\u001b[0m\u001b[0m\n\u001b[1;32m      2\u001b[0m \u001b[0mx\u001b[0m\u001b[0;34m.\u001b[0m\u001b[0mflags\u001b[0m\u001b[0;34m.\u001b[0m\u001b[0mwriteable\u001b[0m \u001b[0;34m=\u001b[0m \u001b[0;32mFalse\u001b[0m\u001b[0;34m\u001b[0m\u001b[0;34m\u001b[0m\u001b[0m\n\u001b[0;32m----> 3\u001b[0;31m \u001b[0mx\u001b[0m\u001b[0;34m[\u001b[0m\u001b[0;36m0\u001b[0m\u001b[0;34m]\u001b[0m \u001b[0;34m=\u001b[0m \u001b[0;36m1\u001b[0m\u001b[0;34m\u001b[0m\u001b[0;34m\u001b[0m\u001b[0m\n\u001b[0m",
            "\u001b[0;31mValueError\u001b[0m: assignment destination is read-only"
          ]
        }
      ],
      "source": [
        "x = np.zeros(10)\n",
        "x.flags.writeable = False\n",
        "x[0] = 1\n"
      ]
    },
    {
      "cell_type": "markdown",
      "metadata": {
        "id": "khCETnDZ2KpY"
      },
      "source": [
        "#### 44. Consider a random 10x2 matrix representing cartesian coordinates, convert them to polar coordinates (★★☆) \n",
        "(**hint**: np.sqrt, np.arctan2)"
      ]
    },
    {
      "cell_type": "code",
      "execution_count": 38,
      "metadata": {
        "id": "b7VvTuKT2KpZ",
        "colab": {
          "base_uri": "https://localhost:8080/"
        },
        "outputId": "21d6925f-dc8a-476a-fc3f-87c5415e4521"
      },
      "outputs": [
        {
          "output_type": "stream",
          "name": "stdout",
          "text": [
            "[0.27277282 1.08891134 0.54530882 0.71317754 0.8049369  0.84128927\n",
            " 0.40005609 0.96415885 1.27755169 0.54273447]\n",
            "[0.51122485 0.98927956 0.98033815 0.75800805 0.16471798 0.60455019\n",
            " 0.02615544 0.41436949 0.69959637 0.86089809]\n"
          ]
        }
      ],
      "source": [
        "Z = np.random.random((10,2))\n",
        "X,Y = Z[:,0], Z[:,1]\n",
        "R = np.sqrt(X**2+Y**2)\n",
        "T = np.arctan2(Y,X)\n",
        "print(R)\n",
        "print(T)\n"
      ]
    },
    {
      "cell_type": "markdown",
      "metadata": {
        "id": "-6Y6fGa62KpZ"
      },
      "source": [
        "#### 45. Create random vector of size 10 and replace the maximum value by 0 (★★☆) \n",
        "(**hint**: argmax)"
      ]
    },
    {
      "cell_type": "code",
      "execution_count": 39,
      "metadata": {
        "id": "KVP3iPST2KpZ",
        "colab": {
          "base_uri": "https://localhost:8080/"
        },
        "outputId": "2fbbac67-c20b-43f9-cc8a-5ecb883f9aa0"
      },
      "outputs": [
        {
          "output_type": "stream",
          "name": "stdout",
          "text": [
            "Z\n",
            " [0.86296148 0.78787516 0.18090024 0.84080998 0.49618743 0.43235685\n",
            " 0.68219754 0.80597654 0.59920214 0.44166   ]\n",
            "replace max value by 0\n",
            " [0.         0.78787516 0.18090024 0.84080998 0.49618743 0.43235685\n",
            " 0.68219754 0.80597654 0.59920214 0.44166   ]\n"
          ]
        }
      ],
      "source": [
        "Z = np.random.random(10)\n",
        "print(\"Z\\n\",Z)\n",
        "Z[Z.argmax()] = 0\n",
        "print(\"replace max value by 0\\n\",Z)\n"
      ]
    },
    {
      "cell_type": "markdown",
      "metadata": {
        "id": "oVGDrOzE2Kpa"
      },
      "source": [
        "#### 46. Create a structured array with `x` and `y` coordinates covering the \\[0,1\\]x\\[0,1\\] area (★★☆) \n",
        "(**hint**: np.meshgrid)"
      ]
    },
    {
      "cell_type": "code",
      "execution_count": 40,
      "metadata": {
        "id": "lQ89ZZiX2Kpa",
        "colab": {
          "base_uri": "https://localhost:8080/"
        },
        "outputId": "fc06d9b3-984c-4a77-8495-87a2cecc5a23"
      },
      "outputs": [
        {
          "output_type": "stream",
          "name": "stdout",
          "text": [
            "[[(0.  , 0.  ) (0.25, 0.  ) (0.5 , 0.  ) (0.75, 0.  ) (1.  , 0.  )]\n",
            " [(0.  , 0.25) (0.25, 0.25) (0.5 , 0.25) (0.75, 0.25) (1.  , 0.25)]\n",
            " [(0.  , 0.5 ) (0.25, 0.5 ) (0.5 , 0.5 ) (0.75, 0.5 ) (1.  , 0.5 )]\n",
            " [(0.  , 0.75) (0.25, 0.75) (0.5 , 0.75) (0.75, 0.75) (1.  , 0.75)]\n",
            " [(0.  , 1.  ) (0.25, 1.  ) (0.5 , 1.  ) (0.75, 1.  ) (1.  , 1.  )]]\n"
          ]
        }
      ],
      "source": [
        "X = np.zeros((5,5), [('x',float),('y',float)])\n",
        "X['x'], X['y'] = np.meshgrid(np.linspace(0,1,5),\n",
        "                             np.linspace(0,1,5))\n",
        "print(X)\n"
      ]
    },
    {
      "cell_type": "markdown",
      "metadata": {
        "id": "4NIFqABo2Kpa"
      },
      "source": [
        "####  47. Given two arrays, X and Y, construct the Cauchy matrix C (Cij =1/(xi - yj)) \n",
        "(**hint**: np.subtract.outer)"
      ]
    },
    {
      "cell_type": "code",
      "execution_count": 41,
      "metadata": {
        "id": "VcPdkci-2Kpb",
        "colab": {
          "base_uri": "https://localhost:8080/"
        },
        "outputId": "5876d141-9cf2-47c1-fdf2-e30c7c94aef3"
      },
      "outputs": [
        {
          "output_type": "stream",
          "name": "stdout",
          "text": [
            "value of X\n",
            " [0 1 2 3 4 5 6 7]\n",
            "value of Y\n",
            " [0.5 1.5 2.5 3.5 4.5 5.5 6.5 7.5]\n",
            "value of C\n",
            " [[-2.         -0.66666667 -0.4        -0.28571429 -0.22222222 -0.18181818\n",
            "  -0.15384615 -0.13333333]\n",
            " [ 2.         -2.         -0.66666667 -0.4        -0.28571429 -0.22222222\n",
            "  -0.18181818 -0.15384615]\n",
            " [ 0.66666667  2.         -2.         -0.66666667 -0.4        -0.28571429\n",
            "  -0.22222222 -0.18181818]\n",
            " [ 0.4         0.66666667  2.         -2.         -0.66666667 -0.4\n",
            "  -0.28571429 -0.22222222]\n",
            " [ 0.28571429  0.4         0.66666667  2.         -2.         -0.66666667\n",
            "  -0.4        -0.28571429]\n",
            " [ 0.22222222  0.28571429  0.4         0.66666667  2.         -2.\n",
            "  -0.66666667 -0.4       ]\n",
            " [ 0.18181818  0.22222222  0.28571429  0.4         0.66666667  2.\n",
            "  -2.         -0.66666667]\n",
            " [ 0.15384615  0.18181818  0.22222222  0.28571429  0.4         0.66666667\n",
            "   2.         -2.        ]]\n",
            "value linalg.det\n",
            "\n",
            "3638.163637117973\n"
          ]
        }
      ],
      "source": [
        "X = np.arange(8)\n",
        "print(\"value of X\\n\",X)\n",
        "Y = X + 0.5\n",
        "print(\"value of Y\\n\",Y)\n",
        "C = 1.0 / np.subtract.outer(X, Y)\n",
        "print(\"value of C\\n\",C)\n",
        "print(\"value linalg.det\\n\")\n",
        "print(np.linalg.det(C))"
      ]
    },
    {
      "cell_type": "markdown",
      "metadata": {
        "id": "FgzFJ8r02Kpb"
      },
      "source": [
        "#### 48. Print the minimum and maximum representable value for each numpy scalar type (★★☆) \n",
        "(**hint**: np.iinfo, np.finfo, eps)"
      ]
    },
    {
      "cell_type": "code",
      "execution_count": 42,
      "metadata": {
        "id": "6MQcIeUB2Kpc",
        "colab": {
          "base_uri": "https://localhost:8080/"
        },
        "outputId": "d399b426-9ba7-47ea-8efd-084e2a627257"
      },
      "outputs": [
        {
          "output_type": "stream",
          "name": "stdout",
          "text": [
            "using iinfo min\n",
            " -128\n",
            "using iinfo max\n",
            " 127\n",
            "using iinfo min\n",
            " -2147483648\n",
            "using iinfo max\n",
            " 2147483647\n",
            "using iinfo min\n",
            " -9223372036854775808\n",
            "using iinfo max\n",
            " 9223372036854775807\n",
            "finfo min\n",
            " -3.4028235e+38\n",
            "finfo max\n",
            " 3.4028235e+38\n",
            "finfo eps\n",
            " 1.1920929e-07\n",
            "finfo min\n",
            " -1.7976931348623157e+308\n",
            "finfo max\n",
            " 1.7976931348623157e+308\n",
            "finfo eps\n",
            " 2.220446049250313e-16\n"
          ]
        }
      ],
      "source": [
        "for dtype in [np.int8, np.int32, np.int64]:\n",
        "   print(\"using iinfo min\\n\",np.iinfo(dtype).min)\n",
        "   print(\"using iinfo max\\n\",np.iinfo(dtype).max)\n",
        "for dtype in [np.float32, np.float64]:\n",
        "   print(\"finfo min\\n\",np.finfo(dtype).min)\n",
        "   print(\"finfo max\\n\",np.finfo(dtype).max)\n",
        "   print(\"finfo eps\\n\",np.finfo(dtype).eps)\n"
      ]
    },
    {
      "cell_type": "markdown",
      "metadata": {
        "id": "RgOshGtE2Kpc"
      },
      "source": [
        "#### 49. How to print all the values of an array? (★★☆) \n",
        "(**hint**: np.set\\_printoptions)"
      ]
    },
    {
      "cell_type": "code",
      "execution_count": 43,
      "metadata": {
        "id": "zCfkjRcn2Kpc",
        "colab": {
          "base_uri": "https://localhost:8080/"
        },
        "outputId": "6c0f76a4-7baf-45d1-cb9c-8513435ced5c"
      },
      "outputs": [
        {
          "output_type": "stream",
          "name": "stdout",
          "text": [
            "[[0. 0. 0. 0. 0. 0. 0. 0. 0. 0. 0. 0. 0. 0. 0. 0. 0. 0. 0. 0. 0. 0. 0. 0.\n",
            "  0. 0. 0. 0. 0. 0. 0. 0. 0. 0. 0. 0. 0. 0. 0. 0.]\n",
            " [0. 0. 0. 0. 0. 0. 0. 0. 0. 0. 0. 0. 0. 0. 0. 0. 0. 0. 0. 0. 0. 0. 0. 0.\n",
            "  0. 0. 0. 0. 0. 0. 0. 0. 0. 0. 0. 0. 0. 0. 0. 0.]\n",
            " [0. 0. 0. 0. 0. 0. 0. 0. 0. 0. 0. 0. 0. 0. 0. 0. 0. 0. 0. 0. 0. 0. 0. 0.\n",
            "  0. 0. 0. 0. 0. 0. 0. 0. 0. 0. 0. 0. 0. 0. 0. 0.]\n",
            " [0. 0. 0. 0. 0. 0. 0. 0. 0. 0. 0. 0. 0. 0. 0. 0. 0. 0. 0. 0. 0. 0. 0. 0.\n",
            "  0. 0. 0. 0. 0. 0. 0. 0. 0. 0. 0. 0. 0. 0. 0. 0.]\n",
            " [0. 0. 0. 0. 0. 0. 0. 0. 0. 0. 0. 0. 0. 0. 0. 0. 0. 0. 0. 0. 0. 0. 0. 0.\n",
            "  0. 0. 0. 0. 0. 0. 0. 0. 0. 0. 0. 0. 0. 0. 0. 0.]\n",
            " [0. 0. 0. 0. 0. 0. 0. 0. 0. 0. 0. 0. 0. 0. 0. 0. 0. 0. 0. 0. 0. 0. 0. 0.\n",
            "  0. 0. 0. 0. 0. 0. 0. 0. 0. 0. 0. 0. 0. 0. 0. 0.]\n",
            " [0. 0. 0. 0. 0. 0. 0. 0. 0. 0. 0. 0. 0. 0. 0. 0. 0. 0. 0. 0. 0. 0. 0. 0.\n",
            "  0. 0. 0. 0. 0. 0. 0. 0. 0. 0. 0. 0. 0. 0. 0. 0.]\n",
            " [0. 0. 0. 0. 0. 0. 0. 0. 0. 0. 0. 0. 0. 0. 0. 0. 0. 0. 0. 0. 0. 0. 0. 0.\n",
            "  0. 0. 0. 0. 0. 0. 0. 0. 0. 0. 0. 0. 0. 0. 0. 0.]\n",
            " [0. 0. 0. 0. 0. 0. 0. 0. 0. 0. 0. 0. 0. 0. 0. 0. 0. 0. 0. 0. 0. 0. 0. 0.\n",
            "  0. 0. 0. 0. 0. 0. 0. 0. 0. 0. 0. 0. 0. 0. 0. 0.]\n",
            " [0. 0. 0. 0. 0. 0. 0. 0. 0. 0. 0. 0. 0. 0. 0. 0. 0. 0. 0. 0. 0. 0. 0. 0.\n",
            "  0. 0. 0. 0. 0. 0. 0. 0. 0. 0. 0. 0. 0. 0. 0. 0.]\n",
            " [0. 0. 0. 0. 0. 0. 0. 0. 0. 0. 0. 0. 0. 0. 0. 0. 0. 0. 0. 0. 0. 0. 0. 0.\n",
            "  0. 0. 0. 0. 0. 0. 0. 0. 0. 0. 0. 0. 0. 0. 0. 0.]\n",
            " [0. 0. 0. 0. 0. 0. 0. 0. 0. 0. 0. 0. 0. 0. 0. 0. 0. 0. 0. 0. 0. 0. 0. 0.\n",
            "  0. 0. 0. 0. 0. 0. 0. 0. 0. 0. 0. 0. 0. 0. 0. 0.]\n",
            " [0. 0. 0. 0. 0. 0. 0. 0. 0. 0. 0. 0. 0. 0. 0. 0. 0. 0. 0. 0. 0. 0. 0. 0.\n",
            "  0. 0. 0. 0. 0. 0. 0. 0. 0. 0. 0. 0. 0. 0. 0. 0.]\n",
            " [0. 0. 0. 0. 0. 0. 0. 0. 0. 0. 0. 0. 0. 0. 0. 0. 0. 0. 0. 0. 0. 0. 0. 0.\n",
            "  0. 0. 0. 0. 0. 0. 0. 0. 0. 0. 0. 0. 0. 0. 0. 0.]\n",
            " [0. 0. 0. 0. 0. 0. 0. 0. 0. 0. 0. 0. 0. 0. 0. 0. 0. 0. 0. 0. 0. 0. 0. 0.\n",
            "  0. 0. 0. 0. 0. 0. 0. 0. 0. 0. 0. 0. 0. 0. 0. 0.]\n",
            " [0. 0. 0. 0. 0. 0. 0. 0. 0. 0. 0. 0. 0. 0. 0. 0. 0. 0. 0. 0. 0. 0. 0. 0.\n",
            "  0. 0. 0. 0. 0. 0. 0. 0. 0. 0. 0. 0. 0. 0. 0. 0.]\n",
            " [0. 0. 0. 0. 0. 0. 0. 0. 0. 0. 0. 0. 0. 0. 0. 0. 0. 0. 0. 0. 0. 0. 0. 0.\n",
            "  0. 0. 0. 0. 0. 0. 0. 0. 0. 0. 0. 0. 0. 0. 0. 0.]\n",
            " [0. 0. 0. 0. 0. 0. 0. 0. 0. 0. 0. 0. 0. 0. 0. 0. 0. 0. 0. 0. 0. 0. 0. 0.\n",
            "  0. 0. 0. 0. 0. 0. 0. 0. 0. 0. 0. 0. 0. 0. 0. 0.]\n",
            " [0. 0. 0. 0. 0. 0. 0. 0. 0. 0. 0. 0. 0. 0. 0. 0. 0. 0. 0. 0. 0. 0. 0. 0.\n",
            "  0. 0. 0. 0. 0. 0. 0. 0. 0. 0. 0. 0. 0. 0. 0. 0.]\n",
            " [0. 0. 0. 0. 0. 0. 0. 0. 0. 0. 0. 0. 0. 0. 0. 0. 0. 0. 0. 0. 0. 0. 0. 0.\n",
            "  0. 0. 0. 0. 0. 0. 0. 0. 0. 0. 0. 0. 0. 0. 0. 0.]\n",
            " [0. 0. 0. 0. 0. 0. 0. 0. 0. 0. 0. 0. 0. 0. 0. 0. 0. 0. 0. 0. 0. 0. 0. 0.\n",
            "  0. 0. 0. 0. 0. 0. 0. 0. 0. 0. 0. 0. 0. 0. 0. 0.]\n",
            " [0. 0. 0. 0. 0. 0. 0. 0. 0. 0. 0. 0. 0. 0. 0. 0. 0. 0. 0. 0. 0. 0. 0. 0.\n",
            "  0. 0. 0. 0. 0. 0. 0. 0. 0. 0. 0. 0. 0. 0. 0. 0.]\n",
            " [0. 0. 0. 0. 0. 0. 0. 0. 0. 0. 0. 0. 0. 0. 0. 0. 0. 0. 0. 0. 0. 0. 0. 0.\n",
            "  0. 0. 0. 0. 0. 0. 0. 0. 0. 0. 0. 0. 0. 0. 0. 0.]\n",
            " [0. 0. 0. 0. 0. 0. 0. 0. 0. 0. 0. 0. 0. 0. 0. 0. 0. 0. 0. 0. 0. 0. 0. 0.\n",
            "  0. 0. 0. 0. 0. 0. 0. 0. 0. 0. 0. 0. 0. 0. 0. 0.]\n",
            " [0. 0. 0. 0. 0. 0. 0. 0. 0. 0. 0. 0. 0. 0. 0. 0. 0. 0. 0. 0. 0. 0. 0. 0.\n",
            "  0. 0. 0. 0. 0. 0. 0. 0. 0. 0. 0. 0. 0. 0. 0. 0.]\n",
            " [0. 0. 0. 0. 0. 0. 0. 0. 0. 0. 0. 0. 0. 0. 0. 0. 0. 0. 0. 0. 0. 0. 0. 0.\n",
            "  0. 0. 0. 0. 0. 0. 0. 0. 0. 0. 0. 0. 0. 0. 0. 0.]\n",
            " [0. 0. 0. 0. 0. 0. 0. 0. 0. 0. 0. 0. 0. 0. 0. 0. 0. 0. 0. 0. 0. 0. 0. 0.\n",
            "  0. 0. 0. 0. 0. 0. 0. 0. 0. 0. 0. 0. 0. 0. 0. 0.]\n",
            " [0. 0. 0. 0. 0. 0. 0. 0. 0. 0. 0. 0. 0. 0. 0. 0. 0. 0. 0. 0. 0. 0. 0. 0.\n",
            "  0. 0. 0. 0. 0. 0. 0. 0. 0. 0. 0. 0. 0. 0. 0. 0.]\n",
            " [0. 0. 0. 0. 0. 0. 0. 0. 0. 0. 0. 0. 0. 0. 0. 0. 0. 0. 0. 0. 0. 0. 0. 0.\n",
            "  0. 0. 0. 0. 0. 0. 0. 0. 0. 0. 0. 0. 0. 0. 0. 0.]\n",
            " [0. 0. 0. 0. 0. 0. 0. 0. 0. 0. 0. 0. 0. 0. 0. 0. 0. 0. 0. 0. 0. 0. 0. 0.\n",
            "  0. 0. 0. 0. 0. 0. 0. 0. 0. 0. 0. 0. 0. 0. 0. 0.]\n",
            " [0. 0. 0. 0. 0. 0. 0. 0. 0. 0. 0. 0. 0. 0. 0. 0. 0. 0. 0. 0. 0. 0. 0. 0.\n",
            "  0. 0. 0. 0. 0. 0. 0. 0. 0. 0. 0. 0. 0. 0. 0. 0.]\n",
            " [0. 0. 0. 0. 0. 0. 0. 0. 0. 0. 0. 0. 0. 0. 0. 0. 0. 0. 0. 0. 0. 0. 0. 0.\n",
            "  0. 0. 0. 0. 0. 0. 0. 0. 0. 0. 0. 0. 0. 0. 0. 0.]\n",
            " [0. 0. 0. 0. 0. 0. 0. 0. 0. 0. 0. 0. 0. 0. 0. 0. 0. 0. 0. 0. 0. 0. 0. 0.\n",
            "  0. 0. 0. 0. 0. 0. 0. 0. 0. 0. 0. 0. 0. 0. 0. 0.]\n",
            " [0. 0. 0. 0. 0. 0. 0. 0. 0. 0. 0. 0. 0. 0. 0. 0. 0. 0. 0. 0. 0. 0. 0. 0.\n",
            "  0. 0. 0. 0. 0. 0. 0. 0. 0. 0. 0. 0. 0. 0. 0. 0.]\n",
            " [0. 0. 0. 0. 0. 0. 0. 0. 0. 0. 0. 0. 0. 0. 0. 0. 0. 0. 0. 0. 0. 0. 0. 0.\n",
            "  0. 0. 0. 0. 0. 0. 0. 0. 0. 0. 0. 0. 0. 0. 0. 0.]\n",
            " [0. 0. 0. 0. 0. 0. 0. 0. 0. 0. 0. 0. 0. 0. 0. 0. 0. 0. 0. 0. 0. 0. 0. 0.\n",
            "  0. 0. 0. 0. 0. 0. 0. 0. 0. 0. 0. 0. 0. 0. 0. 0.]\n",
            " [0. 0. 0. 0. 0. 0. 0. 0. 0. 0. 0. 0. 0. 0. 0. 0. 0. 0. 0. 0. 0. 0. 0. 0.\n",
            "  0. 0. 0. 0. 0. 0. 0. 0. 0. 0. 0. 0. 0. 0. 0. 0.]\n",
            " [0. 0. 0. 0. 0. 0. 0. 0. 0. 0. 0. 0. 0. 0. 0. 0. 0. 0. 0. 0. 0. 0. 0. 0.\n",
            "  0. 0. 0. 0. 0. 0. 0. 0. 0. 0. 0. 0. 0. 0. 0. 0.]\n",
            " [0. 0. 0. 0. 0. 0. 0. 0. 0. 0. 0. 0. 0. 0. 0. 0. 0. 0. 0. 0. 0. 0. 0. 0.\n",
            "  0. 0. 0. 0. 0. 0. 0. 0. 0. 0. 0. 0. 0. 0. 0. 0.]\n",
            " [0. 0. 0. 0. 0. 0. 0. 0. 0. 0. 0. 0. 0. 0. 0. 0. 0. 0. 0. 0. 0. 0. 0. 0.\n",
            "  0. 0. 0. 0. 0. 0. 0. 0. 0. 0. 0. 0. 0. 0. 0. 0.]]\n"
          ]
        }
      ],
      "source": [
        "np.set_printoptions(threshold=float(\"inf\"))\n",
        "x = np.zeros((40,40))\n",
        "print(x)\n"
      ]
    },
    {
      "cell_type": "markdown",
      "metadata": {
        "id": "xz5_Tdp92Kpd"
      },
      "source": [
        "#### 50. How to find the closest value (to a given scalar) in a vector? (★★☆) \n",
        "(**hint**: argmin)"
      ]
    },
    {
      "cell_type": "code",
      "execution_count": 44,
      "metadata": {
        "id": "hU_3cfWy2Kpd",
        "colab": {
          "base_uri": "https://localhost:8080/"
        },
        "outputId": "3d7418b0-2b81-420f-efab-47d8c9873d16"
      },
      "outputs": [
        {
          "output_type": "stream",
          "name": "stdout",
          "text": [
            "value of x\n",
            " [ 0  1  2  3  4  5  6  7  8  9 10 11 12 13 14 15 16 17 18 19 20 21 22 23\n",
            " 24 25 26 27 28 29 30 31 32 33 34 35 36 37 38 39 40 41 42 43 44 45 46 47\n",
            " 48 49 50 51 52 53 54 55 56 57 58 59 60 61 62 63 64 65 66 67 68 69 70 71\n",
            " 72 73 74 75 76 77 78 79 80 81 82 83 84 85 86 87 88 89 90 91 92 93 94 95\n",
            " 96 97 98 99]\n",
            "value of y\n",
            " 46.0708628703536\n",
            "value of argmin x,y \n",
            " 46\n",
            "index of argamin value\n",
            " 46\n"
          ]
        }
      ],
      "source": [
        "x= np.arange(100)\n",
        "print(\"value of x\\n\",x)\n",
        "y= np.random.uniform(0,100)\n",
        "print(\"value of y\\n\",y)\n",
        "index = (np.abs(x-y)).argmin()\n",
        "print(\"value of argmin x,y \\n\",index)\n",
        "print(\"index of argamin value\\n\",x[index])"
      ]
    },
    {
      "cell_type": "markdown",
      "metadata": {
        "id": "TeXV1j4Y2Kpe"
      },
      "source": [
        "#### 51. Create a structured array representing a position (x,y) and a color (r,g,b) (★★☆) \n",
        "(**hint**: dtype)"
      ]
    },
    {
      "cell_type": "code",
      "execution_count": 45,
      "metadata": {
        "id": "k4mYgTho2Kpe",
        "colab": {
          "base_uri": "https://localhost:8080/"
        },
        "outputId": "75878ffa-f8d9-459b-a2ab-0baf0dbe55b8"
      },
      "outputs": [
        {
          "output_type": "stream",
          "name": "stdout",
          "text": [
            "[((0., 0.), (0., 0., 0.)) ((0., 0.), (0., 0., 0.))\n",
            " ((0., 0.), (0., 0., 0.)) ((0., 0.), (0., 0., 0.))\n",
            " ((0., 0.), (0., 0., 0.)) ((0., 0.), (0., 0., 0.))\n",
            " ((0., 0.), (0., 0., 0.)) ((0., 0.), (0., 0., 0.))\n",
            " ((0., 0.), (0., 0., 0.)) ((0., 0.), (0., 0., 0.))]\n"
          ]
        },
        {
          "output_type": "stream",
          "name": "stderr",
          "text": [
            "/usr/local/lib/python3.7/dist-packages/ipykernel_launcher.py:5: FutureWarning: Passing (type, 1) or '1type' as a synonym of type is deprecated; in a future version of numpy, it will be understood as (type, (1,)) / '(1,)type'.\n",
            "  \"\"\"\n"
          ]
        }
      ],
      "source": [
        "a= np.zeros(10, [ ('position', [ ('x', float, 1),\n",
        "                                  ('y', float, 1)]),\n",
        "                   ('color',    [ ('r', float, 1),\n",
        "                                  ('g', float, 1),\n",
        "                                  ('b', float, 1)])])\n",
        "print(a)"
      ]
    },
    {
      "cell_type": "markdown",
      "metadata": {
        "id": "_ywJWtWM2Kpe"
      },
      "source": [
        "#### 52. Consider a random vector with shape (100,2) representing coordinates, find point by point distances (★★☆) \n",
        "(**hint**: np.atleast\\_2d, T, np.sqrt)"
      ]
    },
    {
      "cell_type": "code",
      "execution_count": 46,
      "metadata": {
        "id": "GgrsSLdW2Kpf",
        "colab": {
          "base_uri": "https://localhost:8080/"
        },
        "outputId": "e6d89dd9-13ff-42fa-b707-39b20c272ade"
      },
      "outputs": [
        {
          "output_type": "stream",
          "name": "stdout",
          "text": [
            "val of Z\n",
            " [[0.86574755 0.58433061]\n",
            " [0.78227859 0.49597966]\n",
            " [0.65853651 0.08443745]\n",
            " [0.87891331 0.40813561]\n",
            " [0.99024854 0.96272868]\n",
            " [0.47890977 0.22351925]\n",
            " [0.28356576 0.12242157]\n",
            " [0.41667985 0.56641451]\n",
            " [0.89501644 0.69467357]\n",
            " [0.72013887 0.3473838 ]]\n",
            "val of X \n",
            " [[0.86574755 0.78227859 0.65853651 0.87891331 0.99024854 0.47890977\n",
            "  0.28356576 0.41667985 0.89501644 0.72013887]]\n",
            "val of Y \n",
            " [[0.58433061 0.49597966 0.08443745 0.40813561 0.96272868 0.22351925\n",
            "  0.12242157 0.56641451 0.69467357 0.3473838 ]]\n",
            "np.sqrt( (X-X.T)**2 + (Y-Y.T)**2) ans==\n",
            "[[0.         0.12154405 0.5411373  0.1766862  0.39835361 0.528988\n",
            "  0.74316592 0.44942495 0.11415882 0.2781109 ]\n",
            " [0.12154405 0.         0.42974305 0.13059421 0.51098547 0.4077589\n",
            "  0.62310523 0.37232178 0.22844932 0.16106543]\n",
            " [0.5411373  0.42974305 0.         0.39159473 0.93884416 0.22717727\n",
            "  0.37688971 0.53925553 0.65445464 0.27006598]\n",
            " [0.1766862  0.13059421 0.39159473 0.         0.56565803 0.44055197\n",
            "  0.66035688 0.4885816  0.28699009 0.17000031]\n",
            " [0.39835361 0.51098547 0.93884416 0.56565803 0.         0.89883142\n",
            "  1.09796019 0.69716997 0.28446915 0.67201827]\n",
            " [0.528988   0.4077589  0.22717727 0.44055197 0.89883142 0.\n",
            "  0.21995459 0.34849637 0.62859459 0.27117137]\n",
            " [0.74316592 0.62310523 0.37688971 0.66035688 1.09796019 0.21995459\n",
            "  0.         0.46351816 0.837463   0.49112533]\n",
            " [0.44942495 0.37232178 0.53925553 0.4885816  0.69716997 0.34849637\n",
            "  0.46351816 0.         0.49523356 0.37424835]\n",
            " [0.11415882 0.22844932 0.65445464 0.28699009 0.28446915 0.62859459\n",
            "  0.837463   0.49523356 0.         0.3888346 ]\n",
            " [0.2781109  0.16106543 0.27006598 0.17000031 0.67201827 0.27117137\n",
            "  0.49112533 0.37424835 0.3888346  0.        ]]\n"
          ]
        }
      ],
      "source": [
        "Z = np.random.random((10,2))\n",
        "print(\"val of Z\\n\",Z)\n",
        "X,Y = np.atleast_2d(Z[:,0], Z[:,1])\n",
        "print(\"val of X \\n\",X)\n",
        "print(\"val of Y \\n\",Y)\n",
        "D = np.sqrt( (X-X.T)**2 + (Y-Y.T)**2)\n",
        "print(\"np.sqrt( (X-X.T)**2 + (Y-Y.T)**2) ans==\")\n",
        "print(D)\n",
        "\n"
      ]
    },
    {
      "cell_type": "markdown",
      "metadata": {
        "id": "sh3zMsRu2Kpf"
      },
      "source": [
        "#### 53. How to convert a float (32 bits) array into an integer (32 bits) in place? \n",
        "(**hint**: astype(copy=False))"
      ]
    },
    {
      "cell_type": "code",
      "execution_count": 47,
      "metadata": {
        "id": "UM9zKKXl2Kpg",
        "colab": {
          "base_uri": "https://localhost:8080/"
        },
        "outputId": "11eeb4de-766e-4bc1-9a22-31d01ac5f8a0"
      },
      "outputs": [
        {
          "output_type": "stream",
          "name": "stdout",
          "text": [
            "val of z\n",
            " [44.560738  69.95912   46.924076  87.02099   55.095825   0.6409804\n",
            " 12.428393  99.01546   56.61644    3.7228842]\n",
            "val of Y\n",
            " [1110588978 1116465938 1111208513 1118702271 1113350688 1059329867\n",
            " 1095162547 1120274410 1113749308 1080968124]\n",
            "val of 32 bit integer1`\n",
            "[44 69 46 87 55  0 12 99 56  3]\n"
          ]
        }
      ],
      "source": [
        "Z = (np.random.rand(10)*100).astype(np.float32)\n",
        "print(\"val of z\\n\",Z)\n",
        "Y = Z.view(np.int32)\n",
        "print(\"val of Y\\n\",Y)\n",
        "Y[:] = Z\n",
        "print(\"val of 32 bit integer1`\")\n",
        "print(Y)"
      ]
    },
    {
      "cell_type": "markdown",
      "metadata": {
        "id": "SyKjDoWa2Kpg"
      },
      "source": [
        "#### 54. How to read the following file? (★★☆) \n",
        "(**hint**: np.genfromtxt)"
      ]
    },
    {
      "cell_type": "markdown",
      "metadata": {
        "id": "-lXfgUYD2Kph"
      },
      "source": [
        "```\n",
        "1, 2, 3, 4, 5\n",
        "6,  ,  , 7, 8\n",
        " ,  , 9,10,11\n",
        "```"
      ]
    },
    {
      "cell_type": "code",
      "execution_count": 48,
      "metadata": {
        "id": "MUBzS9-r2Kpi",
        "colab": {
          "base_uri": "https://localhost:8080/"
        },
        "outputId": "a6e0e6e5-3f7b-46c4-f122-8f9fea565095"
      },
      "outputs": [
        {
          "output_type": "stream",
          "name": "stdout",
          "text": [
            "using genfromtxt read file like below:::\n",
            " [[ 1  2  3  4  5]\n",
            " [ 6 -1 -1  7  8]\n",
            " [-1 -1  9 10 11]]\n"
          ]
        },
        {
          "output_type": "stream",
          "name": "stderr",
          "text": [
            "/usr/local/lib/python3.7/dist-packages/ipykernel_launcher.py:8: DeprecationWarning: `np.int` is a deprecated alias for the builtin `int`. To silence this warning, use `int` by itself. Doing this will not modify any behavior and is safe. When replacing `np.int`, you may wish to use e.g. `np.int64` or `np.int32` to specify the precision. If you wish to review your current use, check the release note link for additional information.\n",
            "Deprecated in NumPy 1.20; for more details and guidance: https://numpy.org/devdocs/release/1.20.0-notes.html#deprecations\n",
            "  \n"
          ]
        }
      ],
      "source": [
        "from io import StringIO\n",
        "\n",
        "# make file readable using string id\n",
        "a = StringIO('''1, 2, 3, 4, 5\n",
        "                6,  ,  , 7, 8\n",
        "                 ,  , 9,10,11\n",
        "''')\n",
        "x = np.genfromtxt(a, delimiter=\",\", dtype=np.int)\n",
        "print(\"using genfromtxt read file like below:::\\n\",x)\n"
      ]
    },
    {
      "cell_type": "markdown",
      "metadata": {
        "id": "dkDB_BO32Kpi"
      },
      "source": [
        "#### 55. What is the equivalent of enumerate for numpy arrays? (★★☆) \n",
        "(**hint**: np.ndenumerate, np.ndindex)"
      ]
    },
    {
      "cell_type": "code",
      "execution_count": 49,
      "metadata": {
        "id": "DW53FzPb2Kpi",
        "colab": {
          "base_uri": "https://localhost:8080/"
        },
        "outputId": "640f6d67-3f6a-494b-b459-90a6f0487438"
      },
      "outputs": [
        {
          "output_type": "stream",
          "name": "stdout",
          "text": [
            "3*3 matix\n",
            " [[0 1 2]\n",
            " [3 4 5]\n",
            " [6 7 8]]\n",
            "using ndenumerate get index and value\n",
            " (0, 0) 0\n",
            "using ndenumerate get index and value\n",
            " (0, 1) 1\n",
            "using ndenumerate get index and value\n",
            " (0, 2) 2\n",
            "using ndenumerate get index and value\n",
            " (1, 0) 3\n",
            "using ndenumerate get index and value\n",
            " (1, 1) 4\n",
            "using ndenumerate get index and value\n",
            " (1, 2) 5\n",
            "using ndenumerate get index and value\n",
            " (2, 0) 6\n",
            "using ndenumerate get index and value\n",
            " (2, 1) 7\n",
            "using ndenumerate get index and value\n",
            " (2, 2) 8\n",
            "using ndindex get index and value\n",
            " (0, 0) 0\n",
            "using ndindex get index and value\n",
            " (0, 1) 1\n",
            "using ndindex get index and value\n",
            " (0, 2) 2\n",
            "using ndindex get index and value\n",
            " (1, 0) 3\n",
            "using ndindex get index and value\n",
            " (1, 1) 4\n",
            "using ndindex get index and value\n",
            " (1, 2) 5\n",
            "using ndindex get index and value\n",
            " (2, 0) 6\n",
            "using ndindex get index and value\n",
            " (2, 1) 7\n",
            "using ndindex get index and value\n",
            " (2, 2) 8\n"
          ]
        }
      ],
      "source": [
        "x = np.arange(9).reshape(3,3)\n",
        "print(\"3*3 matix\\n\",x)\n",
        "for index, value in np.ndenumerate(x):\n",
        "    print(\"using ndenumerate get index and value\\n\",index, value)\n",
        "for index in np.ndindex(x.shape):\n",
        "    print(\"using ndindex get index and value\\n\",index, x[index])"
      ]
    },
    {
      "cell_type": "markdown",
      "metadata": {
        "id": "1_fDbsa22Kpj"
      },
      "source": [
        "#### 56. Generate a generic 2D Gaussian-like array (★★☆) \n",
        "(**hint**: np.meshgrid, np.exp)"
      ]
    },
    {
      "cell_type": "code",
      "execution_count": 50,
      "metadata": {
        "id": "oE1NDkEX2Kpj",
        "colab": {
          "base_uri": "https://localhost:8080/"
        },
        "outputId": "22bf7a2a-534c-4045-d075-d1c722f624fb"
      },
      "outputs": [
        {
          "output_type": "stream",
          "name": "stdout",
          "text": [
            "####using meshgrid and linespace create X,Y #####\n",
            " [[-1.         -0.77777778 -0.55555556 -0.33333333 -0.11111111  0.11111111\n",
            "   0.33333333  0.55555556  0.77777778  1.        ]\n",
            " [-1.         -0.77777778 -0.55555556 -0.33333333 -0.11111111  0.11111111\n",
            "   0.33333333  0.55555556  0.77777778  1.        ]\n",
            " [-1.         -0.77777778 -0.55555556 -0.33333333 -0.11111111  0.11111111\n",
            "   0.33333333  0.55555556  0.77777778  1.        ]\n",
            " [-1.         -0.77777778 -0.55555556 -0.33333333 -0.11111111  0.11111111\n",
            "   0.33333333  0.55555556  0.77777778  1.        ]\n",
            " [-1.         -0.77777778 -0.55555556 -0.33333333 -0.11111111  0.11111111\n",
            "   0.33333333  0.55555556  0.77777778  1.        ]\n",
            " [-1.         -0.77777778 -0.55555556 -0.33333333 -0.11111111  0.11111111\n",
            "   0.33333333  0.55555556  0.77777778  1.        ]\n",
            " [-1.         -0.77777778 -0.55555556 -0.33333333 -0.11111111  0.11111111\n",
            "   0.33333333  0.55555556  0.77777778  1.        ]\n",
            " [-1.         -0.77777778 -0.55555556 -0.33333333 -0.11111111  0.11111111\n",
            "   0.33333333  0.55555556  0.77777778  1.        ]\n",
            " [-1.         -0.77777778 -0.55555556 -0.33333333 -0.11111111  0.11111111\n",
            "   0.33333333  0.55555556  0.77777778  1.        ]\n",
            " [-1.         -0.77777778 -0.55555556 -0.33333333 -0.11111111  0.11111111\n",
            "   0.33333333  0.55555556  0.77777778  1.        ]] [[-1.         -1.         -1.         -1.         -1.         -1.\n",
            "  -1.         -1.         -1.         -1.        ]\n",
            " [-0.77777778 -0.77777778 -0.77777778 -0.77777778 -0.77777778 -0.77777778\n",
            "  -0.77777778 -0.77777778 -0.77777778 -0.77777778]\n",
            " [-0.55555556 -0.55555556 -0.55555556 -0.55555556 -0.55555556 -0.55555556\n",
            "  -0.55555556 -0.55555556 -0.55555556 -0.55555556]\n",
            " [-0.33333333 -0.33333333 -0.33333333 -0.33333333 -0.33333333 -0.33333333\n",
            "  -0.33333333 -0.33333333 -0.33333333 -0.33333333]\n",
            " [-0.11111111 -0.11111111 -0.11111111 -0.11111111 -0.11111111 -0.11111111\n",
            "  -0.11111111 -0.11111111 -0.11111111 -0.11111111]\n",
            " [ 0.11111111  0.11111111  0.11111111  0.11111111  0.11111111  0.11111111\n",
            "   0.11111111  0.11111111  0.11111111  0.11111111]\n",
            " [ 0.33333333  0.33333333  0.33333333  0.33333333  0.33333333  0.33333333\n",
            "   0.33333333  0.33333333  0.33333333  0.33333333]\n",
            " [ 0.55555556  0.55555556  0.55555556  0.55555556  0.55555556  0.55555556\n",
            "   0.55555556  0.55555556  0.55555556  0.55555556]\n",
            " [ 0.77777778  0.77777778  0.77777778  0.77777778  0.77777778  0.77777778\n",
            "   0.77777778  0.77777778  0.77777778  0.77777778]\n",
            " [ 1.          1.          1.          1.          1.          1.\n",
            "   1.          1.          1.          1.        ]]\n",
            "####np.sqrt(X*X+Y*Y)\n",
            "#### [[1.41421356 1.26686158 1.1439589  1.05409255 1.0061539  1.0061539\n",
            "  1.05409255 1.1439589  1.26686158 1.41421356]\n",
            " [1.26686158 1.09994388 0.95581392 0.84619701 0.7856742  0.7856742\n",
            "  0.84619701 0.95581392 1.09994388 1.26686158]\n",
            " [1.1439589  0.95581392 0.7856742  0.64788354 0.56655772 0.56655772\n",
            "  0.64788354 0.7856742  0.95581392 1.1439589 ]\n",
            " [1.05409255 0.84619701 0.64788354 0.47140452 0.35136418 0.35136418\n",
            "  0.47140452 0.64788354 0.84619701 1.05409255]\n",
            " [1.0061539  0.7856742  0.56655772 0.35136418 0.15713484 0.15713484\n",
            "  0.35136418 0.56655772 0.7856742  1.0061539 ]\n",
            " [1.0061539  0.7856742  0.56655772 0.35136418 0.15713484 0.15713484\n",
            "  0.35136418 0.56655772 0.7856742  1.0061539 ]\n",
            " [1.05409255 0.84619701 0.64788354 0.47140452 0.35136418 0.35136418\n",
            "  0.47140452 0.64788354 0.84619701 1.05409255]\n",
            " [1.1439589  0.95581392 0.7856742  0.64788354 0.56655772 0.56655772\n",
            "  0.64788354 0.7856742  0.95581392 1.1439589 ]\n",
            " [1.26686158 1.09994388 0.95581392 0.84619701 0.7856742  0.7856742\n",
            "  0.84619701 0.95581392 1.09994388 1.26686158]\n",
            " [1.41421356 1.26686158 1.1439589  1.05409255 1.0061539  1.0061539\n",
            "  1.05409255 1.1439589  1.26686158 1.41421356]]\n",
            "####2D Gaussian like array####\n",
            " [[0.36787944 0.44822088 0.51979489 0.57375342 0.60279818 0.60279818\n",
            "  0.57375342 0.51979489 0.44822088 0.36787944]\n",
            " [0.44822088 0.54610814 0.63331324 0.69905581 0.73444367 0.73444367\n",
            "  0.69905581 0.63331324 0.54610814 0.44822088]\n",
            " [0.51979489 0.63331324 0.73444367 0.81068432 0.85172308 0.85172308\n",
            "  0.81068432 0.73444367 0.63331324 0.51979489]\n",
            " [0.57375342 0.69905581 0.81068432 0.89483932 0.9401382  0.9401382\n",
            "  0.89483932 0.81068432 0.69905581 0.57375342]\n",
            " [0.60279818 0.73444367 0.85172308 0.9401382  0.98773022 0.98773022\n",
            "  0.9401382  0.85172308 0.73444367 0.60279818]\n",
            " [0.60279818 0.73444367 0.85172308 0.9401382  0.98773022 0.98773022\n",
            "  0.9401382  0.85172308 0.73444367 0.60279818]\n",
            " [0.57375342 0.69905581 0.81068432 0.89483932 0.9401382  0.9401382\n",
            "  0.89483932 0.81068432 0.69905581 0.57375342]\n",
            " [0.51979489 0.63331324 0.73444367 0.81068432 0.85172308 0.85172308\n",
            "  0.81068432 0.73444367 0.63331324 0.51979489]\n",
            " [0.44822088 0.54610814 0.63331324 0.69905581 0.73444367 0.73444367\n",
            "  0.69905581 0.63331324 0.54610814 0.44822088]\n",
            " [0.36787944 0.44822088 0.51979489 0.57375342 0.60279818 0.60279818\n",
            "  0.57375342 0.51979489 0.44822088 0.36787944]]\n"
          ]
        }
      ],
      "source": [
        "X, Y = np.meshgrid(np.linspace(-1,1,10), np.linspace(-1,1,10))\n",
        "print(\"####using meshgrid and linespace create X,Y #####\\n\",X,Y)\n",
        "D = np.sqrt(X*X+Y*Y)\n",
        "print(\"####np.sqrt(X*X+Y*Y)\\n####\",D)\n",
        "sigma, mu = 1.0, 0.0\n",
        "G = np.exp(-( (D-mu)**2 / ( 2.0 * sigma**2 ) ) )\n",
        "print(\"####2D Gaussian like array####\\n\",G)"
      ]
    },
    {
      "cell_type": "markdown",
      "metadata": {
        "id": "sMW_zvFT2Kpj"
      },
      "source": [
        "#### 57. How to randomly place p elements in a 2D array? (★★☆) \n",
        "(**hint**: np.put, np.random.choice)"
      ]
    },
    {
      "cell_type": "code",
      "execution_count": 51,
      "metadata": {
        "id": "Hc1U3GB52Kpk",
        "colab": {
          "base_uri": "https://localhost:8080/"
        },
        "outputId": "acc2fed5-4c68-4db1-c9ac-2ecbebdea3dc"
      },
      "outputs": [
        {
          "output_type": "stream",
          "name": "stdout",
          "text": [
            "random 2d array of 10\n",
            " [[0. 0. 0. 0. 0. 0. 0. 0. 0. 0.]\n",
            " [0. 0. 0. 0. 0. 0. 0. 0. 0. 0.]\n",
            " [0. 0. 0. 0. 0. 0. 0. 0. 0. 0.]\n",
            " [0. 0. 0. 0. 0. 0. 0. 0. 0. 0.]\n",
            " [0. 0. 0. 0. 0. 0. 0. 0. 0. 0.]\n",
            " [0. 0. 0. 0. 0. 0. 0. 0. 0. 0.]\n",
            " [0. 0. 0. 0. 0. 0. 0. 0. 0. 0.]\n",
            " [0. 0. 0. 0. 0. 0. 0. 0. 0. 0.]\n",
            " [0. 0. 0. 0. 0. 0. 0. 0. 0. 0.]\n",
            " [0. 0. 0. 0. 0. 0. 0. 0. 0. 0.]]\n",
            "randomly placing p==3 and value of 1 in p times in 2d array \n",
            " [[0. 0. 0. 0. 0. 0. 1. 0. 0. 0.]\n",
            " [0. 0. 0. 0. 0. 0. 0. 0. 0. 0.]\n",
            " [0. 0. 0. 0. 0. 0. 0. 0. 0. 0.]\n",
            " [0. 0. 0. 0. 0. 0. 0. 0. 0. 0.]\n",
            " [0. 0. 0. 0. 0. 0. 0. 0. 0. 0.]\n",
            " [0. 0. 0. 0. 0. 0. 0. 0. 0. 0.]\n",
            " [0. 0. 1. 0. 0. 0. 0. 0. 0. 0.]\n",
            " [0. 0. 0. 0. 0. 0. 0. 0. 0. 0.]\n",
            " [0. 0. 0. 0. 0. 0. 0. 0. 0. 0.]\n",
            " [0. 0. 1. 0. 0. 0. 0. 0. 0. 0.]]\n"
          ]
        }
      ],
      "source": [
        "n = 10\n",
        "p = 3\n",
        "x = np.zeros((n,n))\n",
        "print(\"random 2d array of 10\\n\",x)\n",
        "np.put(x, np.random.choice(range(n*n), p, replace=False),1)\n",
        "print(\"randomly placing p==3 and value of 1 in p times in 2d array \\n\",x)"
      ]
    },
    {
      "cell_type": "markdown",
      "metadata": {
        "id": "SIaaJQSk2Kpw"
      },
      "source": [
        "#### 58. Subtract the mean of each row of a matrix (★★☆) \n",
        "(**hint**: mean(axis=,keepdims=))"
      ]
    },
    {
      "cell_type": "code",
      "execution_count": 52,
      "metadata": {
        "id": "e4_krgRv2Kpx",
        "colab": {
          "base_uri": "https://localhost:8080/"
        },
        "outputId": "56003abd-2d01-488e-cdf9-8e4af7fc787e"
      },
      "outputs": [
        {
          "output_type": "stream",
          "name": "stdout",
          "text": [
            "random matrix\n",
            " [[0.49234776 0.39528831 0.29120827 0.23608088 0.05321177 0.5257543\n",
            "  0.27096305 0.74731324 0.18926965 0.12731916]\n",
            " [0.31070589 0.94967861 0.635842   0.26235506 0.33636341 0.97913679\n",
            "  0.71468057 0.1716341  0.91529619 0.49599745]\n",
            " [0.36133979 0.21300279 0.71894479 0.67404563 0.46055239 0.50939285\n",
            "  0.90925241 0.56112993 0.98131016 0.74439526]\n",
            " [0.63707161 0.31240108 0.8286332  0.08684139 0.79449145 0.74832443\n",
            "  0.80198359 0.01738801 0.98624341 0.02901875]\n",
            " [0.80286589 0.86563075 0.89583291 0.72598699 0.7381974  0.80124892\n",
            "  0.13393234 0.14993909 0.86904705 0.41120638]]\n",
            "Substrating row of each row\n",
            "[[ 0.15947212  0.06241267 -0.04166737 -0.09679476 -0.27966387  0.19287866\n",
            "  -0.06191258  0.4144376  -0.14360599 -0.20555648]\n",
            " [-0.26646312  0.3725096   0.058673   -0.31481395 -0.2408056   0.40196778\n",
            "   0.13751156 -0.4055349   0.33812719 -0.08117156]\n",
            " [-0.25199681 -0.40033381  0.10560819  0.06070903 -0.15278421 -0.10394375\n",
            "   0.29591581 -0.05220667  0.36797356  0.13105866]\n",
            " [ 0.11283192 -0.21183862  0.30439351 -0.4373983   0.27025176  0.22408474\n",
            "   0.2777439  -0.50685168  0.46200372 -0.49522095]\n",
            " [ 0.16347712  0.22624198  0.25644414  0.08659822  0.09880863  0.16186015\n",
            "  -0.50545643 -0.48944969  0.22965828 -0.2281824 ]]\n"
          ]
        }
      ],
      "source": [
        "X = np.random.rand(5, 10)\n",
        "print(\"random matrix\\n\",X)\n",
        "Y = X - X.mean(axis=1, keepdims=True)\n",
        "print(\"Substrating row of each row\")\n",
        "print(Y)"
      ]
    },
    {
      "cell_type": "markdown",
      "metadata": {
        "id": "926A8jEy2Kpx"
      },
      "source": [
        "#### 59. How to sort an array by the nth column? (★★☆) \n",
        "(**hint**: argsort)"
      ]
    },
    {
      "cell_type": "code",
      "execution_count": 53,
      "metadata": {
        "id": "-QDAegJx2Kpx",
        "colab": {
          "base_uri": "https://localhost:8080/"
        },
        "outputId": "df4e261f-bf55-43ab-9a0a-158a44c5d15c"
      },
      "outputs": [
        {
          "output_type": "stream",
          "name": "stdout",
          "text": [
            "unsorted matrix\n",
            " [[0 3 1]\n",
            " [7 0 8]\n",
            " [2 5 0]]\n",
            "sorted matris using argsort\n",
            " [[7 0 8]\n",
            " [0 3 1]\n",
            " [2 5 0]]\n"
          ]
        }
      ],
      "source": [
        "x = np.random.randint(0,10,(3,3))\n",
        "print(\"unsorted matrix\\n\",x)\n",
        "print(\"sorted matris using argsort\\n\",x[x[:,1].argsort()])"
      ]
    },
    {
      "cell_type": "markdown",
      "metadata": {
        "id": "ZXTMVo1b2Kpy"
      },
      "source": [
        "#### 60. How to tell if a given 2D array has null columns? (★★☆) \n",
        "(**hint**: any, ~)"
      ]
    },
    {
      "cell_type": "code",
      "execution_count": 54,
      "metadata": {
        "id": "j9DzfH_r2Kpy",
        "colab": {
          "base_uri": "https://localhost:8080/"
        },
        "outputId": "329dc8e4-6f86-4e45-9101-1de275b65392"
      },
      "outputs": [
        {
          "output_type": "stream",
          "name": "stdout",
          "text": [
            "True\n"
          ]
        }
      ],
      "source": [
        "x = np.random.randint(0,3,(3,10))\n",
        "print((~x.any(axis=0)).any())"
      ]
    },
    {
      "cell_type": "markdown",
      "metadata": {
        "id": "T0PzGB502Kpz"
      },
      "source": [
        "#### 61. Find the nearest value from a given value in an array (★★☆) \n",
        "(**hint**: np.abs, argmin, flat)"
      ]
    },
    {
      "cell_type": "code",
      "execution_count": 55,
      "metadata": {
        "id": "8djGidp92Kpz",
        "colab": {
          "base_uri": "https://localhost:8080/"
        },
        "outputId": "82f61f1f-59e3-4b48-e054-297b5e8d363a"
      },
      "outputs": [
        {
          "output_type": "stream",
          "name": "stdout",
          "text": [
            "array\n",
            " [0.70655542 0.86019052 0.03821738 0.92940608 0.31823246 0.59473446\n",
            " 0.62702388 0.12403729 0.48260226 0.86963241]\n",
            "\n",
            "given y == 0.5\n",
            "\n",
            "print nearest value of y in array\n",
            " 0.48260225523739764\n"
          ]
        }
      ],
      "source": [
        "x = np.random.uniform(0,1,10)\n",
        "print(\"array\\n\",x)\n",
        "y = 0.5\n",
        "print(\"\\ngiven y ==\",y)\n",
        "\n",
        "\n",
        "m = x.flat[np.abs(x - y).argmin()]\n",
        "print(\"\\nprint nearest value of y in array\\n\",m)"
      ]
    },
    {
      "cell_type": "markdown",
      "metadata": {
        "id": "eDAjZICc2Kpz"
      },
      "source": [
        "#### 62. Considering two arrays with shape (1,3) and (3,1), how to compute their sum using an iterator? (★★☆) \n",
        "(**hint**: np.nditer)"
      ]
    },
    {
      "cell_type": "code",
      "execution_count": 56,
      "metadata": {
        "id": "TEvl4adp2Kp0",
        "colab": {
          "base_uri": "https://localhost:8080/"
        },
        "outputId": "75ec95c1-3d28-45aa-e60a-466ed065342e"
      },
      "outputs": [
        {
          "output_type": "stream",
          "name": "stdout",
          "text": [
            "3*1 matrix A\n",
            " [[0]\n",
            " [1]\n",
            " [2]]\n",
            "1*3 matrix B\n",
            " [[0 1 2]]\n",
            "sum of A and B using iterator\n",
            " [[0 1 2]\n",
            " [1 2 3]\n",
            " [2 3 4]]\n"
          ]
        }
      ],
      "source": [
        "A = np.arange(3).reshape(3,1)\n",
        "print(\"3*1 matrix A\\n\",A)\n",
        "B = np.arange(3).reshape(1,3)\n",
        "print(\"1*3 matrix B\\n\",B)\n",
        "it = np.nditer([A,B,None])\n",
        "for x,y,z in it: z[...] = x + y\n",
        "print(\"sum of A and B using iterator\\n\",it.operands[2])"
      ]
    },
    {
      "cell_type": "markdown",
      "metadata": {
        "id": "C9KT0O4_2Kp0"
      },
      "source": [
        "#### 63. Create an array class that has a name attribute (★★☆) \n",
        "(**hint**: class method)"
      ]
    },
    {
      "cell_type": "code",
      "execution_count": 57,
      "metadata": {
        "id": "yYOXyDj32Kp1",
        "colab": {
          "base_uri": "https://localhost:8080/"
        },
        "outputId": "a6235d53-3ee4-4e65-e43a-eb2fc4dd052e"
      },
      "outputs": [
        {
          "output_type": "stream",
          "name": "stdout",
          "text": [
            "range_10\n"
          ]
        }
      ],
      "source": [
        "class NamedArray(np.ndarray):\n",
        "    def __new__(cls, array, name=\"no name\"):\n",
        "        obj = np.asarray(array).view(cls)\n",
        "        obj.name = name\n",
        "        return obj\n",
        "    def __array_finalize__(self, obj):\n",
        "        if obj is None: return\n",
        "        self.info = getattr(obj, 'name', \"no name\")\n",
        "\n",
        "Z = NamedArray(np.arange(10), \"range_10\")\n",
        "print (Z.name)"
      ]
    },
    {
      "cell_type": "markdown",
      "metadata": {
        "id": "E-LEGRS62Kp1"
      },
      "source": [
        "#### 64. Consider a given vector, how to add 1 to each element indexed by a second vector (be careful with repeated indices)? (★★★) \n",
        "(**hint**: np.bincount | np.add.at)"
      ]
    },
    {
      "cell_type": "code",
      "execution_count": 58,
      "metadata": {
        "id": "e22XMGrk2Kp1",
        "colab": {
          "base_uri": "https://localhost:8080/"
        },
        "outputId": "45bfa6d9-cb30-4481-de1a-f529e6c2d1cb"
      },
      "outputs": [
        {
          "output_type": "stream",
          "name": "stdout",
          "text": [
            "using bincount\n",
            " [2. 2. 2. 3. 2. 4. 7. 3. 4. 1.]\n",
            "using add.at\n",
            " [ 3.  3.  3.  5.  3.  7. 13.  5.  7.  1.]\n"
          ]
        }
      ],
      "source": [
        "Z = np.ones(10)\n",
        "I = np.random.randint(0,len(Z),20)\n",
        "Z += np.bincount(I, minlength=len(Z))\n",
        "print(\"using bincount\\n\",Z)\n",
        "np.add.at(Z, I, 1)\n",
        "print(\"using add.at\\n\",Z)\n"
      ]
    },
    {
      "cell_type": "markdown",
      "metadata": {
        "id": "swlkFERj2Kp2"
      },
      "source": [
        "#### 65. How to accumulate elements of a vector (X) to an array (F) based on an index list (I)? (★★★) \n",
        "(**hint**: np.bincount)"
      ]
    },
    {
      "cell_type": "code",
      "execution_count": 59,
      "metadata": {
        "id": "yzt_rfhX2Kp2",
        "colab": {
          "base_uri": "https://localhost:8080/"
        },
        "outputId": "9c54aa15-611e-4f51-982a-5f1c1f03b407"
      },
      "outputs": [
        {
          "output_type": "stream",
          "name": "stdout",
          "text": [
            "using bincounrt\n",
            " [0. 7. 0. 6. 5. 0. 0. 0. 0. 3.]\n"
          ]
        }
      ],
      "source": [
        "X = [1,2,3,4,5,6]\n",
        "I = [1,3,9,3,4,1]\n",
        "F = np.bincount(I,X)\n",
        "print(\"using bincounrt\\n\",F)\n"
      ]
    },
    {
      "cell_type": "markdown",
      "metadata": {
        "id": "AgOy73c12Kp3"
      },
      "source": [
        "#### 66. Considering a (w,h,3) image of (dtype=ubyte), compute the number of unique colors (★★★) \n",
        "(**hint**: np.unique)"
      ]
    },
    {
      "cell_type": "code",
      "execution_count": 60,
      "metadata": {
        "id": "-ds5IFP_2Kp3",
        "colab": {
          "base_uri": "https://localhost:8080/"
        },
        "outputId": "1d9dc619-dfa1-44f8-836f-47907500733a"
      },
      "outputs": [
        {
          "output_type": "stream",
          "name": "stdout",
          "text": [
            "64\n"
          ]
        }
      ],
      "source": [
        "w, h = 256, 256\n",
        "I = np.random.randint(0, 4, (h, w, 3)).astype(np.ubyte)\n",
        "colors = np.unique(I.reshape(-1, 3), axis=0)\n",
        "n = len(colors)\n",
        "print(n)\n"
      ]
    },
    {
      "cell_type": "markdown",
      "metadata": {
        "id": "k_dkEFsA2Kp3"
      },
      "source": [
        "#### 67. Considering a four dimensions array, how to get sum over the last two axis at once? (★★★) \n",
        "(**hint**: sum(axis=(-2,-1)))"
      ]
    },
    {
      "cell_type": "code",
      "execution_count": 61,
      "metadata": {
        "id": "PzyotlpU2Kp4",
        "colab": {
          "base_uri": "https://localhost:8080/"
        },
        "outputId": "9842c503-3455-4797-f758-9b9f96444eb6"
      },
      "outputs": [
        {
          "output_type": "stream",
          "name": "stdout",
          "text": [
            "sum using axix\n",
            " [[52 45 48 43]\n",
            " [56 61 61 52]\n",
            " [68 39 43 28]]\n",
            "sum using reshape and axis\n",
            " [[52 45 48 43]\n",
            " [56 61 61 52]\n",
            " [68 39 43 28]]\n"
          ]
        }
      ],
      "source": [
        "A = np.random.randint(0,10,(3,4,3,4))\n",
        "# solution by passing a tuple of axes (introduced in numpy 1.7.0)\n",
        "sum = A.sum(axis=(-2,-1))\n",
        "print(\"sum using axix\\n\",sum)\n",
        "# solution by flattening the last two dimensions into one\n",
        "# (useful for functions that don't accept tuples for axis argument)\n",
        "sum = A.reshape(A.shape[:-2] + (-1,)).sum(axis=-1)\n",
        "print(\"sum using reshape and axis\\n\",sum)\n"
      ]
    },
    {
      "cell_type": "markdown",
      "metadata": {
        "id": "F4cz-fOm2Kp4"
      },
      "source": [
        "#### 68. Considering a one-dimensional vector D, how to compute means of subsets of D using a vector S of same size describing subset  indices? (★★★) \n",
        "(**hint**: np.bincount)"
      ]
    },
    {
      "cell_type": "code",
      "execution_count": 62,
      "metadata": {
        "id": "m9vyQjmg2Kp5",
        "colab": {
          "base_uri": "https://localhost:8080/"
        },
        "outputId": "43b96481-7157-429a-87a1-a18f31accbb2"
      },
      "outputs": [
        {
          "output_type": "stream",
          "name": "stdout",
          "text": [
            "mean of subset\n",
            " [0.50418094 0.56428747 0.62939649 0.56410934 0.53986467 0.52161818\n",
            " 0.42296163 0.34497537 0.49052086 0.57051435]\n",
            "using series\n",
            " 0    0.504181\n",
            "1    0.564287\n",
            "2    0.629396\n",
            "3    0.564109\n",
            "4    0.539865\n",
            "5    0.521618\n",
            "6    0.422962\n",
            "7    0.344975\n",
            "8    0.490521\n",
            "9    0.570514\n",
            "dtype: float64\n"
          ]
        }
      ],
      "source": [
        "D = np.random.uniform(0,1,100)\n",
        "S = np.random.randint(0,10,100)\n",
        "D_sums = np.bincount(S, weights=D)\n",
        "D_counts = np.bincount(S)\n",
        "D_means = D_sums / D_counts\n",
        "print(\"mean of subset\\n\",D_means)\n",
        "\n",
        "# Pandas solution as a reference due to more intuitive code\n",
        "import pandas as pd\n",
        "print(\"using series\\n\",pd.Series(D).groupby(S).mean())\n"
      ]
    },
    {
      "cell_type": "markdown",
      "metadata": {
        "id": "9Bc3ySj-2Kp5"
      },
      "source": [
        "#### 69. How to get the diagonal of a dot product? (★★★) \n",
        "(**hint**: np.diag)"
      ]
    },
    {
      "cell_type": "code",
      "execution_count": 63,
      "metadata": {
        "id": "C_eHSNhD2Kp6",
        "colab": {
          "base_uri": "https://localhost:8080/"
        },
        "outputId": "a3a21e07-6658-4a4b-8d95-709f5ce930d1"
      },
      "outputs": [
        {
          "output_type": "stream",
          "name": "stdout",
          "text": [
            "using dot method\n",
            " [1.3972058  1.40137884 0.92267216 1.80659394 1.55974593]\n",
            "using sum method\n",
            " [1.3972058  1.40137884 0.92267216 1.80659394 1.55974593]\n",
            "using einum method\n",
            " [1.3972058  1.40137884 0.92267216 1.80659394 1.55974593]\n"
          ]
        }
      ],
      "source": [
        "A = np.random.uniform(0,1,(5,5))\n",
        "B = np.random.uniform(0,1,(5,5))\n",
        "\n",
        "# Slow version\n",
        "print(\"using dot method\\n\",np.diag(np.dot(A, B)))\n",
        "\n",
        "# Fast version\n",
        "print(\"using sum method\\n\",np.sum(A * B.T, axis=1))\n",
        "\n",
        "# Faster version\n",
        "print(\"using einum method\\n\",np.einsum(\"ij,ji->i\", A, B))\n"
      ]
    },
    {
      "cell_type": "markdown",
      "metadata": {
        "id": "8_XqSkBh2Kp6"
      },
      "source": [
        "#### 70. Consider the vector \\[1, 2, 3, 4, 5\\], how to build a new vector with 3 consecutive zeros interleaved between each value? (★★★) \n",
        "(**hint**: array\\[::4\\])"
      ]
    },
    {
      "cell_type": "code",
      "execution_count": 64,
      "metadata": {
        "id": "MGJOOdic2Kp6",
        "colab": {
          "base_uri": "https://localhost:8080/"
        },
        "outputId": "ff77057e-f479-4653-80a3-6937af910a4f"
      },
      "outputs": [
        {
          "output_type": "stream",
          "name": "stdout",
          "text": [
            "bulding new vector\n",
            " [1. 0. 0. 0. 2. 0. 0. 0. 3. 0. 0. 0. 4. 0. 0. 0. 5.]\n"
          ]
        }
      ],
      "source": [
        "Z = np.array([1,2,3,4,5])\n",
        "nz = 3\n",
        "Z0 = np.zeros(len(Z) + (len(Z)-1)*(nz))\n",
        "Z0[::nz+1] = Z\n",
        "print(\"bulding new vector\\n\",Z0)\n"
      ]
    },
    {
      "cell_type": "markdown",
      "metadata": {
        "id": "QI3N5lqj2Kp7"
      },
      "source": [
        "#### 71. Consider an array of dimension (5,5,3), how to mulitply it by an array with dimensions (5,5)? (★★★) \n",
        "(**hint**: array\\[:, :, None\\])"
      ]
    },
    {
      "cell_type": "code",
      "execution_count": 65,
      "metadata": {
        "collapsed": true,
        "id": "eFZrlwli2Kp7",
        "colab": {
          "base_uri": "https://localhost:8080/"
        },
        "outputId": "a1b4dee2-276f-4b69-a698-623feb6a2c6b"
      },
      "outputs": [
        {
          "output_type": "stream",
          "name": "stdout",
          "text": [
            "matrix 5,5,3\n",
            " [[[1. 1. 1.]\n",
            "  [1. 1. 1.]\n",
            "  [1. 1. 1.]\n",
            "  [1. 1. 1.]\n",
            "  [1. 1. 1.]]\n",
            "\n",
            " [[1. 1. 1.]\n",
            "  [1. 1. 1.]\n",
            "  [1. 1. 1.]\n",
            "  [1. 1. 1.]\n",
            "  [1. 1. 1.]]\n",
            "\n",
            " [[1. 1. 1.]\n",
            "  [1. 1. 1.]\n",
            "  [1. 1. 1.]\n",
            "  [1. 1. 1.]\n",
            "  [1. 1. 1.]]\n",
            "\n",
            " [[1. 1. 1.]\n",
            "  [1. 1. 1.]\n",
            "  [1. 1. 1.]\n",
            "  [1. 1. 1.]\n",
            "  [1. 1. 1.]]\n",
            "\n",
            " [[1. 1. 1.]\n",
            "  [1. 1. 1.]\n",
            "  [1. 1. 1.]\n",
            "  [1. 1. 1.]\n",
            "  [1. 1. 1.]]]\n",
            "matrix 5,5\n",
            " [[2. 2. 2. 2. 2.]\n",
            " [2. 2. 2. 2. 2.]\n",
            " [2. 2. 2. 2. 2.]\n",
            " [2. 2. 2. 2. 2.]\n",
            " [2. 2. 2. 2. 2.]]\n",
            "multiplay both\n",
            " [[[2. 2. 2.]\n",
            "  [2. 2. 2.]\n",
            "  [2. 2. 2.]\n",
            "  [2. 2. 2.]\n",
            "  [2. 2. 2.]]\n",
            "\n",
            " [[2. 2. 2.]\n",
            "  [2. 2. 2.]\n",
            "  [2. 2. 2.]\n",
            "  [2. 2. 2.]\n",
            "  [2. 2. 2.]]\n",
            "\n",
            " [[2. 2. 2.]\n",
            "  [2. 2. 2.]\n",
            "  [2. 2. 2.]\n",
            "  [2. 2. 2.]\n",
            "  [2. 2. 2.]]\n",
            "\n",
            " [[2. 2. 2.]\n",
            "  [2. 2. 2.]\n",
            "  [2. 2. 2.]\n",
            "  [2. 2. 2.]\n",
            "  [2. 2. 2.]]\n",
            "\n",
            " [[2. 2. 2.]\n",
            "  [2. 2. 2.]\n",
            "  [2. 2. 2.]\n",
            "  [2. 2. 2.]\n",
            "  [2. 2. 2.]]]\n"
          ]
        }
      ],
      "source": [
        "A = np.ones((5,5,3))\n",
        "print(\"matrix 5,5,3\\n\",A)\n",
        "B = 2*np.ones((5,5))\n",
        "print(\"matrix 5,5\\n\",B)\n",
        "print(\"multiplay both\\n\",A * B[:,:,None])\n"
      ]
    },
    {
      "cell_type": "markdown",
      "metadata": {
        "id": "1PTpD3-c2Kp8"
      },
      "source": [
        "#### 72. How to swap two rows of an array? (★★★) \n",
        "(**hint**: array\\[\\[\\]\\] = array\\[\\[\\]\\])"
      ]
    },
    {
      "cell_type": "code",
      "execution_count": 66,
      "metadata": {
        "id": "X3Qov3hJ2Kp8",
        "colab": {
          "base_uri": "https://localhost:8080/"
        },
        "outputId": "7d506957-5192-46de-e041-babc9b72d4a1"
      },
      "outputs": [
        {
          "output_type": "stream",
          "name": "stdout",
          "text": [
            "normal array\n",
            " [[ 0  1  2  3  4]\n",
            " [ 5  6  7  8  9]\n",
            " [10 11 12 13 14]\n",
            " [15 16 17 18 19]\n",
            " [20 21 22 23 24]]\n",
            "swaping first two row\n",
            " [[ 5  6  7  8  9]\n",
            " [ 0  1  2  3  4]\n",
            " [10 11 12 13 14]\n",
            " [15 16 17 18 19]\n",
            " [20 21 22 23 24]]\n"
          ]
        }
      ],
      "source": [
        "A = np.arange(25).reshape(5,5)\n",
        "print(\"normal array\\n\",A)\n",
        "A[[0,1]] = A[[1,0]]\n",
        "print(\"swaping first two row\\n\", A)\n"
      ]
    },
    {
      "cell_type": "markdown",
      "metadata": {
        "id": "kGXWUxun2Kp8"
      },
      "source": [
        "#### 73. Consider a set of 10 triplets describing 10 triangles (with shared vertices), find the set of unique line segments composing all the  triangles (★★★) \n",
        "(**hint**: repeat, np.roll, np.sort, view, np.unique)"
      ]
    },
    {
      "cell_type": "code",
      "execution_count": 67,
      "metadata": {
        "id": "BxWN37hk2Kp9",
        "colab": {
          "base_uri": "https://localhost:8080/"
        },
        "outputId": "8a4cc56a-6ea4-4693-f7c8-3428b1b03a01"
      },
      "outputs": [
        {
          "output_type": "stream",
          "name": "stdout",
          "text": [
            "[( 4, 10) ( 4, 58) ( 5, 17) ( 5, 77) ( 6, 75) ( 6, 85) (10, 45) (10, 58)\n",
            " (10, 79) (12, 22) (12, 90) (14, 37) (14, 88) (17, 42) (17, 49) (17, 77)\n",
            " (22, 90) (34, 36) (34, 75) (36, 75) (37, 88) (42, 49) (45, 79) (67, 73)\n",
            " (67, 88) (73, 88) (75, 75) (75, 79) (75, 85)]\n"
          ]
        }
      ],
      "source": [
        "faces = np.random.randint(0,100,(10,3))\n",
        "F = np.roll(faces.repeat(2,axis=1),-1,axis=1)\n",
        "F = F.reshape(len(F)*3,2)\n",
        "F = np.sort(F,axis=1)\n",
        "G = F.view( dtype=[('p0',F.dtype),('p1',F.dtype)] )\n",
        "G = np.unique(G)\n",
        "print(G)"
      ]
    },
    {
      "cell_type": "markdown",
      "metadata": {
        "id": "ETOw9tIa2Kp9"
      },
      "source": [
        "#### 74. Given an array C that is a bincount, how to produce an array A such that np.bincount(A) == C? (★★★) \n",
        "(**hint**: np.repeat)"
      ]
    },
    {
      "cell_type": "code",
      "execution_count": 68,
      "metadata": {
        "id": "IHz78ScE2Kp-",
        "colab": {
          "base_uri": "https://localhost:8080/"
        },
        "outputId": "31126e01-3cd1-4749-968a-ff194e438084"
      },
      "outputs": [
        {
          "output_type": "stream",
          "name": "stdout",
          "text": [
            "bincount of A\n",
            " [1 1 2 3 4 4 6]\n"
          ]
        }
      ],
      "source": [
        "C = np.bincount([1,1,2,3,4,4,6])\n",
        "A = np.repeat(np.arange(len(C)), C)\n",
        "print(\"bincount of A\\n\",A)\n"
      ]
    },
    {
      "cell_type": "markdown",
      "metadata": {
        "id": "Ozw4dOkX2Kp-"
      },
      "source": [
        "#### 75. How to compute averages using a sliding window over an array? (★★★) \n",
        "(**hint**: np.cumsum)"
      ]
    },
    {
      "cell_type": "code",
      "execution_count": 69,
      "metadata": {
        "id": "tnGiCZ932Kp-",
        "colab": {
          "base_uri": "https://localhost:8080/"
        },
        "outputId": "3193962b-bca9-4a18-9c25-b821cec9a9ac"
      },
      "outputs": [
        {
          "output_type": "stream",
          "name": "stdout",
          "text": [
            "[ 1.  2.  3.  4.  5.  6.  7.  8.  9. 10. 11. 12. 13. 14. 15. 16. 17. 18.]\n",
            "[ 1.  2.  3.  4.  5.  6.  7.  8.  9. 10. 11. 12. 13. 14. 15. 16. 17. 18.]\n"
          ]
        }
      ],
      "source": [
        "def moving_average(a, n=3) :\n",
        "    ret = np.cumsum(a, dtype=float)\n",
        "    ret[n:] = ret[n:] - ret[:-n]\n",
        "    return ret[n - 1:] / n\n",
        "Z = np.arange(20)\n",
        "print(moving_average(Z, n=3))\n",
        "from numpy.lib.stride_tricks import sliding_window_view\n",
        "\n",
        "Z = np.arange(20)\n",
        "print(sliding_window_view(Z, window_shape=3).mean(axis=-1))"
      ]
    },
    {
      "cell_type": "markdown",
      "metadata": {
        "id": "8hG4EhKL2Kp_"
      },
      "source": [
        "#### 76. Consider a one-dimensional array Z, build a two-dimensional array whose first row is (Z\\[0\\],Z\\[1\\],Z\\[2\\]) and each subsequent row is  shifted by 1 (last row should be (Z\\[-3\\],Z\\[-2\\],Z\\[-1\\]) (★★★) \n",
        "(**hint**: from numpy.lib import stride_tricks)"
      ]
    },
    {
      "cell_type": "code",
      "execution_count": 70,
      "metadata": {
        "id": "DTrNtA2K2Kp_",
        "colab": {
          "base_uri": "https://localhost:8080/"
        },
        "outputId": "2797af31-1485-4f3d-8d25-21430780ba86"
      },
      "outputs": [
        {
          "output_type": "stream",
          "name": "stdout",
          "text": [
            "[[0 1 2]\n",
            " [1 2 3]\n",
            " [2 3 4]\n",
            " [3 4 5]\n",
            " [4 5 6]\n",
            " [5 6 7]\n",
            " [6 7 8]\n",
            " [7 8 9]]\n"
          ]
        }
      ],
      "source": [
        "from numpy.lib import stride_tricks\n",
        "\n",
        "def rolling(a, window):\n",
        "    shape = (a.size - window + 1, window)\n",
        "    strides = (a.strides[0], a.strides[0])\n",
        "    return stride_tricks.as_strided(a, shape=shape, strides=strides)\n",
        "Z = rolling(np.arange(10), 3)\n",
        "print(Z)\n"
      ]
    },
    {
      "cell_type": "markdown",
      "metadata": {
        "id": "VYNPeFk32Kp_"
      },
      "source": [
        "#### 77. How to negate a boolean, or to change the sign of a float inplace? (★★★) \n",
        "(**hint**: np.logical_not, np.negative)"
      ]
    },
    {
      "cell_type": "code",
      "execution_count": 71,
      "metadata": {
        "id": "oqqWhgVH2KqA",
        "colab": {
          "base_uri": "https://localhost:8080/"
        },
        "outputId": "a9a101c5-c679-4848-aef0-501801349b74"
      },
      "outputs": [
        {
          "output_type": "stream",
          "name": "stdout",
          "text": [
            "using np.logical\n",
            " [1 1 1 0 0 1 1 1 0 0 0 0 1 0 0 0 1 1 1 0 0 1 0 1 1 0 0 0 1 0 1 0 0 0 0 0 1\n",
            " 1 0 0 1 0 1 1 0 0 1 0 0 1 1 1 1 0 0 1 0 1 1 0 0 0 0 0 0 1 1 0 1 0 1 1 1 1\n",
            " 0 1 1 0 1 1 1 1 0 0 1 0 1 1 1 0 0 0 1 1 1 0 0 0 1 1]\n",
            "using np.negative\n",
            " [ 6.27516336e-01 -5.54622487e-01 -4.91524834e-01 -5.98907673e-01\n",
            "  4.60823747e-01  1.01892009e-02  1.94442824e-01  6.53125102e-01\n",
            " -6.57509554e-01 -7.10657283e-01  9.70000467e-01  7.92881719e-01\n",
            "  4.82050448e-01 -4.20259455e-01 -2.02400326e-01  7.71218625e-01\n",
            " -4.08810450e-01  1.59573635e-01  9.49827027e-01  7.18174377e-01\n",
            "  9.15879826e-01 -6.68306083e-02 -4.75742786e-01  7.68980918e-01\n",
            "  5.65882213e-01 -1.67083416e-01  4.55942642e-01 -7.55019537e-04\n",
            "  4.50080986e-01 -4.48193434e-02 -5.53333458e-01 -8.15978719e-01\n",
            " -1.53445783e-02 -8.92168363e-01  6.00716797e-01 -7.24784297e-01\n",
            "  1.39791059e-01 -4.70451104e-01 -2.43747929e-01 -7.28568567e-01\n",
            "  5.72656224e-01  8.21827328e-01  6.77224420e-02 -3.82797665e-01\n",
            " -4.91460890e-01 -9.37619877e-01 -1.41542378e-01  8.44236180e-01\n",
            "  6.11691962e-01 -1.39780525e-01 -6.28923174e-01  9.74524730e-01\n",
            "  2.42434759e-01 -6.88506159e-01 -6.82091720e-01  4.03194640e-01\n",
            "  8.03067561e-01  9.23347569e-01 -4.22742864e-01 -9.13253315e-01\n",
            " -7.87380107e-01 -7.07940315e-02 -7.37674681e-01 -7.04983984e-01\n",
            " -1.45931688e-01  8.77071772e-01  3.26580688e-01 -5.83683037e-01\n",
            "  3.95830096e-01 -9.66473988e-01 -4.43454420e-01 -4.51090265e-01\n",
            " -7.89231501e-03 -2.58246516e-01 -1.87442133e-01 -1.74894547e-01\n",
            " -3.47055914e-01  4.52158809e-01  9.00098078e-01 -3.42607374e-01\n",
            " -3.22212700e-01 -8.96058892e-01  6.20836765e-01  5.29419623e-01\n",
            " -8.67866123e-01 -3.76663692e-01  2.23740070e-01 -9.36114611e-01\n",
            " -3.00264645e-01 -7.03116423e-01  1.90829606e-01  2.86696322e-01\n",
            "  9.16568923e-01  3.84801326e-01 -4.26133091e-02 -5.21914474e-01\n",
            "  8.72783486e-01  3.90812321e-01 -8.59988156e-01 -6.39953800e-01]\n"
          ]
        }
      ],
      "source": [
        "Z = np.random.randint(0,2,100)\n",
        "np.logical_not(Z, out=Z)\n",
        "print(\"using np.logical\\n\",Z)\n",
        "\n",
        "Z = np.random.uniform(-1.0,1.0,100)\n",
        "np.negative(Z, out=Z)\n",
        "print(\"using np.negative\\n\",Z)\n"
      ]
    },
    {
      "cell_type": "markdown",
      "metadata": {
        "id": "FWtRrKO92KqD"
      },
      "source": [
        "#### 78. Consider 2 sets of points P0,P1 describing lines (2d) and a point p, how to compute distance from p to each line i  (P0\\[i\\],P1\\[i\\])? (★★★)"
      ]
    },
    {
      "cell_type": "code",
      "execution_count": 72,
      "metadata": {
        "id": "NmIrmydk2KqD",
        "colab": {
          "base_uri": "https://localhost:8080/"
        },
        "outputId": "74f1af23-0251-4e8c-cd90-b75fff3cc508"
      },
      "outputs": [
        {
          "output_type": "stream",
          "name": "stdout",
          "text": [
            "[ 2.98657694  0.78118688  7.52827682 11.239082    2.76999727  2.56300918\n",
            "  5.8108995  10.50659835  5.25503571  0.73287387]\n"
          ]
        }
      ],
      "source": [
        "def distance(P0, P1, p):\n",
        "    T = P1 - P0\n",
        "    L = (T**2).sum(axis=1)\n",
        "    U = -((P0[:,0]-p[...,0])*T[:,0] + (P0[:,1]-p[...,1])*T[:,1]) / L\n",
        "    U = U.reshape(len(U),1)\n",
        "    D = P0 + U*T - p\n",
        "    return np.sqrt((D**2).sum(axis=1))\n",
        "\n",
        "P0 = np.random.uniform(-10,10,(10,2))\n",
        "P1 = np.random.uniform(-10,10,(10,2))\n",
        "p  = np.random.uniform(-10,10,( 1,2))\n",
        "print(distance(P0, P1, p))"
      ]
    },
    {
      "cell_type": "markdown",
      "metadata": {
        "id": "NQ_be_gw2KqE"
      },
      "source": [
        "#### 79. Consider 2 sets of points P0,P1 describing lines (2d) and a set of points P, how to compute distance from each point j (P\\[j\\]) to each line i (P0\\[i\\],P1\\[i\\])? (★★★)"
      ]
    },
    {
      "cell_type": "code",
      "execution_count": 73,
      "metadata": {
        "id": "Gh4CWjaa2KqE",
        "colab": {
          "base_uri": "https://localhost:8080/"
        },
        "outputId": "711739a1-e1bb-4a60-b10c-1a17b326eedb"
      },
      "outputs": [
        {
          "output_type": "stream",
          "name": "stdout",
          "text": [
            "[[ 1.57515265 15.87808927  7.60392701 12.45215048  6.66920822 10.07469857\n",
            "   4.00914597  5.72240492  8.85596289  3.1705644 ]\n",
            " [ 6.71092626  2.90025709  6.22623525  7.62805149 15.19918118 13.393573\n",
            "  19.18227974 15.77583105 12.88755592 20.6685006 ]\n",
            " [ 8.31545351  1.42257489  7.36638307  8.15840483 15.4487556  13.23432651\n",
            "  18.27266716 16.09175773 11.70442254 20.04305391]\n",
            " [ 3.73446235  0.97710958  2.09121906  2.99687363 10.55574362  8.93144418\n",
            "  15.69049825 11.12488946 10.01674236 16.70154785]\n",
            " [ 1.2872551   1.2074187   3.38023463  2.0992877   5.83607248  4.94758715\n",
            "  13.65785838  6.30644871  8.94714923 13.82851006]\n",
            " [ 2.60635608  2.45857317  4.30182826  2.50688514  5.66345963  5.11556615\n",
            "  14.44600659  6.07838651  9.95927742 14.38263728]\n",
            " [ 3.36214511  6.34113424  8.95124866 10.18209279  2.96482598  4.49496954\n",
            "   4.33058756  2.3458476   0.20391719  4.23916446]\n",
            " [ 3.55693455  0.70470974  1.77629658  2.59733881 10.13745342  8.50445771\n",
            "  15.30713271 10.71005941  9.67425363 16.29159826]\n",
            " [ 7.7937586   2.11540078  5.25539558  4.8436747  11.76602376  9.18735627\n",
            "  14.10643979 12.48702929  7.724976   15.82920499]\n",
            " [10.75451212  5.42832437  7.10537117  5.36389398 11.70113143  8.29555843\n",
            "  11.77703898 12.5591003   4.90513567 14.03069281]]\n"
          ]
        }
      ],
      "source": [
        "P0 = np.random.uniform(-10, 10, (10,2))\n",
        "P1 = np.random.uniform(-10,10,(10,2))\n",
        "p = np.random.uniform(-10, 10, (10,2))\n",
        "print(np.array([distance(P0,P1,p_i) for p_i in p]))\n"
      ]
    },
    {
      "cell_type": "markdown",
      "metadata": {
        "id": "mIPE9kiF2KqF"
      },
      "source": [
        "#### 80. Consider an arbitrary array, write a function that extract a subpart with a fixed shape and centered on a given element (pad with a `fill` value when necessary) (★★★) \n",
        "(**hint**: minimum, maximum)"
      ]
    },
    {
      "cell_type": "code",
      "execution_count": 74,
      "metadata": {
        "id": "tsGECULv2KqF",
        "colab": {
          "base_uri": "https://localhost:8080/"
        },
        "outputId": "15138353-5bdf-4783-f391-bc7b473a2496"
      },
      "outputs": [
        {
          "output_type": "stream",
          "name": "stdout",
          "text": [
            "[[1 3 4 6 5 6 6 3 4 8]\n",
            " [8 6 6 0 5 4 7 7 1 7]\n",
            " [9 8 9 1 5 5 4 1 2 6]\n",
            " [9 9 3 9 7 2 0 3 6 1]\n",
            " [5 8 3 2 6 2 6 7 2 1]\n",
            " [5 6 9 5 9 0 5 6 0 9]\n",
            " [4 0 2 5 4 3 9 2 7 2]\n",
            " [5 9 6 5 6 1 1 4 0 9]\n",
            " [5 1 7 5 7 6 9 5 2 8]\n",
            " [3 3 7 6 3 2 8 7 5 7]]\n",
            "[[0 0 0 0 0]\n",
            " [0 1 3 4 6]\n",
            " [0 8 6 6 0]\n",
            " [0 9 8 9 1]\n",
            " [0 9 9 3 9]]\n"
          ]
        },
        {
          "output_type": "stream",
          "name": "stderr",
          "text": [
            "/usr/local/lib/python3.7/dist-packages/ipykernel_launcher.py:23: FutureWarning: Using a non-tuple sequence for multidimensional indexing is deprecated; use `arr[tuple(seq)]` instead of `arr[seq]`. In the future this will be interpreted as an array index, `arr[np.array(seq)]`, which will result either in an error or a different result.\n"
          ]
        }
      ],
      "source": [
        "Z = np.random.randint(0,10,(10,10))\n",
        "shape = (5,5)\n",
        "fill  = 0\n",
        "position = (1,1)\n",
        "\n",
        "R = np.ones(shape, dtype=Z.dtype)*fill\n",
        "P  = np.array(list(position)).astype(int)\n",
        "Rs = np.array(list(R.shape)).astype(int)\n",
        "Zs = np.array(list(Z.shape)).astype(int)\n",
        "\n",
        "R_start = np.zeros((len(shape),)).astype(int)\n",
        "R_stop  = np.array(list(shape)).astype(int)\n",
        "Z_start = (P-Rs//2)\n",
        "Z_stop  = (P+Rs//2)+Rs%2\n",
        "\n",
        "R_start = (R_start - np.minimum(Z_start,0)).tolist()\n",
        "Z_start = (np.maximum(Z_start,0)).tolist()\n",
        "R_stop = np.maximum(R_start, (R_stop - np.maximum(Z_stop-Zs,0))).tolist()\n",
        "Z_stop = (np.minimum(Z_stop,Zs)).tolist()\n",
        "\n",
        "r = [slice(start,stop) for start,stop in zip(R_start,R_stop)]\n",
        "z = [slice(start,stop) for start,stop in zip(Z_start,Z_stop)]\n",
        "R[r] = Z[z]\n",
        "print(Z)\n",
        "print(R)\n"
      ]
    },
    {
      "cell_type": "markdown",
      "metadata": {
        "id": "oTr3omyx2KqF"
      },
      "source": [
        "#### 81. Consider an array Z = \\[1,2,3,4,5,6,7,8,9,10,11,12,13,14\\], how to generate an array R = \\[\\[1,2,3,4\\], \\[2,3,4,5\\], \\[3,4,5,6\\], ..., \\[11,12,13,14\\]\\]? (★★★) \n",
        "(**hint**: stride\\_tricks.as\\_strided)"
      ]
    },
    {
      "cell_type": "code",
      "execution_count": 75,
      "metadata": {
        "id": "FGC74L2O2KqG",
        "colab": {
          "base_uri": "https://localhost:8080/"
        },
        "outputId": "28e7f55f-a6d4-4ed5-d48b-31e843777adc"
      },
      "outputs": [
        {
          "output_type": "stream",
          "name": "stdout",
          "text": [
            "[[ 1  2  3  4]\n",
            " [ 2  3  4  5]\n",
            " [ 3  4  5  6]\n",
            " [ 4  5  6  7]\n",
            " [ 5  6  7  8]\n",
            " [ 6  7  8  9]\n",
            " [ 7  8  9 10]\n",
            " [ 8  9 10 11]\n",
            " [ 9 10 11 12]\n",
            " [10 11 12 13]\n",
            " [11 12 13 14]]\n"
          ]
        }
      ],
      "source": [
        "Z = np.arange(1,15,dtype=np.uint32)\n",
        "R = stride_tricks.as_strided(Z,(11,4),(4,4))\n",
        "print(R)"
      ]
    },
    {
      "cell_type": "markdown",
      "metadata": {
        "id": "SaSlQm0l2KqG"
      },
      "source": [
        "#### 82. Compute a matrix rank (★★★) \n",
        "(**hint**: np.linalg.svd) (suggestion: np.linalg.svd)"
      ]
    },
    {
      "cell_type": "code",
      "execution_count": 76,
      "metadata": {
        "id": "qj05fuSD2KqG",
        "colab": {
          "base_uri": "https://localhost:8080/"
        },
        "outputId": "afdc1352-8b28-4ec9-f0f4-b3970454dc63"
      },
      "outputs": [
        {
          "output_type": "stream",
          "name": "stdout",
          "text": [
            "10\n"
          ]
        }
      ],
      "source": [
        "Z = np.random.uniform(0,1,(10,10))\n",
        "U, S, V = np.linalg.svd(Z) # Singular Value Decomposition\n",
        "rank = np.sum(S > 1e-10)\n",
        "print(rank)\n"
      ]
    },
    {
      "cell_type": "markdown",
      "metadata": {
        "id": "V6OiC4oQ2KqH"
      },
      "source": [
        "#### 83. How to find the most frequent value in an array? \n",
        "(**hint**: np.bincount, argmax)"
      ]
    },
    {
      "cell_type": "code",
      "execution_count": 77,
      "metadata": {
        "id": "IuOnUSBg2KqH",
        "colab": {
          "base_uri": "https://localhost:8080/"
        },
        "outputId": "a8b0aeb4-95cc-4fe5-ab57-c6e718cd3419"
      },
      "outputs": [
        {
          "output_type": "stream",
          "name": "stdout",
          "text": [
            "3\n"
          ]
        }
      ],
      "source": [
        "x = np.random.randint(0,10,50)\n",
        "print(np.bincount(x).argmax())"
      ]
    },
    {
      "cell_type": "markdown",
      "metadata": {
        "id": "2rr6UddZ2KqI"
      },
      "source": [
        "#### 84. Extract all the contiguous 3x3 blocks from a random 10x10 matrix (★★★) \n",
        "(**hint**: stride\\_tricks.as\\_strided)"
      ]
    },
    {
      "cell_type": "code",
      "execution_count": 78,
      "metadata": {
        "id": "-9Ij-3zt2KqI",
        "colab": {
          "base_uri": "https://localhost:8080/"
        },
        "outputId": "f719bc67-6054-4800-d1ad-e51fb1730170"
      },
      "outputs": [
        {
          "output_type": "stream",
          "name": "stdout",
          "text": [
            "[[[[4 4 1]\n",
            "   [4 4 4]\n",
            "   [0 3 4]]\n",
            "\n",
            "  [[4 1 4]\n",
            "   [4 4 2]\n",
            "   [3 4 2]]\n",
            "\n",
            "  [[1 4 3]\n",
            "   [4 2 4]\n",
            "   [4 2 2]]\n",
            "\n",
            "  [[4 3 3]\n",
            "   [2 4 4]\n",
            "   [2 2 1]]\n",
            "\n",
            "  [[3 3 0]\n",
            "   [4 4 2]\n",
            "   [2 1 1]]\n",
            "\n",
            "  [[3 0 4]\n",
            "   [4 2 1]\n",
            "   [1 1 0]]\n",
            "\n",
            "  [[0 4 1]\n",
            "   [2 1 3]\n",
            "   [1 0 3]]\n",
            "\n",
            "  [[4 1 1]\n",
            "   [1 3 3]\n",
            "   [0 3 2]]]\n",
            "\n",
            "\n",
            " [[[4 4 4]\n",
            "   [0 3 4]\n",
            "   [4 3 4]]\n",
            "\n",
            "  [[4 4 2]\n",
            "   [3 4 2]\n",
            "   [3 4 4]]\n",
            "\n",
            "  [[4 2 4]\n",
            "   [4 2 2]\n",
            "   [4 4 2]]\n",
            "\n",
            "  [[2 4 4]\n",
            "   [2 2 1]\n",
            "   [4 2 1]]\n",
            "\n",
            "  [[4 4 2]\n",
            "   [2 1 1]\n",
            "   [2 1 2]]\n",
            "\n",
            "  [[4 2 1]\n",
            "   [1 1 0]\n",
            "   [1 2 2]]\n",
            "\n",
            "  [[2 1 3]\n",
            "   [1 0 3]\n",
            "   [2 2 3]]\n",
            "\n",
            "  [[1 3 3]\n",
            "   [0 3 2]\n",
            "   [2 3 3]]]\n",
            "\n",
            "\n",
            " [[[0 3 4]\n",
            "   [4 3 4]\n",
            "   [0 2 2]]\n",
            "\n",
            "  [[3 4 2]\n",
            "   [3 4 4]\n",
            "   [2 2 3]]\n",
            "\n",
            "  [[4 2 2]\n",
            "   [4 4 2]\n",
            "   [2 3 1]]\n",
            "\n",
            "  [[2 2 1]\n",
            "   [4 2 1]\n",
            "   [3 1 1]]\n",
            "\n",
            "  [[2 1 1]\n",
            "   [2 1 2]\n",
            "   [1 1 1]]\n",
            "\n",
            "  [[1 1 0]\n",
            "   [1 2 2]\n",
            "   [1 1 3]]\n",
            "\n",
            "  [[1 0 3]\n",
            "   [2 2 3]\n",
            "   [1 3 0]]\n",
            "\n",
            "  [[0 3 2]\n",
            "   [2 3 3]\n",
            "   [3 0 2]]]\n",
            "\n",
            "\n",
            " [[[4 3 4]\n",
            "   [0 2 2]\n",
            "   [1 1 1]]\n",
            "\n",
            "  [[3 4 4]\n",
            "   [2 2 3]\n",
            "   [1 1 2]]\n",
            "\n",
            "  [[4 4 2]\n",
            "   [2 3 1]\n",
            "   [1 2 0]]\n",
            "\n",
            "  [[4 2 1]\n",
            "   [3 1 1]\n",
            "   [2 0 0]]\n",
            "\n",
            "  [[2 1 2]\n",
            "   [1 1 1]\n",
            "   [0 0 2]]\n",
            "\n",
            "  [[1 2 2]\n",
            "   [1 1 3]\n",
            "   [0 2 4]]\n",
            "\n",
            "  [[2 2 3]\n",
            "   [1 3 0]\n",
            "   [2 4 3]]\n",
            "\n",
            "  [[2 3 3]\n",
            "   [3 0 2]\n",
            "   [4 3 1]]]\n",
            "\n",
            "\n",
            " [[[0 2 2]\n",
            "   [1 1 1]\n",
            "   [0 3 4]]\n",
            "\n",
            "  [[2 2 3]\n",
            "   [1 1 2]\n",
            "   [3 4 2]]\n",
            "\n",
            "  [[2 3 1]\n",
            "   [1 2 0]\n",
            "   [4 2 0]]\n",
            "\n",
            "  [[3 1 1]\n",
            "   [2 0 0]\n",
            "   [2 0 2]]\n",
            "\n",
            "  [[1 1 1]\n",
            "   [0 0 2]\n",
            "   [0 2 2]]\n",
            "\n",
            "  [[1 1 3]\n",
            "   [0 2 4]\n",
            "   [2 2 0]]\n",
            "\n",
            "  [[1 3 0]\n",
            "   [2 4 3]\n",
            "   [2 0 1]]\n",
            "\n",
            "  [[3 0 2]\n",
            "   [4 3 1]\n",
            "   [0 1 3]]]\n",
            "\n",
            "\n",
            " [[[1 1 1]\n",
            "   [0 3 4]\n",
            "   [2 3 3]]\n",
            "\n",
            "  [[1 1 2]\n",
            "   [3 4 2]\n",
            "   [3 3 4]]\n",
            "\n",
            "  [[1 2 0]\n",
            "   [4 2 0]\n",
            "   [3 4 4]]\n",
            "\n",
            "  [[2 0 0]\n",
            "   [2 0 2]\n",
            "   [4 4 4]]\n",
            "\n",
            "  [[0 0 2]\n",
            "   [0 2 2]\n",
            "   [4 4 4]]\n",
            "\n",
            "  [[0 2 4]\n",
            "   [2 2 0]\n",
            "   [4 4 1]]\n",
            "\n",
            "  [[2 4 3]\n",
            "   [2 0 1]\n",
            "   [4 1 4]]\n",
            "\n",
            "  [[4 3 1]\n",
            "   [0 1 3]\n",
            "   [1 4 3]]]\n",
            "\n",
            "\n",
            " [[[0 3 4]\n",
            "   [2 3 3]\n",
            "   [4 3 1]]\n",
            "\n",
            "  [[3 4 2]\n",
            "   [3 3 4]\n",
            "   [3 1 2]]\n",
            "\n",
            "  [[4 2 0]\n",
            "   [3 4 4]\n",
            "   [1 2 4]]\n",
            "\n",
            "  [[2 0 2]\n",
            "   [4 4 4]\n",
            "   [2 4 4]]\n",
            "\n",
            "  [[0 2 2]\n",
            "   [4 4 4]\n",
            "   [4 4 4]]\n",
            "\n",
            "  [[2 2 0]\n",
            "   [4 4 1]\n",
            "   [4 4 2]]\n",
            "\n",
            "  [[2 0 1]\n",
            "   [4 1 4]\n",
            "   [4 2 4]]\n",
            "\n",
            "  [[0 1 3]\n",
            "   [1 4 3]\n",
            "   [2 4 1]]]\n",
            "\n",
            "\n",
            " [[[2 3 3]\n",
            "   [4 3 1]\n",
            "   [4 2 4]]\n",
            "\n",
            "  [[3 3 4]\n",
            "   [3 1 2]\n",
            "   [2 4 1]]\n",
            "\n",
            "  [[3 4 4]\n",
            "   [1 2 4]\n",
            "   [4 1 3]]\n",
            "\n",
            "  [[4 4 4]\n",
            "   [2 4 4]\n",
            "   [1 3 4]]\n",
            "\n",
            "  [[4 4 4]\n",
            "   [4 4 4]\n",
            "   [3 4 2]]\n",
            "\n",
            "  [[4 4 1]\n",
            "   [4 4 2]\n",
            "   [4 2 0]]\n",
            "\n",
            "  [[4 1 4]\n",
            "   [4 2 4]\n",
            "   [2 0 2]]\n",
            "\n",
            "  [[1 4 3]\n",
            "   [2 4 1]\n",
            "   [0 2 3]]]]\n"
          ]
        }
      ],
      "source": [
        "Z = np.random.randint(0,5,(10,10))\n",
        "n = 3\n",
        "i = 1 + (Z.shape[0]-3)\n",
        "j = 1 + (Z.shape[1]-3)\n",
        "C = stride_tricks.as_strided(Z, shape=(i, j, n, n), strides=Z.strides + Z.strides)\n",
        "print(C)"
      ]
    },
    {
      "cell_type": "markdown",
      "metadata": {
        "id": "ZE5zXun02KqI"
      },
      "source": [
        "#### 85. Create a 2D array subclass such that Z\\[i,j\\] == Z\\[j,i\\] (★★★) \n",
        "(**hint**: class method)"
      ]
    },
    {
      "cell_type": "code",
      "execution_count": 79,
      "metadata": {
        "id": "qZ8kRKfA2KqJ",
        "colab": {
          "base_uri": "https://localhost:8080/"
        },
        "outputId": "80c1ca48-13e8-4f90-c88f-cc8ef5da82d9"
      },
      "outputs": [
        {
          "output_type": "stream",
          "name": "stdout",
          "text": [
            "[[ 1 14 17 16 11]\n",
            " [14  9 14 11  8]\n",
            " [17 14  4 42 12]\n",
            " [16 11 42  1  7]\n",
            " [11  8 12  7  8]]\n"
          ]
        }
      ],
      "source": [
        "class Symetric(np.ndarray):\n",
        "    def __setitem__(self, index, value):\n",
        "        i,j = index\n",
        "        super(Symetric, self).__setitem__((i,j), value)\n",
        "        super(Symetric, self).__setitem__((j,i), value)\n",
        "\n",
        "def symetric(Z):\n",
        "    return np.asarray(Z + Z.T - np.diag(Z.diagonal())).view(Symetric)\n",
        "\n",
        "S = symetric(np.random.randint(0,10,(5,5)))\n",
        "S[2,3] = 42\n",
        "print(S)\n"
      ]
    },
    {
      "cell_type": "markdown",
      "metadata": {
        "id": "5zoLGtxB2KqJ"
      },
      "source": [
        "#### 86. Consider a set of p matrices wich shape (n,n) and a set of p vectors with shape (n,1). How to compute the sum of of the p matrix products at once? (result has shape (n,1)) (★★★) \n",
        "(**hint**: np.tensordot)"
      ]
    },
    {
      "cell_type": "code",
      "execution_count": 80,
      "metadata": {
        "id": "oyezGSGd2KqK",
        "colab": {
          "base_uri": "https://localhost:8080/"
        },
        "outputId": "315cb728-abaa-4fcd-8274-2b7e6f1ee3ea"
      },
      "outputs": [
        {
          "output_type": "stream",
          "name": "stdout",
          "text": [
            "[[200.]\n",
            " [200.]\n",
            " [200.]\n",
            " [200.]\n",
            " [200.]\n",
            " [200.]\n",
            " [200.]\n",
            " [200.]\n",
            " [200.]\n",
            " [200.]\n",
            " [200.]\n",
            " [200.]\n",
            " [200.]\n",
            " [200.]\n",
            " [200.]\n",
            " [200.]\n",
            " [200.]\n",
            " [200.]\n",
            " [200.]\n",
            " [200.]]\n"
          ]
        }
      ],
      "source": [
        "p, n = 10, 20\n",
        "M = np.ones((p,n,n))\n",
        "V = np.ones((p,n,1))\n",
        "S = np.tensordot(M, V, axes=[[0, 2], [0, 1]])\n",
        "print(S)"
      ]
    },
    {
      "cell_type": "markdown",
      "metadata": {
        "id": "3dm8CY7G2KqK"
      },
      "source": [
        "#### 87. Consider a 16x16 array, how to get the block-sum (block size is 4x4)? (★★★) \n",
        "(**hint**: np.add.reduceat)"
      ]
    },
    {
      "cell_type": "code",
      "execution_count": 81,
      "metadata": {
        "id": "kHPsvKRS2KqK",
        "colab": {
          "base_uri": "https://localhost:8080/"
        },
        "outputId": "a36587a7-41a5-4cb6-c364-8c9287aaeadf"
      },
      "outputs": [
        {
          "output_type": "stream",
          "name": "stdout",
          "text": [
            "[[16. 16. 16. 16.]\n",
            " [16. 16. 16. 16.]\n",
            " [16. 16. 16. 16.]\n",
            " [16. 16. 16. 16.]]\n"
          ]
        }
      ],
      "source": [
        "Z = np.ones((16,16))\n",
        "k = 4\n",
        "S = np.add.reduceat(np.add.reduceat(Z, np.arange(0, Z.shape[0], k), axis=0),\n",
        "                                       np.arange(0, Z.shape[1], k), axis=1)\n",
        "print(S)\n"
      ]
    },
    {
      "cell_type": "markdown",
      "metadata": {
        "id": "t1tzXPLC2KqL"
      },
      "source": [
        "#### 88. How to implement the Game of Life using numpy arrays? (★★★)"
      ]
    },
    {
      "cell_type": "code",
      "execution_count": 82,
      "metadata": {
        "id": "-H9G6mvw2KqL",
        "colab": {
          "base_uri": "https://localhost:8080/"
        },
        "outputId": "483bfafe-0035-4705-9066-626ec4577a17"
      },
      "outputs": [
        {
          "output_type": "stream",
          "name": "stdout",
          "text": [
            "[[0 0 0 0 0 0 0 0 0 0 0 0 0 0 0 0 0 0 0 0 0 0 0 0 0 0 0 0 0 0 0 0 0 0 0 0\n",
            "  0 0 0 0 0 0 0 0 0 0 0 0 0 0]\n",
            " [0 0 0 0 0 0 0 0 0 0 0 0 0 0 0 0 0 0 0 0 0 0 0 0 0 0 0 0 0 0 0 0 0 0 0 0\n",
            "  0 0 0 0 0 0 0 0 0 0 0 0 0 0]\n",
            " [0 0 0 0 0 0 0 0 0 0 0 0 0 0 1 1 0 0 0 0 0 0 0 0 0 0 0 0 0 0 0 0 0 0 0 0\n",
            "  0 0 0 0 0 0 0 0 0 0 0 0 0 0]\n",
            " [0 0 0 0 0 0 0 0 0 0 0 0 0 1 0 1 0 0 0 0 0 0 0 0 0 0 0 0 0 0 0 0 0 0 0 0\n",
            "  0 0 0 0 0 0 0 0 0 0 0 0 0 0]\n",
            " [0 0 1 0 0 0 0 0 0 0 0 0 0 1 1 0 0 0 0 0 0 0 0 0 0 0 0 0 0 0 0 0 0 0 0 0\n",
            "  0 0 0 0 0 0 0 0 0 0 0 0 0 0]\n",
            " [0 1 0 1 0 0 0 0 0 0 0 0 0 0 0 0 0 0 0 0 0 0 0 1 1 0 0 0 0 0 0 0 0 0 0 0\n",
            "  0 0 0 0 0 0 0 0 0 0 0 0 0 0]\n",
            " [0 0 1 1 0 0 0 0 0 0 0 0 0 0 0 0 0 0 0 0 0 0 1 0 0 1 0 0 0 0 0 0 0 0 0 0\n",
            "  0 0 0 0 0 0 0 0 0 0 0 0 0 0]\n",
            " [0 0 0 0 0 0 0 0 0 0 0 0 0 0 0 0 0 0 0 0 0 0 1 0 0 1 0 0 0 0 0 0 0 0 0 0\n",
            "  0 0 0 0 0 0 0 0 0 0 0 0 0 0]\n",
            " [0 0 0 0 0 0 0 0 0 0 0 0 0 0 0 0 0 0 0 0 0 0 0 1 1 0 0 0 0 0 0 0 0 0 0 0\n",
            "  0 1 0 0 0 0 0 0 0 0 0 0 0 0]\n",
            " [0 0 0 0 0 0 0 0 0 0 0 0 0 0 0 0 0 0 0 0 0 0 0 0 0 0 0 0 0 0 0 0 0 0 0 0\n",
            "  1 0 1 0 0 0 0 0 0 0 0 0 0 0]\n",
            " [0 0 0 0 0 0 0 0 0 0 0 0 0 0 0 0 0 0 0 0 0 0 0 0 0 0 0 0 0 0 0 0 0 0 0 0\n",
            "  1 0 1 0 0 0 0 0 0 0 0 0 0 0]\n",
            " [0 0 0 0 0 0 0 0 0 0 0 0 0 0 0 1 1 0 0 0 0 0 0 0 0 0 0 0 0 0 0 0 0 0 0 0\n",
            "  0 1 0 0 0 0 0 0 0 0 0 0 0 0]\n",
            " [0 0 0 1 0 0 0 0 0 0 0 0 0 0 0 1 1 0 0 0 0 0 0 0 0 0 0 0 0 0 0 0 0 0 0 0\n",
            "  0 0 0 0 0 0 0 0 0 0 0 0 0 0]\n",
            " [0 0 0 1 0 0 0 0 0 0 0 0 0 0 0 0 0 0 0 0 0 0 0 0 0 0 0 0 0 0 0 0 0 0 0 0\n",
            "  0 0 0 0 0 0 0 0 0 0 0 0 0 0]\n",
            " [0 0 0 1 0 0 0 0 0 0 0 0 0 0 0 0 0 0 0 0 0 0 0 0 0 0 0 0 0 0 0 0 0 0 0 0\n",
            "  0 0 0 0 0 1 1 0 0 0 0 0 0 0]\n",
            " [0 0 0 0 0 0 0 0 0 0 0 0 0 0 0 0 0 0 0 0 0 0 0 0 0 0 0 0 0 0 0 0 0 0 0 0\n",
            "  0 0 0 0 1 0 1 0 0 0 0 0 0 0]\n",
            " [0 0 0 0 0 0 0 0 0 0 0 0 0 0 0 0 0 0 0 0 0 0 0 0 0 0 0 0 0 0 0 0 0 0 0 0\n",
            "  0 0 0 0 1 1 0 0 0 0 0 0 0 0]\n",
            " [0 0 0 0 0 0 0 0 0 0 0 0 0 0 0 0 0 0 0 0 0 0 0 0 0 0 0 0 0 0 0 0 0 0 0 0\n",
            "  0 0 0 0 0 0 0 0 0 0 0 0 0 0]\n",
            " [0 0 0 0 0 0 0 0 0 0 0 0 0 0 0 0 0 0 0 0 0 0 0 0 0 0 0 0 0 0 0 0 0 0 0 1\n",
            "  0 0 0 0 0 0 0 0 0 0 0 1 0 0]\n",
            " [0 0 0 0 0 0 0 0 0 0 0 0 0 0 0 0 0 0 0 0 0 0 0 0 0 0 0 0 0 0 0 0 0 0 0 1\n",
            "  0 0 0 0 0 0 0 0 0 0 1 0 1 0]\n",
            " [0 0 0 0 0 0 0 0 0 0 0 0 0 0 0 0 0 0 0 0 0 0 0 0 0 0 0 0 0 0 0 0 0 0 0 1\n",
            "  0 0 0 0 0 0 0 0 0 0 1 1 0 0]\n",
            " [0 0 0 0 0 0 1 1 0 0 0 0 0 0 0 0 0 0 0 0 0 0 0 0 0 0 0 0 0 0 0 0 0 0 0 0\n",
            "  0 0 0 0 0 0 0 0 0 0 0 0 0 0]\n",
            " [0 0 0 0 0 0 1 1 0 0 0 0 0 0 0 0 0 0 0 0 0 0 1 1 0 0 0 0 0 0 0 0 0 0 0 0\n",
            "  0 0 0 0 0 0 0 0 0 0 0 0 0 0]\n",
            " [0 0 0 0 0 0 0 0 0 0 0 0 0 0 0 0 0 0 0 0 0 0 1 1 0 0 0 0 0 0 0 0 0 0 0 0\n",
            "  0 0 0 0 0 0 0 0 0 0 0 0 0 0]\n",
            " [0 0 0 0 0 0 0 0 0 0 0 0 0 0 0 0 0 0 0 0 0 0 0 0 0 0 0 0 0 0 0 0 0 0 0 0\n",
            "  0 0 0 0 0 0 0 0 0 0 0 0 0 0]\n",
            " [0 0 0 0 0 0 0 0 0 0 0 0 0 0 0 0 0 0 0 0 0 0 0 0 0 0 0 0 0 0 0 0 0 0 0 0\n",
            "  0 0 0 0 0 0 0 0 0 0 0 0 0 0]\n",
            " [0 0 0 0 0 0 0 0 0 0 0 0 0 0 0 0 0 0 0 0 0 0 0 0 0 0 0 0 0 0 0 0 0 0 0 0\n",
            "  0 0 0 0 0 0 0 0 0 0 0 0 0 0]\n",
            " [0 0 0 0 0 0 0 0 0 0 0 0 0 0 0 0 0 0 0 0 0 0 0 0 0 0 0 0 0 0 0 0 0 0 0 0\n",
            "  0 0 0 0 0 0 0 0 0 0 0 0 0 0]\n",
            " [0 0 0 0 0 0 0 0 0 0 0 0 0 0 0 0 0 0 0 0 0 0 0 0 0 0 0 0 0 0 0 0 0 0 0 0\n",
            "  0 0 0 0 0 0 0 0 0 0 0 0 0 0]\n",
            " [0 0 0 0 0 0 0 0 0 0 0 1 1 1 1 0 0 0 0 0 0 0 0 0 0 0 0 0 0 0 0 0 0 0 0 0\n",
            "  0 0 0 0 0 0 0 0 0 0 0 0 0 0]\n",
            " [0 0 0 0 0 0 0 0 0 0 1 0 0 0 1 0 0 0 0 0 0 0 0 0 0 0 0 0 0 0 0 0 0 0 0 0\n",
            "  0 0 0 0 0 0 0 0 0 0 0 0 0 0]\n",
            " [0 0 0 0 0 0 0 0 0 0 0 0 0 0 0 0 0 1 1 1 0 0 0 0 0 0 0 0 0 0 0 0 0 0 0 0\n",
            "  0 0 0 0 0 0 0 0 0 0 0 0 0 0]\n",
            " [0 0 0 0 0 0 0 0 0 0 0 0 1 0 0 0 0 1 1 1 0 0 0 0 0 0 0 0 0 0 0 0 0 0 0 0\n",
            "  0 0 0 0 0 0 0 0 0 0 0 0 0 0]\n",
            " [0 0 0 0 0 0 0 0 0 0 0 0 1 1 1 0 0 0 1 0 1 0 0 0 0 0 0 0 0 0 0 0 0 0 0 0\n",
            "  0 0 0 0 0 0 0 0 0 0 0 0 0 0]\n",
            " [0 0 0 0 0 0 0 0 0 0 0 0 0 1 1 1 0 0 0 0 0 0 0 0 0 0 1 1 0 0 0 0 0 0 0 0\n",
            "  0 0 0 0 0 0 0 0 0 0 0 0 0 0]\n",
            " [0 0 0 0 0 0 0 0 0 0 0 0 0 1 1 1 0 0 0 0 0 0 0 0 0 0 1 1 0 0 0 0 0 0 0 0\n",
            "  0 0 0 0 0 0 0 0 0 0 0 0 0 0]\n",
            " [0 0 0 0 0 0 0 0 0 0 0 0 0 0 0 0 0 0 0 0 0 0 0 0 0 0 0 0 0 0 0 0 0 0 0 0\n",
            "  0 0 0 0 0 0 0 0 0 0 1 1 0 0]\n",
            " [0 0 0 0 0 0 0 0 0 0 1 0 0 0 0 0 0 0 0 0 0 0 0 0 0 0 0 0 0 0 0 0 0 0 0 0\n",
            "  0 0 0 0 0 0 0 0 0 0 1 0 1 0]\n",
            " [0 0 0 0 0 0 0 0 0 1 0 1 0 0 0 0 0 0 0 0 0 0 0 0 0 0 0 0 0 0 0 0 0 1 0 0\n",
            "  0 0 0 0 0 0 0 0 0 0 0 0 1 0]\n",
            " [0 0 0 0 0 0 0 0 0 1 0 1 0 0 0 0 0 0 0 0 0 0 0 0 0 0 0 0 0 0 0 0 1 1 1 1\n",
            "  0 1 1 0 1 0 0 0 0 0 1 0 1 0]\n",
            " [0 0 0 0 0 0 0 0 0 0 1 0 0 0 0 0 0 0 0 0 0 0 0 0 0 0 0 0 0 0 0 1 1 0 1 1\n",
            "  0 1 1 0 0 1 0 0 0 0 1 1 0 0]\n",
            " [0 0 0 0 0 0 0 0 0 0 0 0 0 0 0 0 0 0 0 0 0 0 0 0 0 0 0 0 0 0 0 1 0 1 0 1\n",
            "  0 0 0 0 0 1 0 0 0 0 0 0 0 0]\n",
            " [0 0 0 0 0 0 0 0 0 0 0 0 0 0 0 0 0 0 0 0 0 0 0 0 0 0 0 0 0 0 0 0 1 0 0 0\n",
            "  1 0 0 0 1 1 0 0 0 0 0 0 0 0]\n",
            " [0 0 0 0 0 0 0 0 0 0 0 0 0 0 0 0 0 0 0 1 1 0 0 0 0 0 1 1 0 0 0 0 0 0 0 0\n",
            "  0 0 0 1 0 0 0 0 0 0 0 0 0 0]\n",
            " [0 0 0 0 0 0 0 0 0 0 0 0 1 1 1 0 0 0 0 0 1 1 0 0 0 1 1 0 0 0 0 0 0 0 0 0\n",
            "  1 1 0 0 0 0 0 0 0 0 0 0 0 0]\n",
            " [0 0 0 0 0 0 0 0 0 0 0 0 0 0 0 0 0 1 0 0 1 0 1 0 1 0 1 0 0 1 0 0 0 0 0 0\n",
            "  0 0 0 0 0 0 0 0 0 0 0 0 0 0]\n",
            " [0 0 0 0 0 0 0 0 0 0 0 0 0 0 0 0 0 1 1 1 0 1 1 0 1 1 0 1 1 1 0 0 0 0 0 0\n",
            "  0 0 0 0 0 0 0 0 0 0 0 0 0 0]\n",
            " [0 0 0 0 0 0 0 0 0 0 0 0 0 0 0 0 0 0 1 0 1 0 1 0 1 0 1 0 1 0 0 0 0 0 0 0\n",
            "  0 0 0 0 0 0 0 0 0 0 0 0 0 0]\n",
            " [0 0 0 0 0 0 0 0 0 0 0 0 0 0 0 0 0 0 0 1 1 1 0 0 0 1 1 1 0 0 0 0 0 0 0 0\n",
            "  0 0 0 0 0 0 0 0 0 0 0 0 0 0]\n",
            " [0 0 0 0 0 0 0 0 0 0 0 0 0 0 0 0 0 0 0 0 0 0 0 0 0 0 0 0 0 0 0 0 0 0 0 0\n",
            "  0 0 0 0 0 0 0 0 0 0 0 0 0 0]]\n"
          ]
        }
      ],
      "source": [
        "def iterate(Z):\n",
        "    # Count neighbours\n",
        "    N = (Z[0:-2,0:-2] + Z[0:-2,1:-1] + Z[0:-2,2:] +\n",
        "         Z[1:-1,0:-2]                + Z[1:-1,2:] +\n",
        "         Z[2:  ,0:-2] + Z[2:  ,1:-1] + Z[2:  ,2:])\n",
        "\n",
        "    # Apply rules\n",
        "    birth = (N==3) & (Z[1:-1,1:-1]==0)\n",
        "    survive = ((N==2) | (N==3)) & (Z[1:-1,1:-1]==1)\n",
        "    Z[...] = 0\n",
        "    Z[1:-1,1:-1][birth | survive] = 1\n",
        "    return Z\n",
        "\n",
        "Z = np.random.randint(0,2,(50,50))\n",
        "for i in range(100): Z = iterate(Z)\n",
        "print(Z)"
      ]
    },
    {
      "cell_type": "markdown",
      "metadata": {
        "id": "SuHuqxZa2KqL"
      },
      "source": [
        "#### 89. How to get the n largest values of an array (★★★) \n",
        "(**hint**: np.argsort | np.argpartition)"
      ]
    },
    {
      "cell_type": "code",
      "execution_count": 83,
      "metadata": {
        "id": "YGfn4r162KqM",
        "colab": {
          "base_uri": "https://localhost:8080/"
        },
        "outputId": "b52f6724-c565-4501-c0e0-da6b6d9c8ca3"
      },
      "outputs": [
        {
          "output_type": "stream",
          "name": "stdout",
          "text": [
            "[9995 9996 9997 9998 9999]\n",
            "[9998 9999 9997 9996 9995]\n"
          ]
        }
      ],
      "source": [
        "Z = np.arange(10000)\n",
        "np.random.shuffle(Z)\n",
        "n = 5\n",
        "\n",
        "# Slow\n",
        "print (Z[np.argsort(Z)[-n:]])\n",
        "\n",
        "# Fast\n",
        "print (Z[np.argpartition(-Z,n)[:n]])"
      ]
    },
    {
      "cell_type": "markdown",
      "metadata": {
        "id": "nPAl3s0D2KqM"
      },
      "source": [
        "#### 90. Given an arbitrary number of vectors, build the cartesian product (every combinations of every item) (★★★) \n",
        "(**hint**: np.indices)"
      ]
    },
    {
      "cell_type": "code",
      "execution_count": 84,
      "metadata": {
        "scrolled": true,
        "id": "6nqypk_r2KqM",
        "colab": {
          "base_uri": "https://localhost:8080/"
        },
        "outputId": "705f6b75-da3e-41bf-9de0-f27e9964501e"
      },
      "outputs": [
        {
          "output_type": "stream",
          "name": "stdout",
          "text": [
            "[[1 4 6]\n",
            " [1 4 7]\n",
            " [1 5 6]\n",
            " [1 5 7]\n",
            " [2 4 6]\n",
            " [2 4 7]\n",
            " [2 5 6]\n",
            " [2 5 7]\n",
            " [3 4 6]\n",
            " [3 4 7]\n",
            " [3 5 6]\n",
            " [3 5 7]]\n"
          ]
        }
      ],
      "source": [
        "def cartesian(arrays):\n",
        "    arrays = [np.asarray(a) for a in arrays]\n",
        "    shape = (len(x) for x in arrays)\n",
        "\n",
        "    ix = np.indices(shape, dtype=int)\n",
        "    ix = ix.reshape(len(arrays), -1).T\n",
        "\n",
        "    for n, arr in enumerate(arrays):\n",
        "        ix[:, n] = arrays[n][ix[:, n]]\n",
        "\n",
        "    return ix\n",
        "\n",
        "print (cartesian(([1, 2, 3], [4, 5], [6, 7])))"
      ]
    },
    {
      "cell_type": "markdown",
      "metadata": {
        "id": "21CT0gbE2KqN"
      },
      "source": [
        "#### 91. How to create a record array from a regular array? (★★★) \n",
        "(**hint**: np.core.records.fromarrays)"
      ]
    },
    {
      "cell_type": "code",
      "execution_count": 85,
      "metadata": {
        "id": "qfZcCPJ42KqN",
        "colab": {
          "base_uri": "https://localhost:8080/"
        },
        "outputId": "e5850472-b36c-4fdf-e71c-ade616a8598f"
      },
      "outputs": [
        {
          "output_type": "stream",
          "name": "stdout",
          "text": [
            "[(b'Hello', 2.5, 3) (b'World', 3.6, 2)]\n"
          ]
        }
      ],
      "source": [
        "Z = np.array([(\"Hello\", 2.5, 3),\n",
        "              (\"World\", 3.6, 2)])\n",
        "R = np.core.records.fromarrays(Z.T,\n",
        "                               names='col1, col2, col3',\n",
        "                               formats = 'S8, f8, i8')\n",
        "print(R)"
      ]
    },
    {
      "cell_type": "markdown",
      "metadata": {
        "id": "rz0TsxVV2KqN"
      },
      "source": [
        "#### 92. Consider a large vector Z, compute Z to the power of 3 using 3 different methods (★★★) \n",
        "(**hint**: np.power, \\*, np.einsum)"
      ]
    },
    {
      "cell_type": "code",
      "execution_count": 86,
      "metadata": {
        "id": "8nhqziP_2KqO",
        "colab": {
          "base_uri": "https://localhost:8080/"
        },
        "outputId": "628d1a9f-3b44-4533-eadd-6c2ae71b5da3"
      },
      "outputs": [
        {
          "output_type": "stream",
          "name": "stdout",
          "text": [
            "4.14 s ± 354 ms per loop (mean ± std. dev. of 7 runs, 1 loop each)\n",
            "254 ms ± 35.7 ms per loop (mean ± std. dev. of 7 runs, 1 loop each)\n",
            "134 ms ± 12.7 ms per loop (mean ± std. dev. of 7 runs, 10 loops each)\n"
          ]
        }
      ],
      "source": [
        "x = np.random.rand(int(5e7))\n",
        "\n",
        "%timeit np.power(x,3)\n",
        "%timeit x*x*x\n",
        "%timeit np.einsum('i,i,i->i',x,x,x)"
      ]
    },
    {
      "cell_type": "markdown",
      "metadata": {
        "id": "k9jUuYiQ2KqO"
      },
      "source": [
        "#### 93. Consider two arrays A and B of shape (8,3) and (2,2). How to find rows of A that contain elements of each row of B regardless of the order of the elements in B? (★★★) \n",
        "(**hint**: np.where)"
      ]
    },
    {
      "cell_type": "code",
      "execution_count": 87,
      "metadata": {
        "id": "gpozHVLV2KqO",
        "colab": {
          "base_uri": "https://localhost:8080/"
        },
        "outputId": "9d6861b0-a436-42ff-d520-573d04e618d5"
      },
      "outputs": [
        {
          "output_type": "stream",
          "name": "stdout",
          "text": [
            "[4 5 7]\n"
          ]
        }
      ],
      "source": [
        "A = np.random.randint(0,5,(8,3))\n",
        "B = np.random.randint(0,5,(2,2))\n",
        "\n",
        "C = (A[..., np.newaxis, np.newaxis] == B)\n",
        "rows = np.where(C.any((3,1)).all(1))[0]\n",
        "print(rows)\n"
      ]
    },
    {
      "cell_type": "markdown",
      "metadata": {
        "id": "f4ASeBO32KqP"
      },
      "source": [
        "#### 94. Considering a 10x3 matrix, extract rows with unequal values (e.g. \\[2,2,3\\]) (★★★)"
      ]
    },
    {
      "cell_type": "code",
      "execution_count": 88,
      "metadata": {
        "id": "lry2BS3C2KqP",
        "colab": {
          "base_uri": "https://localhost:8080/"
        },
        "outputId": "8ebe8722-2e65-49f2-dc71-ed27f9251ae5"
      },
      "outputs": [
        {
          "output_type": "stream",
          "name": "stdout",
          "text": [
            "array of Z\n",
            " [[0 4 3]\n",
            " [1 4 4]\n",
            " [3 3 1]\n",
            " [4 2 0]\n",
            " [0 2 1]\n",
            " [1 3 3]\n",
            " [3 2 4]\n",
            " [3 2 3]\n",
            " [1 1 2]\n",
            " [3 2 2]]\n",
            "array of dtypes\n",
            " [[0 4 3]\n",
            " [1 4 4]\n",
            " [3 3 1]\n",
            " [4 2 0]\n",
            " [0 2 1]\n",
            " [1 3 3]\n",
            " [3 2 4]\n",
            " [3 2 3]\n",
            " [1 1 2]\n",
            " [3 2 2]]\n",
            "numerical array \n",
            " [[0 4 3]\n",
            " [1 4 4]\n",
            " [3 3 1]\n",
            " [4 2 0]\n",
            " [0 2 1]\n",
            " [1 3 3]\n",
            " [3 2 4]\n",
            " [3 2 3]\n",
            " [1 1 2]\n",
            " [3 2 2]]\n"
          ]
        }
      ],
      "source": [
        "Z = np.random.randint(0,5,(10,3))\n",
        "print(\"array of Z\\n\",Z)\n",
        "# solution for arrays of all dtypes (including string arrays and record arrays)\n",
        "E = np.all(Z[:,1:] == Z[:,:-1], axis=1)\n",
        "U = Z[~E]\n",
        "print(\"array of dtypes\\n\",U)\n",
        "# soluiton for numerical arrays only, will work for any number of columns in Z\n",
        "U = Z[Z.max(axis=1) != Z.min(axis=1),:]\n",
        "print(\"numerical array \\n\",U)\n"
      ]
    },
    {
      "cell_type": "markdown",
      "metadata": {
        "id": "2QqTiIF02KqP"
      },
      "source": [
        "#### 95. Convert a vector of ints into a matrix binary representation (★★★) \n",
        "(**hint**: np.unpackbits)"
      ]
    },
    {
      "cell_type": "code",
      "execution_count": 89,
      "metadata": {
        "id": "ysmJouqF2KqQ",
        "colab": {
          "base_uri": "https://localhost:8080/"
        },
        "outputId": "6ee58994-17d7-4300-9f35-b261b0e8e380"
      },
      "outputs": [
        {
          "output_type": "stream",
          "name": "stdout",
          "text": [
            "[[0 0 0 0 0 0 0 0]\n",
            " [0 0 0 0 0 0 0 1]\n",
            " [0 0 0 0 0 0 1 0]\n",
            " [0 0 0 0 0 0 1 1]\n",
            " [0 0 0 0 1 1 1 1]\n",
            " [0 0 0 1 0 0 0 0]\n",
            " [0 0 1 0 0 0 0 0]\n",
            " [0 1 0 0 0 0 0 0]\n",
            " [1 0 0 0 0 0 0 0]]\n"
          ]
        }
      ],
      "source": [
        "I = np.array([0, 1, 2, 3, 15, 16, 32, 64, 128])\n",
        "B = ((I.reshape(-1,1) & (2**np.arange(8))) != 0).astype(int)\n",
        "print(B[:,::-1])"
      ]
    },
    {
      "cell_type": "markdown",
      "metadata": {
        "id": "l1qsiCGJ2KqQ"
      },
      "source": [
        "#### 96. Given a two dimensional array, how to extract unique rows? (★★★) \n",
        "(**hint**: np.ascontiguousarray)"
      ]
    },
    {
      "cell_type": "code",
      "execution_count": 90,
      "metadata": {
        "id": "7jA6vqI62KqU",
        "colab": {
          "base_uri": "https://localhost:8080/"
        },
        "outputId": "ebb7e335-c4b1-4d89-956d-34e826cfa020"
      },
      "outputs": [
        {
          "output_type": "stream",
          "name": "stdout",
          "text": [
            "[[0 0 0]\n",
            " [0 0 1]\n",
            " [1 0 1]\n",
            " [1 1 0]\n",
            " [1 1 1]]\n"
          ]
        }
      ],
      "source": [
        "Z = np.random.randint(0,2,(6,3))\n",
        "T = np.ascontiguousarray(Z).view(np.dtype((np.void, Z.dtype.itemsize * Z.shape[1])))\n",
        "_, idx = np.unique(T, return_index=True)\n",
        "uZ = Z[idx]\n",
        "print(uZ)\n"
      ]
    },
    {
      "cell_type": "markdown",
      "metadata": {
        "id": "I2vzq4E72KqU"
      },
      "source": [
        "#### 97. Considering 2 vectors A & B, write the einsum equivalent of inner, outer, sum, and mul function (★★★) \n",
        "(**hint**: np.einsum)"
      ]
    },
    {
      "cell_type": "code",
      "execution_count": 91,
      "metadata": {
        "id": "5AWMzeEd2KqU",
        "colab": {
          "base_uri": "https://localhost:8080/"
        },
        "outputId": "b94a12e6-6182-42c5-b0f3-7df92524a6b0"
      },
      "outputs": [
        {
          "output_type": "execute_result",
          "data": {
            "text/plain": [
              "array([[0.21793708, 0.52358594, 0.10221722, 0.05458698, 0.23191329,\n",
              "        0.44951944, 0.23620806, 0.20455932, 0.14818221, 0.12405858],\n",
              "       [0.21525626, 0.51714537, 0.10095986, 0.05391551, 0.22906055,\n",
              "        0.44398995, 0.2333025 , 0.20204306, 0.14635944, 0.12253255],\n",
              "       [0.38127327, 0.91599524, 0.17882544, 0.095498  , 0.40572416,\n",
              "        0.78641848, 0.41323772, 0.35786935, 0.25923958, 0.21703613],\n",
              "       [0.03471551, 0.08340275, 0.01628233, 0.00869524, 0.0369418 ,\n",
              "        0.07160459, 0.03762592, 0.03258455, 0.02360416, 0.01976147],\n",
              "       [0.23354355, 0.56107992, 0.10953699, 0.05849595, 0.24852059,\n",
              "        0.48170952, 0.25312292, 0.21920781, 0.15879354, 0.13294241],\n",
              "       [0.19260456, 0.46272548, 0.09033572, 0.04824191, 0.2049562 ,\n",
              "        0.3972683 , 0.20875177, 0.1807818 , 0.13095784, 0.10963828],\n",
              "       [0.3238894 , 0.77813256, 0.15191116, 0.08112499, 0.34466029,\n",
              "        0.66805787, 0.35104301, 0.30400791, 0.2202225 , 0.18437091],\n",
              "       [0.40703677, 0.97789111, 0.19090908, 0.10195102, 0.43313986,\n",
              "        0.83955856, 0.44116113, 0.38205139, 0.27675699, 0.23170175],\n",
              "       [0.18475828, 0.44387509, 0.08665564, 0.04627664, 0.19660675,\n",
              "        0.38108448, 0.20024769, 0.17341715, 0.12562292, 0.10517187],\n",
              "       [0.01317838, 0.03166057, 0.00618094, 0.0033008 , 0.0140235 ,\n",
              "        0.02718186, 0.0142832 , 0.01236944, 0.00896039, 0.00750166]])"
            ]
          },
          "metadata": {},
          "execution_count": 91
        }
      ],
      "source": [
        "A = np.random.uniform(0,1,10)\n",
        "B = np.random.uniform(0,1,10)\n",
        "\n",
        "np.einsum('i->', A)       # np.sum(A)\n",
        "np.einsum('i,i->i', A, B) # A * B\n",
        "np.einsum('i,i', A, B)    # np.inner(A, B)\n",
        "np.einsum('i,j->ij', A, B)    # np.outer(A, B)"
      ]
    },
    {
      "cell_type": "markdown",
      "metadata": {
        "id": "7SvJhG8k2KqV"
      },
      "source": [
        "#### 98. Considering a path described by two vectors (X,Y), how to sample it using equidistant samples (★★★)? \n",
        "(**hint**: np.cumsum, np.interp)"
      ]
    },
    {
      "cell_type": "code",
      "execution_count": 92,
      "metadata": {
        "collapsed": true,
        "id": "sAPA178e2KqV"
      },
      "outputs": [],
      "source": [
        "phi = np.arange(0, 10*np.pi, 0.1)\n",
        "\n",
        "a = 1\n",
        "x = a*phi*np.cos(phi)\n",
        "y = a*phi*np.sin(phi)\n",
        "\n",
        "dr = (np.diff(x)**2 + np.diff(y)**2)**.5 # segment lengths\n",
        "r = np.zeros_like(x)\n",
        "r[1:] = np.cumsum(dr)                # integrate path\n",
        "r_int = np.linspace(0, r.max(), 200) # regular spaced path\n",
        "x_int = np.interp(r_int, r, x)       # integrate path\n",
        "y_int = np.interp(r_int, r, y)\n"
      ]
    },
    {
      "cell_type": "markdown",
      "metadata": {
        "id": "KVtZKSKy2KqV"
      },
      "source": [
        "#### 99. Given an integer n and a 2D array X, select from X the rows which can be interpreted as draws from a multinomial distribution with n degrees, i.e., the rows which only contain integers and which sum to n. (★★★) \n",
        "(**hint**: np.logical\\_and.reduce, np.mod)"
      ]
    },
    {
      "cell_type": "code",
      "execution_count": 93,
      "metadata": {
        "id": "xoLsV_zP2KqW",
        "colab": {
          "base_uri": "https://localhost:8080/"
        },
        "outputId": "ee901a59-a53f-4e1f-e29f-76227256a408"
      },
      "outputs": [
        {
          "output_type": "stream",
          "name": "stdout",
          "text": [
            "[[2. 0. 1. 1.]]\n"
          ]
        }
      ],
      "source": [
        "X = np.asarray([[1.0, 0.0, 3.0, 8.0],\n",
        "                [2.0, 0.0, 1.0, 1.0],\n",
        "                [1.5, 2.5, 1.0, 0.0]])\n",
        "n = 4\n",
        "M = np.logical_and.reduce(np.mod(X, 1) == 0, axis=-1)\n",
        "M &= (X.sum(axis=-1) == n)\n",
        "print(X[M])\n"
      ]
    },
    {
      "cell_type": "markdown",
      "metadata": {
        "id": "4v32Rd9q2KqW"
      },
      "source": [
        "#### 100. Compute bootstrapped 95% confidence intervals for the mean of a 1D array X (i.e., resample the elements of an array with replacement N times, compute the mean of each sample, and then compute percentiles over the means). (★★★) \n",
        "(**hint**: np.percentile)"
      ]
    },
    {
      "cell_type": "code",
      "execution_count": 94,
      "metadata": {
        "id": "SN5pKnIl2KqW",
        "colab": {
          "base_uri": "https://localhost:8080/"
        },
        "outputId": "0ca8d718-92de-4d8a-948c-9aca2efb97b4"
      },
      "outputs": [
        {
          "output_type": "stream",
          "name": "stdout",
          "text": [
            "[-0.01446115  0.38970597]\n"
          ]
        }
      ],
      "source": [
        "X = np.random.randn(100) # random 1D array\n",
        "N = 1000 # number of bootstrap samples\n",
        "idx = np.random.randint(0, X.size, (N, X.size))\n",
        "means = X[idx].mean(axis=1)\n",
        "confint = np.percentile(means, [2.5, 97.5])\n",
        "print(confint)\n"
      ]
    },
    {
      "cell_type": "code",
      "source": [
        ""
      ],
      "metadata": {
        "id": "c-hwMmYbqPGD"
      },
      "execution_count": null,
      "outputs": []
    }
  ],
  "metadata": {
    "kernelspec": {
      "display_name": "Python 3",
      "language": "python",
      "name": "python3"
    },
    "language_info": {
      "codemirror_mode": {
        "name": "ipython",
        "version": 3
      },
      "file_extension": ".py",
      "mimetype": "text/x-python",
      "name": "python",
      "nbconvert_exporter": "python",
      "pygments_lexer": "ipython3",
      "version": "3.8.3"
    },
    "colab": {
      "name": "100 questions on Numpy_tasks.ipynb",
      "provenance": [],
      "include_colab_link": true
    }
  },
  "nbformat": 4,
  "nbformat_minor": 0
}