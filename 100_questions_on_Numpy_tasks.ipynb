{
  "cells": [
    {
      "cell_type": "markdown",
      "metadata": {
        "id": "view-in-github",
        "colab_type": "text"
      },
      "source": [
        "<a href=\"https://colab.research.google.com/github/omkarmohite123/omkarmohite123/blob/main/100_questions_on_Numpy_tasks.ipynb\" target=\"_parent\"><img src=\"https://colab.research.google.com/assets/colab-badge.svg\" alt=\"Open In Colab\"/></a>"
      ]
    },
    {
      "cell_type": "markdown",
      "metadata": {
        "id": "LQYCMcBq2Koq"
      },
      "source": [
        "\n",
        "\n",
        "\n",
        "\n",
        "\n",
        "\n",
        "\n",
        " # Numpy\n",
        "\n"
      ]
    },
    {
      "cell_type": "markdown",
      "metadata": {
        "id": "mlS9oxgC2Kot"
      },
      "source": [
        "#### 1. Import the numpy package under the name `np` (★☆☆) \n",
        "(**hint**: import … as …)"
      ]
    },
    {
      "cell_type": "code",
      "execution_count": null,
      "metadata": {
        "collapsed": true,
        "id": "CBVeA-_k2Kou"
      },
      "outputs": [],
      "source": [
        "import numpy as np\n"
      ]
    },
    {
      "cell_type": "markdown",
      "metadata": {
        "id": "1xc02CfU2Kov"
      },
      "source": [
        "#### 2. Print the numpy version and the configuration (★☆☆) \n",
        "(**hint**: np.\\_\\_version\\_\\_, np.show\\_config)"
      ]
    },
    {
      "cell_type": "code",
      "execution_count": null,
      "metadata": {
        "id": "eDYNysAR2Kow",
        "colab": {
          "base_uri": "https://localhost:8080/"
        },
        "outputId": "e9461451-2aad-4b26-fadf-26f3912fbb06"
      },
      "outputs": [
        {
          "output_type": "stream",
          "name": "stdout",
          "text": [
            "1.21.6\n",
            "blas_mkl_info:\n",
            "  NOT AVAILABLE\n",
            "blis_info:\n",
            "  NOT AVAILABLE\n",
            "openblas_info:\n",
            "    libraries = ['openblas', 'openblas']\n",
            "    library_dirs = ['/usr/local/lib']\n",
            "    language = c\n",
            "    define_macros = [('HAVE_CBLAS', None)]\n",
            "    runtime_library_dirs = ['/usr/local/lib']\n",
            "blas_opt_info:\n",
            "    libraries = ['openblas', 'openblas']\n",
            "    library_dirs = ['/usr/local/lib']\n",
            "    language = c\n",
            "    define_macros = [('HAVE_CBLAS', None)]\n",
            "    runtime_library_dirs = ['/usr/local/lib']\n",
            "lapack_mkl_info:\n",
            "  NOT AVAILABLE\n",
            "openblas_lapack_info:\n",
            "    libraries = ['openblas', 'openblas']\n",
            "    library_dirs = ['/usr/local/lib']\n",
            "    language = c\n",
            "    define_macros = [('HAVE_CBLAS', None)]\n",
            "    runtime_library_dirs = ['/usr/local/lib']\n",
            "lapack_opt_info:\n",
            "    libraries = ['openblas', 'openblas']\n",
            "    library_dirs = ['/usr/local/lib']\n",
            "    language = c\n",
            "    define_macros = [('HAVE_CBLAS', None)]\n",
            "    runtime_library_dirs = ['/usr/local/lib']\n",
            "Supported SIMD extensions in this NumPy install:\n",
            "    baseline = SSE,SSE2,SSE3\n",
            "    found = SSSE3,SSE41,POPCNT,SSE42,AVX,F16C,FMA3,AVX2\n",
            "    not found = AVX512F,AVX512CD,AVX512_KNL,AVX512_KNM,AVX512_SKX,AVX512_CLX,AVX512_CNL,AVX512_ICL\n"
          ]
        }
      ],
      "source": [
        "print(np.__version__)\n",
        "np.show_config()\n"
      ]
    },
    {
      "cell_type": "markdown",
      "metadata": {
        "id": "VINRdKcZ2Kow"
      },
      "source": [
        "#### 3. Create a null vector of size 10 (★☆☆) \n",
        "(**hint**: np.zeros)"
      ]
    },
    {
      "cell_type": "code",
      "execution_count": null,
      "metadata": {
        "id": "GGM87Oaf2Kox",
        "colab": {
          "base_uri": "https://localhost:8080/"
        },
        "outputId": "d2d47040-de73-42c4-e034-c6258c2b92f5"
      },
      "outputs": [
        {
          "output_type": "stream",
          "name": "stdout",
          "text": [
            "[0. 0. 0. 0. 0. 0. 0. 0. 0. 0.]\n"
          ]
        }
      ],
      "source": [
        "x = np.zeros(10)\n",
        "print(x)\n"
      ]
    },
    {
      "cell_type": "markdown",
      "metadata": {
        "id": "p6wgVywt2Koy"
      },
      "source": [
        "#### 4.  How to find the memory size of any array (★☆☆) \n",
        "(**hint**: size, itemsize)"
      ]
    },
    {
      "cell_type": "code",
      "execution_count": null,
      "metadata": {
        "id": "cQYIvUT22Koy",
        "colab": {
          "base_uri": "https://localhost:8080/"
        },
        "outputId": "85177abf-6249-4c4e-8bc8-fa1be809b8e1"
      },
      "outputs": [
        {
          "output_type": "stream",
          "name": "stdout",
          "text": [
            "[0 1 2 3 4 5 6 7 8 9]\n",
            "size == 10\n",
            "memory size == 8\n"
          ]
        }
      ],
      "source": [
        "x = np.arange(10)\n",
        "print(x)\n",
        "print(\"size ==\",x.size)\n",
        "print(\"memory size ==\",x.itemsize)"
      ]
    },
    {
      "cell_type": "markdown",
      "metadata": {
        "id": "G5nRBZlV2Koz"
      },
      "source": [
        "#### 5.  How to get the documentation of the numpy add function from the command line? (★☆☆) \n",
        "(**hint**: np.info)"
      ]
    },
    {
      "cell_type": "code",
      "execution_count": null,
      "metadata": {
        "collapsed": true,
        "id": "zeQSYTux2Ko0",
        "colab": {
          "base_uri": "https://localhost:8080/"
        },
        "outputId": "ea1f49b8-4b23-4985-98ee-4df23e489822"
      },
      "outputs": [
        {
          "output_type": "stream",
          "name": "stdout",
          "text": [
            "add(x1, x2, /, out=None, *, where=True, casting='same_kind', order='K', dtype=None, subok=True[, signature, extobj])\n",
            "\n",
            "Add arguments element-wise.\n",
            "\n",
            "Parameters\n",
            "----------\n",
            "x1, x2 : array_like\n",
            "    The arrays to be added.\n",
            "    If ``x1.shape != x2.shape``, they must be broadcastable to a common\n",
            "    shape (which becomes the shape of the output).\n",
            "out : ndarray, None, or tuple of ndarray and None, optional\n",
            "    A location into which the result is stored. If provided, it must have\n",
            "    a shape that the inputs broadcast to. If not provided or None,\n",
            "    a freshly-allocated array is returned. A tuple (possible only as a\n",
            "    keyword argument) must have length equal to the number of outputs.\n",
            "where : array_like, optional\n",
            "    This condition is broadcast over the input. At locations where the\n",
            "    condition is True, the `out` array will be set to the ufunc result.\n",
            "    Elsewhere, the `out` array will retain its original value.\n",
            "    Note that if an uninitialized `out` array is created via the default\n",
            "    ``out=None``, locations within it where the condition is False will\n",
            "    remain uninitialized.\n",
            "**kwargs\n",
            "    For other keyword-only arguments, see the\n",
            "    :ref:`ufunc docs <ufuncs.kwargs>`.\n",
            "\n",
            "Returns\n",
            "-------\n",
            "add : ndarray or scalar\n",
            "    The sum of `x1` and `x2`, element-wise.\n",
            "    This is a scalar if both `x1` and `x2` are scalars.\n",
            "\n",
            "Notes\n",
            "-----\n",
            "Equivalent to `x1` + `x2` in terms of array broadcasting.\n",
            "\n",
            "Examples\n",
            "--------\n",
            ">>> np.add(1.0, 4.0)\n",
            "5.0\n",
            ">>> x1 = np.arange(9.0).reshape((3, 3))\n",
            ">>> x2 = np.arange(3.0)\n",
            ">>> np.add(x1, x2)\n",
            "array([[  0.,   2.,   4.],\n",
            "       [  3.,   5.,   7.],\n",
            "       [  6.,   8.,  10.]])\n",
            "\n",
            "The ``+`` operator can be used as a shorthand for ``np.add`` on ndarrays.\n",
            "\n",
            ">>> x1 = np.arange(9.0).reshape((3, 3))\n",
            ">>> x2 = np.arange(3.0)\n",
            ">>> x1 + x2\n",
            "array([[ 0.,  2.,  4.],\n",
            "       [ 3.,  5.,  7.],\n",
            "       [ 6.,  8., 10.]])\n"
          ]
        }
      ],
      "source": [
        "import numpy as np\n",
        "np.info(np.add)\n"
      ]
    },
    {
      "cell_type": "markdown",
      "metadata": {
        "id": "wUkUkvG02Ko0"
      },
      "source": [
        "#### 6.  Create a null vector of size 10 but the fifth value which is 1 (★☆☆) \n",
        "(**hint**: array\\[4\\])"
      ]
    },
    {
      "cell_type": "code",
      "execution_count": null,
      "metadata": {
        "id": "5D1bmxd32Ko1",
        "colab": {
          "base_uri": "https://localhost:8080/"
        },
        "outputId": "345b2a0d-a5bd-408d-84fe-c0e1f73526c1"
      },
      "outputs": [
        {
          "output_type": "stream",
          "name": "stdout",
          "text": [
            "[0. 0. 0. 0. 1. 0. 0. 0. 0. 0.]\n"
          ]
        }
      ],
      "source": [
        "x=np.zeros(10)\n",
        "x[4]=1\n",
        "print(x)"
      ]
    },
    {
      "cell_type": "markdown",
      "metadata": {
        "id": "bLTrUKyN2Ko1"
      },
      "source": [
        "#### 7.  Create a vector with values ranging from 10 to 49 (★☆☆) \n",
        "(**hint**: np.arange)"
      ]
    },
    {
      "cell_type": "code",
      "execution_count": null,
      "metadata": {
        "id": "8LBK4iJI2Ko2",
        "colab": {
          "base_uri": "https://localhost:8080/"
        },
        "outputId": "eecc878b-6287-4847-a085-c805da10a54f"
      },
      "outputs": [
        {
          "output_type": "stream",
          "name": "stdout",
          "text": [
            "[10 11 12 13 14 15 16 17 18 19 20 21 22 23 24 25 26 27 28 29 30 31 32 33\n",
            " 34 35 36 37 38 39 40 41 42 43 44 45 46 47 48]\n"
          ]
        }
      ],
      "source": [
        "x=np.arange(10,49)\n",
        "print(x)"
      ]
    },
    {
      "cell_type": "markdown",
      "metadata": {
        "id": "0ywKU6y62Ko2"
      },
      "source": [
        "#### 8.  Reverse a vector (first element becomes last) (★☆☆) \n",
        "(**hint**: array\\[::-1\\])"
      ]
    },
    {
      "cell_type": "code",
      "execution_count": null,
      "metadata": {
        "id": "ZEtGNX9c2Ko3",
        "colab": {
          "base_uri": "https://localhost:8080/"
        },
        "outputId": "74e5cb81-c090-4b5f-fe27-8214b71f783a"
      },
      "outputs": [
        {
          "output_type": "execute_result",
          "data": {
            "text/plain": [
              "array([48, 47, 46, 45, 44, 43, 42, 41, 40, 39, 38, 37, 36, 35, 34, 33, 32,\n",
              "       31, 30, 29, 28, 27, 26, 25, 24, 23, 22, 21, 20, 19, 18, 17, 16, 15,\n",
              "       14, 13, 12, 11, 10])"
            ]
          },
          "metadata": {},
          "execution_count": 9
        }
      ],
      "source": [
        "x[::-1]"
      ]
    },
    {
      "cell_type": "markdown",
      "metadata": {
        "id": "HzAk40Ry2Ko3"
      },
      "source": [
        "#### 9.  Create a 3x3 matrix with values ranging from 0 to 8 (★☆☆) \n",
        "(**hint**: reshape)"
      ]
    },
    {
      "cell_type": "code",
      "execution_count": null,
      "metadata": {
        "id": "e_NYiTrS2Ko4",
        "colab": {
          "base_uri": "https://localhost:8080/"
        },
        "outputId": "87607f47-14f1-42f6-9a8b-dd1f9373a9df"
      },
      "outputs": [
        {
          "output_type": "stream",
          "name": "stdout",
          "text": [
            "[[0 1 2]\n",
            " [3 4 5]\n",
            " [6 7 8]]\n"
          ]
        }
      ],
      "source": [
        "x=np.arange(9).reshape(3, 3)\n",
        "print(x)"
      ]
    },
    {
      "cell_type": "markdown",
      "metadata": {
        "id": "0iEGHuUa2Ko4"
      },
      "source": [
        "#### 10. Find indices of non-zero elements from \\[1,2,0,0,4,0\\] (★☆☆) \n",
        "(**hint**: np.nonzero)"
      ]
    },
    {
      "cell_type": "code",
      "execution_count": null,
      "metadata": {
        "id": "TM5dcgUT2Ko5",
        "colab": {
          "base_uri": "https://localhost:8080/"
        },
        "outputId": "9805ac90-b8a9-4684-f944-2c13b27ac798"
      },
      "outputs": [
        {
          "output_type": "stream",
          "name": "stdout",
          "text": [
            "(array([0, 1, 4]),)\n"
          ]
        }
      ],
      "source": [
        "x=[1,2,0,0,4,0]\n",
        "a=np.nonzero(x)\n",
        "print(a)"
      ]
    },
    {
      "cell_type": "markdown",
      "metadata": {
        "id": "qhDVj-_z2Ko5"
      },
      "source": [
        "#### 11. Create a 3x3 identity matrix (★☆☆) \n",
        "(**hint**: np.eye)"
      ]
    },
    {
      "cell_type": "code",
      "execution_count": null,
      "metadata": {
        "id": "tHPA5wCe2Ko6",
        "colab": {
          "base_uri": "https://localhost:8080/"
        },
        "outputId": "07111a0e-d100-459a-a173-ce75fe181fb0"
      },
      "outputs": [
        {
          "output_type": "stream",
          "name": "stdout",
          "text": [
            "[[1. 0. 0.]\n",
            " [0. 1. 0.]\n",
            " [0. 0. 1.]]\n"
          ]
        }
      ],
      "source": [
        "x=np.eye(3,3)\n",
        "print(x)"
      ]
    },
    {
      "cell_type": "markdown",
      "metadata": {
        "id": "VsMo3xv82Ko6"
      },
      "source": [
        "\n",
        "#### 12. Create a 3x3x3 array with random values (★☆☆) \n",
        "(**hint**: np.random.random)"
      ]
    },
    {
      "cell_type": "code",
      "execution_count": null,
      "metadata": {
        "collapsed": true,
        "id": "ePvBUXiq2Ko7",
        "colab": {
          "base_uri": "https://localhost:8080/"
        },
        "outputId": "6abd080f-40e3-4e56-eaea-32f2fe4ddf0b"
      },
      "outputs": [
        {
          "output_type": "stream",
          "name": "stdout",
          "text": [
            "[[[0.30206404 0.98045573 0.34206757]\n",
            "  [0.06256944 0.15391932 0.93578026]\n",
            "  [0.47752012 0.15422507 0.99098205]]\n",
            "\n",
            " [[0.71866545 0.19517034 0.17774182]\n",
            "  [0.19320131 0.24885577 0.38232097]\n",
            "  [0.96339928 0.59082004 0.72751952]]\n",
            "\n",
            " [[0.18715943 0.98657171 0.09742618]\n",
            "  [0.57946991 0.11472559 0.05139978]\n",
            "  [0.23582413 0.06692476 0.1634683 ]]]\n"
          ]
        }
      ],
      "source": [
        "x=np.random.random((3,3,3))\n",
        "print(x)"
      ]
    },
    {
      "cell_type": "markdown",
      "metadata": {
        "id": "gFXsQtlv2Ko7"
      },
      "source": [
        "#### 13. Create a 10x10 array with random values and find the minimum and maximum values (★☆☆) \n",
        "(**hint**: min, max)"
      ]
    },
    {
      "cell_type": "code",
      "source": [
        "x=np.random.random((10,10))\n",
        "print(\"10*10 array ==\\n\",x)\n",
        "print(\"min of array\\n\",x.min())\n",
        "print(\"max of array\\n\",x.max())"
      ],
      "metadata": {
        "colab": {
          "base_uri": "https://localhost:8080/"
        },
        "id": "G5DGdxkB6hyy",
        "outputId": "6ad712d0-71c7-4e8e-e493-08e6bd759322"
      },
      "execution_count": null,
      "outputs": [
        {
          "output_type": "stream",
          "name": "stdout",
          "text": [
            "10*10 array ==\n",
            " [[0.24445947 0.95462642 0.20821609 0.07384012 0.8371497  0.29529255\n",
            "  0.85028361 0.01781235 0.71350462 0.1986992 ]\n",
            " [0.07609811 0.42315964 0.03386436 0.65952074 0.9727474  0.5744949\n",
            "  0.04209746 0.82779066 0.53650453 0.35626708]\n",
            " [0.36357591 0.78047133 0.89653492 0.71747397 0.02393429 0.22733674\n",
            "  0.94867279 0.26910838 0.37803149 0.08719544]\n",
            " [0.0423923  0.91599178 0.86289257 0.62991623 0.23551993 0.52278033\n",
            "  0.20331624 0.02309574 0.23413545 0.10535298]\n",
            " [0.22469627 0.91078395 0.32607083 0.2991805  0.23400477 0.13598827\n",
            "  0.47818446 0.90383051 0.71386053 0.92829029]\n",
            " [0.87843949 0.88837355 0.88103357 0.62638825 0.09834073 0.79522058\n",
            "  0.17281182 0.07575002 0.51592751 0.10977362]\n",
            " [0.95669531 0.38416456 0.14785165 0.2900415  0.29562968 0.97761494\n",
            "  0.93310098 0.68228585 0.2377828  0.22201301]\n",
            " [0.79983202 0.68404765 0.17515603 0.72740104 0.49149219 0.4136332\n",
            "  0.81775428 0.15487628 0.1007511  0.59757645]\n",
            " [0.72839541 0.60762325 0.49857902 0.37714435 0.42291595 0.33320741\n",
            "  0.0503445  0.71886955 0.67111011 0.99373739]\n",
            " [0.67806145 0.48859374 0.11377775 0.60516869 0.11170473 0.4480388\n",
            "  0.23350082 0.60440086 0.72827337 0.3111445 ]]\n",
            "min of array\n",
            " 0.017812348100179398\n",
            "max of array\n",
            " 0.9937373928904151\n"
          ]
        }
      ]
    },
    {
      "cell_type": "code",
      "execution_count": null,
      "metadata": {
        "id": "haWFUAmS2Ko8"
      },
      "outputs": [],
      "source": [
        ""
      ]
    },
    {
      "cell_type": "markdown",
      "metadata": {
        "id": "_65zGqwo2Ko8"
      },
      "source": [
        "#### 14. Create a random vector of size 30 and find the mean value (★☆☆) \n",
        "(**hint**: mean)\n",
        "\n",
        "\n",
        "```\n",
        "`# This is formatted as code`\n",
        "```\n",
        "\n"
      ]
    },
    {
      "cell_type": "code",
      "execution_count": null,
      "metadata": {
        "id": "qoNaaf312Ko9",
        "colab": {
          "base_uri": "https://localhost:8080/"
        },
        "outputId": "c9a0e5f8-66e6-4720-d4b3-0eae7a75a073"
      },
      "outputs": [
        {
          "output_type": "stream",
          "name": "stdout",
          "text": [
            "random vector of size 30\n",
            " [0.04649649 0.31473644 0.71528722 0.46445924 0.75778475 0.99870504\n",
            " 0.57224243 0.37777871 0.64862867 0.83715623 0.19898336 0.10182997\n",
            " 0.68944752 0.93100313 0.53582634 0.94153172 0.83645544 0.1738195\n",
            " 0.31956772 0.715544   0.02629237 0.53224128 0.21274937 0.56600031\n",
            " 0.60071485 0.22762103 0.34775549 0.76649827 0.68281736 0.28647751]\n",
            "mean value is\n",
            " 0.5142150585808037\n"
          ]
        }
      ],
      "source": [
        "x=np.random.random((30))\n",
        "print(\"random vector of size 30\\n\",x)\n",
        "print(\"mean value is\\n\",x.mean())"
      ]
    },
    {
      "cell_type": "markdown",
      "metadata": {
        "id": "qm4VVtNI2Ko9"
      },
      "source": [
        "#### 15. Create a 2d array with 1 on the border and 0 inside (★☆☆) \n",
        "(**hint**: array\\[1:-1, 1:-1\\])"
      ]
    },
    {
      "cell_type": "code",
      "execution_count": null,
      "metadata": {
        "id": "r6FsdWSx2Ko-",
        "colab": {
          "base_uri": "https://localhost:8080/"
        },
        "outputId": "fdc123c2-60f9-4faf-d7e9-800fe96b2f57"
      },
      "outputs": [
        {
          "output_type": "stream",
          "name": "stdout",
          "text": [
            "[[1. 1. 1. 1. 1. 1. 1. 1. 1. 1.]\n",
            " [1. 0. 0. 0. 0. 0. 0. 0. 0. 1.]\n",
            " [1. 0. 0. 0. 0. 0. 0. 0. 0. 1.]\n",
            " [1. 0. 0. 0. 0. 0. 0. 0. 0. 1.]\n",
            " [1. 0. 0. 0. 0. 0. 0. 0. 0. 1.]\n",
            " [1. 0. 0. 0. 0. 0. 0. 0. 0. 1.]\n",
            " [1. 0. 0. 0. 0. 0. 0. 0. 0. 1.]\n",
            " [1. 0. 0. 0. 0. 0. 0. 0. 0. 1.]\n",
            " [1. 0. 0. 0. 0. 0. 0. 0. 0. 1.]\n",
            " [1. 1. 1. 1. 1. 1. 1. 1. 1. 1.]]\n"
          ]
        }
      ],
      "source": [
        "x=np.ones((10,10))\n",
        "x[1:-1,1:-1] = 0\n",
        "print(x)\n"
      ]
    },
    {
      "cell_type": "markdown",
      "metadata": {
        "id": "x_Ad9LtY2Ko-"
      },
      "source": [
        "#### 16. How to add a border (filled with 0's) around an existing array? (★☆☆) \n",
        "(**hint**: np.pad)"
      ]
    },
    {
      "cell_type": "code",
      "execution_count": null,
      "metadata": {
        "id": "pKl2U5VB2Ko-",
        "colab": {
          "base_uri": "https://localhost:8080/"
        },
        "outputId": "ba9209ac-a524-4370-c932-02405d1ebb2d"
      },
      "outputs": [
        {
          "output_type": "stream",
          "name": "stdout",
          "text": [
            "[[0. 0. 0. 0. 0. 0. 0.]\n",
            " [0. 1. 1. 1. 1. 1. 0.]\n",
            " [0. 1. 1. 1. 1. 1. 0.]\n",
            " [0. 1. 1. 1. 1. 1. 0.]\n",
            " [0. 1. 1. 1. 1. 1. 0.]\n",
            " [0. 1. 1. 1. 1. 1. 0.]\n",
            " [0. 0. 0. 0. 0. 0. 0.]]\n"
          ]
        }
      ],
      "source": [
        "x = np.ones((5,5))\n",
        "x = np.pad(x, pad_width=1, mode='constant', constant_values=0)\n",
        "print(x)\n"
      ]
    },
    {
      "cell_type": "markdown",
      "metadata": {
        "id": "tJB8NWIS2Ko_"
      },
      "source": [
        "#### 17. What is the result of the following expression? (★☆☆) \n",
        "(**hint**: NaN = not a number, inf = infinity)"
      ]
    },
    {
      "cell_type": "markdown",
      "metadata": {
        "id": "R16Sbgit2Ko_"
      },
      "source": [
        "```python\n",
        "0 * np.nan\n",
        "np.nan == np.nan\n",
        "np.inf > np.nan\n",
        "np.nan - np.nan\n",
        "0.3 == 3 * 0.1\n",
        "```"
      ]
    },
    {
      "cell_type": "code",
      "execution_count": null,
      "metadata": {
        "id": "wsR_VhxH2KpA",
        "colab": {
          "base_uri": "https://localhost:8080/"
        },
        "outputId": "3529d4be-3a38-4483-b44c-bcc3f421e4de"
      },
      "outputs": [
        {
          "output_type": "stream",
          "name": "stdout",
          "text": [
            "nan\n",
            "False\n",
            "False\n",
            "nan\n",
            "True\n",
            "False\n"
          ]
        }
      ],
      "source": [
        "print(0 * np.nan)\n",
        "print(np.nan == np.nan)\n",
        "print(np.inf > np.nan)\n",
        "print(np.nan - np.nan)\n",
        "print(np.nan in set([np.nan]))\n",
        "print(0.3 == 3 * 0.1)"
      ]
    },
    {
      "cell_type": "markdown",
      "metadata": {
        "id": "mlMwXO7A2KpA"
      },
      "source": [
        "#### 18. Create a 5x5 matrix with values 1,2,3,4 just below the diagonal (★☆☆) \n",
        "(**hint**: np.diag)"
      ]
    },
    {
      "cell_type": "code",
      "execution_count": null,
      "metadata": {
        "id": "ciZp4j1p2KpB",
        "colab": {
          "base_uri": "https://localhost:8080/"
        },
        "outputId": "6e9b8505-dce4-4447-d183-35bf65172efd"
      },
      "outputs": [
        {
          "output_type": "stream",
          "name": "stdout",
          "text": [
            "[[0 0 0 0 0]\n",
            " [1 0 0 0 0]\n",
            " [0 2 0 0 0]\n",
            " [0 0 3 0 0]\n",
            " [0 0 0 4 0]]\n"
          ]
        }
      ],
      "source": [
        "x = np.diag(1+np.arange(4),k=-1)\n",
        "print(x)"
      ]
    },
    {
      "cell_type": "markdown",
      "metadata": {
        "id": "ptcB5UGT2KpB"
      },
      "source": [
        "#### 19. Create a 8x8 matrix and fill it with a checkerboard pattern (★☆☆) \n",
        "(**hint**: array\\[::2\\])"
      ]
    },
    {
      "cell_type": "code",
      "execution_count": null,
      "metadata": {
        "id": "kKCqwY412KpC",
        "colab": {
          "base_uri": "https://localhost:8080/"
        },
        "outputId": "fbe7ff71-0f4b-46f2-c5e3-fb1602df28de"
      },
      "outputs": [
        {
          "output_type": "stream",
          "name": "stdout",
          "text": [
            "[[0 1 0 1 0 1 0 1]\n",
            " [1 0 1 0 1 0 1 0]\n",
            " [0 1 0 1 0 1 0 1]\n",
            " [1 0 1 0 1 0 1 0]\n",
            " [0 1 0 1 0 1 0 1]\n",
            " [1 0 1 0 1 0 1 0]\n",
            " [0 1 0 1 0 1 0 1]\n",
            " [1 0 1 0 1 0 1 0]]\n"
          ]
        }
      ],
      "source": [
        "x = np.zeros((8,8),dtype=int)\n",
        "x[1::2,::2] = 1\n",
        "x[::2,1::2] = 1\n",
        "print(x)\n"
      ]
    },
    {
      "cell_type": "markdown",
      "metadata": {
        "id": "igmdT0OB2KpC"
      },
      "source": [
        "#### 20. Consider a (6,7,8) shape array, what is the index (x,y,z) of the 100th element? \n",
        "(**hint**: np.unravel_index)"
      ]
    },
    {
      "cell_type": "code",
      "execution_count": null,
      "metadata": {
        "id": "x7TpJOMm2KpD",
        "colab": {
          "base_uri": "https://localhost:8080/"
        },
        "outputId": "a34c4351-c03b-4caf-b848-bfd0930e51c6"
      },
      "outputs": [
        {
          "output_type": "stream",
          "name": "stdout",
          "text": [
            "(1, 5, 3)\n"
          ]
        }
      ],
      "source": [
        "print(np.unravel_index(99,(6,7,8)))\n"
      ]
    },
    {
      "cell_type": "markdown",
      "metadata": {
        "id": "sx_O3SWI2KpD"
      },
      "source": [
        "#### 21. Create a checkerboard 8x8 matrix using the tile function (★☆☆) \n",
        "(**hint**: np.tile)"
      ]
    },
    {
      "cell_type": "code",
      "execution_count": null,
      "metadata": {
        "id": "X_25evuy2KpE",
        "colab": {
          "base_uri": "https://localhost:8080/"
        },
        "outputId": "83efdc23-6b77-4ab9-e883-aeb6ac417aa7"
      },
      "outputs": [
        {
          "output_type": "stream",
          "name": "stdout",
          "text": [
            "[[0 1 0 1 0 1 0 1]\n",
            " [1 0 1 0 1 0 1 0]\n",
            " [0 1 0 1 0 1 0 1]\n",
            " [1 0 1 0 1 0 1 0]\n",
            " [0 1 0 1 0 1 0 1]\n",
            " [1 0 1 0 1 0 1 0]\n",
            " [0 1 0 1 0 1 0 1]\n",
            " [1 0 1 0 1 0 1 0]]\n"
          ]
        }
      ],
      "source": [
        "Z = np.tile( np.array([[0,1],[1,0]]), (4,4))\n",
        "print(Z)\n"
      ]
    },
    {
      "cell_type": "markdown",
      "metadata": {
        "id": "GO72o8g12KpE"
      },
      "source": [
        "#### 22. Normalize a 5x5 random matrix (★☆☆) \n",
        "(**hint**: (x - min) / (max - min))"
      ]
    },
    {
      "cell_type": "code",
      "execution_count": null,
      "metadata": {
        "id": "TTDEpyqA2KpF",
        "colab": {
          "base_uri": "https://localhost:8080/"
        },
        "outputId": "661065e8-2d71-40ee-ec22-044727f6890e"
      },
      "outputs": [
        {
          "output_type": "stream",
          "name": "stdout",
          "text": [
            "value of random matrix == [[0.484617   0.70351224 0.97188587 0.77414889 0.89505519]\n",
            " [0.55320557 0.04922488 0.53272927 0.34931657 0.38893137]\n",
            " [0.51497834 0.12888899 0.64803364 0.65083759 0.73110198]\n",
            " [0.90654377 0.22495808 0.10337995 0.1351345  0.52796638]\n",
            " [0.8911537  0.26398903 0.82581541 0.55432848 0.74036895]]\n",
            "ans of  (x-min)/(max-min)\n",
            " [[0.47188742 0.70913083 1.         0.78568837 0.91672924]\n",
            " [0.5462252  0.         0.52403255 0.32524589 0.36818126]\n",
            " [0.50479371 0.08634169 0.64900193 0.65204091 0.7390332 ]\n",
            " [0.92918081 0.19046346 0.05869444 0.09311071 0.51887043]\n",
            " [0.91250073 0.23276605 0.84168567 0.54744224 0.74907694]]\n"
          ]
        }
      ],
      "source": [
        "x= np.random.random((5,5))\n",
        "print(\"value of random matrix ==\",x)\n",
        "min=x.min()\n",
        "max=x.max()\n",
        "k=(x-min)/(max-min)\n",
        "print(\"ans of  (x-min)/(max-min)\\n\",k)\n"
      ]
    },
    {
      "cell_type": "markdown",
      "metadata": {
        "id": "gz0IIDvI2KpF"
      },
      "source": [
        "#### 23. Create a custom dtype that describes a color as four unsigned bytes (RGBA) (★☆☆) \n",
        "(**hint**: np.dtype)"
      ]
    },
    {
      "cell_type": "code",
      "execution_count": null,
      "metadata": {
        "collapsed": true,
        "id": "m9A7RhDP2KpF",
        "colab": {
          "base_uri": "https://localhost:8080/"
        },
        "outputId": "6e93de88-2cf4-477c-c03d-0cbd7e5249ee"
      },
      "outputs": [
        {
          "output_type": "stream",
          "name": "stdout",
          "text": [
            "[('r', 'u1'), ('g', 'u1'), ('b', 'u1'), ('a', 'u1')]\n"
          ]
        }
      ],
      "source": [
        "import numpy as np\n",
        "\n",
        "color = np.dtype([(\"r\", np.ubyte),\n",
        "                  (\"g\", np.ubyte),\n",
        "                  (\"b\", np.ubyte),\n",
        "                  (\"a\", np.ubyte)])\n",
        "print(color)"
      ]
    },
    {
      "cell_type": "markdown",
      "metadata": {
        "id": "B8-kVhmZ2KpG"
      },
      "source": [
        "#### 24. Multiply a 5x3 matrix by a 3x2 matrix (real matrix product) (★☆☆) \n",
        "(**hint**: np.dot | @)"
      ]
    },
    {
      "cell_type": "code",
      "execution_count": null,
      "metadata": {
        "id": "WGMlDZ2U2KpG",
        "colab": {
          "base_uri": "https://localhost:8080/"
        },
        "outputId": "603af7e5-d273-49f8-d146-d17b3a5afbfe"
      },
      "outputs": [
        {
          "output_type": "stream",
          "name": "stdout",
          "text": [
            "[[3. 3.]\n",
            " [3. 3.]\n",
            " [3. 3.]\n",
            " [3. 3.]\n",
            " [3. 3.]]\n"
          ]
        }
      ],
      "source": [
        "x = np.ones((5,3)) @ np.ones((3,2))\n",
        "print(x)"
      ]
    },
    {
      "cell_type": "markdown",
      "metadata": {
        "id": "v_JOznRx2KpH"
      },
      "source": [
        "#### 25. Given a 1D array, negate all elements which are between 3 and 8, in place. (★☆☆) \n",
        "(**hint**: >, <=)"
      ]
    },
    {
      "cell_type": "code",
      "execution_count": null,
      "metadata": {
        "id": "lNJuYhX12KpH",
        "colab": {
          "base_uri": "https://localhost:8080/"
        },
        "outputId": "ec2ce283-c2b1-457a-9eff-5eaeb1c1a58f"
      },
      "outputs": [
        {
          "output_type": "stream",
          "name": "stdout",
          "text": [
            "[ 0  1  2  3 -4 -5 -6 -7  8  9 10]\n"
          ]
        }
      ],
      "source": [
        "x = np.arange(11)\n",
        "x[(3 < x) & (x < 8)] *= -1\n",
        "print(x)\n"
      ]
    },
    {
      "cell_type": "markdown",
      "metadata": {
        "id": "0O-q-jB12KpH"
      },
      "source": [
        "#### 26. What is the output of the following script? (★☆☆) \n",
        "(**hint**: np.sum)"
      ]
    },
    {
      "cell_type": "markdown",
      "metadata": {
        "id": "4m_DMXvz2KpI"
      },
      "source": [
        "```python\n",
        "# Author: Jake VanderPlas\n",
        "\n",
        "print(sum(range(5),-1))\n",
        "from numpy import *\n",
        "print(sum(range(5),-1))\n",
        "```"
      ]
    },
    {
      "cell_type": "code",
      "execution_count": null,
      "metadata": {
        "id": "AJH2Ox0A2KpI",
        "colab": {
          "base_uri": "https://localhost:8080/"
        },
        "outputId": "5d9fdf59-c080-486e-b981-1a6b011eed1c"
      },
      "outputs": [
        {
          "output_type": "stream",
          "name": "stdout",
          "text": [
            "9\n",
            "10\n"
          ]
        }
      ],
      "source": [
        "print(sum(range(5),-1))\n",
        "from numpy import *\n",
        "print(sum(range(5),-1))\n"
      ]
    },
    {
      "cell_type": "markdown",
      "metadata": {
        "id": "VQVgcz5Q2KpJ"
      },
      "source": [
        "#### 27. Consider an integer vector Z, which of these expressions are legal? (★☆☆)"
      ]
    },
    {
      "cell_type": "markdown",
      "metadata": {
        "id": "W3tH4PAe2KpJ"
      },
      "source": [
        "```python\n",
        "Z**Z\n",
        "2 << Z >> 2\n",
        "Z <- Z\n",
        "1j*Z\n",
        "Z/1/1\n",
        "Z<Z>Z\n",
        "```"
      ]
    },
    {
      "cell_type": "code",
      "execution_count": null,
      "metadata": {
        "id": "1mJEsD-m2KpK",
        "colab": {
          "base_uri": "https://localhost:8080/",
          "height": 894
        },
        "outputId": "c87c4987-51fc-40d1-b27b-7222de0b8a4b"
      },
      "outputs": [
        {
          "output_type": "stream",
          "name": "stdout",
          "text": [
            "[[1 1 1 1 1 1 1 1]\n",
            " [1 1 1 1 1 1 1 1]\n",
            " [1 1 1 1 1 1 1 1]\n",
            " [1 1 1 1 1 1 1 1]\n",
            " [1 1 1 1 1 1 1 1]\n",
            " [1 1 1 1 1 1 1 1]\n",
            " [1 1 1 1 1 1 1 1]\n",
            " [1 1 1 1 1 1 1 1]]\n",
            "[[0 1 0 1 0 1 0 1]\n",
            " [1 0 1 0 1 0 1 0]\n",
            " [0 1 0 1 0 1 0 1]\n",
            " [1 0 1 0 1 0 1 0]\n",
            " [0 1 0 1 0 1 0 1]\n",
            " [1 0 1 0 1 0 1 0]\n",
            " [0 1 0 1 0 1 0 1]\n",
            " [1 0 1 0 1 0 1 0]]\n",
            "[[False False False False False False False False]\n",
            " [False False False False False False False False]\n",
            " [False False False False False False False False]\n",
            " [False False False False False False False False]\n",
            " [False False False False False False False False]\n",
            " [False False False False False False False False]\n",
            " [False False False False False False False False]\n",
            " [False False False False False False False False]]\n",
            "[[0.+0.j 0.+1.j 0.+0.j 0.+1.j 0.+0.j 0.+1.j 0.+0.j 0.+1.j]\n",
            " [0.+1.j 0.+0.j 0.+1.j 0.+0.j 0.+1.j 0.+0.j 0.+1.j 0.+0.j]\n",
            " [0.+0.j 0.+1.j 0.+0.j 0.+1.j 0.+0.j 0.+1.j 0.+0.j 0.+1.j]\n",
            " [0.+1.j 0.+0.j 0.+1.j 0.+0.j 0.+1.j 0.+0.j 0.+1.j 0.+0.j]\n",
            " [0.+0.j 0.+1.j 0.+0.j 0.+1.j 0.+0.j 0.+1.j 0.+0.j 0.+1.j]\n",
            " [0.+1.j 0.+0.j 0.+1.j 0.+0.j 0.+1.j 0.+0.j 0.+1.j 0.+0.j]\n",
            " [0.+0.j 0.+1.j 0.+0.j 0.+1.j 0.+0.j 0.+1.j 0.+0.j 0.+1.j]\n",
            " [0.+1.j 0.+0.j 0.+1.j 0.+0.j 0.+1.j 0.+0.j 0.+1.j 0.+0.j]]\n",
            "[[0. 1. 0. 1. 0. 1. 0. 1.]\n",
            " [1. 0. 1. 0. 1. 0. 1. 0.]\n",
            " [0. 1. 0. 1. 0. 1. 0. 1.]\n",
            " [1. 0. 1. 0. 1. 0. 1. 0.]\n",
            " [0. 1. 0. 1. 0. 1. 0. 1.]\n",
            " [1. 0. 1. 0. 1. 0. 1. 0.]\n",
            " [0. 1. 0. 1. 0. 1. 0. 1.]\n",
            " [1. 0. 1. 0. 1. 0. 1. 0.]]\n"
          ]
        },
        {
          "output_type": "error",
          "ename": "ValueError",
          "evalue": "ignored",
          "traceback": [
            "\u001b[0;31m---------------------------------------------------------------------------\u001b[0m",
            "\u001b[0;31mValueError\u001b[0m                                Traceback (most recent call last)",
            "\u001b[0;32m<ipython-input-28-6114e943f179>\u001b[0m in \u001b[0;36m<module>\u001b[0;34m\u001b[0m\n\u001b[1;32m      4\u001b[0m \u001b[0mprint\u001b[0m\u001b[0;34m(\u001b[0m\u001b[0;36m1j\u001b[0m\u001b[0;34m*\u001b[0m\u001b[0mZ\u001b[0m\u001b[0;34m)\u001b[0m\u001b[0;34m\u001b[0m\u001b[0;34m\u001b[0m\u001b[0m\n\u001b[1;32m      5\u001b[0m \u001b[0mprint\u001b[0m\u001b[0;34m(\u001b[0m\u001b[0mZ\u001b[0m\u001b[0;34m/\u001b[0m\u001b[0;36m1\u001b[0m\u001b[0;34m/\u001b[0m\u001b[0;36m1\u001b[0m\u001b[0;34m)\u001b[0m\u001b[0;34m\u001b[0m\u001b[0;34m\u001b[0m\u001b[0m\n\u001b[0;32m----> 6\u001b[0;31m \u001b[0mprint\u001b[0m\u001b[0;34m(\u001b[0m\u001b[0mZ\u001b[0m\u001b[0;34m<\u001b[0m\u001b[0mZ\u001b[0m\u001b[0;34m>\u001b[0m\u001b[0mZ\u001b[0m\u001b[0;34m)\u001b[0m\u001b[0;34m\u001b[0m\u001b[0;34m\u001b[0m\u001b[0m\n\u001b[0m",
            "\u001b[0;31mValueError\u001b[0m: The truth value of an array with more than one element is ambiguous. Use a.any() or a.all()"
          ]
        }
      ],
      "source": [
        "print(Z**Z)\n",
        "print(2 << Z >> 2)\n",
        "print(Z <- Z)\n",
        "print(1j*Z)\n",
        "print(Z/1/1)\n",
        "print(Z<Z>Z)\n"
      ]
    },
    {
      "cell_type": "markdown",
      "metadata": {
        "id": "yIzFsu-62KpK"
      },
      "source": [
        "#### 28. What are the result of the following expressions?"
      ]
    },
    {
      "cell_type": "markdown",
      "metadata": {
        "id": "TTkMYTAy2KpK"
      },
      "source": [
        "```python\n",
        "np.array(0) / np.array(0)\n",
        "np.array(0) // np.array(0)\n",
        "np.array([np.nan]).astype(int).astype(float)\n",
        "```"
      ]
    },
    {
      "cell_type": "code",
      "execution_count": null,
      "metadata": {
        "id": "l7BrLMPG2KpL"
      },
      "outputs": [],
      "source": [
        "print(np.array(0) / np.array(0))\n",
        "print(np.array(0) // np.array(0))\n",
        "print(np.array([np.nan]).astype(int).astype(float))"
      ]
    },
    {
      "cell_type": "markdown",
      "metadata": {
        "id": "DckDoCiq2KpL"
      },
      "source": [
        "#### 29. How to round away from zero a float array ? (★☆☆) \n",
        "(**hint**: np.uniform, np.copysign, np.ceil, np.abs)"
      ]
    },
    {
      "cell_type": "code",
      "execution_count": null,
      "metadata": {
        "id": "c_lxpwUc2KpM"
      },
      "outputs": [],
      "source": [
        "x = np.random.uniform(-10,+10,10)\n",
        "print(\"random x\\n\",x)\n",
        "print(np.copysign(np.ceil(np.abs(x)), x))\n",
        "\n"
      ]
    },
    {
      "cell_type": "markdown",
      "metadata": {
        "id": "KZVmmwil2KpM"
      },
      "source": [
        "#### 30. How to find common values between two arrays? (★☆☆) \n",
        "(**hint**: np.intersect1d)"
      ]
    },
    {
      "cell_type": "code",
      "execution_count": null,
      "metadata": {
        "id": "3b-GtZKC2KpN"
      },
      "outputs": [],
      "source": [
        "x1 = np.random.randint(0,8,10)\n",
        "x2 = np.random.randint(0,8,10)\n",
        "print(\"common values are\",np.intersect1d(x1,x2))\n"
      ]
    },
    {
      "cell_type": "markdown",
      "metadata": {
        "id": "3zB6llUy2KpN"
      },
      "source": [
        "#### 31. How to ignore all numpy warnings (not recommended)? (★☆☆) \n",
        "(**hint**: np.seterr, np.errstate)"
      ]
    },
    {
      "cell_type": "code",
      "execution_count": null,
      "metadata": {
        "id": "xTJ0HQSI2KpN"
      },
      "outputs": [],
      "source": [
        "#using np.seterr\n",
        "defaults = np.seterr(all=\"ignore\")\n",
        "x = np.ones(1) / 0\n",
        "print(x)\n",
        "#back to sanity\n",
        "_ = np.seterr(**defaults)\n",
        "#using np.errstate\n",
        "with np.errstate(all=\"ignore\"):\n",
        "    np.arange(3) / 0\n"
      ]
    },
    {
      "cell_type": "markdown",
      "metadata": {
        "id": "Ce4C85QD2KpO"
      },
      "source": [
        "#### 32. Is the following expressions true? (★☆☆) \n",
        "(**hint**: imaginary number)"
      ]
    },
    {
      "cell_type": "markdown",
      "metadata": {
        "id": "HPd5zkm82KpO"
      },
      "source": [
        "```python\n",
        "np.sqrt(-1) == np.emath.sqrt(-1)\n",
        "```"
      ]
    },
    {
      "cell_type": "code",
      "execution_count": null,
      "metadata": {
        "id": "7lghEV9W2KpP"
      },
      "outputs": [],
      "source": [
        "print(np.sqrt(-1))\n",
        "print(np.emath.sqrt(-1))\n",
        "np.sqrt(-1) == np.emath.sqrt(-1)\n"
      ]
    },
    {
      "cell_type": "markdown",
      "metadata": {
        "id": "uuBpiYv32KpP"
      },
      "source": [
        "#### 33. How to get the dates of yesterday, today and tomorrow? (★☆☆) \n",
        "(**hint**: np.datetime64, np.timedelta64)"
      ]
    },
    {
      "cell_type": "code",
      "execution_count": null,
      "metadata": {
        "collapsed": true,
        "id": "MiGwsuzZ2KpQ"
      },
      "outputs": [],
      "source": [
        "yesterday = np.datetime64('today') - np.timedelta64(1)\n",
        "print(\"yesterday date ==\",yesterday)\n",
        "today     = np.datetime64('today')\n",
        "print(\"today date ==\",today)\n",
        "tomorrow  = np.datetime64('today') + np.timedelta64(1)\n",
        "print(\"tomarrow date\",tomorrow)"
      ]
    },
    {
      "cell_type": "markdown",
      "metadata": {
        "id": "RYXYT2Gf2KpQ"
      },
      "source": [
        "#### 34. How to get all the dates corresponding to the month of July 2016? (★★☆) \n",
        "(**hint**: np.arange(dtype=datetime64\\['D'\\]))"
      ]
    },
    {
      "cell_type": "code",
      "execution_count": null,
      "metadata": {
        "id": "mv-wPoMv2KpQ"
      },
      "outputs": [],
      "source": [
        "x = np.arange('2016-07', '2016-08', dtype='datetime64[D]')\n",
        "print(x)"
      ]
    },
    {
      "cell_type": "markdown",
      "metadata": {
        "id": "RTpXI4uY2KpR"
      },
      "source": [
        "#### 35. How to compute ((A+B)\\*(-A/2)) in place (without copy)? (★★☆) \n",
        "(**hint**: np.add(out=), np.negative(out=), np.multiply(out=), np.divide(out=))"
      ]
    },
    {
      "cell_type": "code",
      "execution_count": null,
      "metadata": {
        "id": "Du52J7bR2KpR"
      },
      "outputs": [],
      "source": [
        "A = np.ones(3)*1\n",
        "print(\"A\\n\",A)\n",
        "B = np.ones(3)*2\n",
        "print(\"B\\n\",B)\n",
        "add=np.add(A,B,out=B)\n",
        "print(\"add (A+B)\\n\",add)\n",
        "divide =np.divide(A,2,out=A)\n",
        "print(\"(A/2)\\n\",divide)\n",
        "negative=np.negative(A,out=A)\n",
        "print(\"-1 * (A/2)\\n\",negative)\n",
        "multiply=np.multiply(A,B,out=A)\n",
        "print(\"((A+B)*(-A/2))\\n\",multiply)"
      ]
    },
    {
      "cell_type": "markdown",
      "metadata": {
        "id": "4p23Jq_G2KpS"
      },
      "source": [
        "#### 36. Extract the integer part of a random array using 5 different methods (★★☆) \n",
        "(**hint**: %, np.floor, np.ceil, astype, np.trunc)"
      ]
    },
    {
      "cell_type": "code",
      "execution_count": null,
      "metadata": {
        "id": "3QyiwkfR2KpS"
      },
      "outputs": [],
      "source": [
        "x= np.random.uniform(0,10,10)\n",
        "print(\"random array\\n\",x)\n",
        "print(\"% method\\n\",x - x%1)\n",
        "print(\"using floor\\n\",np.floor(x))\n",
        "print(\"using ceil\\n\",np.ceil(x))\n",
        "print(\"using astype\\n\",x.astype(int))\n",
        "print(\"using trunc\\n\",np.trunc(Z))"
      ]
    },
    {
      "cell_type": "markdown",
      "metadata": {
        "id": "WP1DTRQy2KpS"
      },
      "source": [
        "#### 37. Create a 5x5 matrix with row values ranging from 0 to 4 (★★☆) \n",
        "(**hint**: np.arange)"
      ]
    },
    {
      "cell_type": "code",
      "execution_count": null,
      "metadata": {
        "id": "65o6xuDP2KpT"
      },
      "outputs": [],
      "source": [
        "x=np.zeros((5,5))\n",
        "x+=np.arange(5)\n",
        "print(x)"
      ]
    },
    {
      "cell_type": "markdown",
      "metadata": {
        "id": "zTu2LIio2KpT"
      },
      "source": [
        "#### 38. Consider a generator function that generates 10 integers and use it to build an array (★☆☆) \n",
        "(**hint**: np.fromiter)"
      ]
    },
    {
      "cell_type": "code",
      "execution_count": null,
      "metadata": {
        "id": "wo8m5u832KpU"
      },
      "outputs": [],
      "source": [
        "def generate():\n",
        "    for x in range(10):\n",
        "        yield x\n",
        "x = np.fromiter(generate(),dtype=float,count=-1)\n",
        "print(x)"
      ]
    },
    {
      "cell_type": "markdown",
      "metadata": {
        "id": "VMlN8awf2KpU"
      },
      "source": [
        "#### 39. Create a vector of size 10 with values ranging from 0 to 1, both excluded (★★☆) \n",
        "(**hint**: np.linspace)"
      ]
    },
    {
      "cell_type": "code",
      "execution_count": null,
      "metadata": {
        "id": "fA-dZWX32KpV"
      },
      "outputs": [],
      "source": [
        "x = np.linspace(0,1,11,endpoint=False)[1:]\n",
        "print(x)\n"
      ]
    },
    {
      "cell_type": "markdown",
      "metadata": {
        "id": "4sae5j4Q2KpV"
      },
      "source": [
        "#### 40. Create a random vector of size 10 and sort it (★★☆) \n",
        "(**hint**: sort)"
      ]
    },
    {
      "cell_type": "code",
      "execution_count": null,
      "metadata": {
        "id": "lZY_Gvnz2KpV"
      },
      "outputs": [],
      "source": [
        "x = np.random.random(10)\n",
        "x.sort()\n",
        "print(x)"
      ]
    },
    {
      "cell_type": "markdown",
      "metadata": {
        "id": "QQ7E3AVC2KpW"
      },
      "source": [
        "#### 41. How to sum a small array faster than np.sum? (★★☆) \n",
        "(**hint**: np.add.reduce)"
      ]
    },
    {
      "cell_type": "code",
      "execution_count": null,
      "metadata": {
        "id": "lzvaMptw2KpW"
      },
      "outputs": [],
      "source": [
        "x = np.arange(10)\n",
        "np.add.reduce(x)\n"
      ]
    },
    {
      "cell_type": "markdown",
      "metadata": {
        "id": "fDv32S8I2KpX"
      },
      "source": [
        "#### 42. Consider two random array A and B, check if they are equal (★★☆) \n",
        "(**hint**: np.allclose, np.array\\_equal)"
      ]
    },
    {
      "cell_type": "code",
      "execution_count": null,
      "metadata": {
        "id": "StkaapNz2KpX"
      },
      "outputs": [],
      "source": [
        "A = np.random.randint(0,2,5)\n",
        "print(\"A\\n\",A)\n",
        "B = np.random.randint(0,2,5)\n",
        "print(\"B\\n\",B)\n",
        "# Assuming identical shape of the arrays and a tolerance for the comparison of values\n",
        "equal = np.allclose(A,B)\n",
        "print(\"using allclose\\n\",equal)\n",
        "\n",
        "# Checking both the shape and the element values, no tolerance (values have to be exactly equal)\n",
        "equal = np.array_equal(A,B)\n",
        "print(\"using array_equal\\n\",equal)"
      ]
    },
    {
      "cell_type": "markdown",
      "metadata": {
        "id": "u4df9LFM2KpX"
      },
      "source": [
        "#### 43. Make an array immutable (read-only) (★★☆) \n",
        "(**hint**: flags.writeable)"
      ]
    },
    {
      "cell_type": "code",
      "execution_count": null,
      "metadata": {
        "id": "4xlRAfZy2KpY"
      },
      "outputs": [],
      "source": [
        "x = np.zeros(10)\n",
        "x.flags.writeable = False\n",
        "x[0] = 1\n"
      ]
    },
    {
      "cell_type": "markdown",
      "metadata": {
        "id": "khCETnDZ2KpY"
      },
      "source": [
        "#### 44. Consider a random 10x2 matrix representing cartesian coordinates, convert them to polar coordinates (★★☆) \n",
        "(**hint**: np.sqrt, np.arctan2)"
      ]
    },
    {
      "cell_type": "code",
      "execution_count": null,
      "metadata": {
        "id": "b7VvTuKT2KpZ"
      },
      "outputs": [],
      "source": [
        "Z = np.random.random((10,2))\n",
        "X,Y = Z[:,0], Z[:,1]\n",
        "R = np.sqrt(X**2+Y**2)\n",
        "T = np.arctan2(Y,X)\n",
        "print(R)\n",
        "print(T)\n"
      ]
    },
    {
      "cell_type": "markdown",
      "metadata": {
        "id": "-6Y6fGa62KpZ"
      },
      "source": [
        "#### 45. Create random vector of size 10 and replace the maximum value by 0 (★★☆) \n",
        "(**hint**: argmax)"
      ]
    },
    {
      "cell_type": "code",
      "execution_count": null,
      "metadata": {
        "id": "KVP3iPST2KpZ"
      },
      "outputs": [],
      "source": [
        "Z = np.random.random(10)\n",
        "print(\"Z\\n\",Z)\n",
        "Z[Z.argmax()] = 0\n",
        "print(\"replace max value by 0\\n\",Z)\n"
      ]
    },
    {
      "cell_type": "markdown",
      "metadata": {
        "id": "oVGDrOzE2Kpa"
      },
      "source": [
        "#### 46. Create a structured array with `x` and `y` coordinates covering the \\[0,1\\]x\\[0,1\\] area (★★☆) \n",
        "(**hint**: np.meshgrid)"
      ]
    },
    {
      "cell_type": "code",
      "execution_count": null,
      "metadata": {
        "id": "lQ89ZZiX2Kpa"
      },
      "outputs": [],
      "source": [
        "X = np.zeros((5,5), [('x',float),('y',float)])\n",
        "X['x'], X['y'] = np.meshgrid(np.linspace(0,1,5),\n",
        "                             np.linspace(0,1,5))\n",
        "print(X)\n"
      ]
    },
    {
      "cell_type": "markdown",
      "metadata": {
        "id": "4NIFqABo2Kpa"
      },
      "source": [
        "####  47. Given two arrays, X and Y, construct the Cauchy matrix C (Cij =1/(xi - yj)) \n",
        "(**hint**: np.subtract.outer)"
      ]
    },
    {
      "cell_type": "code",
      "execution_count": null,
      "metadata": {
        "id": "VcPdkci-2Kpb"
      },
      "outputs": [],
      "source": [
        "X = np.arange(8)\n",
        "print(\"value of X\\n\",X)\n",
        "Y = X + 0.5\n",
        "print(\"value of Y\\n\",Y)\n",
        "C = 1.0 / np.subtract.outer(X, Y)\n",
        "print(\"value of C\\n\",C)\n",
        "print(\"value linalg.det\\n\")\n",
        "print(np.linalg.det(C))"
      ]
    },
    {
      "cell_type": "markdown",
      "metadata": {
        "id": "FgzFJ8r02Kpb"
      },
      "source": [
        "#### 48. Print the minimum and maximum representable value for each numpy scalar type (★★☆) \n",
        "(**hint**: np.iinfo, np.finfo, eps)"
      ]
    },
    {
      "cell_type": "code",
      "execution_count": null,
      "metadata": {
        "id": "6MQcIeUB2Kpc"
      },
      "outputs": [],
      "source": [
        "for dtype in [np.int8, np.int32, np.int64]:\n",
        "   print(\"using iinfo min\\n\",np.iinfo(dtype).min)\n",
        "   print(\"using iinfo max\\n\",np.iinfo(dtype).max)\n",
        "for dtype in [np.float32, np.float64]:\n",
        "   print(\"finfo min\\n\",np.finfo(dtype).min)\n",
        "   print(\"finfo max\\n\",np.finfo(dtype).max)\n",
        "   print(\"finfo eps\\n\",np.finfo(dtype).eps)\n"
      ]
    },
    {
      "cell_type": "markdown",
      "metadata": {
        "id": "RgOshGtE2Kpc"
      },
      "source": [
        "#### 49. How to print all the values of an array? (★★☆) \n",
        "(**hint**: np.set\\_printoptions)"
      ]
    },
    {
      "cell_type": "code",
      "execution_count": null,
      "metadata": {
        "id": "zCfkjRcn2Kpc"
      },
      "outputs": [],
      "source": [
        "np.set_printoptions(threshold=float(\"inf\"))\n",
        "x = np.zeros((40,40))\n",
        "print(x)\n"
      ]
    },
    {
      "cell_type": "markdown",
      "metadata": {
        "id": "xz5_Tdp92Kpd"
      },
      "source": [
        "#### 50. How to find the closest value (to a given scalar) in a vector? (★★☆) \n",
        "(**hint**: argmin)"
      ]
    },
    {
      "cell_type": "code",
      "execution_count": null,
      "metadata": {
        "id": "hU_3cfWy2Kpd"
      },
      "outputs": [],
      "source": [
        "x= np.arange(100)\n",
        "print(\"value of x\\n\",x)\n",
        "y= np.random.uniform(0,100)\n",
        "print(\"value of y\\n\",y)\n",
        "index = (np.abs(x-y)).argmin()\n",
        "print(\"value of argmin x,y \\n\",index)\n",
        "print(\"index of argamin value\\n\",x[index])"
      ]
    },
    {
      "cell_type": "markdown",
      "metadata": {
        "id": "TeXV1j4Y2Kpe"
      },
      "source": [
        "#### 51. Create a structured array representing a position (x,y) and a color (r,g,b) (★★☆) \n",
        "(**hint**: dtype)"
      ]
    },
    {
      "cell_type": "code",
      "execution_count": null,
      "metadata": {
        "id": "k4mYgTho2Kpe"
      },
      "outputs": [],
      "source": [
        "a= np.zeros(10, [ ('position', [ ('x', float, 1),\n",
        "                                  ('y', float, 1)]),\n",
        "                   ('color',    [ ('r', float, 1),\n",
        "                                  ('g', float, 1),\n",
        "                                  ('b', float, 1)])])\n",
        "print(a)"
      ]
    },
    {
      "cell_type": "markdown",
      "metadata": {
        "id": "_ywJWtWM2Kpe"
      },
      "source": [
        "#### 52. Consider a random vector with shape (100,2) representing coordinates, find point by point distances (★★☆) \n",
        "(**hint**: np.atleast\\_2d, T, np.sqrt)"
      ]
    },
    {
      "cell_type": "code",
      "execution_count": null,
      "metadata": {
        "id": "GgrsSLdW2Kpf"
      },
      "outputs": [],
      "source": [
        "Z = np.random.random((10,2))\n",
        "print(\"val of Z\\n\",Z)\n",
        "X,Y = np.atleast_2d(Z[:,0], Z[:,1])\n",
        "print(\"val of X \\n\",X)\n",
        "print(\"val of Y \\n\",Y)\n",
        "D = np.sqrt( (X-X.T)**2 + (Y-Y.T)**2)\n",
        "print(\"np.sqrt( (X-X.T)**2 + (Y-Y.T)**2) ans==\")\n",
        "print(D)\n",
        "\n"
      ]
    },
    {
      "cell_type": "markdown",
      "metadata": {
        "id": "sh3zMsRu2Kpf"
      },
      "source": [
        "#### 53. How to convert a float (32 bits) array into an integer (32 bits) in place? \n",
        "(**hint**: astype(copy=False))"
      ]
    },
    {
      "cell_type": "code",
      "execution_count": null,
      "metadata": {
        "id": "UM9zKKXl2Kpg"
      },
      "outputs": [],
      "source": [
        "Z = (np.random.rand(10)*100).astype(np.float32)\n",
        "print(\"val of z\\n\",Z)\n",
        "Y = Z.view(np.int32)\n",
        "print(\"val of Y\\n\",Y)\n",
        "Y[:] = Z\n",
        "print(\"val of 32 bit integer1`\")\n",
        "print(Y)"
      ]
    },
    {
      "cell_type": "markdown",
      "metadata": {
        "id": "SyKjDoWa2Kpg"
      },
      "source": [
        "#### 54. How to read the following file? (★★☆) \n",
        "(**hint**: np.genfromtxt)"
      ]
    },
    {
      "cell_type": "markdown",
      "metadata": {
        "id": "-lXfgUYD2Kph"
      },
      "source": [
        "```\n",
        "1, 2, 3, 4, 5\n",
        "6,  ,  , 7, 8\n",
        " ,  , 9,10,11\n",
        "```"
      ]
    },
    {
      "cell_type": "code",
      "execution_count": null,
      "metadata": {
        "id": "MUBzS9-r2Kpi"
      },
      "outputs": [],
      "source": [
        "from io import StringIO\n",
        "\n",
        "# make file readable using string id\n",
        "a = StringIO('''1, 2, 3, 4, 5\n",
        "                6,  ,  , 7, 8\n",
        "                 ,  , 9,10,11\n",
        "''')\n",
        "x = np.genfromtxt(a, delimiter=\",\", dtype=np.int)\n",
        "print(\"using genfromtxt read file like below:::\\n\",x)\n"
      ]
    },
    {
      "cell_type": "markdown",
      "metadata": {
        "id": "dkDB_BO32Kpi"
      },
      "source": [
        "#### 55. What is the equivalent of enumerate for numpy arrays? (★★☆) \n",
        "(**hint**: np.ndenumerate, np.ndindex)"
      ]
    },
    {
      "cell_type": "code",
      "execution_count": null,
      "metadata": {
        "id": "DW53FzPb2Kpi",
        "colab": {
          "base_uri": "https://localhost:8080/"
        },
        "outputId": "b20add6c-f2b4-4395-b058-1d97bc7b5f08"
      },
      "outputs": [
        {
          "output_type": "stream",
          "name": "stdout",
          "text": [
            "3*3 matix\n",
            " [[0 1 2]\n",
            " [3 4 5]\n",
            " [6 7 8]]\n",
            "using ndenumerate get index and value\n",
            " (0, 0) 0\n",
            "using ndenumerate get index and value\n",
            " (0, 1) 1\n",
            "using ndenumerate get index and value\n",
            " (0, 2) 2\n",
            "using ndenumerate get index and value\n",
            " (1, 0) 3\n",
            "using ndenumerate get index and value\n",
            " (1, 1) 4\n",
            "using ndenumerate get index and value\n",
            " (1, 2) 5\n",
            "using ndenumerate get index and value\n",
            " (2, 0) 6\n",
            "using ndenumerate get index and value\n",
            " (2, 1) 7\n",
            "using ndenumerate get index and value\n",
            " (2, 2) 8\n",
            "using ndindex get index and value\n",
            " (0, 0) 0\n",
            "using ndindex get index and value\n",
            " (0, 1) 1\n",
            "using ndindex get index and value\n",
            " (0, 2) 2\n",
            "using ndindex get index and value\n",
            " (1, 0) 3\n",
            "using ndindex get index and value\n",
            " (1, 1) 4\n",
            "using ndindex get index and value\n",
            " (1, 2) 5\n",
            "using ndindex get index and value\n",
            " (2, 0) 6\n",
            "using ndindex get index and value\n",
            " (2, 1) 7\n",
            "using ndindex get index and value\n",
            " (2, 2) 8\n"
          ]
        }
      ],
      "source": [
        "x = np.arange(9).reshape(3,3)\n",
        "print(\"3*3 matix\\n\",x)\n",
        "for index, value in np.ndenumerate(x):\n",
        "    print(\"using ndenumerate get index and value\\n\",index, value)\n",
        "for index in np.ndindex(x.shape):\n",
        "    print(\"using ndindex get index and value\\n\",index, x[index])"
      ]
    },
    {
      "cell_type": "markdown",
      "metadata": {
        "id": "1_fDbsa22Kpj"
      },
      "source": [
        "#### 56. Generate a generic 2D Gaussian-like array (★★☆) \n",
        "(**hint**: np.meshgrid, np.exp)"
      ]
    },
    {
      "cell_type": "code",
      "execution_count": null,
      "metadata": {
        "id": "oE1NDkEX2Kpj"
      },
      "outputs": [],
      "source": [
        "X, Y = np.meshgrid(np.linspace(-1,1,10), np.linspace(-1,1,10))\n",
        "print(\"####using meshgrid and linespace create X,Y #####\\n\",X,Y)\n",
        "D = np.sqrt(X*X+Y*Y)\n",
        "print(\"####np.sqrt(X*X+Y*Y)\\n####\",D)\n",
        "sigma, mu = 1.0, 0.0\n",
        "G = np.exp(-( (D-mu)**2 / ( 2.0 * sigma**2 ) ) )\n",
        "print(\"####2D Gaussian like array####\\n\",G)"
      ]
    },
    {
      "cell_type": "markdown",
      "metadata": {
        "id": "sMW_zvFT2Kpj"
      },
      "source": [
        "#### 57. How to randomly place p elements in a 2D array? (★★☆) \n",
        "(**hint**: np.put, np.random.choice)"
      ]
    },
    {
      "cell_type": "code",
      "execution_count": null,
      "metadata": {
        "id": "Hc1U3GB52Kpk",
        "colab": {
          "base_uri": "https://localhost:8080/"
        },
        "outputId": "1f04265f-a8d0-4783-bf74-89da64b142d0"
      },
      "outputs": [
        {
          "output_type": "stream",
          "name": "stdout",
          "text": [
            "random 2d array of 10\n",
            " [[0. 0. 0. 0. 0. 0. 0. 0. 0. 0.]\n",
            " [0. 0. 0. 0. 0. 0. 0. 0. 0. 0.]\n",
            " [0. 0. 0. 0. 0. 0. 0. 0. 0. 0.]\n",
            " [0. 0. 0. 0. 0. 0. 0. 0. 0. 0.]\n",
            " [0. 0. 0. 0. 0. 0. 0. 0. 0. 0.]\n",
            " [0. 0. 0. 0. 0. 0. 0. 0. 0. 0.]\n",
            " [0. 0. 0. 0. 0. 0. 0. 0. 0. 0.]\n",
            " [0. 0. 0. 0. 0. 0. 0. 0. 0. 0.]\n",
            " [0. 0. 0. 0. 0. 0. 0. 0. 0. 0.]\n",
            " [0. 0. 0. 0. 0. 0. 0. 0. 0. 0.]]\n",
            "randomly placing p==3 and value of 1 in p times in 2d array \n",
            " [[0. 0. 0. 0. 0. 0. 0. 0. 0. 0.]\n",
            " [0. 0. 0. 0. 0. 0. 0. 0. 0. 0.]\n",
            " [0. 0. 1. 0. 0. 0. 0. 0. 0. 0.]\n",
            " [0. 0. 0. 0. 0. 0. 0. 0. 0. 0.]\n",
            " [0. 0. 0. 0. 0. 0. 0. 0. 0. 0.]\n",
            " [0. 0. 0. 0. 0. 0. 0. 0. 0. 0.]\n",
            " [0. 0. 0. 0. 0. 0. 0. 0. 0. 0.]\n",
            " [0. 0. 0. 0. 1. 0. 0. 0. 0. 0.]\n",
            " [0. 0. 0. 0. 0. 0. 0. 0. 0. 1.]\n",
            " [0. 0. 0. 0. 0. 0. 0. 0. 0. 0.]]\n"
          ]
        }
      ],
      "source": [
        "n = 10\n",
        "p = 3\n",
        "x = np.zeros((n,n))\n",
        "print(\"random 2d array of 10\\n\",x)\n",
        "np.put(x, np.random.choice(range(n*n), p, replace=False),1)\n",
        "print(\"randomly placing p==3 and value of 1 in p times in 2d array \\n\",x)"
      ]
    },
    {
      "cell_type": "markdown",
      "metadata": {
        "id": "SIaaJQSk2Kpw"
      },
      "source": [
        "#### 58. Subtract the mean of each row of a matrix (★★☆) \n",
        "(**hint**: mean(axis=,keepdims=))"
      ]
    },
    {
      "cell_type": "code",
      "execution_count": null,
      "metadata": {
        "id": "e4_krgRv2Kpx",
        "colab": {
          "base_uri": "https://localhost:8080/"
        },
        "outputId": "9ba26463-523e-488f-aed2-48449dd5659e"
      },
      "outputs": [
        {
          "output_type": "stream",
          "name": "stdout",
          "text": [
            "random matrix\n",
            " [[0.26768061 0.44880873 0.24000977 0.38262431 0.0059107  0.75607045\n",
            "  0.71012853 0.75540106 0.66747455 0.41597925]\n",
            " [0.6768943  0.55493772 0.65299988 0.98495058 0.74133686 0.30826642\n",
            "  0.04854461 0.21313217 0.52004299 0.75096528]\n",
            " [0.4593664  0.72754788 0.04630489 0.89106749 0.00989757 0.57383887\n",
            "  0.98503169 0.20419982 0.21261588 0.7544121 ]\n",
            " [0.18473591 0.48632757 0.07337152 0.30343198 0.46352338 0.58797111\n",
            "  0.58916104 0.70518561 0.98927496 0.30123152]\n",
            " [0.80826759 0.64622753 0.24246678 0.89950871 0.84699249 0.14681586\n",
            "  0.56040294 0.24797604 0.6846537  0.31184793]]\n",
            "Substrating row of each row\n",
            "[[-0.19732818 -0.01620007 -0.22499902 -0.08238449 -0.4590981   0.29106165\n",
            "   0.24511973  0.29039226  0.20246575 -0.04902954]\n",
            " [ 0.13168722  0.00973064  0.1077928   0.4397435   0.19612978 -0.23694066\n",
            "  -0.49666247 -0.33207491 -0.0251641   0.2057582 ]\n",
            " [-0.02706186  0.24111962 -0.44012337  0.40463923 -0.47653069  0.08741061\n",
            "   0.49860343 -0.28222844 -0.27381238  0.26798384]\n",
            " [-0.28368555  0.01790611 -0.39504994 -0.16498948 -0.00489808  0.11954965\n",
            "   0.12073958  0.23676415  0.5208535  -0.16718994]\n",
            " [ 0.26875163  0.10671157 -0.29704917  0.35999276  0.30747654 -0.3927001\n",
            "   0.02088698 -0.29153992  0.14513774 -0.22766803]]\n"
          ]
        }
      ],
      "source": [
        "X = np.random.rand(5, 10)\n",
        "print(\"random matrix\\n\",X)\n",
        "Y = X - X.mean(axis=1, keepdims=True)\n",
        "print(\"Substrating row of each row\")\n",
        "print(Y)"
      ]
    },
    {
      "cell_type": "markdown",
      "metadata": {
        "id": "926A8jEy2Kpx"
      },
      "source": [
        "#### 59. How to sort an array by the nth column? (★★☆) \n",
        "(**hint**: argsort)"
      ]
    },
    {
      "cell_type": "code",
      "execution_count": null,
      "metadata": {
        "id": "-QDAegJx2Kpx"
      },
      "outputs": [],
      "source": [
        "x = np.random.randint(0,10,(3,3))\n",
        "print(\"unsorted matrix\\n\",x)\n",
        "print(\"sorted matris using argsort\\n\",x[x[:,1].argsort()])"
      ]
    },
    {
      "cell_type": "markdown",
      "metadata": {
        "id": "ZXTMVo1b2Kpy"
      },
      "source": [
        "#### 60. How to tell if a given 2D array has null columns? (★★☆) \n",
        "(**hint**: any, ~)"
      ]
    },
    {
      "cell_type": "code",
      "execution_count": null,
      "metadata": {
        "id": "j9DzfH_r2Kpy"
      },
      "outputs": [],
      "source": [
        "x = np.random.randint(0,3,(3,10))\n",
        "print((~x.any(axis=0)).any())"
      ]
    },
    {
      "cell_type": "markdown",
      "metadata": {
        "id": "T0PzGB502Kpz"
      },
      "source": [
        "#### 61. Find the nearest value from a given value in an array (★★☆) \n",
        "(**hint**: np.abs, argmin, flat)"
      ]
    },
    {
      "cell_type": "code",
      "execution_count": null,
      "metadata": {
        "id": "8djGidp92Kpz"
      },
      "outputs": [],
      "source": [
        "x = np.random.uniform(0,1,10)\n",
        "print(\"array\\n\",x)\n",
        "y = 0.5\n",
        "print(\"\\ngiven y ==\",y)\n",
        "\n",
        "\n",
        "m = x.flat[np.abs(x - y).argmin()]\n",
        "print(\"\\nprint nearest value of y in array\\n\",m)"
      ]
    },
    {
      "cell_type": "markdown",
      "metadata": {
        "id": "eDAjZICc2Kpz"
      },
      "source": [
        "#### 62. Considering two arrays with shape (1,3) and (3,1), how to compute their sum using an iterator? (★★☆) \n",
        "(**hint**: np.nditer)"
      ]
    },
    {
      "cell_type": "code",
      "execution_count": null,
      "metadata": {
        "id": "TEvl4adp2Kp0"
      },
      "outputs": [],
      "source": [
        "A = np.arange(3).reshape(3,1)\n",
        "print(\"3*1 matrix A\\n\",A)\n",
        "B = np.arange(3).reshape(1,3)\n",
        "print(\"1*3 matrix B\\n\",B)\n",
        "it = np.nditer([A,B,None])\n",
        "for x,y,z in it: z[...] = x + y\n",
        "print(\"sum of A and B using iterator\\n\",it.operands[2])"
      ]
    },
    {
      "cell_type": "markdown",
      "metadata": {
        "id": "C9KT0O4_2Kp0"
      },
      "source": [
        "#### 63. Create an array class that has a name attribute (★★☆) \n",
        "(**hint**: class method)"
      ]
    },
    {
      "cell_type": "code",
      "execution_count": null,
      "metadata": {
        "id": "yYOXyDj32Kp1"
      },
      "outputs": [],
      "source": [
        "class NamedArray(np.ndarray):\n",
        "    def __new__(cls, array, name=\"no name\"):\n",
        "        obj = np.asarray(array).view(cls)\n",
        "        obj.name = name\n",
        "        return obj\n",
        "    def __array_finalize__(self, obj):\n",
        "        if obj is None: return\n",
        "        self.info = getattr(obj, 'name', \"no name\")\n",
        "\n",
        "Z = NamedArray(np.arange(10), \"range_10\")\n",
        "print (Z.name)"
      ]
    },
    {
      "cell_type": "markdown",
      "metadata": {
        "id": "E-LEGRS62Kp1"
      },
      "source": [
        "#### 64. Consider a given vector, how to add 1 to each element indexed by a second vector (be careful with repeated indices)? (★★★) \n",
        "(**hint**: np.bincount | np.add.at)"
      ]
    },
    {
      "cell_type": "code",
      "execution_count": null,
      "metadata": {
        "id": "e22XMGrk2Kp1",
        "colab": {
          "base_uri": "https://localhost:8080/"
        },
        "outputId": "0e3f92b2-271a-4d78-c693-9417fa002894"
      },
      "outputs": [
        {
          "output_type": "stream",
          "name": "stdout",
          "text": [
            "using bincount\n",
            " [3. 2. 2. 3. 5. 4. 3. 4. 2. 2.]\n",
            "using add.at\n",
            " [5. 3. 3. 5. 9. 7. 5. 7. 3. 3.]\n"
          ]
        }
      ],
      "source": [
        "Z = np.ones(10)\n",
        "I = np.random.randint(0,len(Z),20)\n",
        "Z += np.bincount(I, minlength=len(Z))\n",
        "print(\"using bincount\\n\",Z)\n",
        "np.add.at(Z, I, 1)\n",
        "print(\"using add.at\\n\",Z)\n"
      ]
    },
    {
      "cell_type": "markdown",
      "metadata": {
        "id": "swlkFERj2Kp2"
      },
      "source": [
        "#### 65. How to accumulate elements of a vector (X) to an array (F) based on an index list (I)? (★★★) \n",
        "(**hint**: np.bincount)"
      ]
    },
    {
      "cell_type": "code",
      "execution_count": null,
      "metadata": {
        "id": "yzt_rfhX2Kp2"
      },
      "outputs": [],
      "source": [
        "X = [1,2,3,4,5,6]\n",
        "I = [1,3,9,3,4,1]\n",
        "F = np.bincount(I,X)\n",
        "print(\"using bincounrt\\n\",F)\n"
      ]
    },
    {
      "cell_type": "markdown",
      "metadata": {
        "id": "AgOy73c12Kp3"
      },
      "source": [
        "#### 66. Considering a (w,h,3) image of (dtype=ubyte), compute the number of unique colors (★★★) \n",
        "(**hint**: np.unique)"
      ]
    },
    {
      "cell_type": "code",
      "execution_count": null,
      "metadata": {
        "id": "-ds5IFP_2Kp3",
        "colab": {
          "base_uri": "https://localhost:8080/"
        },
        "outputId": "c56167e4-a0bd-424d-a67d-c6f156ac4e17"
      },
      "outputs": [
        {
          "output_type": "stream",
          "name": "stdout",
          "text": [
            "64\n"
          ]
        }
      ],
      "source": [
        "w, h = 256, 256\n",
        "I = np.random.randint(0, 4, (h, w, 3)).astype(np.ubyte)\n",
        "colors = np.unique(I.reshape(-1, 3), axis=0)\n",
        "n = len(colors)\n",
        "print(n)\n"
      ]
    },
    {
      "cell_type": "markdown",
      "metadata": {
        "id": "k_dkEFsA2Kp3"
      },
      "source": [
        "#### 67. Considering a four dimensions array, how to get sum over the last two axis at once? (★★★) \n",
        "(**hint**: sum(axis=(-2,-1)))"
      ]
    },
    {
      "cell_type": "code",
      "execution_count": null,
      "metadata": {
        "id": "PzyotlpU2Kp4"
      },
      "outputs": [],
      "source": [
        "A = np.random.randint(0,10,(3,4,3,4))\n",
        "# solution by passing a tuple of axes (introduced in numpy 1.7.0)\n",
        "sum = A.sum(axis=(-2,-1))\n",
        "print(\"sum using axix\\n\",sum)\n",
        "# solution by flattening the last two dimensions into one\n",
        "# (useful for functions that don't accept tuples for axis argument)\n",
        "sum = A.reshape(A.shape[:-2] + (-1,)).sum(axis=-1)\n",
        "print(\"sum using reshape and axis\\n\",sum)\n"
      ]
    },
    {
      "cell_type": "markdown",
      "metadata": {
        "id": "F4cz-fOm2Kp4"
      },
      "source": [
        "#### 68. Considering a one-dimensional vector D, how to compute means of subsets of D using a vector S of same size describing subset  indices? (★★★) \n",
        "(**hint**: np.bincount)"
      ]
    },
    {
      "cell_type": "code",
      "execution_count": null,
      "metadata": {
        "id": "m9vyQjmg2Kp5",
        "colab": {
          "base_uri": "https://localhost:8080/"
        },
        "outputId": "13991f3d-72a1-4c06-a704-75be5f4b58e1"
      },
      "outputs": [
        {
          "output_type": "stream",
          "name": "stdout",
          "text": [
            "mean of subset\n",
            " [0.54188181 0.39088546 0.6101259  0.4391576  0.48336223 0.62745227\n",
            " 0.61511274 0.54337859 0.5294657  0.41246668]\n",
            "using series\n",
            " 0    0.541882\n",
            "1    0.390885\n",
            "2    0.610126\n",
            "3    0.439158\n",
            "4    0.483362\n",
            "5    0.627452\n",
            "6    0.615113\n",
            "7    0.543379\n",
            "8    0.529466\n",
            "9    0.412467\n",
            "dtype: float64\n"
          ]
        }
      ],
      "source": [
        "D = np.random.uniform(0,1,100)\n",
        "S = np.random.randint(0,10,100)\n",
        "D_sums = np.bincount(S, weights=D)\n",
        "D_counts = np.bincount(S)\n",
        "D_means = D_sums / D_counts\n",
        "print(\"mean of subset\\n\",D_means)\n",
        "\n",
        "# Pandas solution as a reference due to more intuitive code\n",
        "import pandas as pd\n",
        "print(\"using series\\n\",pd.Series(D).groupby(S).mean())\n"
      ]
    },
    {
      "cell_type": "markdown",
      "metadata": {
        "id": "9Bc3ySj-2Kp5"
      },
      "source": [
        "#### 69. How to get the diagonal of a dot product? (★★★) \n",
        "(**hint**: np.diag)"
      ]
    },
    {
      "cell_type": "code",
      "execution_count": null,
      "metadata": {
        "id": "C_eHSNhD2Kp6",
        "colab": {
          "base_uri": "https://localhost:8080/"
        },
        "outputId": "9aaf2e2d-ea84-407d-a0c9-535a2686fb32"
      },
      "outputs": [
        {
          "output_type": "stream",
          "name": "stdout",
          "text": [
            "using dot method\n",
            " [0.74825532 2.03664425 1.47940601 2.26048941 1.16554264]\n",
            "using sum method\n",
            " [0.74825532 2.03664425 1.47940601 2.26048941 1.16554264]\n",
            "using einum method\n",
            " [0.74825532 2.03664425 1.47940601 2.26048941 1.16554264]\n"
          ]
        }
      ],
      "source": [
        "A = np.random.uniform(0,1,(5,5))\n",
        "B = np.random.uniform(0,1,(5,5))\n",
        "\n",
        "# Slow version\n",
        "print(\"using dot method\\n\",np.diag(np.dot(A, B)))\n",
        "\n",
        "# Fast version\n",
        "print(\"using sum method\\n\",np.sum(A * B.T, axis=1))\n",
        "\n",
        "# Faster version\n",
        "print(\"using einum method\\n\",np.einsum(\"ij,ji->i\", A, B))\n"
      ]
    },
    {
      "cell_type": "markdown",
      "metadata": {
        "id": "8_XqSkBh2Kp6"
      },
      "source": [
        "#### 70. Consider the vector \\[1, 2, 3, 4, 5\\], how to build a new vector with 3 consecutive zeros interleaved between each value? (★★★) \n",
        "(**hint**: array\\[::4\\])"
      ]
    },
    {
      "cell_type": "code",
      "execution_count": null,
      "metadata": {
        "id": "MGJOOdic2Kp6",
        "colab": {
          "base_uri": "https://localhost:8080/"
        },
        "outputId": "e0153e48-2890-4476-b34d-84813c814722"
      },
      "outputs": [
        {
          "output_type": "stream",
          "name": "stdout",
          "text": [
            "bulding new vector\n",
            " [1. 0. 0. 0. 2. 0. 0. 0. 3. 0. 0. 0. 4. 0. 0. 0. 5.]\n"
          ]
        }
      ],
      "source": [
        "Z = np.array([1,2,3,4,5])\n",
        "nz = 3\n",
        "Z0 = np.zeros(len(Z) + (len(Z)-1)*(nz))\n",
        "Z0[::nz+1] = Z\n",
        "print(\"bulding new vector\\n\",Z0)\n"
      ]
    },
    {
      "cell_type": "markdown",
      "metadata": {
        "id": "QI3N5lqj2Kp7"
      },
      "source": [
        "#### 71. Consider an array of dimension (5,5,3), how to mulitply it by an array with dimensions (5,5)? (★★★) \n",
        "(**hint**: array\\[:, :, None\\])"
      ]
    },
    {
      "cell_type": "code",
      "execution_count": null,
      "metadata": {
        "collapsed": true,
        "id": "eFZrlwli2Kp7"
      },
      "outputs": [],
      "source": [
        "A = np.ones((5,5,3))\n",
        "print(\"matrix 5,5,3\\n\",A)\n",
        "B = 2*np.ones((5,5))\n",
        "print(\"matrix 5,5\\n\",B)\n",
        "print(\"multiplay both\\n\",A * B[:,:,None])\n"
      ]
    },
    {
      "cell_type": "markdown",
      "metadata": {
        "id": "1PTpD3-c2Kp8"
      },
      "source": [
        "#### 72. How to swap two rows of an array? (★★★) \n",
        "(**hint**: array\\[\\[\\]\\] = array\\[\\[\\]\\])"
      ]
    },
    {
      "cell_type": "code",
      "execution_count": null,
      "metadata": {
        "id": "X3Qov3hJ2Kp8"
      },
      "outputs": [],
      "source": [
        "A = np.arange(25).reshape(5,5)\n",
        "print(\"normal array\\n\",A)\n",
        "A[[0,1]] = A[[1,0]]\n",
        "print(\"swaping first two row\\n\", A)\n"
      ]
    },
    {
      "cell_type": "markdown",
      "metadata": {
        "id": "kGXWUxun2Kp8"
      },
      "source": [
        "#### 73. Consider a set of 10 triplets describing 10 triangles (with shared vertices), find the set of unique line segments composing all the  triangles (★★★) \n",
        "(**hint**: repeat, np.roll, np.sort, view, np.unique)"
      ]
    },
    {
      "cell_type": "code",
      "execution_count": null,
      "metadata": {
        "id": "BxWN37hk2Kp9",
        "colab": {
          "base_uri": "https://localhost:8080/"
        },
        "outputId": "dc11dbf1-e162-4741-b73b-a057fcb7869d"
      },
      "outputs": [
        {
          "output_type": "stream",
          "name": "stdout",
          "text": [
            "[( 2, 43) ( 2, 58) ( 7,  9) ( 7, 23) ( 9, 23) (10, 41) (10, 97) (16, 49)\n",
            " (16, 53) (19, 21) (19, 38) (21, 38) (26, 31) (26, 56) (30, 74) (30, 93)\n",
            " (31, 56) (36, 43) (36, 80) (38, 59) (38, 90) (41, 97) (43, 47) (43, 58)\n",
            " (43, 80) (43, 99) (47, 99) (49, 53) (59, 90) (74, 93)]\n"
          ]
        }
      ],
      "source": [
        "faces = np.random.randint(0,100,(10,3))\n",
        "F = np.roll(faces.repeat(2,axis=1),-1,axis=1)\n",
        "F = F.reshape(len(F)*3,2)\n",
        "F = np.sort(F,axis=1)\n",
        "G = F.view( dtype=[('p0',F.dtype),('p1',F.dtype)] )\n",
        "G = np.unique(G)\n",
        "print(G)"
      ]
    },
    {
      "cell_type": "markdown",
      "metadata": {
        "id": "ETOw9tIa2Kp9"
      },
      "source": [
        "#### 74. Given an array C that is a bincount, how to produce an array A such that np.bincount(A) == C? (★★★) \n",
        "(**hint**: np.repeat)"
      ]
    },
    {
      "cell_type": "code",
      "execution_count": null,
      "metadata": {
        "id": "IHz78ScE2Kp-"
      },
      "outputs": [],
      "source": [
        "C = np.bincount([1,1,2,3,4,4,6])\n",
        "A = np.repeat(np.arange(len(C)), C)\n",
        "print(\"bincount of A\\n\",A)\n"
      ]
    },
    {
      "cell_type": "markdown",
      "metadata": {
        "id": "Ozw4dOkX2Kp-"
      },
      "source": [
        "#### 75. How to compute averages using a sliding window over an array? (★★★) \n",
        "(**hint**: np.cumsum)"
      ]
    },
    {
      "cell_type": "code",
      "execution_count": null,
      "metadata": {
        "id": "tnGiCZ932Kp-",
        "colab": {
          "base_uri": "https://localhost:8080/"
        },
        "outputId": "cab0cd9a-1005-442b-9069-7d6bc3289fd1"
      },
      "outputs": [
        {
          "output_type": "stream",
          "name": "stdout",
          "text": [
            "[ 1.  2.  3.  4.  5.  6.  7.  8.  9. 10. 11. 12. 13. 14. 15. 16. 17. 18.]\n",
            "[ 1.  2.  3.  4.  5.  6.  7.  8.  9. 10. 11. 12. 13. 14. 15. 16. 17. 18.]\n"
          ]
        }
      ],
      "source": [
        "def moving_average(a, n=3) :\n",
        "    ret = np.cumsum(a, dtype=float)\n",
        "    ret[n:] = ret[n:] - ret[:-n]\n",
        "    return ret[n - 1:] / n\n",
        "Z = np.arange(20)\n",
        "print(moving_average(Z, n=3))\n",
        "from numpy.lib.stride_tricks import sliding_window_view\n",
        "\n",
        "Z = np.arange(20)\n",
        "print(sliding_window_view(Z, window_shape=3).mean(axis=-1))"
      ]
    },
    {
      "cell_type": "markdown",
      "metadata": {
        "id": "8hG4EhKL2Kp_"
      },
      "source": [
        "#### 76. Consider a one-dimensional array Z, build a two-dimensional array whose first row is (Z\\[0\\],Z\\[1\\],Z\\[2\\]) and each subsequent row is  shifted by 1 (last row should be (Z\\[-3\\],Z\\[-2\\],Z\\[-1\\]) (★★★) \n",
        "(**hint**: from numpy.lib import stride_tricks)"
      ]
    },
    {
      "cell_type": "code",
      "execution_count": null,
      "metadata": {
        "id": "DTrNtA2K2Kp_",
        "colab": {
          "base_uri": "https://localhost:8080/"
        },
        "outputId": "b9bdf4b4-6a49-4c4c-86fd-bcd159ed978a"
      },
      "outputs": [
        {
          "output_type": "stream",
          "name": "stdout",
          "text": [
            "[[0 1 2]\n",
            " [1 2 3]\n",
            " [2 3 4]\n",
            " [3 4 5]\n",
            " [4 5 6]\n",
            " [5 6 7]\n",
            " [6 7 8]\n",
            " [7 8 9]]\n"
          ]
        }
      ],
      "source": [
        "from numpy.lib import stride_tricks\n",
        "\n",
        "def rolling(a, window):\n",
        "    shape = (a.size - window + 1, window)\n",
        "    strides = (a.strides[0], a.strides[0])\n",
        "    return stride_tricks.as_strided(a, shape=shape, strides=strides)\n",
        "Z = rolling(np.arange(10), 3)\n",
        "print(Z)\n"
      ]
    },
    {
      "cell_type": "markdown",
      "metadata": {
        "id": "VYNPeFk32Kp_"
      },
      "source": [
        "#### 77. How to negate a boolean, or to change the sign of a float inplace? (★★★) \n",
        "(**hint**: np.logical_not, np.negative)"
      ]
    },
    {
      "cell_type": "code",
      "execution_count": null,
      "metadata": {
        "id": "oqqWhgVH2KqA",
        "colab": {
          "base_uri": "https://localhost:8080/"
        },
        "outputId": "1fa59186-a79d-4db0-ad19-2d5b415d9654"
      },
      "outputs": [
        {
          "output_type": "stream",
          "name": "stdout",
          "text": [
            "using np.logical\n",
            " [0 0 1 1 1 1 1 1 1 1 0 0 1 0 1 1 0 0 1 1 0 1 1 0 0 1 0 1 1 1 0 1 0 1 0 0 0\n",
            " 1 0 0 0 0 1 0 1 1 0 1 1 1 0 1 1 0 0 0 1 1 1 0 1 0 0 1 1 0 0 1 1 0 1 1 1 0\n",
            " 1 1 0 1 1 0 0 1 1 1 1 1 0 1 0 1 0 1 1 0 0 0 1 1 0 1]\n",
            "using np.negative\n",
            " [ 0.24495724  0.87343623  0.01170844 -0.5603918   0.80013281 -0.20397049\n",
            "  0.19067962  0.2859748   0.32501484  0.10608032 -0.49942473  0.35438831\n",
            "  0.8994884   0.94047729 -0.56381349 -0.33204674  0.25107255 -0.42594171\n",
            " -0.66792597  0.96707446 -0.22737852 -0.18925837  0.71860605  0.95203411\n",
            " -0.66947094  0.18334208  0.70920979 -0.53536363 -0.15605537  0.73849562\n",
            "  0.41754445  0.97228241 -0.0765341   0.84980649  0.18325699 -0.23029329\n",
            " -0.39110624  0.93172189  0.7070462  -0.93698746  0.49425808  0.08161283\n",
            " -0.14269441  0.85602732  0.74295048 -0.62280398  0.56195834  0.66967048\n",
            " -0.96165631 -0.68248042  0.08263702  0.19474336 -0.26063491  0.29334196\n",
            "  0.73576306 -0.53797431 -0.72591845 -0.34527665  0.70827444 -0.2477992\n",
            " -0.25872776 -0.12651997 -0.05247753  0.03836795  0.03550187  0.77082128\n",
            "  0.30369558  0.56140708 -0.86911619  0.40452014 -0.97486652  0.04750272\n",
            "  0.76068131 -0.16284762 -0.24179378  0.41156636 -0.93026045 -0.26259955\n",
            "  0.64456794  0.45711255 -0.04317957 -0.31227831  0.22073965  0.99417587\n",
            "  0.96828605 -0.17780505 -0.1643348  -0.69407746 -0.2491282   0.41495778\n",
            " -0.341641   -0.31374236  0.45647982  0.006177   -0.29833291  0.76891294\n",
            "  0.45468348 -0.67177215 -0.79459808 -0.22605305]\n"
          ]
        }
      ],
      "source": [
        "Z = np.random.randint(0,2,100)\n",
        "np.logical_not(Z, out=Z)\n",
        "print(\"using np.logical\\n\",Z)\n",
        "\n",
        "Z = np.random.uniform(-1.0,1.0,100)\n",
        "np.negative(Z, out=Z)\n",
        "print(\"using np.negative\\n\",Z)\n"
      ]
    },
    {
      "cell_type": "markdown",
      "metadata": {
        "id": "FWtRrKO92KqD"
      },
      "source": [
        "#### 78. Consider 2 sets of points P0,P1 describing lines (2d) and a point p, how to compute distance from p to each line i  (P0\\[i\\],P1\\[i\\])? (★★★)"
      ]
    },
    {
      "cell_type": "code",
      "execution_count": null,
      "metadata": {
        "id": "NmIrmydk2KqD"
      },
      "outputs": [],
      "source": [
        "def distance(P0, P1, p):\n",
        "    T = P1 - P0\n",
        "    L = (T**2).sum(axis=1)\n",
        "    U = -((P0[:,0]-p[...,0])*T[:,0] + (P0[:,1]-p[...,1])*T[:,1]) / L\n",
        "    U = U.reshape(len(U),1)\n",
        "    D = P0 + U*T - p\n",
        "    return np.sqrt((D**2).sum(axis=1))\n",
        "\n",
        "P0 = np.random.uniform(-10,10,(10,2))\n",
        "P1 = np.random.uniform(-10,10,(10,2))\n",
        "p  = np.random.uniform(-10,10,( 1,2))\n",
        "print(distance(P0, P1, p))"
      ]
    },
    {
      "cell_type": "markdown",
      "metadata": {
        "id": "NQ_be_gw2KqE"
      },
      "source": [
        "#### 79. Consider 2 sets of points P0,P1 describing lines (2d) and a set of points P, how to compute distance from each point j (P\\[j\\]) to each line i (P0\\[i\\],P1\\[i\\])? (★★★)"
      ]
    },
    {
      "cell_type": "code",
      "execution_count": null,
      "metadata": {
        "id": "Gh4CWjaa2KqE",
        "colab": {
          "base_uri": "https://localhost:8080/",
          "height": 287
        },
        "outputId": "3adc5160-41d0-46b9-8c7b-f790c2e18589"
      },
      "outputs": [
        {
          "output_type": "error",
          "ename": "NameError",
          "evalue": "ignored",
          "traceback": [
            "\u001b[0;31m---------------------------------------------------------------------------\u001b[0m",
            "\u001b[0;31mNameError\u001b[0m                                 Traceback (most recent call last)",
            "\u001b[0;32m<ipython-input-42-0eda4e61f8c0>\u001b[0m in \u001b[0;36m<module>\u001b[0;34m\u001b[0m\n\u001b[1;32m      2\u001b[0m \u001b[0mP1\u001b[0m \u001b[0;34m=\u001b[0m \u001b[0mnp\u001b[0m\u001b[0;34m.\u001b[0m\u001b[0mrandom\u001b[0m\u001b[0;34m.\u001b[0m\u001b[0muniform\u001b[0m\u001b[0;34m(\u001b[0m\u001b[0;34m-\u001b[0m\u001b[0;36m10\u001b[0m\u001b[0;34m,\u001b[0m\u001b[0;36m10\u001b[0m\u001b[0;34m,\u001b[0m\u001b[0;34m(\u001b[0m\u001b[0;36m10\u001b[0m\u001b[0;34m,\u001b[0m\u001b[0;36m2\u001b[0m\u001b[0;34m)\u001b[0m\u001b[0;34m)\u001b[0m\u001b[0;34m\u001b[0m\u001b[0;34m\u001b[0m\u001b[0m\n\u001b[1;32m      3\u001b[0m \u001b[0mp\u001b[0m \u001b[0;34m=\u001b[0m \u001b[0mnp\u001b[0m\u001b[0;34m.\u001b[0m\u001b[0mrandom\u001b[0m\u001b[0;34m.\u001b[0m\u001b[0muniform\u001b[0m\u001b[0;34m(\u001b[0m\u001b[0;34m-\u001b[0m\u001b[0;36m10\u001b[0m\u001b[0;34m,\u001b[0m \u001b[0;36m10\u001b[0m\u001b[0;34m,\u001b[0m \u001b[0;34m(\u001b[0m\u001b[0;36m10\u001b[0m\u001b[0;34m,\u001b[0m\u001b[0;36m2\u001b[0m\u001b[0;34m)\u001b[0m\u001b[0;34m)\u001b[0m\u001b[0;34m\u001b[0m\u001b[0;34m\u001b[0m\u001b[0m\n\u001b[0;32m----> 4\u001b[0;31m \u001b[0mprint\u001b[0m\u001b[0;34m(\u001b[0m\u001b[0mnp\u001b[0m\u001b[0;34m.\u001b[0m\u001b[0marray\u001b[0m\u001b[0;34m(\u001b[0m\u001b[0;34m[\u001b[0m\u001b[0mdistance\u001b[0m\u001b[0;34m(\u001b[0m\u001b[0mP0\u001b[0m\u001b[0;34m,\u001b[0m\u001b[0mP1\u001b[0m\u001b[0;34m,\u001b[0m\u001b[0mp_i\u001b[0m\u001b[0;34m)\u001b[0m \u001b[0;32mfor\u001b[0m \u001b[0mp_i\u001b[0m \u001b[0;32min\u001b[0m \u001b[0mp\u001b[0m\u001b[0;34m]\u001b[0m\u001b[0;34m)\u001b[0m\u001b[0;34m)\u001b[0m\u001b[0;34m\u001b[0m\u001b[0;34m\u001b[0m\u001b[0m\n\u001b[0m",
            "\u001b[0;32m<ipython-input-42-0eda4e61f8c0>\u001b[0m in \u001b[0;36m<listcomp>\u001b[0;34m(.0)\u001b[0m\n\u001b[1;32m      2\u001b[0m \u001b[0mP1\u001b[0m \u001b[0;34m=\u001b[0m \u001b[0mnp\u001b[0m\u001b[0;34m.\u001b[0m\u001b[0mrandom\u001b[0m\u001b[0;34m.\u001b[0m\u001b[0muniform\u001b[0m\u001b[0;34m(\u001b[0m\u001b[0;34m-\u001b[0m\u001b[0;36m10\u001b[0m\u001b[0;34m,\u001b[0m\u001b[0;36m10\u001b[0m\u001b[0;34m,\u001b[0m\u001b[0;34m(\u001b[0m\u001b[0;36m10\u001b[0m\u001b[0;34m,\u001b[0m\u001b[0;36m2\u001b[0m\u001b[0;34m)\u001b[0m\u001b[0;34m)\u001b[0m\u001b[0;34m\u001b[0m\u001b[0;34m\u001b[0m\u001b[0m\n\u001b[1;32m      3\u001b[0m \u001b[0mp\u001b[0m \u001b[0;34m=\u001b[0m \u001b[0mnp\u001b[0m\u001b[0;34m.\u001b[0m\u001b[0mrandom\u001b[0m\u001b[0;34m.\u001b[0m\u001b[0muniform\u001b[0m\u001b[0;34m(\u001b[0m\u001b[0;34m-\u001b[0m\u001b[0;36m10\u001b[0m\u001b[0;34m,\u001b[0m \u001b[0;36m10\u001b[0m\u001b[0;34m,\u001b[0m \u001b[0;34m(\u001b[0m\u001b[0;36m10\u001b[0m\u001b[0;34m,\u001b[0m\u001b[0;36m2\u001b[0m\u001b[0;34m)\u001b[0m\u001b[0;34m)\u001b[0m\u001b[0;34m\u001b[0m\u001b[0;34m\u001b[0m\u001b[0m\n\u001b[0;32m----> 4\u001b[0;31m \u001b[0mprint\u001b[0m\u001b[0;34m(\u001b[0m\u001b[0mnp\u001b[0m\u001b[0;34m.\u001b[0m\u001b[0marray\u001b[0m\u001b[0;34m(\u001b[0m\u001b[0;34m[\u001b[0m\u001b[0mdistance\u001b[0m\u001b[0;34m(\u001b[0m\u001b[0mP0\u001b[0m\u001b[0;34m,\u001b[0m\u001b[0mP1\u001b[0m\u001b[0;34m,\u001b[0m\u001b[0mp_i\u001b[0m\u001b[0;34m)\u001b[0m \u001b[0;32mfor\u001b[0m \u001b[0mp_i\u001b[0m \u001b[0;32min\u001b[0m \u001b[0mp\u001b[0m\u001b[0;34m]\u001b[0m\u001b[0;34m)\u001b[0m\u001b[0;34m)\u001b[0m\u001b[0;34m\u001b[0m\u001b[0;34m\u001b[0m\u001b[0m\n\u001b[0m",
            "\u001b[0;31mNameError\u001b[0m: name 'distance' is not defined"
          ]
        }
      ],
      "source": [
        "P0 = np.random.uniform(-10, 10, (10,2))\n",
        "P1 = np.random.uniform(-10,10,(10,2))\n",
        "p = np.random.uniform(-10, 10, (10,2))\n",
        "print(np.array([distance(P0,P1,p_i) for p_i in p]))\n"
      ]
    },
    {
      "cell_type": "markdown",
      "metadata": {
        "id": "mIPE9kiF2KqF"
      },
      "source": [
        "#### 80. Consider an arbitrary array, write a function that extract a subpart with a fixed shape and centered on a given element (pad with a `fill` value when necessary) (★★★) \n",
        "(**hint**: minimum, maximum)"
      ]
    },
    {
      "cell_type": "code",
      "execution_count": null,
      "metadata": {
        "id": "tsGECULv2KqF",
        "colab": {
          "base_uri": "https://localhost:8080/"
        },
        "outputId": "d72c2583-3fb9-4ac5-8109-1d37db23ba98"
      },
      "outputs": [
        {
          "output_type": "stream",
          "name": "stdout",
          "text": [
            "[[7 7 5 3 6 6 8 0 9 3]\n",
            " [1 1 0 5 7 4 6 4 6 7]\n",
            " [3 3 1 4 5 0 7 8 5 3]\n",
            " [5 0 6 8 0 0 8 6 2 5]\n",
            " [1 4 9 1 4 8 9 2 3 3]\n",
            " [2 0 4 9 1 2 3 0 1 1]\n",
            " [7 8 5 2 9 7 2 5 8 4]\n",
            " [9 9 9 0 6 3 8 4 8 4]\n",
            " [0 8 1 3 7 1 9 7 6 8]\n",
            " [0 8 2 8 7 0 0 0 9 9]]\n",
            "[[0 0 0 0 0]\n",
            " [0 7 7 5 3]\n",
            " [0 1 1 0 5]\n",
            " [0 3 3 1 4]\n",
            " [0 5 0 6 8]]\n"
          ]
        },
        {
          "output_type": "stream",
          "name": "stderr",
          "text": [
            "/usr/local/lib/python3.7/dist-packages/ipykernel_launcher.py:23: FutureWarning: Using a non-tuple sequence for multidimensional indexing is deprecated; use `arr[tuple(seq)]` instead of `arr[seq]`. In the future this will be interpreted as an array index, `arr[np.array(seq)]`, which will result either in an error or a different result.\n"
          ]
        }
      ],
      "source": [
        "Z = np.random.randint(0,10,(10,10))\n",
        "shape = (5,5)\n",
        "fill  = 0\n",
        "position = (1,1)\n",
        "\n",
        "R = np.ones(shape, dtype=Z.dtype)*fill\n",
        "P  = np.array(list(position)).astype(int)\n",
        "Rs = np.array(list(R.shape)).astype(int)\n",
        "Zs = np.array(list(Z.shape)).astype(int)\n",
        "\n",
        "R_start = np.zeros((len(shape),)).astype(int)\n",
        "R_stop  = np.array(list(shape)).astype(int)\n",
        "Z_start = (P-Rs//2)\n",
        "Z_stop  = (P+Rs//2)+Rs%2\n",
        "\n",
        "R_start = (R_start - np.minimum(Z_start,0)).tolist()\n",
        "Z_start = (np.maximum(Z_start,0)).tolist()\n",
        "R_stop = np.maximum(R_start, (R_stop - np.maximum(Z_stop-Zs,0))).tolist()\n",
        "Z_stop = (np.minimum(Z_stop,Zs)).tolist()\n",
        "\n",
        "r = [slice(start,stop) for start,stop in zip(R_start,R_stop)]\n",
        "z = [slice(start,stop) for start,stop in zip(Z_start,Z_stop)]\n",
        "R[r] = Z[z]\n",
        "print(Z)\n",
        "print(R)\n"
      ]
    },
    {
      "cell_type": "markdown",
      "metadata": {
        "id": "oTr3omyx2KqF"
      },
      "source": [
        "#### 81. Consider an array Z = \\[1,2,3,4,5,6,7,8,9,10,11,12,13,14\\], how to generate an array R = \\[\\[1,2,3,4\\], \\[2,3,4,5\\], \\[3,4,5,6\\], ..., \\[11,12,13,14\\]\\]? (★★★) \n",
        "(**hint**: stride\\_tricks.as\\_strided)"
      ]
    },
    {
      "cell_type": "code",
      "execution_count": null,
      "metadata": {
        "id": "FGC74L2O2KqG",
        "colab": {
          "base_uri": "https://localhost:8080/"
        },
        "outputId": "6f90e536-e5d8-47e3-dcd3-cb97d671bd5e"
      },
      "outputs": [
        {
          "output_type": "stream",
          "name": "stdout",
          "text": [
            "[[ 1  2  3  4]\n",
            " [ 2  3  4  5]\n",
            " [ 3  4  5  6]\n",
            " [ 4  5  6  7]\n",
            " [ 5  6  7  8]\n",
            " [ 6  7  8  9]\n",
            " [ 7  8  9 10]\n",
            " [ 8  9 10 11]\n",
            " [ 9 10 11 12]\n",
            " [10 11 12 13]\n",
            " [11 12 13 14]]\n"
          ]
        }
      ],
      "source": [
        "Z = np.arange(1,15,dtype=np.uint32)\n",
        "R = stride_tricks.as_strided(Z,(11,4),(4,4))\n",
        "print(R)"
      ]
    },
    {
      "cell_type": "markdown",
      "metadata": {
        "id": "SaSlQm0l2KqG"
      },
      "source": [
        "#### 82. Compute a matrix rank (★★★) \n",
        "(**hint**: np.linalg.svd) (suggestion: np.linalg.svd)"
      ]
    },
    {
      "cell_type": "code",
      "execution_count": null,
      "metadata": {
        "id": "qj05fuSD2KqG",
        "colab": {
          "base_uri": "https://localhost:8080/"
        },
        "outputId": "f3279253-e966-45ba-fce3-ecdf6159e390"
      },
      "outputs": [
        {
          "output_type": "stream",
          "name": "stdout",
          "text": [
            "10\n"
          ]
        }
      ],
      "source": [
        "Z = np.random.uniform(0,1,(10,10))\n",
        "U, S, V = np.linalg.svd(Z) # Singular Value Decomposition\n",
        "rank = np.sum(S > 1e-10)\n",
        "print(rank)\n"
      ]
    },
    {
      "cell_type": "markdown",
      "metadata": {
        "id": "V6OiC4oQ2KqH"
      },
      "source": [
        "#### 83. How to find the most frequent value in an array? \n",
        "(**hint**: np.bincount, argmax)"
      ]
    },
    {
      "cell_type": "code",
      "execution_count": null,
      "metadata": {
        "id": "IuOnUSBg2KqH",
        "colab": {
          "base_uri": "https://localhost:8080/"
        },
        "outputId": "b4245e2d-fe0b-4607-db9d-22f7784db5fa"
      },
      "outputs": [
        {
          "output_type": "stream",
          "name": "stdout",
          "text": [
            "7\n"
          ]
        }
      ],
      "source": [
        "x = np.random.randint(0,10,50)\n",
        "print(np.bincount(x).argmax())"
      ]
    },
    {
      "cell_type": "markdown",
      "metadata": {
        "id": "2rr6UddZ2KqI"
      },
      "source": [
        "#### 84. Extract all the contiguous 3x3 blocks from a random 10x10 matrix (★★★) \n",
        "(**hint**: stride\\_tricks.as\\_strided)"
      ]
    },
    {
      "cell_type": "code",
      "execution_count": null,
      "metadata": {
        "id": "-9Ij-3zt2KqI",
        "colab": {
          "base_uri": "https://localhost:8080/"
        },
        "outputId": "c44688e9-cc53-4866-d2e5-68902ca4174e"
      },
      "outputs": [
        {
          "output_type": "stream",
          "name": "stdout",
          "text": [
            "[[[[3 0 4]\n",
            "   [2 1 2]\n",
            "   [4 1 2]]\n",
            "\n",
            "  [[0 4 2]\n",
            "   [1 2 0]\n",
            "   [1 2 0]]\n",
            "\n",
            "  [[4 2 0]\n",
            "   [2 0 4]\n",
            "   [2 0 4]]\n",
            "\n",
            "  [[2 0 0]\n",
            "   [0 4 4]\n",
            "   [0 4 1]]\n",
            "\n",
            "  [[0 0 3]\n",
            "   [4 4 0]\n",
            "   [4 1 0]]\n",
            "\n",
            "  [[0 3 1]\n",
            "   [4 0 1]\n",
            "   [1 0 1]]\n",
            "\n",
            "  [[3 1 2]\n",
            "   [0 1 1]\n",
            "   [0 1 0]]\n",
            "\n",
            "  [[1 2 1]\n",
            "   [1 1 4]\n",
            "   [1 0 3]]]\n",
            "\n",
            "\n",
            " [[[2 1 2]\n",
            "   [4 1 2]\n",
            "   [1 4 0]]\n",
            "\n",
            "  [[1 2 0]\n",
            "   [1 2 0]\n",
            "   [4 0 4]]\n",
            "\n",
            "  [[2 0 4]\n",
            "   [2 0 4]\n",
            "   [0 4 0]]\n",
            "\n",
            "  [[0 4 4]\n",
            "   [0 4 1]\n",
            "   [4 0 0]]\n",
            "\n",
            "  [[4 4 0]\n",
            "   [4 1 0]\n",
            "   [0 0 2]]\n",
            "\n",
            "  [[4 0 1]\n",
            "   [1 0 1]\n",
            "   [0 2 1]]\n",
            "\n",
            "  [[0 1 1]\n",
            "   [0 1 0]\n",
            "   [2 1 1]]\n",
            "\n",
            "  [[1 1 4]\n",
            "   [1 0 3]\n",
            "   [1 1 1]]]\n",
            "\n",
            "\n",
            " [[[4 1 2]\n",
            "   [1 4 0]\n",
            "   [4 2 2]]\n",
            "\n",
            "  [[1 2 0]\n",
            "   [4 0 4]\n",
            "   [2 2 0]]\n",
            "\n",
            "  [[2 0 4]\n",
            "   [0 4 0]\n",
            "   [2 0 3]]\n",
            "\n",
            "  [[0 4 1]\n",
            "   [4 0 0]\n",
            "   [0 3 1]]\n",
            "\n",
            "  [[4 1 0]\n",
            "   [0 0 2]\n",
            "   [3 1 4]]\n",
            "\n",
            "  [[1 0 1]\n",
            "   [0 2 1]\n",
            "   [1 4 4]]\n",
            "\n",
            "  [[0 1 0]\n",
            "   [2 1 1]\n",
            "   [4 4 0]]\n",
            "\n",
            "  [[1 0 3]\n",
            "   [1 1 1]\n",
            "   [4 0 3]]]\n",
            "\n",
            "\n",
            " [[[1 4 0]\n",
            "   [4 2 2]\n",
            "   [4 3 2]]\n",
            "\n",
            "  [[4 0 4]\n",
            "   [2 2 0]\n",
            "   [3 2 4]]\n",
            "\n",
            "  [[0 4 0]\n",
            "   [2 0 3]\n",
            "   [2 4 0]]\n",
            "\n",
            "  [[4 0 0]\n",
            "   [0 3 1]\n",
            "   [4 0 4]]\n",
            "\n",
            "  [[0 0 2]\n",
            "   [3 1 4]\n",
            "   [0 4 4]]\n",
            "\n",
            "  [[0 2 1]\n",
            "   [1 4 4]\n",
            "   [4 4 3]]\n",
            "\n",
            "  [[2 1 1]\n",
            "   [4 4 0]\n",
            "   [4 3 2]]\n",
            "\n",
            "  [[1 1 1]\n",
            "   [4 0 3]\n",
            "   [3 2 4]]]\n",
            "\n",
            "\n",
            " [[[4 2 2]\n",
            "   [4 3 2]\n",
            "   [3 3 4]]\n",
            "\n",
            "  [[2 2 0]\n",
            "   [3 2 4]\n",
            "   [3 4 0]]\n",
            "\n",
            "  [[2 0 3]\n",
            "   [2 4 0]\n",
            "   [4 0 2]]\n",
            "\n",
            "  [[0 3 1]\n",
            "   [4 0 4]\n",
            "   [0 2 4]]\n",
            "\n",
            "  [[3 1 4]\n",
            "   [0 4 4]\n",
            "   [2 4 0]]\n",
            "\n",
            "  [[1 4 4]\n",
            "   [4 4 3]\n",
            "   [4 0 0]]\n",
            "\n",
            "  [[4 4 0]\n",
            "   [4 3 2]\n",
            "   [0 0 1]]\n",
            "\n",
            "  [[4 0 3]\n",
            "   [3 2 4]\n",
            "   [0 1 1]]]\n",
            "\n",
            "\n",
            " [[[4 3 2]\n",
            "   [3 3 4]\n",
            "   [4 4 0]]\n",
            "\n",
            "  [[3 2 4]\n",
            "   [3 4 0]\n",
            "   [4 0 4]]\n",
            "\n",
            "  [[2 4 0]\n",
            "   [4 0 2]\n",
            "   [0 4 2]]\n",
            "\n",
            "  [[4 0 4]\n",
            "   [0 2 4]\n",
            "   [4 2 3]]\n",
            "\n",
            "  [[0 4 4]\n",
            "   [2 4 0]\n",
            "   [2 3 2]]\n",
            "\n",
            "  [[4 4 3]\n",
            "   [4 0 0]\n",
            "   [3 2 2]]\n",
            "\n",
            "  [[4 3 2]\n",
            "   [0 0 1]\n",
            "   [2 2 0]]\n",
            "\n",
            "  [[3 2 4]\n",
            "   [0 1 1]\n",
            "   [2 0 2]]]\n",
            "\n",
            "\n",
            " [[[3 3 4]\n",
            "   [4 4 0]\n",
            "   [4 1 0]]\n",
            "\n",
            "  [[3 4 0]\n",
            "   [4 0 4]\n",
            "   [1 0 1]]\n",
            "\n",
            "  [[4 0 2]\n",
            "   [0 4 2]\n",
            "   [0 1 0]]\n",
            "\n",
            "  [[0 2 4]\n",
            "   [4 2 3]\n",
            "   [1 0 0]]\n",
            "\n",
            "  [[2 4 0]\n",
            "   [2 3 2]\n",
            "   [0 0 2]]\n",
            "\n",
            "  [[4 0 0]\n",
            "   [3 2 2]\n",
            "   [0 2 4]]\n",
            "\n",
            "  [[0 0 1]\n",
            "   [2 2 0]\n",
            "   [2 4 4]]\n",
            "\n",
            "  [[0 1 1]\n",
            "   [2 0 2]\n",
            "   [4 4 2]]]\n",
            "\n",
            "\n",
            " [[[4 4 0]\n",
            "   [4 1 0]\n",
            "   [2 0 4]]\n",
            "\n",
            "  [[4 0 4]\n",
            "   [1 0 1]\n",
            "   [0 4 2]]\n",
            "\n",
            "  [[0 4 2]\n",
            "   [0 1 0]\n",
            "   [4 2 3]]\n",
            "\n",
            "  [[4 2 3]\n",
            "   [1 0 0]\n",
            "   [2 3 4]]\n",
            "\n",
            "  [[2 3 2]\n",
            "   [0 0 2]\n",
            "   [3 4 1]]\n",
            "\n",
            "  [[3 2 2]\n",
            "   [0 2 4]\n",
            "   [4 1 4]]\n",
            "\n",
            "  [[2 2 0]\n",
            "   [2 4 4]\n",
            "   [1 4 2]]\n",
            "\n",
            "  [[2 0 2]\n",
            "   [4 4 2]\n",
            "   [4 2 3]]]]\n"
          ]
        }
      ],
      "source": [
        "Z = np.random.randint(0,5,(10,10))\n",
        "n = 3\n",
        "i = 1 + (Z.shape[0]-3)\n",
        "j = 1 + (Z.shape[1]-3)\n",
        "C = stride_tricks.as_strided(Z, shape=(i, j, n, n), strides=Z.strides + Z.strides)\n",
        "print(C)"
      ]
    },
    {
      "cell_type": "markdown",
      "metadata": {
        "id": "ZE5zXun02KqI"
      },
      "source": [
        "#### 85. Create a 2D array subclass such that Z\\[i,j\\] == Z\\[j,i\\] (★★★) \n",
        "(**hint**: class method)"
      ]
    },
    {
      "cell_type": "code",
      "execution_count": null,
      "metadata": {
        "id": "qZ8kRKfA2KqJ",
        "colab": {
          "base_uri": "https://localhost:8080/"
        },
        "outputId": "b3320c58-e1c1-484d-bc64-e17344e317b6"
      },
      "outputs": [
        {
          "output_type": "stream",
          "name": "stdout",
          "text": [
            "[[ 9  3 17  9  1]\n",
            " [ 3  7 11  6  7]\n",
            " [17 11  8 42  3]\n",
            " [ 9  6 42  6  8]\n",
            " [ 1  7  3  8  2]]\n"
          ]
        }
      ],
      "source": [
        "class Symetric(np.ndarray):\n",
        "    def __setitem__(self, index, value):\n",
        "        i,j = index\n",
        "        super(Symetric, self).__setitem__((i,j), value)\n",
        "        super(Symetric, self).__setitem__((j,i), value)\n",
        "\n",
        "def symetric(Z):\n",
        "    return np.asarray(Z + Z.T - np.diag(Z.diagonal())).view(Symetric)\n",
        "\n",
        "S = symetric(np.random.randint(0,10,(5,5)))\n",
        "S[2,3] = 42\n",
        "print(S)\n"
      ]
    },
    {
      "cell_type": "markdown",
      "metadata": {
        "id": "5zoLGtxB2KqJ"
      },
      "source": [
        "#### 86. Consider a set of p matrices wich shape (n,n) and a set of p vectors with shape (n,1). How to compute the sum of of the p matrix products at once? (result has shape (n,1)) (★★★) \n",
        "(**hint**: np.tensordot)"
      ]
    },
    {
      "cell_type": "code",
      "execution_count": null,
      "metadata": {
        "id": "oyezGSGd2KqK",
        "colab": {
          "base_uri": "https://localhost:8080/"
        },
        "outputId": "581444b9-6e83-4163-e0de-e5e02887d3bc"
      },
      "outputs": [
        {
          "output_type": "stream",
          "name": "stdout",
          "text": [
            "[[200.]\n",
            " [200.]\n",
            " [200.]\n",
            " [200.]\n",
            " [200.]\n",
            " [200.]\n",
            " [200.]\n",
            " [200.]\n",
            " [200.]\n",
            " [200.]\n",
            " [200.]\n",
            " [200.]\n",
            " [200.]\n",
            " [200.]\n",
            " [200.]\n",
            " [200.]\n",
            " [200.]\n",
            " [200.]\n",
            " [200.]\n",
            " [200.]]\n"
          ]
        }
      ],
      "source": [
        "p, n = 10, 20\n",
        "M = np.ones((p,n,n))\n",
        "V = np.ones((p,n,1))\n",
        "S = np.tensordot(M, V, axes=[[0, 2], [0, 1]])\n",
        "print(S)"
      ]
    },
    {
      "cell_type": "markdown",
      "metadata": {
        "id": "3dm8CY7G2KqK"
      },
      "source": [
        "#### 87. Consider a 16x16 array, how to get the block-sum (block size is 4x4)? (★★★) \n",
        "(**hint**: np.add.reduceat)"
      ]
    },
    {
      "cell_type": "code",
      "execution_count": null,
      "metadata": {
        "id": "kHPsvKRS2KqK",
        "colab": {
          "base_uri": "https://localhost:8080/"
        },
        "outputId": "fc243f59-6f6e-4ac8-8c74-25daefc4841c"
      },
      "outputs": [
        {
          "output_type": "stream",
          "name": "stdout",
          "text": [
            "[[16. 16. 16. 16.]\n",
            " [16. 16. 16. 16.]\n",
            " [16. 16. 16. 16.]\n",
            " [16. 16. 16. 16.]]\n"
          ]
        }
      ],
      "source": [
        "Z = np.ones((16,16))\n",
        "k = 4\n",
        "S = np.add.reduceat(np.add.reduceat(Z, np.arange(0, Z.shape[0], k), axis=0),\n",
        "                                       np.arange(0, Z.shape[1], k), axis=1)\n",
        "print(S)\n"
      ]
    },
    {
      "cell_type": "markdown",
      "metadata": {
        "id": "t1tzXPLC2KqL"
      },
      "source": [
        "#### 88. How to implement the Game of Life using numpy arrays? (★★★)"
      ]
    },
    {
      "cell_type": "code",
      "execution_count": null,
      "metadata": {
        "id": "-H9G6mvw2KqL",
        "colab": {
          "base_uri": "https://localhost:8080/"
        },
        "outputId": "1fa0ba6c-4639-499d-cff1-488cd9795372"
      },
      "outputs": [
        {
          "output_type": "stream",
          "name": "stdout",
          "text": [
            "[[0 0 0 ... 0 0 0]\n",
            " [0 0 0 ... 0 0 0]\n",
            " [0 0 0 ... 0 0 0]\n",
            " ...\n",
            " [0 0 0 ... 1 0 0]\n",
            " [0 0 0 ... 1 0 0]\n",
            " [0 0 0 ... 0 0 0]]\n"
          ]
        }
      ],
      "source": [
        "def iterate(Z):\n",
        "    # Count neighbours\n",
        "    N = (Z[0:-2,0:-2] + Z[0:-2,1:-1] + Z[0:-2,2:] +\n",
        "         Z[1:-1,0:-2]                + Z[1:-1,2:] +\n",
        "         Z[2:  ,0:-2] + Z[2:  ,1:-1] + Z[2:  ,2:])\n",
        "\n",
        "    # Apply rules\n",
        "    birth = (N==3) & (Z[1:-1,1:-1]==0)\n",
        "    survive = ((N==2) | (N==3)) & (Z[1:-1,1:-1]==1)\n",
        "    Z[...] = 0\n",
        "    Z[1:-1,1:-1][birth | survive] = 1\n",
        "    return Z\n",
        "\n",
        "Z = np.random.randint(0,2,(50,50))\n",
        "for i in range(100): Z = iterate(Z)\n",
        "print(Z)"
      ]
    },
    {
      "cell_type": "markdown",
      "metadata": {
        "id": "SuHuqxZa2KqL"
      },
      "source": [
        "#### 89. How to get the n largest values of an array (★★★) \n",
        "(**hint**: np.argsort | np.argpartition)"
      ]
    },
    {
      "cell_type": "code",
      "execution_count": null,
      "metadata": {
        "id": "YGfn4r162KqM",
        "colab": {
          "base_uri": "https://localhost:8080/"
        },
        "outputId": "d2db3c1c-d5ec-41ff-bc0c-32ea64077966"
      },
      "outputs": [
        {
          "output_type": "stream",
          "name": "stdout",
          "text": [
            "[9995 9996 9997 9998 9999]\n",
            "[9998 9996 9995 9997 9999]\n"
          ]
        }
      ],
      "source": [
        "Z = np.arange(10000)\n",
        "np.random.shuffle(Z)\n",
        "n = 5\n",
        "\n",
        "# Slow\n",
        "print (Z[np.argsort(Z)[-n:]])\n",
        "\n",
        "# Fast\n",
        "print (Z[np.argpartition(-Z,n)[:n]])"
      ]
    },
    {
      "cell_type": "markdown",
      "metadata": {
        "id": "nPAl3s0D2KqM"
      },
      "source": [
        "#### 90. Given an arbitrary number of vectors, build the cartesian product (every combinations of every item) (★★★) \n",
        "(**hint**: np.indices)"
      ]
    },
    {
      "cell_type": "code",
      "execution_count": null,
      "metadata": {
        "scrolled": true,
        "id": "6nqypk_r2KqM",
        "colab": {
          "base_uri": "https://localhost:8080/"
        },
        "outputId": "cfaa6bbd-d50f-41fb-e3ba-2a2821008fed"
      },
      "outputs": [
        {
          "output_type": "stream",
          "name": "stdout",
          "text": [
            "[[1 4 6]\n",
            " [1 4 7]\n",
            " [1 5 6]\n",
            " [1 5 7]\n",
            " [2 4 6]\n",
            " [2 4 7]\n",
            " [2 5 6]\n",
            " [2 5 7]\n",
            " [3 4 6]\n",
            " [3 4 7]\n",
            " [3 5 6]\n",
            " [3 5 7]]\n"
          ]
        }
      ],
      "source": [
        "def cartesian(arrays):\n",
        "    arrays = [np.asarray(a) for a in arrays]\n",
        "    shape = (len(x) for x in arrays)\n",
        "\n",
        "    ix = np.indices(shape, dtype=int)\n",
        "    ix = ix.reshape(len(arrays), -1).T\n",
        "\n",
        "    for n, arr in enumerate(arrays):\n",
        "        ix[:, n] = arrays[n][ix[:, n]]\n",
        "\n",
        "    return ix\n",
        "\n",
        "print (cartesian(([1, 2, 3], [4, 5], [6, 7])))"
      ]
    },
    {
      "cell_type": "markdown",
      "metadata": {
        "id": "21CT0gbE2KqN"
      },
      "source": [
        "#### 91. How to create a record array from a regular array? (★★★) \n",
        "(**hint**: np.core.records.fromarrays)"
      ]
    },
    {
      "cell_type": "code",
      "execution_count": null,
      "metadata": {
        "id": "qfZcCPJ42KqN",
        "colab": {
          "base_uri": "https://localhost:8080/"
        },
        "outputId": "9f64c8f2-234b-4287-9c9f-45ce6d6fc4a6"
      },
      "outputs": [
        {
          "output_type": "stream",
          "name": "stdout",
          "text": [
            "[(b'Hello', 2.5, 3) (b'World', 3.6, 2)]\n"
          ]
        }
      ],
      "source": [
        "Z = np.array([(\"Hello\", 2.5, 3),\n",
        "              (\"World\", 3.6, 2)])\n",
        "R = np.core.records.fromarrays(Z.T,\n",
        "                               names='col1, col2, col3',\n",
        "                               formats = 'S8, f8, i8')\n",
        "print(R)"
      ]
    },
    {
      "cell_type": "markdown",
      "metadata": {
        "id": "rz0TsxVV2KqN"
      },
      "source": [
        "#### 92. Consider a large vector Z, compute Z to the power of 3 using 3 different methods (★★★) \n",
        "(**hint**: np.power, \\*, np.einsum)"
      ]
    },
    {
      "cell_type": "code",
      "execution_count": null,
      "metadata": {
        "id": "8nhqziP_2KqO",
        "colab": {
          "base_uri": "https://localhost:8080/"
        },
        "outputId": "d81e205a-6ab8-4282-8ab6-e97331a9fc96"
      },
      "outputs": [
        {
          "output_type": "stream",
          "name": "stdout",
          "text": [
            "3.8 s ± 19.9 ms per loop (mean ± std. dev. of 7 runs, 1 loop each)\n",
            "204 ms ± 3.51 ms per loop (mean ± std. dev. of 7 runs, 1 loop each)\n",
            "128 ms ± 11.1 ms per loop (mean ± std. dev. of 7 runs, 10 loops each)\n"
          ]
        }
      ],
      "source": [
        "x = np.random.rand(int(5e7))\n",
        "\n",
        "%timeit np.power(x,3)\n",
        "%timeit x*x*x\n",
        "%timeit np.einsum('i,i,i->i',x,x,x)"
      ]
    },
    {
      "cell_type": "markdown",
      "metadata": {
        "id": "k9jUuYiQ2KqO"
      },
      "source": [
        "#### 93. Consider two arrays A and B of shape (8,3) and (2,2). How to find rows of A that contain elements of each row of B regardless of the order of the elements in B? (★★★) \n",
        "(**hint**: np.where)"
      ]
    },
    {
      "cell_type": "code",
      "execution_count": null,
      "metadata": {
        "id": "gpozHVLV2KqO",
        "colab": {
          "base_uri": "https://localhost:8080/"
        },
        "outputId": "5f27a550-ab35-4c1f-d1ec-91badffc6360"
      },
      "outputs": [
        {
          "output_type": "stream",
          "name": "stdout",
          "text": [
            "[0 2 4 5]\n"
          ]
        }
      ],
      "source": [
        "A = np.random.randint(0,5,(8,3))\n",
        "B = np.random.randint(0,5,(2,2))\n",
        "\n",
        "C = (A[..., np.newaxis, np.newaxis] == B)\n",
        "rows = np.where(C.any((3,1)).all(1))[0]\n",
        "print(rows)\n"
      ]
    },
    {
      "cell_type": "markdown",
      "metadata": {
        "id": "f4ASeBO32KqP"
      },
      "source": [
        "#### 94. Considering a 10x3 matrix, extract rows with unequal values (e.g. \\[2,2,3\\]) (★★★)"
      ]
    },
    {
      "cell_type": "code",
      "execution_count": null,
      "metadata": {
        "id": "lry2BS3C2KqP",
        "colab": {
          "base_uri": "https://localhost:8080/"
        },
        "outputId": "4b4a502f-4ca6-423b-99c1-62f5a27658f4"
      },
      "outputs": [
        {
          "output_type": "stream",
          "name": "stdout",
          "text": [
            "array of Z\n",
            " [[0 4 3]\n",
            " [4 2 0]\n",
            " [0 3 2]\n",
            " [4 1 2]\n",
            " [4 0 2]\n",
            " [1 0 1]\n",
            " [2 2 3]\n",
            " [1 1 0]\n",
            " [1 1 3]\n",
            " [3 1 4]]\n",
            "array of dtypes\n",
            " [[0 4 3]\n",
            " [4 2 0]\n",
            " [0 3 2]\n",
            " [4 1 2]\n",
            " [4 0 2]\n",
            " [1 0 1]\n",
            " [2 2 3]\n",
            " [1 1 0]\n",
            " [1 1 3]\n",
            " [3 1 4]]\n",
            "numerical array \n",
            " [[0 4 3]\n",
            " [4 2 0]\n",
            " [0 3 2]\n",
            " [4 1 2]\n",
            " [4 0 2]\n",
            " [1 0 1]\n",
            " [2 2 3]\n",
            " [1 1 0]\n",
            " [1 1 3]\n",
            " [3 1 4]]\n"
          ]
        }
      ],
      "source": [
        "Z = np.random.randint(0,5,(10,3))\n",
        "print(\"array of Z\\n\",Z)\n",
        "# solution for arrays of all dtypes (including string arrays and record arrays)\n",
        "E = np.all(Z[:,1:] == Z[:,:-1], axis=1)\n",
        "U = Z[~E]\n",
        "print(\"array of dtypes\\n\",U)\n",
        "# soluiton for numerical arrays only, will work for any number of columns in Z\n",
        "U = Z[Z.max(axis=1) != Z.min(axis=1),:]\n",
        "print(\"numerical array \\n\",U)\n"
      ]
    },
    {
      "cell_type": "markdown",
      "metadata": {
        "id": "2QqTiIF02KqP"
      },
      "source": [
        "#### 95. Convert a vector of ints into a matrix binary representation (★★★) \n",
        "(**hint**: np.unpackbits)"
      ]
    },
    {
      "cell_type": "code",
      "execution_count": null,
      "metadata": {
        "id": "ysmJouqF2KqQ",
        "colab": {
          "base_uri": "https://localhost:8080/"
        },
        "outputId": "9c438cc9-0679-4787-aef6-a57cc8121cc9"
      },
      "outputs": [
        {
          "output_type": "stream",
          "name": "stdout",
          "text": [
            "[[0 0 0 0 0 0 0 0]\n",
            " [0 0 0 0 0 0 0 1]\n",
            " [0 0 0 0 0 0 1 0]\n",
            " [0 0 0 0 0 0 1 1]\n",
            " [0 0 0 0 1 1 1 1]\n",
            " [0 0 0 1 0 0 0 0]\n",
            " [0 0 1 0 0 0 0 0]\n",
            " [0 1 0 0 0 0 0 0]\n",
            " [1 0 0 0 0 0 0 0]]\n"
          ]
        }
      ],
      "source": [
        "I = np.array([0, 1, 2, 3, 15, 16, 32, 64, 128])\n",
        "B = ((I.reshape(-1,1) & (2**np.arange(8))) != 0).astype(int)\n",
        "print(B[:,::-1])"
      ]
    },
    {
      "cell_type": "markdown",
      "metadata": {
        "id": "l1qsiCGJ2KqQ"
      },
      "source": [
        "#### 96. Given a two dimensional array, how to extract unique rows? (★★★) \n",
        "(**hint**: np.ascontiguousarray)"
      ]
    },
    {
      "cell_type": "code",
      "execution_count": null,
      "metadata": {
        "id": "7jA6vqI62KqU",
        "colab": {
          "base_uri": "https://localhost:8080/"
        },
        "outputId": "76c06869-bfa5-4d92-9fa5-33ff5e395f0b"
      },
      "outputs": [
        {
          "output_type": "stream",
          "name": "stdout",
          "text": [
            "[[0 0 1]\n",
            " [0 1 1]\n",
            " [1 1 0]]\n"
          ]
        }
      ],
      "source": [
        "Z = np.random.randint(0,2,(6,3))\n",
        "T = np.ascontiguousarray(Z).view(np.dtype((np.void, Z.dtype.itemsize * Z.shape[1])))\n",
        "_, idx = np.unique(T, return_index=True)\n",
        "uZ = Z[idx]\n",
        "print(uZ)\n"
      ]
    },
    {
      "cell_type": "markdown",
      "metadata": {
        "id": "I2vzq4E72KqU"
      },
      "source": [
        "#### 97. Considering 2 vectors A & B, write the einsum equivalent of inner, outer, sum, and mul function (★★★) \n",
        "(**hint**: np.einsum)"
      ]
    },
    {
      "cell_type": "code",
      "execution_count": null,
      "metadata": {
        "id": "5AWMzeEd2KqU",
        "colab": {
          "base_uri": "https://localhost:8080/"
        },
        "outputId": "e343a366-39cf-452e-bd22-3de8af6a5a1a"
      },
      "outputs": [
        {
          "output_type": "execute_result",
          "data": {
            "text/plain": [
              "array([[6.47035459e-05, 3.77888680e-02, 4.13180985e-02, 2.70701150e-01,\n",
              "        1.60896820e-01, 1.16690964e-01, 1.98899333e-02, 8.76825544e-02,\n",
              "        1.15906906e-01, 6.64571007e-02],\n",
              "       [1.25416903e-05, 7.32473422e-03, 8.00881598e-03, 5.24708487e-02,\n",
              "        3.11871328e-02, 2.26185737e-02, 3.85532785e-03, 1.69957832e-02,\n",
              "        2.24665974e-02, 1.28815873e-02],\n",
              "       [1.96553219e-04, 1.14793147e-01, 1.25514068e-01, 8.22322512e-01,\n",
              "        4.88764371e-01, 3.54478016e-01, 6.04206518e-02, 2.66357710e-01,\n",
              "        3.52096246e-01, 2.01880081e-01],\n",
              "       [2.24900607e-04, 1.31348896e-01, 1.43616015e-01, 9.40919881e-01,\n",
              "        5.59255167e-01, 4.05601704e-01, 6.91346663e-02, 3.04772472e-01,\n",
              "        4.02876429e-01, 2.30995721e-01],\n",
              "       [9.59181892e-05, 5.60191831e-02, 6.12510045e-02, 4.01294299e-01,\n",
              "        2.38517556e-01, 1.72985665e-01, 2.94853451e-02, 1.29982858e-01,\n",
              "        1.71823359e-01, 9.85177036e-02],\n",
              "       [7.68234509e-06, 4.48672665e-03, 4.90575727e-03, 3.21407369e-02,\n",
              "        1.91035109e-02, 1.38548860e-02, 2.36156039e-03, 1.04106758e-02,\n",
              "        1.37617937e-02, 7.89054717e-03],\n",
              "       [1.07422990e-05, 6.27383418e-03, 6.85976882e-03, 4.49427097e-02,\n",
              "        2.67126279e-02, 1.93734238e-02, 3.30219321e-03, 1.45573508e-02,\n",
              "        1.92432520e-02, 1.10334300e-02],\n",
              "       [1.99918493e-04, 1.16758570e-01, 1.27663049e-01, 8.36401854e-01,\n",
              "        4.97132719e-01, 3.60547188e-01, 6.14551401e-02, 2.70918137e-01,\n",
              "        3.58124639e-01, 2.05336558e-01],\n",
              "       [4.27277809e-05, 2.49543429e-02, 2.72849136e-02, 1.78760828e-01,\n",
              "        1.06250190e-01, 7.70583105e-02, 1.31345616e-02, 5.79022513e-02,\n",
              "        7.65405487e-02, 4.38857624e-02],\n",
              "       [1.56263544e-04, 9.12627329e-02, 9.97860689e-02, 6.53762021e-01,\n",
              "        3.88576962e-01, 2.81816758e-01, 4.80355662e-02, 2.11759441e-01,\n",
              "        2.79923205e-01, 1.60498500e-01]])"
            ]
          },
          "metadata": {},
          "execution_count": 61
        }
      ],
      "source": [
        "A = np.random.uniform(0,1,10)\n",
        "B = np.random.uniform(0,1,10)\n",
        "\n",
        "np.einsum('i->', A)       # np.sum(A)\n",
        "np.einsum('i,i->i', A, B) # A * B\n",
        "np.einsum('i,i', A, B)    # np.inner(A, B)\n",
        "np.einsum('i,j->ij', A, B)    # np.outer(A, B)"
      ]
    },
    {
      "cell_type": "markdown",
      "metadata": {
        "id": "7SvJhG8k2KqV"
      },
      "source": [
        "#### 98. Considering a path described by two vectors (X,Y), how to sample it using equidistant samples (★★★)? \n",
        "(**hint**: np.cumsum, np.interp)"
      ]
    },
    {
      "cell_type": "code",
      "execution_count": null,
      "metadata": {
        "collapsed": true,
        "id": "sAPA178e2KqV"
      },
      "outputs": [],
      "source": [
        "phi = np.arange(0, 10*np.pi, 0.1)\n",
        "\n",
        "a = 1\n",
        "x = a*phi*np.cos(phi)\n",
        "y = a*phi*np.sin(phi)\n",
        "\n",
        "dr = (np.diff(x)**2 + np.diff(y)**2)**.5 # segment lengths\n",
        "r = np.zeros_like(x)\n",
        "r[1:] = np.cumsum(dr)                # integrate path\n",
        "r_int = np.linspace(0, r.max(), 200) # regular spaced path\n",
        "x_int = np.interp(r_int, r, x)       # integrate path\n",
        "y_int = np.interp(r_int, r, y)\n"
      ]
    },
    {
      "cell_type": "markdown",
      "metadata": {
        "id": "KVtZKSKy2KqV"
      },
      "source": [
        "#### 99. Given an integer n and a 2D array X, select from X the rows which can be interpreted as draws from a multinomial distribution with n degrees, i.e., the rows which only contain integers and which sum to n. (★★★) \n",
        "(**hint**: np.logical\\_and.reduce, np.mod)"
      ]
    },
    {
      "cell_type": "code",
      "execution_count": null,
      "metadata": {
        "id": "xoLsV_zP2KqW",
        "colab": {
          "base_uri": "https://localhost:8080/"
        },
        "outputId": "2d4122e9-54a1-4a8c-b83e-d4379f4ae8d4"
      },
      "outputs": [
        {
          "output_type": "stream",
          "name": "stdout",
          "text": [
            "[[2. 0. 1. 1.]]\n"
          ]
        }
      ],
      "source": [
        "X = np.asarray([[1.0, 0.0, 3.0, 8.0],\n",
        "                [2.0, 0.0, 1.0, 1.0],\n",
        "                [1.5, 2.5, 1.0, 0.0]])\n",
        "n = 4\n",
        "M = np.logical_and.reduce(np.mod(X, 1) == 0, axis=-1)\n",
        "M &= (X.sum(axis=-1) == n)\n",
        "print(X[M])\n"
      ]
    },
    {
      "cell_type": "markdown",
      "metadata": {
        "id": "4v32Rd9q2KqW"
      },
      "source": [
        "#### 100. Compute bootstrapped 95% confidence intervals for the mean of a 1D array X (i.e., resample the elements of an array with replacement N times, compute the mean of each sample, and then compute percentiles over the means). (★★★) \n",
        "(**hint**: np.percentile)"
      ]
    },
    {
      "cell_type": "code",
      "execution_count": null,
      "metadata": {
        "id": "SN5pKnIl2KqW",
        "colab": {
          "base_uri": "https://localhost:8080/"
        },
        "outputId": "0699eba9-e263-4354-fadf-3004d814781d"
      },
      "outputs": [
        {
          "output_type": "stream",
          "name": "stdout",
          "text": [
            "[-0.08810108  0.28707534]\n"
          ]
        }
      ],
      "source": [
        "X = np.random.randn(100) # random 1D array\n",
        "N = 1000 # number of bootstrap samples\n",
        "idx = np.random.randint(0, X.size, (N, X.size))\n",
        "means = X[idx].mean(axis=1)\n",
        "confint = np.percentile(means, [2.5, 97.5])\n",
        "print(confint)\n"
      ]
    }
  ],
  "metadata": {
    "kernelspec": {
      "display_name": "Python 3",
      "language": "python",
      "name": "python3"
    },
    "language_info": {
      "codemirror_mode": {
        "name": "ipython",
        "version": 3
      },
      "file_extension": ".py",
      "mimetype": "text/x-python",
      "name": "python",
      "nbconvert_exporter": "python",
      "pygments_lexer": "ipython3",
      "version": "3.8.3"
    },
    "colab": {
      "name": "100 questions on Numpy_tasks.ipynb",
      "provenance": [],
      "include_colab_link": true
    }
  },
  "nbformat": 4,
  "nbformat_minor": 0
}