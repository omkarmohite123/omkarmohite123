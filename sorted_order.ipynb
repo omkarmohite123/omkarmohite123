{
  "nbformat": 4,
  "nbformat_minor": 0,
  "metadata": {
    "colab": {
      "name": "sorted order.ipynb",
      "provenance": [],
      "authorship_tag": "ABX9TyOyqXg69BCKQRBIA7m99AyA",
      "include_colab_link": true
    },
    "kernelspec": {
      "name": "python3",
      "display_name": "Python 3"
    },
    "language_info": {
      "name": "python"
    }
  },
  "cells": [
    {
      "cell_type": "markdown",
      "metadata": {
        "id": "view-in-github",
        "colab_type": "text"
      },
      "source": [
        "<a href=\"https://colab.research.google.com/github/omkarmohite123/omkarmohite123/blob/main/sorted_order.ipynb\" target=\"_parent\"><img src=\"https://colab.research.google.com/assets/colab-badge.svg\" alt=\"Open In Colab\"/></a>"
      ]
    },
    {
      "cell_type": "code",
      "execution_count": null,
      "metadata": {
        "id": "Dl5nu3I0aRxF"
      },
      "outputs": [],
      "source": [
        "You are given some words all in lower case letters your task is to print them in sorted order.\n",
        "\n",
        "Input Description:\n",
        "You are given a string ‘s’\n",
        "\n",
        "Output Description:\n",
        "Print the string in sorted order\n",
        "\n",
        "Sample Input :\n",
        "virat kohli\n",
        "Sample Output :\n",
        "kohli virat\n"
      ]
    },
    {
      "cell_type": "code",
      "source": [
        "a=input().split()\n",
        "b=a[::-1]\n",
        "print(*b)"
      ],
      "metadata": {
        "colab": {
          "base_uri": "https://localhost:8080/"
        },
        "id": "cTP7qN5YaYMF",
        "outputId": "d9f72903-6f46-4cb2-a81b-936c3899c70a"
      },
      "execution_count": 1,
      "outputs": [
        {
          "output_type": "stream",
          "name": "stdout",
          "text": [
            "virat kohli\n",
            "kohli virat\n"
          ]
        }
      ]
    }
  ]
}