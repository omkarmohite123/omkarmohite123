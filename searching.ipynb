{
  "nbformat": 4,
  "nbformat_minor": 0,
  "metadata": {
    "colab": {
      "name": "searching.ipynb",
      "provenance": [],
      "authorship_tag": "ABX9TyPvbhGLS0kpq5fWMWtAoGJf",
      "include_colab_link": true
    },
    "kernelspec": {
      "name": "python3",
      "display_name": "Python 3"
    },
    "language_info": {
      "name": "python"
    }
  },
  "cells": [
    {
      "cell_type": "markdown",
      "metadata": {
        "id": "view-in-github",
        "colab_type": "text"
      },
      "source": [
        "<a href=\"https://colab.research.google.com/github/omkarmohite123/omkarmohite123/blob/main/searching.ipynb\" target=\"_parent\"><img src=\"https://colab.research.google.com/assets/colab-badge.svg\" alt=\"Open In Colab\"/></a>"
      ]
    },
    {
      "cell_type": "code",
      "execution_count": 16,
      "metadata": {
        "colab": {
          "base_uri": "https://localhost:8080/"
        },
        "id": "DA23D4yRbWUQ",
        "outputId": "4aa9ae1b-a354-45f4-e135-dab8dab5beeb"
      },
      "outputs": [
        {
          "output_type": "stream",
          "name": "stdout",
          "text": [
            "4\n",
            "A A A P\n",
            "25.0\n",
            "Blacklisted\n"
          ]
        }
      ],
      "source": [
        "\"\"\"\n",
        "Vasanth is working at GUVI. He has been taking leave often in the past couple of weeks and his manager, who also happens to be his friend, is worried that Vasanth might be exceeding his number of paid holidays, which might be a black mark in Vasanth monthly report. The manager analysis Vasanth’s attendance register and decides to warn him beforehand. The attendance register has a ‘P’ marked for present and an ‘A’ marked for absent. Vasanth will be blacklisted if his attendance falls below 25%. Your task is to help the manager find out whether Vasanth could be blacklisted or not.\n",
        "\n",
        " \n",
        "\n",
        "Input Description:\n",
        "First line contains the number of entries in the attendance register, followed by space separated values of attendance (‘P’ or ‘A’)\n",
        "\n",
        "Output Description:\n",
        "‘Blacklisted’ if attendance is below 25% ‘Not Blacklisted’ if attendance is above 25%\n",
        "\n",
        "Sample Input :\n",
        "5\n",
        "A A A P\n",
        "Sample Output :\n",
        "Blacklisted\n",
        "Code Editor\n",
        "\n",
        "\"\"\"\n",
        "=int(input())\n",
        "b=list(map(str,input().split()))\n",
        "p=0\n",
        "A=0\n",
        "for i in range(len(b)):\n",
        "  if b[i]==\"A\":\n",
        "    p=p+1\n",
        "  else:\n",
        "    A=A+1\n",
        "k=(A/a)*100\n",
        "print(k)\n",
        "d=round(k)\n",
        "if k<=25:\n",
        "  print(\"Blacklisted\")\n",
        "else:\n",
        "  print(\"Not Blacklisted\")"
      ]
    },
    {
      "cell_type": "code",
      "source": [],
      "metadata": {
        "id": "PcXYACladWna"
      },
      "execution_count": null,
      "outputs": []
    }
  ]
}